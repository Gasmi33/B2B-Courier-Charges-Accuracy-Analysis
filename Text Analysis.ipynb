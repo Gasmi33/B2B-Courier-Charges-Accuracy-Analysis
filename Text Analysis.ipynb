{
 "cells": [
  {
   "cell_type": "markdown",
   "id": "2505331b",
   "metadata": {},
   "source": [
    "# Text Analysis: Process We Can Follow"
   ]
  },
  {
   "cell_type": "markdown",
   "id": "e0869730",
   "metadata": {},
   "source": [
    "Text Analysis involves various techniques such as text preprocessing, sentiment analysis, named entity recognition, topic modelling, and text classification. Text analysis plays a crucial role in understanding and making sense of large volumes of text data, which is prevalent in various domains, including news articles, social media, customer reviews, and more."
   ]
  },
  {
   "cell_type": "markdown",
   "id": "2a638f89",
   "metadata": {},
   "source": [
    "Below is the process you can follow for the task of Text Analysis as a Data Science professional:\n",
    "\n",
    "Gather the text data from various sources.\n",
    "\n",
    "Clean and preprocess the text data.\n",
    "\n",
    "Convert the text into a numerical format that machine learning algorithms can understand.\n",
    "\n",
    "Analyze the text data to gain insights.\n",
    "\n",
    "Create relevant features from the text data if necessary.\n",
    "\n",
    "Select appropriate NLP models for your task.\n",
    "\n",
    "So, the process of Text Analysis starts with collecting textual data (structured or unstructured). I found an ideal dataset for this task."
   ]
  },
  {
   "cell_type": "code",
   "execution_count": 2,
   "id": "f1488565",
   "metadata": {},
   "outputs": [
    {
     "name": "stderr",
     "output_type": "stream",
     "text": [
      "C:\\ProgramData\\Anaconda3\\lib\\site-packages\\scipy\\__init__.py:146: UserWarning: A NumPy version >=1.16.5 and <1.23.0 is required for this version of SciPy (detected version 1.24.3\n",
      "  warnings.warn(f\"A NumPy version >={np_minversion} and <{np_maxversion}\"\n"
     ]
    }
   ],
   "source": [
    "import pandas as pd\n",
    "import plotly.express as px\n",
    "from wordcloud import WordCloud\n",
    "import matplotlib.pyplot as plt\n",
    "from textblob import TextBlob\n",
    "import spacy\n",
    "from collections import defaultdict \n",
    "from collections import Counter\n",
    "from sklearn.feature_extraction.text import CountVectorizer\n",
    "from sklearn.decomposition import LatentDirichletAllocation"
   ]
  },
  {
   "cell_type": "code",
   "execution_count": 5,
   "id": "a25e6c04",
   "metadata": {},
   "outputs": [],
   "source": [
    "nlp = spacy.load('en_core_web_sm')\n"
   ]
  },
  {
   "cell_type": "code",
   "execution_count": 7,
   "id": "ce4ca19b",
   "metadata": {},
   "outputs": [
    {
     "data": {
      "text/html": [
       "<div>\n",
       "<style scoped>\n",
       "    .dataframe tbody tr th:only-of-type {\n",
       "        vertical-align: middle;\n",
       "    }\n",
       "\n",
       "    .dataframe tbody tr th {\n",
       "        vertical-align: top;\n",
       "    }\n",
       "\n",
       "    .dataframe thead th {\n",
       "        text-align: right;\n",
       "    }\n",
       "</style>\n",
       "<table border=\"1\" class=\"dataframe\">\n",
       "  <thead>\n",
       "    <tr style=\"text-align: right;\">\n",
       "      <th></th>\n",
       "      <th>Article</th>\n",
       "      <th>Title</th>\n",
       "    </tr>\n",
       "  </thead>\n",
       "  <tbody>\n",
       "    <tr>\n",
       "      <th>0</th>\n",
       "      <td>Data analysis is the process of inspecting and...</td>\n",
       "      <td>Best Books to Learn Data Analysis</td>\n",
       "    </tr>\n",
       "    <tr>\n",
       "      <th>1</th>\n",
       "      <td>The performance of a machine learning algorith...</td>\n",
       "      <td>Assumptions of Machine Learning Algorithms</td>\n",
       "    </tr>\n",
       "    <tr>\n",
       "      <th>2</th>\n",
       "      <td>You must have seen the news divided into categ...</td>\n",
       "      <td>News Classification with Machine Learning</td>\n",
       "    </tr>\n",
       "    <tr>\n",
       "      <th>3</th>\n",
       "      <td>When there are only two classes in a classific...</td>\n",
       "      <td>Multiclass Classification Algorithms in Machin...</td>\n",
       "    </tr>\n",
       "    <tr>\n",
       "      <th>4</th>\n",
       "      <td>The Multinomial Naive Bayes is one of the vari...</td>\n",
       "      <td>Multinomial Naive Bayes in Machine Learning</td>\n",
       "    </tr>\n",
       "  </tbody>\n",
       "</table>\n",
       "</div>"
      ],
      "text/plain": [
       "                                             Article  \\\n",
       "0  Data analysis is the process of inspecting and...   \n",
       "1  The performance of a machine learning algorith...   \n",
       "2  You must have seen the news divided into categ...   \n",
       "3  When there are only two classes in a classific...   \n",
       "4  The Multinomial Naive Bayes is one of the vari...   \n",
       "\n",
       "                                               Title  \n",
       "0                  Best Books to Learn Data Analysis  \n",
       "1         Assumptions of Machine Learning Algorithms  \n",
       "2          News Classification with Machine Learning  \n",
       "3  Multiclass Classification Algorithms in Machin...  \n",
       "4        Multinomial Naive Bayes in Machine Learning  "
      ]
     },
     "execution_count": 7,
     "metadata": {},
     "output_type": "execute_result"
    }
   ],
   "source": [
    "data = pd.read_csv(\"articles.csv\", encoding='latin-1')\n",
    "data.head()"
   ]
  },
  {
   "cell_type": "markdown",
   "id": "08a004f8",
   "metadata": {},
   "source": [
    "The problem we are working on requires us to:\n",
    "\n",
    "Create word clouds to visualize the most frequent words in the titles.\n",
    "Analyze the sentiment expressed in the articles to understand the overall tone or sentiment of the content.\n",
    "Extract named entities such as organizations, locations, and other relevant information from the articles.\n",
    "Apply topic modelling techniques to uncover latent topics within the articles.\n",
    "Now, let’s move forward by visualizing the word cloud of the titles:"
   ]
  },
  {
   "cell_type": "code",
   "execution_count": 12,
   "id": "ddcbacb3",
   "metadata": {},
   "outputs": [],
   "source": [
    "# Combine all titles into a single string\n",
    "titles_text = ' '.join(data['Title'])\n",
    "# Create a WordCloud object\n",
    "\n",
    "wordcloud = WordCloud(width=800, height=400, background_color='white').generate(titles_text)"
   ]
  },
  {
   "cell_type": "code",
   "execution_count": 13,
   "id": "37da2714",
   "metadata": {},
   "outputs": [
    {
     "data": {
      "text/plain": [
       "<wordcloud.wordcloud.WordCloud at 0x283245dfcd0>"
      ]
     },
     "execution_count": 13,
     "metadata": {},
     "output_type": "execute_result"
    }
   ],
   "source": []
  },
  {
   "cell_type": "code",
   "execution_count": 18,
   "id": "6f90f1b6",
   "metadata": {},
   "outputs": [
    {
     "data": {
      "application/vnd.plotly.v1+json": {
       "config": {
        "plotlyServerURL": "https://plot.ly"
       },
       "data": [
        {
         "hovertemplate": "x: %{x}<br>y: %{y}<br>color: [%{z[0]}, %{z[1]}, %{z[2]}]<extra></extra>",
         "name": "0",
         "source": "data:image/png;base64,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",
         "type": "image",
         "xaxis": "x",
         "yaxis": "y"
        }
       ],
       "layout": {
        "showlegend": false,
        "template": {
         "data": {
          "bar": [
           {
            "error_x": {
             "color": "#2a3f5f"
            },
            "error_y": {
             "color": "#2a3f5f"
            },
            "marker": {
             "line": {
              "color": "#E5ECF6",
              "width": 0.5
             },
             "pattern": {
              "fillmode": "overlay",
              "size": 10,
              "solidity": 0.2
             }
            },
            "type": "bar"
           }
          ],
          "barpolar": [
           {
            "marker": {
             "line": {
              "color": "#E5ECF6",
              "width": 0.5
             },
             "pattern": {
              "fillmode": "overlay",
              "size": 10,
              "solidity": 0.2
             }
            },
            "type": "barpolar"
           }
          ],
          "carpet": [
           {
            "aaxis": {
             "endlinecolor": "#2a3f5f",
             "gridcolor": "white",
             "linecolor": "white",
             "minorgridcolor": "white",
             "startlinecolor": "#2a3f5f"
            },
            "baxis": {
             "endlinecolor": "#2a3f5f",
             "gridcolor": "white",
             "linecolor": "white",
             "minorgridcolor": "white",
             "startlinecolor": "#2a3f5f"
            },
            "type": "carpet"
           }
          ],
          "choropleth": [
           {
            "colorbar": {
             "outlinewidth": 0,
             "ticks": ""
            },
            "type": "choropleth"
           }
          ],
          "contour": [
           {
            "colorbar": {
             "outlinewidth": 0,
             "ticks": ""
            },
            "colorscale": [
             [
              0,
              "#0d0887"
             ],
             [
              0.1111111111111111,
              "#46039f"
             ],
             [
              0.2222222222222222,
              "#7201a8"
             ],
             [
              0.3333333333333333,
              "#9c179e"
             ],
             [
              0.4444444444444444,
              "#bd3786"
             ],
             [
              0.5555555555555556,
              "#d8576b"
             ],
             [
              0.6666666666666666,
              "#ed7953"
             ],
             [
              0.7777777777777778,
              "#fb9f3a"
             ],
             [
              0.8888888888888888,
              "#fdca26"
             ],
             [
              1,
              "#f0f921"
             ]
            ],
            "type": "contour"
           }
          ],
          "contourcarpet": [
           {
            "colorbar": {
             "outlinewidth": 0,
             "ticks": ""
            },
            "type": "contourcarpet"
           }
          ],
          "heatmap": [
           {
            "colorbar": {
             "outlinewidth": 0,
             "ticks": ""
            },
            "colorscale": [
             [
              0,
              "#0d0887"
             ],
             [
              0.1111111111111111,
              "#46039f"
             ],
             [
              0.2222222222222222,
              "#7201a8"
             ],
             [
              0.3333333333333333,
              "#9c179e"
             ],
             [
              0.4444444444444444,
              "#bd3786"
             ],
             [
              0.5555555555555556,
              "#d8576b"
             ],
             [
              0.6666666666666666,
              "#ed7953"
             ],
             [
              0.7777777777777778,
              "#fb9f3a"
             ],
             [
              0.8888888888888888,
              "#fdca26"
             ],
             [
              1,
              "#f0f921"
             ]
            ],
            "type": "heatmap"
           }
          ],
          "heatmapgl": [
           {
            "colorbar": {
             "outlinewidth": 0,
             "ticks": ""
            },
            "colorscale": [
             [
              0,
              "#0d0887"
             ],
             [
              0.1111111111111111,
              "#46039f"
             ],
             [
              0.2222222222222222,
              "#7201a8"
             ],
             [
              0.3333333333333333,
              "#9c179e"
             ],
             [
              0.4444444444444444,
              "#bd3786"
             ],
             [
              0.5555555555555556,
              "#d8576b"
             ],
             [
              0.6666666666666666,
              "#ed7953"
             ],
             [
              0.7777777777777778,
              "#fb9f3a"
             ],
             [
              0.8888888888888888,
              "#fdca26"
             ],
             [
              1,
              "#f0f921"
             ]
            ],
            "type": "heatmapgl"
           }
          ],
          "histogram": [
           {
            "marker": {
             "pattern": {
              "fillmode": "overlay",
              "size": 10,
              "solidity": 0.2
             }
            },
            "type": "histogram"
           }
          ],
          "histogram2d": [
           {
            "colorbar": {
             "outlinewidth": 0,
             "ticks": ""
            },
            "colorscale": [
             [
              0,
              "#0d0887"
             ],
             [
              0.1111111111111111,
              "#46039f"
             ],
             [
              0.2222222222222222,
              "#7201a8"
             ],
             [
              0.3333333333333333,
              "#9c179e"
             ],
             [
              0.4444444444444444,
              "#bd3786"
             ],
             [
              0.5555555555555556,
              "#d8576b"
             ],
             [
              0.6666666666666666,
              "#ed7953"
             ],
             [
              0.7777777777777778,
              "#fb9f3a"
             ],
             [
              0.8888888888888888,
              "#fdca26"
             ],
             [
              1,
              "#f0f921"
             ]
            ],
            "type": "histogram2d"
           }
          ],
          "histogram2dcontour": [
           {
            "colorbar": {
             "outlinewidth": 0,
             "ticks": ""
            },
            "colorscale": [
             [
              0,
              "#0d0887"
             ],
             [
              0.1111111111111111,
              "#46039f"
             ],
             [
              0.2222222222222222,
              "#7201a8"
             ],
             [
              0.3333333333333333,
              "#9c179e"
             ],
             [
              0.4444444444444444,
              "#bd3786"
             ],
             [
              0.5555555555555556,
              "#d8576b"
             ],
             [
              0.6666666666666666,
              "#ed7953"
             ],
             [
              0.7777777777777778,
              "#fb9f3a"
             ],
             [
              0.8888888888888888,
              "#fdca26"
             ],
             [
              1,
              "#f0f921"
             ]
            ],
            "type": "histogram2dcontour"
           }
          ],
          "mesh3d": [
           {
            "colorbar": {
             "outlinewidth": 0,
             "ticks": ""
            },
            "type": "mesh3d"
           }
          ],
          "parcoords": [
           {
            "line": {
             "colorbar": {
              "outlinewidth": 0,
              "ticks": ""
             }
            },
            "type": "parcoords"
           }
          ],
          "pie": [
           {
            "automargin": true,
            "type": "pie"
           }
          ],
          "scatter": [
           {
            "fillpattern": {
             "fillmode": "overlay",
             "size": 10,
             "solidity": 0.2
            },
            "type": "scatter"
           }
          ],
          "scatter3d": [
           {
            "line": {
             "colorbar": {
              "outlinewidth": 0,
              "ticks": ""
             }
            },
            "marker": {
             "colorbar": {
              "outlinewidth": 0,
              "ticks": ""
             }
            },
            "type": "scatter3d"
           }
          ],
          "scattercarpet": [
           {
            "marker": {
             "colorbar": {
              "outlinewidth": 0,
              "ticks": ""
             }
            },
            "type": "scattercarpet"
           }
          ],
          "scattergeo": [
           {
            "marker": {
             "colorbar": {
              "outlinewidth": 0,
              "ticks": ""
             }
            },
            "type": "scattergeo"
           }
          ],
          "scattergl": [
           {
            "marker": {
             "colorbar": {
              "outlinewidth": 0,
              "ticks": ""
             }
            },
            "type": "scattergl"
           }
          ],
          "scattermapbox": [
           {
            "marker": {
             "colorbar": {
              "outlinewidth": 0,
              "ticks": ""
             }
            },
            "type": "scattermapbox"
           }
          ],
          "scatterpolar": [
           {
            "marker": {
             "colorbar": {
              "outlinewidth": 0,
              "ticks": ""
             }
            },
            "type": "scatterpolar"
           }
          ],
          "scatterpolargl": [
           {
            "marker": {
             "colorbar": {
              "outlinewidth": 0,
              "ticks": ""
             }
            },
            "type": "scatterpolargl"
           }
          ],
          "scatterternary": [
           {
            "marker": {
             "colorbar": {
              "outlinewidth": 0,
              "ticks": ""
             }
            },
            "type": "scatterternary"
           }
          ],
          "surface": [
           {
            "colorbar": {
             "outlinewidth": 0,
             "ticks": ""
            },
            "colorscale": [
             [
              0,
              "#0d0887"
             ],
             [
              0.1111111111111111,
              "#46039f"
             ],
             [
              0.2222222222222222,
              "#7201a8"
             ],
             [
              0.3333333333333333,
              "#9c179e"
             ],
             [
              0.4444444444444444,
              "#bd3786"
             ],
             [
              0.5555555555555556,
              "#d8576b"
             ],
             [
              0.6666666666666666,
              "#ed7953"
             ],
             [
              0.7777777777777778,
              "#fb9f3a"
             ],
             [
              0.8888888888888888,
              "#fdca26"
             ],
             [
              1,
              "#f0f921"
             ]
            ],
            "type": "surface"
           }
          ],
          "table": [
           {
            "cells": {
             "fill": {
              "color": "#EBF0F8"
             },
             "line": {
              "color": "white"
             }
            },
            "header": {
             "fill": {
              "color": "#C8D4E3"
             },
             "line": {
              "color": "white"
             }
            },
            "type": "table"
           }
          ]
         },
         "layout": {
          "annotationdefaults": {
           "arrowcolor": "#2a3f5f",
           "arrowhead": 0,
           "arrowwidth": 1
          },
          "autotypenumbers": "strict",
          "coloraxis": {
           "colorbar": {
            "outlinewidth": 0,
            "ticks": ""
           }
          },
          "colorscale": {
           "diverging": [
            [
             0,
             "#8e0152"
            ],
            [
             0.1,
             "#c51b7d"
            ],
            [
             0.2,
             "#de77ae"
            ],
            [
             0.3,
             "#f1b6da"
            ],
            [
             0.4,
             "#fde0ef"
            ],
            [
             0.5,
             "#f7f7f7"
            ],
            [
             0.6,
             "#e6f5d0"
            ],
            [
             0.7,
             "#b8e186"
            ],
            [
             0.8,
             "#7fbc41"
            ],
            [
             0.9,
             "#4d9221"
            ],
            [
             1,
             "#276419"
            ]
           ],
           "sequential": [
            [
             0,
             "#0d0887"
            ],
            [
             0.1111111111111111,
             "#46039f"
            ],
            [
             0.2222222222222222,
             "#7201a8"
            ],
            [
             0.3333333333333333,
             "#9c179e"
            ],
            [
             0.4444444444444444,
             "#bd3786"
            ],
            [
             0.5555555555555556,
             "#d8576b"
            ],
            [
             0.6666666666666666,
             "#ed7953"
            ],
            [
             0.7777777777777778,
             "#fb9f3a"
            ],
            [
             0.8888888888888888,
             "#fdca26"
            ],
            [
             1,
             "#f0f921"
            ]
           ],
           "sequentialminus": [
            [
             0,
             "#0d0887"
            ],
            [
             0.1111111111111111,
             "#46039f"
            ],
            [
             0.2222222222222222,
             "#7201a8"
            ],
            [
             0.3333333333333333,
             "#9c179e"
            ],
            [
             0.4444444444444444,
             "#bd3786"
            ],
            [
             0.5555555555555556,
             "#d8576b"
            ],
            [
             0.6666666666666666,
             "#ed7953"
            ],
            [
             0.7777777777777778,
             "#fb9f3a"
            ],
            [
             0.8888888888888888,
             "#fdca26"
            ],
            [
             1,
             "#f0f921"
            ]
           ]
          },
          "colorway": [
           "#636efa",
           "#EF553B",
           "#00cc96",
           "#ab63fa",
           "#FFA15A",
           "#19d3f3",
           "#FF6692",
           "#B6E880",
           "#FF97FF",
           "#FECB52"
          ],
          "font": {
           "color": "#2a3f5f"
          },
          "geo": {
           "bgcolor": "white",
           "lakecolor": "white",
           "landcolor": "#E5ECF6",
           "showlakes": true,
           "showland": true,
           "subunitcolor": "white"
          },
          "hoverlabel": {
           "align": "left"
          },
          "hovermode": "closest",
          "mapbox": {
           "style": "light"
          },
          "paper_bgcolor": "white",
          "plot_bgcolor": "#E5ECF6",
          "polar": {
           "angularaxis": {
            "gridcolor": "white",
            "linecolor": "white",
            "ticks": ""
           },
           "bgcolor": "#E5ECF6",
           "radialaxis": {
            "gridcolor": "white",
            "linecolor": "white",
            "ticks": ""
           }
          },
          "scene": {
           "xaxis": {
            "backgroundcolor": "#E5ECF6",
            "gridcolor": "white",
            "gridwidth": 2,
            "linecolor": "white",
            "showbackground": true,
            "ticks": "",
            "zerolinecolor": "white"
           },
           "yaxis": {
            "backgroundcolor": "#E5ECF6",
            "gridcolor": "white",
            "gridwidth": 2,
            "linecolor": "white",
            "showbackground": true,
            "ticks": "",
            "zerolinecolor": "white"
           },
           "zaxis": {
            "backgroundcolor": "#E5ECF6",
            "gridcolor": "white",
            "gridwidth": 2,
            "linecolor": "white",
            "showbackground": true,
            "ticks": "",
            "zerolinecolor": "white"
           }
          },
          "shapedefaults": {
           "line": {
            "color": "#2a3f5f"
           }
          },
          "ternary": {
           "aaxis": {
            "gridcolor": "white",
            "linecolor": "white",
            "ticks": ""
           },
           "baxis": {
            "gridcolor": "white",
            "linecolor": "white",
            "ticks": ""
           },
           "bgcolor": "#E5ECF6",
           "caxis": {
            "gridcolor": "white",
            "linecolor": "white",
            "ticks": ""
           }
          },
          "title": {
           "x": 0.05
          },
          "xaxis": {
           "automargin": true,
           "gridcolor": "white",
           "linecolor": "white",
           "ticks": "",
           "title": {
            "standoff": 15
           },
           "zerolinecolor": "white",
           "zerolinewidth": 2
          },
          "yaxis": {
           "automargin": true,
           "gridcolor": "white",
           "linecolor": "white",
           "ticks": "",
           "title": {
            "standoff": 15
           },
           "zerolinecolor": "white",
           "zerolinewidth": 2
          }
         }
        },
        "title": {
         "text": "word cloud of titles"
        },
        "xaxis": {
         "anchor": "y",
         "domain": [
          0,
          1
         ]
        },
        "yaxis": {
         "anchor": "x",
         "domain": [
          0,
          1
         ]
        }
       }
      },
      "text/html": [
       "<div>                            <div id=\"3b3502cc-a329-4ac9-b688-e6d1e33957dc\" class=\"plotly-graph-div\" style=\"height:525px; width:100%;\"></div>            <script type=\"text/javascript\">                require([\"plotly\"], function(Plotly) {                    window.PLOTLYENV=window.PLOTLYENV || {};                                    if (document.getElementById(\"3b3502cc-a329-4ac9-b688-e6d1e33957dc\")) {                    Plotly.newPlot(                        \"3b3502cc-a329-4ac9-b688-e6d1e33957dc\",                        [{\"name\":\"0\",\"source\":\"data:image\\u002fpng;base64,iVBORw0KGgoAAAANSUhEUgAAAyAAAAGQCAIAAADZR5NjAAEAAElEQVR4XuyddXgUV\\u002ffHz6xbsrtxd\\u002feE4BDcvZRCKXUodXeXX\\u002fu2b5W3Rg0qQCkUd7cgceLunmw2u1m3md8fk0xmJx6SEGA+T58+M+ee3ewOu3e\\u002fc8655yIYhgENDQ0NDQ0NDc3QwaIaaGhoaGg6yG3L+rb4c7KFgTA4DK6ELfUS+Iy1mxApjiWP0tDQ0ODQAouGhoZmAKAYqrfoGiy6Bn1dsvxKjGTMBr9nmAiT6kdDQ3NnQwssGhoamr75NOp\\u002ftixbAMAAdBZtja7qRMPh\\u002fLac64q0C82nZzrNoz6AhobmzoZBNdDQ0NDQdIEBDAbCZCBMJsIUsWxCbMKf9H\\u002fRmecKAGmtSVRvGhqaOx5aYNHQ0NAMBjaDHWwTCgByYwt1jIaG5o6HThHS0NDQDBILZgEAG5YtxS4zNCXJrxS05dbra7UWLRthO3AdQ2zCZzsvkHLsyJ5fFX1cpCqYaD\\u002f1QZ\\u002fHyHYcjVn9WtYzZsy8we\\u002fpMdLxlKHTTcezFOkyQxMAOHCd4qRjZzkt4DF5ZDeCck3p+eZTpepipakVABGzJfYchzDbyFhpvBPXhepNQ0Nzw9ACi4aGhmYwmDFzsaoQAMJsI8n2VmPLu7mvoBgKAAggXCZXb9HX6qprddXX5ImvBr+LJxZxpjnOLlIVpLYmrfJcJ2AKOp8FAABSW6+ZMbOQJYqWjCHbKzRl35d8oTKrAIDD4GCAtT9\\u002fS+Jzga85cJ3IzgBwSXZuR+VWDDDc34JZZIYmmaGpUJWnNLXe43k\\u002fxZ+GhubGoQUWDQ0NzcAwoIY6XfWx+oNNhgZPgfcC16XkUSnHfqx0oohlEyMd4y3w4zA4BlR\\u002freXyruq\\u002fNGb1\\u002frrdG\\u002f2eJZxjJPFitkRpUiS1JM5wmkt6GgCAay2JADDebjIL6Zyr20xKXF2F2kas8rjPje+BAVamLtlW+Vu9vvbH0m\\u002feDP2IvKpRb9Hvqt6GATbLef4858W2bDEGmNKkKFYVXFekJjjOIjxpaGiGEFpg0dDQ0PTNq1lPUyxeAp\\u002fl7vfMcprPZrApQw\\u002f7Pk4+5TJ40xxnNerrzjadLGzLIw8xEeYUh+lH6vdfkp2lCKxGfUO5phQAJjtMI9uP1O9TmVUuPLenAl7ChRcCiL8o8MmAF9\\u002fLfaVWV50svzLRfirhLzM2mVAjACx1W8ll8HB\\u002fCVs61m7iWLuJhBsNDc3QQhe509CMOlDTdaPiBX3TFF1DsL4xziBbaFJ9hllqqH6jCYvusFHxPNV6W9NsaKrSVtToqqgDPRBkEwoAWosGr9wimOo4k4Ew63S1peoisv2aPBEAfIR+7nxPwohiaJL8CgBMd5xNDmsBgCPXyU8YAACZijSy3Y7jwECYAHC26SSeJaShoRkBBhPBKpLJFvz+J9XaAYvBELDZAg7HzcbGz04a6+Y2y9\\u002fPUSik+tHQ0HSHSfVfs\\u002fpHAITBjmBwxgLahprzzerNTN5ChOlB9R41WAynMUsD1XobQfTBAgAjaqzX1yXKzl2WXchoTXnAZwM5YtQToo6HoxhKTuFJ2NIocex1RepF2Vl\\u002fURBuxABLarkMAJPtrcJX9fpavUUHAD5Cf7Idx5HrXKIuqtfXko0CpmC28\\u002fyTDUcO1O6+1pKY4DBznP2kroX5NDQ0Q8tgBFbvmFG0zWBoMxgaVKr0urp\\u002fc3LfBlgcEvLy1Cke4tvkK12lUJhQ1EUkEnI41DEamhvArNliVv+IMF050h8Z7OgOM4aachnsCLLnKMOCGi4jrG5+8m8b8D5Y+DGPyfcV+vsK\\u002fbkM7tmmk39X\\u002fR4ljhWyRIQzilmuK9Ly2rJrdTVtJoXOojNhJjNqIhwoTHOcfV2Rmt6afI\\u002fHOvx5ilT5cqOMw+BQsnhKkwI\\u002f+LTgPbKdjNasoVhWuK925Dgdrt\\u002fXqK\\u002ffXbN9T+3OCHH0LKd5wTZhFE8aGpqhYugFVlcwgEMFBYmVlb\\u002fffVeEszN1+FZDYzTO3vK7BUU3LV60OCSYOjyyXCytWP\\u002f3PuKUx2LZCfmhzk7TAnxWRIVxWSPx70szVGCo0qT6EhAOx+53Bqs9kgEAeDSLdAoW3X6z9i\\u002fUVAAADHY4S7iRyWsvVcbQZn3jOK79LrP2L4v+NJM7hSP51qz5zaT+kcF0Y0u+YLAjAcCs+cXU9gnPOd2i\\u002fces\\u002fRtD6xGmO0uwliVcD4DgT2XWbDG1fcSR\\u002fI\\u002fJX9Lxl8GiO2RUPMu2fYclfAQAzNrtFu1u1FwImB4zynT1voQn37UEoDNOgxqTzervUWMGBgYG04cpuJslfITsYNb8aWp7j+eciVkqTarPUGMmAMpg+XMkXyGsAMJtVDHFYcbZppNG1FigyiXaKNTrazeXftOobwAAG5atM8\\u002fFk2XDYXC1Fk2OMtPq8R2E2oY781wb9fXX5ImznOZDR3l7nHQcj8knexI5PrKeoyBgUTMGCCBTHWdOdEhIb02+IrtYqMrLUqRnKdJjJPEP+z7OZXAp\\u002fjQ0NDfOjf4A+9lJn5s0iWxBMUxrMjWp1QXNssTKSo3RiNtbdbonDxw68fBDfPaN\\u002ftGby9XqaguKUq2jA73ZXKdU1SlVZ4pKv7+U9OmSuZP9vKlONKMVi\\u002f44YFom\\u002f25rdUXF1PYfs+ZnhOXHEqwGwCyG88bW9WzbN1nCDSSfjxCWL5Mz0aI\\u002fZVS+jJoKWIK1Zu1fJuUbXIfDhJux9XHMUsXkzgWEY9GfMrV9gllkbNs3CIc+YbD8QXAvE8wm5dsIy5cl3EgeJI4sugNGxYsIy4cpuAcQHmpMMrV9ghrTONIfCT2HgxrOGJVvM7lTWMKHAJVbDOcRZmdTg9EGoXLUZhV+gAGGqytXnvuDPhvIibz8tpyeBBYAJDjO3F29\\u002fVLzuVlO802oKUORAl3K24HUc+u1kPcG2r+KhbDG2U0aZzepxSg73XjsQvPp64rUvTV\\u002f3+v1ENWV5g5gbcybPAF3y5UeQ6E0N8iNah0pn99LFEdjNH6VeOX39HT8tLatbVd29oNxt\\u002fbm85cr+1vTOpJcem6Dg1CgNhirFcrzJeV\\u002fJGU0qtTrd+7fdNeiuSGj9O6fhgJqygAAJpf6m0oGNaaZNT8zOOO5dr8DwgMANvaKQf6gqe0zBjeBwer4MiIcjmQTYEZdY6xFd5jndBFhegLWZtb+A5gefyAAYJY6rsMxhCEBAJboGUPLUrPmV5bwPoTp1f48fcHgTGBwJgBmMCnfRhhOLMFqqgcAhrYalW8yOOO49tuIkJVR8YJFt9+iP83kzSE7G5Vvcu22MDjteTE2YBQFNqpoNjTiB4TSqtZW4LGr+7wfppRJtZmU5FMKE+0TDtTubtDXlWtKWo1yvUXvyHUOFIVQ3Nz5nlwGz4DqKzRlAxVYBPYch9We94vZkv21u1Jbk25XgfXNyztO\\u002fH2VagVYuG7yM5+toVppaIaa4V1FKORw3pk5fXlYKGE5XVJKGr8luVxRSTWNAhgIwmQwxHxehKvz01MnHHviwVBnRwuKvn7oRK2ijepNMzqxNAMAwnKn2kmYdbsBgG3zHCGSABGwRM8AWCzavwk3PA8ICIfB9ESYrgjTEwAQpjsAhqEKwo3JX46rKwBAGLYswX0AqEV\\u002fknAYEiz6Q4BpWcKHyQlBPO2IGs52+uF23nxCXQHAaFZXAHCm6QQAIIAEiNqlrd6ixw8ETKsUHgbYlZaLZAsFAVOAl1ultiZlKFKhu\\u002fAVADAR5jj7SQBwouGwEW3PDwwOJ64zABgs+tt7aeHEeVHz7p1I\\u002fi983O1cLEgzerjRCFZ\\u002fuD82Zn9ePn5c3NJiPXiL0ahWl8rlVOvow0Eo+H7VkkU\\u002f\\u002faU2GH+8nPx\\u002fi2ZTPWhGL73d9mCmXCD0Uwf4KWrM6jQh4o4DPkIsWEPwUhtz+yme4COBsIIAADOXkI03DmrMBgBjKzl72A6GyigWylsbPaCAoh3tFbQWbaO+4UzT8YzWFACYYD9FwpbiQ658DwbCQDH0VOORtV4PsRkcAGjUN+yr3UnpwtCV6Y5zLssuFLTltpkUDITR08rEJa53ZSnSa3XVnxd+uNB1ub8wkM\\u002fkq8wqpam1RF2U0ZryoM9GZ15ncOtKy8UiVX6MZIyvMEDMlkB7D\\u002fqCfbW7ACDENhwZ3Sr2Brn3uXmB0f2NyNLQDCEjIbCCHByIY7lORxq5xcAAThYP8W\\u002fP8OEhES+PCv07LetAdv5bc6dTSt+UOv2WpPQzRaXVrUoA8JKK54UGPjw+rqd1kf33D\\u002fq\\u002fr2153NSXn6xqVXx38drl8iqFTu8kEk4P9H1q6gQHIXUzEJpOGFIAwCyNQO1b2QmGqQBYgFhFRxCGBICBYZ2hSsSqQ1Jn3IgKYvXPhzDsAADDqGvQbhSsDQBYwvX485NBWD5USxefUcLrWZ3t18kE24St8XqQOLVh2cx2XnCy4cjVlkvprclSjr3K3KYxq3lM\\u002fvNBb3xb\\u002fF8DaiA92gpPgbev0B9vLhopjsXFUFds2eLnAl\\u002f\\u002fsfSram3lT6WbqMMAGFgViRothmstiXjVPJvBZiIsvNEDAEg59qs9HyA732kc3Hrxx7d3\\u002f5v\\u002f37oK2dZPDhRer8RQzCPA+ZVN93sGtovUwuuVp3Zey04qaaqRoyjm7us0a9W4uzbMQBgIALQ2ta2Nfevzvc8f\\u002fuPStZPZcQkhr\\u002f\\u002f40L6fz+36\\u002fpSjm\\u002fSlb+4PjPIk\\u002flzOtZKd354sSKswGkzufo6z75mwYv10BpOBYdjdoa9OnBf18qb7AUCnMdwd+ipqQf\\u002fJ+dRWKgSAb1\\u002fbeeFA+u78zxAEAYBze1MP\\u002fX6xPL8WAAIiPe9+Yvb4OVbrYPrzvrqy+d1\\u002fD\\u002fx2Yekj05746G7CeHZPypG\\u002fEmtKm\\u002fQag8TRxi\\u002fMfdbd46Ysiul8GE0PjITAYiCdt0dcZs9zfQdak+lEUfG58vL8pqYWrU5rMtnx+W42NhO8PBcGB4U5UbfZ6p3cxqbjRcXX6+vLWlvb9HqD2cxjs225XC+JJMDebryHxyRvLynfap0OAYph2Q2N+c3NBc3N+U3NBc3N6o6afQB47vCR5w4fIbl3sj5+zBvTuwnvjzDzQgL\\u002fTssymM1ZdQ3jvT0Ie3Zd44ad++RaHQDw2SwUg8ImWWGTbH9W\\u002fta1d3lKO4Ifg\\u002fVv0xvOl5S\\u002fsPeoxmjks1kIQK2ybXtq5on84u0P3ONr336vT0OBwQ636PagxiQmj7plCgGC2GJQiWEqBLEhjBiqAEARZOBtUFBrLYVpAABBqGvQyAxGfiEiAGDy5jE48dShWxMEECFL5CnwHm83ebz9ZEoE6C73NT4Cv7NNJxr19TJDky1bEusQv9B1uR3H3lvoW6QqIDtTmO44p9vu7RTc+O7vhv3nsuxChiK1Vlets2iFLJGYLfETBsZJx5L3OgSAOOk4jUVdqMpr1DdozGojZhAwBc48tyhxzHSnOfwuGyDegVw7mf3dG\\u002f\\u002fEJoQse2SaskWdei7PwbVzmvr3h9NpF\\u002fLHTAudOC\\u002fKbLJcPZ7164f7dGr9upcWEj4\\u002ff7DX3dcxelLg1RNZXz6\\u002frTy\\u002fbuG6yYd+v7TplR3fnXgN9zm3L\\u002fXzZ\\u002f9093Wcu2YCl8\\u002fOulry64f78lLK3v7lUQRB\\u002fCM8KgrqcM+i65UMBoKhSFFGZfzMMAAoy6sNiPTA1dVv\\u002f7f\\u002f3x\\u002fPePg7zV87CcOw1LN57z\\u002f00\\u002fp3V6zcOLPj5bTT+\\u002fui8OuH+7qqq90\\u002fnN7y8YHAKM+F6yYBIPWVsoyLBZ6BLnemwDpaXpgla3g2dpKAxQYAFMM+ST6\\u002fsyiLgSCPhI95PnYyxX8kBFaNsvPG2t++j9vTnVlZXydekWm1ZGOjWt2oVmfU1\\u002f+YlDwnIOCD2TOdRT0uUSaoVirfPXXmYkUFxa4xGjVGY71KlVRdvf16JpPBmO7rs2nx4q7LG5V6\\u002fV3bd1CMtxBhLu1itKCxmRBYzWoNrpYm+3m\\u002fMWdakKM9BpBRU\\u002ff24dMlspYndh\\u002fcv\\u002f4+FqMzSzVQf5yndh+a6OP55txpfvZ2GMDlssrXD51sUqlf3Hd0z6NryZp7oDy94+CZglIAQBAQcbm+DtKZIf5rx0Xb8PD8l5UPDo\\u002fNchXbxHt7PDol3tteQthNFsv+63l703OrW5UqvcFOwHeXiqcG+twTHykVWGnurJqG7UnXUytrZWqNgMN2sbWZEuizZmyUu6RT09Qq2mZ\\u002f9RuCwNmXNrjYWn0+8dezKDL4i1WdM7LBbI758Nu5YYGb1izGLUzeXFPb\\u002f1l0e1iiJxBGZ9yXDIMdjZqyMWMWwu38MqOmLBhUcg01F5PveFBTPgAQPREQhi0AYJiS5AKYuZB82k57FrL71bUMdpRFtxc1XrsVBVa4bdTmMX9RrX0RJx0XJx1HtQK8GPQW1WQN\\u002fgtqyxZHiWOoY9awGZzpTnOmO1ktEegWW7Z4keuKRa4rqAM0HfzvtZ0f\\u002fvVE9KRA\\u002fBTDMPwfAuepT+7hC7lcfnu4d+3z8x+Z\\u002fMGJv6+SBRabzXzt+4dMRvPqiNcvHkzfevV9Fy97dZvuxI6rRr2Jw2O3ydXfvrYzcnzAJzufZrLaJ8z\\u002fPvPHub2p105mT5wXFRjpdej3i6gFZTAZ+WnlfuEemjZdQUZF\\u002fMwwDMMqCuoWPTAVAPJSy\\u002f\\u002f98UzkxID\\u002f2\\u002fYkh8cGAP3rxrfWfr\\u002fl4wNjpoX4hLgRLwn6el\\u002fQ8XkDgN8\\u002fPbTnp7PLHp32+Ied6goAzu1NtbUTfX3oZeI1W8yoydhZZnBHsbckN7Wx9uUx7bn7n7OTf8lJ8RCJmQzk6\\u002fTLARL7xb5Wq1Kov4vDwYniYuJ4fmD7v3RXLCj66vETb508TVFXFE6VlKzYtiOvqYk6YE2xrGX5tu1d1VVXLCgq02q7qqvbAAmfx0QQAFDq2gtvAeD7S0lyrc7P3u6n1cuCHO0BAAGI83DbvHopE0GKmmSHcqzusAfqj4MXgfnZ2wEAAjDFz\\u002fubFQsBILehKbGskuo9cFbGRdw\\u002fIW56kG+zSvPN6ctLvvszv576kVgZF\\u002fHw5DEPTx6zMCKYw2TuTsu+e\\u002fP2yhYFPopi2GN\\u002f7X\\u002f3wOmGNnWcl9uc0AB3qTivvumH89co+u+rU4mrf\\u002f77UFa+VMCfFxYY4+mm0Ol\\u002fvZSi0Frlu4\\u002fnFLGZTAaCnMjpvtTmWE5RuayVaiWBMN1ZgnswVGmUP4JZrK4SUZnOFKwBYJjU\\u002fwOs469jOrP6OwCEKVjV4d5fLLoDGNrcfoLpzNrtAAwifoYwfQEA1Z\\u002fpcAfMUmvRHSBOSbAQhiNmLgesm7JrJn8pICKzZgtmqSLbMVQGWI\\u002f5sjuTS83nAGCC\\u002fRSiqSnNDfLsws8XuD9D\\u002fq8gvYLiM2VRDKFCgCQ7cCQONoS6AgCBDc831L2lQYmhnYsD8DIvNofl7Gnv6CZ18bIHACd3OwzDVAoNAFw4mK7TGJavn04oFQCYvjweAJLP5AJAQJSnyWiuLW8GgLyUcr9w98Aoz8LrlQBQVyHTa414qvHkzqsAcN+LC3F1BQA8AWft8\\u002fNRC3ps+5WOJ26n9\\u002fcFADwBBwD++vzIP9+eXL5+OkVdAYDU0UbbpitILycsTBYDf9QdSJ68aaq7Dx5Q0FvMP2YlBUjsz9z96JmVjwZK7P\\u002fKy6D4D7uquF5f\\u002f1NyCn7sIba9PzbGapjEmydP7cnJxY8FbPbS0NBJ3l5utjYcBlOm1aTV1u3OzmnSaACgUa1ev3f\\u002fwQfWOQh6DG6\\u002fePSookNVBDk4rAgLDXFytOcLEASUen15qyK3selyZWW1UgkAa6OjrR7cgZTPL335RbJlc1Ly55cS8ePR0Gi0Tzgsls5k0pvbbzgsGHYwJx8A1sVHc6zTtV5SSYyHW1p17anCkhVRYYPzJ5gfGkRpcxrv5e7vYFcqk58rLkvw9yEPDYLHEsZ62UkAAMWwv5Mz\\u002f3Ps\\u002fMZt+\\u002fc\\u002feb+dsDPyRPjgfHb84u9X0namZL02PwEALpdUXiurmh0asGnNYkJRGczmkqYWMb9jgR7An1fTf7mU4iK22bR6cZRHe+0ChkF+Q1OYq1W2+lhOUZSHi8liOZpT+OCkOPIQAIj5PJ3JtPlC0mcr51OGyLBt30EtNaghUd80i8GJRZiegGkxcwVqLuW7FgMAgx3OtnnZpPqvXraYyZ0OgFkM5zFzOdvmhUG0ekeYDobmRUzePGBILPrjmLmUJdpI9GhgcOIY7FiL4byhZQ2DMxZDm1H9MYQVhhmvWT8NAACTv8Ss2WJoWcPkTcMwM6BytvhjfAhhSDmSr42Kp\\u002fTNC1n8JQjTFbO0oOYS1JjEczo\\u002fmvf\\u002fGWGKVAXF6gIGwpzmOJs6RjNYJs6LsrWzynpL7KkJkMDIzjKprhj1puN\\u002fX005m1tb2qRWavVaIx7CQVGMyWifOkTi9h8jLp\\u002fDYLZLKA6XBQBmEwoAxZlVAPDho7\\u002fgQ2QUzSoACIzyAoCKgjrPAOeC9PIHXl1s0Jt2fXsSAMrzaqFDw5Xm1ECXF4xrr6Lr1HvX3t8XAAhs+Qd+u7Djm+ML1k3e+MFK6jDA\\u002fa8sevPe715e8U30pMA5qydMXRxLCLs7EJlO620rwY+PlhcqDPp3xs\\u002fkMVkAMN3Tb19JHtkZhklg6c3mVp2usFl2orh4T24e3pbTQSD4afmyrjXROIcLCv\\u002ftUFdRLi4\\u002fLlviYtNZYgIA03x9Hx8\\u002f7tlDR86VlQFAo1r97qkzPyxbQvYhyG5ozGtqvy+fExDw\\u002fbIleCCHYKJX+09IkUx2uKBw9OukwYFimN5kAgAbbvtlL2luURuMABDt3k3zRm87SVp1bUmznLAM1J8gyMmeagKIdHUulckLm6gLx24EBoLcNz6mWaX56WLyb4kpr8xLoHp0sCAi6PcraXUdTSvwg5khflY1gixWuJszcdqm0286c4XDYv5y\\u002f4oA0jtCEKCoq+pWZW5d41MzJqAo9uOFpFpFGzl7CAB8NmtBRNDutOynZkwgyz4qiIBr94dFt9+s24uZ8lBjBsKwQZhuLOHDhAtL9ATC8jdrfjFr\\u002fwZAGOwwtvQVJm8B6Vn6C0v0AmYuMGv\\u002fwdBGhOnGtn2LJXyUNI5w7H4zqz6zGC6bNRkI050leobJX65vHEvyaYdt8wogXIvuiEn9PYIIEKIjFwAAMHmzuQ4HzeofLfqzGCpHGBKE5c22eamnTOidgwWzMBEmBliJuvC38h8AIMFhhj3nTr8sQ0h\\u002fVhHa2lElF4GmTffS8q8rC+vHz4lYvmGGo6tEYMP77eMDuGAiYLI67z+ZTGqgCADUbToAuOuxmeIu8s7N1xEA3P0c+SJuRUG9b6i7SqENjPYy6U1trZr6Sll5Xq3Qhu\\u002fq7QAAWpWexWIKbDpvAgHARipEGIimzSqmDr2+L5yaksaf3t8DAMWZVXgqk+IQEufzy8V3dn9\\u002f6vSu5Mwrf\\u002f303p5VT825+\\u002fFZeIH\\u002fnYaQzcaw9rDlrqJsGw53sV97TtCGzW3VU5NvNyqw0mrr\\u002fL\\u002f4imq1hs1kLg4JfjVhqlMPWz5bUPS\\u002fFy\\u002fhxw4CwZaVK7qtOhew2f9bsmj2b1sb1WoAOFlcXNDcHOLoSPUDIHdSWBMVSVFXZIIcHF6cctvOZU0qDf5ZsO9Yu9es1uAHK7fsaHfqQpu+M584UH8CW1JFFIFUIADrfOVQ8eCkuF8upRzJLuxFYMnUGgDw6qjBwouxrpVVr4gN73Sy5mReidZoWhEbTlZX3XIsuxAAZob4m8yWHy8kHc8penRKPNlBYzQ9ljDu3\\u002fScny8m\\u002f9\\u002fy9hxcDzCY\\u002fLuY\\u002fLuoZhJM3tyeCuERhiPftTOez3XYRxyzhBvI3d4BAMDEEj3NEj1tbewEYUjZ4k8pky75+TtBeGybV9k2r1LtHTBYwRzJN1QrCZbwAZbwAar1dufb4s\\u002fLNMUohpoxMwC48z1XeKymOtHcPA78dr6ysP6ux2ZueG8FYWSR5FQ\\u002fEYh4ADB5YXTYWD\\u002fqGAAAIAjiH+FZV95Ukl3N4bL9IzzMRguDySjOrKosqicq3IW2PLPZolHphDadv5KqVg2GYkLbbn43e0er1r\\u002f09TpNm+7Hd\\u002f798oVtb\\u002fzYeSNHYO8sfvzDux95c9nFQ+m7vj+95eMDimYV+WrcOfiJ7S7UVrwQNyWjue5qfdXD4WPw8BUANGrVPBZVng5vDRaLwXh8\\u002fLiLj63\\u002fYsH8ntQVABwvLqlta48rPDZubLfqCkfAZq+Jaq\\u002fkxQCOFnZf7EIWVA1qVefJHUZWXQN+EOHaHpVBO9S3mM+T9PCfLa\\u002fz3mig\\u002fgTm7nYTwrV\\u002fj2r3BpAK+D720sY2Na6iKKgNxmtl1Z+fuORkI3pwYixuHOfrGebqdDAz\\u002f+XdR0uaWqwf0c716noAmBroTR3owrGcIhdbUZirU5SHq6ON8Gg2tRJcZzK5im2WRYcdyMynW7\\u002fSEDhwnbgMHgqYlGM\\u002f02nuy8FvcxndfKFobhaVRQ0AMGVxDGGxmNGa0kbitJ8ERXsBQNbVzorkrgRGetaWN5fl1QZEebJYTJ6A4xPsWpxVVVPaFBDVHoQLivGBjoQjQVFmFXQkGQeEvbN41t3jlj4ybf59ky4eTP970wmqRwccHnv2qvHfHX\\u002fV2dOu2\\u002f74dwLrQmKyZQ1j\\u002f\\u002f5+zdGdQjbniajxxFBOS6OXjaTTFQBuPILVO2YU3ZyU\\u002fGd6xrzAwI3jxgY6dB8GOEVqLrUoOIg00g1jPdyJ4ytVVS9C51oqgkjn9loZAPg68UqYk1OUS6flzgEvn5LwecHO7XE+IpS1++F7fXpJVHUwUH8ChbabMJVcqwUAifUCvaHC0UZYJpO3avUOonYpP++brcQok8G4f0LsYwljieWBDATZvG752wdOHckuPJJdGO7mfFds+IrYMD6n8y6kRaMFADexVbKvK5UtioKG5nvHRQMAgsDMEP9\\u002fUrKq5ApyKtBsQQFg47Rx+6\\u002fn\\u002fXwx+YOldJENDQDAOu9H1nk\\u002fQrXSjBocXCQA0FzXGjrGF7fs\\u002fuGUSkFNBvXJ9BXxf\\u002fz38L6fz01fNsbFuzNt0tqsEtryOFw2AARGeZ3855rYThQW3\\u002f63guN8KgrqG6pacH0GAAvum3R0W+L2r4+HjvHFS+8NOuPfm04gCDJ3zYSOZx0wT31yT01p01+fH\\u002fEJcZ04Lwo3YhjWVNPq7GlHuDGYDAaDcWfmBwFgRUB4o1a9vzQv3N75pbgpzoL2DGyNWpnZXL8xcpy1+w0LrK6bPQOAwWxWGvTFspYL5RWNarXWZNqXl3cwP\\u002f\\u002fZSROfntjNJyC1thY\\u002fkPB5lNKrrjiRGjSQG0CQ8bOTJvj44EsIZVrtyu1\\u002fzwsMfCAuZpzHHVROm15Td6awFABWx0URSdJgJwcBh601mrLrGvojmAbqT9BtoVV2fSMABDkNS04Wj5kRNacAsDIuwpbPBQCNwVjS1PLn1fRqueKDpbPtRe2q0dFG+NO65bl1jXvSc4\\u002flFH505Oz3569+uHTOrFB\\u002f3KE95NZzihnnaE57fhA\\u002fnRXi\\u002f09K1rGcoo0J1O+bp1S8OCpkX0beE9Mn2A2P0KShoRlCZq4cu\\u002f+38z+8tbumtInLY2deLs5NKY0Y75+TVEp17RVbqfCV\\u002fz3wycYtT879dNqyMY6uEoVMXVXckH2tZMvl93ARExDlqWnT5SSVLLiv\\u002fVc1JNbn3N4Ug84Y0NGt1D\\u002fC46HXlmz9z8Gn530WPzMcMCzlbF5tWdP9Ly8M6KukvRdYLOY7vzz67MLPP3\\u002fmz68OvuQT4goAqAV7aMJ7QTHeAREe9i5irUqfci6vvlJG7k9xp\\u002fF41PjHSYErHHeRuPThl5ld2hXdqMDqfbNnFMP25+W\\u002ff+asxmi0YNjXl68gCPLUBKsXh7ekwo8VOn2fFV1keukL\\u002f+n8uet27S6TtwIAimHHioqOFRX5SKXLw0KXh4V6isXUB9xe5DU0PfPvYQuGOdmIHhkfR9hZDMbSiNCd6Vk\\u002fXUmZHRzQZ3OKgfoTHM8vemXWFPKahuTKmvKWVgCYGdh9CcIN0tSmBgByp3jKKsLjuUUv\\u002fHPEYDb\\u002f8oBVeVO4m3O4m\\u002fPr86ftv573xclLz+86vP\\u002fJ+\\u002f0d7QAAD3c1q7pJO5I5nlMEABv+3Es2Hssu7CqwAODxaeMOZ+X\\u002fcin5zQUzqGM0NDSjDP8Ijw9+3\\u002fjnF0d2fXeKxWaGj\\u002fX7cv8LxVnVAxVYADBhbuT\\u002fjr2y67tTyady2uQaG6nA1dvhwVcXSx3bwwoefk58IVenMRDRsuBYb73WSFS449zz9BzPAOd\\u002fN585tu0ygoBfuMdDry+58c6ftnai93\\u002ff+OLSrz54+KdNR162tRMxmMjdT8xKv1Bwbl+qQW8S2wk9Apzf2PxwwpLO35Q+efzJ34uK24tVCEJD3L7\\u002fllpwee58\\u002fpWrxW+9sZRiH\\u002f0gAF2bQcKNC6zeYSDIXeFhbjY263btxmt5Nl25ujQ0hKxvWm+g5NmCohYU7SobAcBZJNp739qvLl\\u002fZfj0TX8YIABWtrd9cvrLp8pXxXp73RUfPCwrspf791gLFMIPZrNTpC5pkx\\u002fOL9mXlW1BUwGF\\u002fs2IhpWfmMwkTzhSVFjXJ1vy+86mpE+I83URcjlyja1Kr06rrThYUf7Z0no+ddND+OK1a3WM7978zb0aIsyMGcKWs8rVDJwEg0s15ku+ACwX6pFbRVt2q9LGX2pI6LFCYHx70qe2FK6VVepOZ10UpcljMe+IjeWzWa3uOH88pemrGBAAIdXXafz0vuaKGiGl1pVzWWtQoC3J2iHTvTEPn1DYUNsrKZHI\\u002fh87oOo6PvXRBRPC\\u002faTkbE8axOpZzjzzdFbzT0NxWPP\\u002fF2ue\\u002fWEu1WrP04YSlDydQrdbEzwzD26kT+IS4zbmnPVIgdbI9VvstMfTN4ZeI45WPz1r5+CziFAB8Qtxe\\u002fe5BsoUMwkD2Fn1BtngHu5KfnGDi\\u002fKiJ89sTed3Sn\\u002fe14\\u002fonFItPiBv5BSAI8ujbyx99m+QxcB55KKGmVt7WpvtndxIAsnrVOLFY4OFBnRgB4MrVYplMTbXeylB\\u002fZoaDCV6eswL8T5eUAoAFRXdn57w4pbNwSmU0dLoOKTZc7nszZ6yPH\\u002fNratrenFxilxsM4FpV9bWqai+J5LWEqfODAq0fd0sydRO1vUqQk8MXy+aHdFRfETiKhL\\u002fft\\u002fKJXQfzG5uf\\u002fvcQZRRIhe04A\\u002fXHeX3OtG\\u002fOX176yzYei4UBGMxmAHAUCb9cvvBG2rj3xI\\u002fnrwHA0phQ6oA1JosFxTCTxdJVYOHgES9FR2R0dqj\\u002fZ8cv7L+e99jUsURikcKxnEIAeGbmxNmhAYTxTEHp0zsOHstuF2oUHp827mh24W+JqXw2ddUJDQ0Nze3EuHF+48APAPYfTGcyGQ89OJXqAQAAKIqlZ1R6eXZfqD16wABOVRafrS6T6TR3BYQv9A0GAIPF3KzTOPCFxKJCnO5\\u002fZoac6b6+uMACgLS6OvKQgPQbE2Bv\\u002f+2SRaTBvuk2fEXG3db2vZkzXp069VhR0b85OcnVNYQcqFIonjp4aGloyGfz51G6aN6KIAC2PJ69UBDn6TozyH9WkH9PQibQ0f7wxvv\\u002fzcg5WVhS2CRT6Q0SPs\\u002fJRhTr4TovJLBrOGqg\\u002fgDg72B3YMO67y5eu1JepdQb3MW2w7TZs85o+u7c1T3puV52kvsnxFKHSRy4nifX6AKc7PFNdQobZW5iG\\u002fIGOxYU25F0HQBiPN1wi5vEdmVcxO607I3b9n91z0JywlGp0+P9SI9mF\\u002fE57CkBPsQQAEwJ8OZz2MdyCrsVWP6O9nPDAnelZvdZ3TUyZFc0\\u002fHP+enpJbUubhs9lO0ttJof53D01ys2+j+p+Ghoamhvk0OGMYyeyysubDQZza6tm5pxPiaFTx19lksL8WdnV23dcycuvMxrNHu528+ZF3n3XWAYDAQC5XHP36m83fXXfgUPpl6+UxI\\u002fxeeetZf\\u002fuSdmx85qTk83rry4OIm1xfepM7qFDGdU1LTqdSSoV+vs5zZkdPi0hhHDoCQuGPXFm\\u002f4nK9qWgcU7tvxQqoyFh188vj5n6ZLTVhD9CAsvFprMynWithENuyqAzmYIchqUCms9m3RUedld4WI2ybWdW1t9ZWUSf94P5BQI25+O5s60fcWuQ4O9T9PYLVGs\\u002f4LFY68bGrBsbQx3ogYH6Gy0WHzvpF8sXUAeGiJ8vpvDYrAalKqWytk2n93WQ\\u002fnjfclFHP1XCBy9y15vMRY2ytMpaFpPx5oLp+Ojvl9MOZxdEubu4S2zFAp5Cq0+pqGlsUycE+iyI6FzK+saCabWKtiullQv\\u002f90e0h4uHVKw1mqrkijKZPPu950qbW0qbWxZEBFFCYlwWKyHQ50RuMZ49JA\\u002fhPD59\\u002fIm8ou5ifyPN\\u002fw4kbj2RgiAQ4ukcG+Cm1hmLapq3nkyZExdICywaGprhxtPTftHCGNSCfr3phIeH3eqO3CsAMEgBlDNn8z759JCHh3TB\\u002fCguh5WZVb35p7M5OTUfvHcXcaP6w+Yz7u52sTFel68Uf\\u002fb5kbKypiWLY\\u002fYfSP\\u002fyq2M\\u002fdbT42vnPtZ9\\u002fPR8U6LJ4YQyCIHX1ralpFd5e9v0RWFtyUk9UFi\\u002f3D1vmH\\u002frwyT2E3YEvHO\\u002fqdbq69OYILKPFQhxTYk62XK6Uz2\\u002fV6QCgXqVSGQw23M6gwpDjIbZ9eeqUJyeM\\u002f9+Vq7+kpOLGf7KyHo0f49ddJIZmkAyzdNiTnsNkMCQCXqS785zQgBWx4Zwurf\\u002f2pOfgBwwEkQr4c8MCN04bR3RgXxAZrNDpCxuac+oazRZUxOMGOds\\u002fMW383WMiyUlMPof9ywMrDmXmH8jMz69vyqxpEHE5rmIbPFp2NLsIAOaGd5NlnhMWeCK3+FhOUbcCK9jZYWaI\\u002f5n8AdfJDi3bz6ZvPZHiIrX5fMPiCJ\\u002f2OzwMg4KaplDP9gtFQ0NzsrTk8SMH3pgybUNcPHWM5saIifaKifYyGs1fbzphbydatCCa6gGgVOq++uZ4dJTn55+tIWJan3x66PSZ3CtXiyd37LfIYjPffnOpyWRZvnLTufP52\\u002f963NVFolYbjh67bjCYuVwWAJw+mycW87\\u002f\\u002f9gHieSwW1GTqlCi9sLs4O97ZfdP0xdQBgACJ\\u002fdHyQopxhARWlUJJHHddnT7RyxNvGYpi2OXKqhEoihKw2a9PSzBZ0N\\u002fT0wEAA7hYUU4LrFuC79b2vcakPz4JgT4JgT5Ua3cwEGRZTNiyGKsqV5xnZk58ZuZEqhUAABZFBi+KbF9g2+3r+e7ebowjSZtW\\u002f8OhKxwW87unV\\u002fi7dpY+IAiQ1VVORcOBq7npJbX1LW0ohnk5SZaMD7tvVhyllu5Icv6\\u002fl7IqGlu1BpO9jSDIw3Hx+NDZsVbf5fSS2t+OJ2WVNxhNZi8nydIJ4ffNjMMj\\u002fAT9eR6aW4W85qbFf\\u002f+FHzMRRMzjhTs6r4mIXBDQR79DGhoy5y7k63TGu1bEkzOGM2eEnT6Tey2plBBYwUGuAMBmM11dxGq1wdVFAgDOTrYYBiqVjsu1AQCpVFBVJcvLr4uMaG\\u002fbxGQyyE\\u002fbC+VtrY9FjKVaAQDAgSdQGKhtDUZIYJ0q6WwlGuFEvTOe5e9P9GT\\u002fPT19BAQWzqKQIFxgAUCLhnppuoWcCWrRDrjXHA3N6OFMRonWYFo6IZysrrryx6nUq\\u002fmVE0K9p0f5my2Wc5mlX+29qDEYH1\\u002fUqSx\\u002fP5W6ad+lUC\\u002fnlVMiEUCqZYpr+ZV+LnZkYXQspeDt3497OUmWTwznclhpxTVf7b14vazuiw1LCKnWn+ehueUIsLOb7uNnMJtrVW2XqiovVVU8OXb8yxOnUP1oaHqgqLAeAN5936oVDk5ra2fRkY2ofRU5l8sm0oscDhM6Wj0DwMMPJrz6+s7nXtgWE+O9YF5kwtQQPLLVH7hMlt5iploBAKBeo7LjUSuM+\\u002fu8N8KxoqK02s7C9hl+fqRBAIAlIcHfXL5SrVQCQEpN7a+paevjx1B8hoMGlZo47hpX6xZ7QecVLGhu30+ahuZWJKu8HgAmhXtTB6x5Y81MAZfD47TPFY8tnLDk3S37L+eQBdbR5HyJiP\\u002fXq2uIAgALihrNnVF3hVr3fztOxwW6b352JeHz1u\\u002fHjiYXXMgunR7V3gWjz+ehuRUJd3R+c8o0\\u002fLhKqVi6c9tPqcn3R8U4Cztrc2loekGtMQDAqrvHScRUEePmJiGOyYEoSmicICzU7Y8tj\\u002f39z7UTJ7OvX6\\u002f87ofT966esPqe8f1ZchTn5Ha2uuyNsdMpXa+qVIqDZfmzvQLIRhhugYVi2K7snI\\u002fOniMssa6uE7yo3WaZDMab06c9ceAgfvqf8xdkGs3TEyeISG0qyVQpFMeKiquVyv+bM5s6BgAA750+4yEWLw0NcSa1fafQqFZ\\u002fc\\u002fkKcTres19N3qNJW+7sy8t\\u002faExc8PBU5dPQDDdylRYA3Oz6qGS3s7Ga0YQ8TqC7Y0pRFYphRJbQ3lZY3iDPKq+P9W\\u002ffyYrJYPA5nXPQibQircG0dkYcuQRzfnzI0eSCS9nlhMDq83lobnW8xJJ5\\u002foG783KuN9TP8+8MTCbX1vyQmpRRX2+wmH0k0rtDwx+OHUPpU6gxGn+7nnaipLhSqUAxzEEgiHVxe2niFC9SY8UDhfl\\u002fZV0vkDUDQLij82Nj4mf5tn+6cP7MzHj\\u002fwtnrG5+uUio+u3wps7EexTB\\u002fqd2XcxcG2NnhPhjA1utp27Mya1RtLkLRqvCIUAdqvxvox2vuz9+i6Q8CAQcApk4Jigjv1y9179jbi55+cvaGR6efv5CP17y3KrRPbJxJ9evCU9ET1hzded\\u002fxXY+EjwEAuV6X2lh7tb7qt5xUE2p5MtqqiTrcuMBq1ekOF1ALu8wo2mYwFMtk58vL69pUhF3AZn84ZxbJsZO5gQFPjh\\u002f\\u002fQ1ISfvpLSurOrOwEX59IZ2c7Pp+BIBqTqUmtLpO3ZjU04DtD9yKJyuSt265nfnrhYoij43hPj2BHBy+x2IbLZTIYaoOxpk2ZXF1zuKBQazLh\\u002fpO9vcK6JC67xUsiiXVzzairBwCTxXL39r8fHhMX6+bqYmNjQVGl3iDTahpV6jHu7mPc2xdw3mkMblUjzcjTz42ADCbzvss5ibnllU0KlVavM5jwkBKGYcS26k8unvjEt\\u002fWPfLlrbJDnsonhs+MCudbLKvMqGwHgxZ\\u002fab6LItKg6U+19Pg\\u002fNbYBtl2VMBwvzXzx5zEciXRUewWOxkmpqPkm8kFZf98OipcSnU67Trf53Z2mrPM7V7cHoOASBQpkssbryP7PmEs\\u002fzaeLFn9NT\\u002fKR2q8MjMQzOV5ZvOLT\\u002fzSnT1nepTD9TXvrOudNTvLwfio6T67TnKytcSXfjX1xJ\\u002fDE1KcDObmPc2Fa97s\\u002fMDEdB+w6nBP15zTi9\\u002fy0aHDyj121XRQAIDnI9eSrnembVkAgsHC6XNW9u5PRpoQ8\\u002f+svRY5n9EVjjXTy\\u002fmbbojcsnHzu9DwB+yUn5JScFAERszg8zl4VIqSr8RievMnnrc4ePUK3dIeRwvlu6uBcd8+LUyTw265vLV\\u002fBLrDIYjhQUHumi3gZEQXNzn4k8X6n08wXzqdaeeXvG9Ht37sLXRWpNpu+vtYtCMu\\u002fNmnnHCqzbm9h\\u002fNrWSKhm9bSQXVjxOGr9pVKsV\\u002f5d6NrWpxoSi4XbOb46ZEWnfGW3tFomIDwDNSqu2KRRUOsPDX\\u002fxTWt8yLdLvvhmxzlIbIY+zaf8lXDARRPq67nvvwa0nUw9dy0spqv783\\u002fMPzR37wOwxRIhLpdMDwP2zxkhF1Fy8p5OEOO7zeWhuAzIa6hGAEPv2X6NWne7Ns6fGuXv8tfxuIsD5womjBwrzT5eVzPFrT7t8ePFcaav81clTHx8zDrcAgMliYXe0MEyvr\\u002fs5PWW8u8fWZSt5LBYAvGya8uD+PZ9dvjjV2yfY3irV8NbZU78tvWuiR3s6BQMgPmG1qraf05L9pXYH1qzjs9gA8PS4CUv\\u002f3tYxDtDv14zTy98aGQYxOYw8LBbDzk5YUyM3mSxsNnVJ+KyZYb9tvfjvnpRZM8JcXSWEvbVVIxRyOR0FDH2CYdDYpHRx7gx5MpkIg4n0f4ZZ5h821d33cFl+lqyhzWgQsTlRjq7L\\u002fEOlXOrMBjcusPrJRC+vj+fO9pZIqAMkEICnJoyPd3f\\u002f4lJiunUz0q44i0TzA3use411c02uqcF3\\u002f+0FBoKsjAh\\u002ffVqChNdeGdcfYlxdf1q+7MWjx\\u002fDWEjQ0Nx0Lhm04t7egtQk\\u002fvdpQ+eCZXReWb7ThUEMFZEI8nQ5dy0srrpkRbZVDIfP3uYzS+pb7Z415cWXnthvd7vDjKBa9umr6c8unnEwr2noyZdO+S\\u002fI2LfEoIY8LADNjAmL8+7jx6P15aG5djBZLdZtya0Zaen3dytBw4ufgcHGh1mR6KNoqfbw0OORAYf65inJcrGiMxiPFhb4SKVldAQChrgBgV14OADw7fhKurgBAwGY\\u002fM27CQwf27MzJem+aVXxifkAgoXjAWvGcKiuxYNh9UdG4ugIAZ6FoRUjYz+kphE9\\u002fXjNBL39rBBjc5DCEJKeU1dW1KpU6g8EEgPzxZ6JYzHd3txsb70vxnDE9bM\\u002felBde2j52rJ\\u002fFgiqV2heea4992Nry33x98Qcf7d\\u002fw+JYZ08McHW0UrZrKqpbMrKptfz5OFky9g6Lo2nU\\u002fBge7BgU629vbaDWGpJSyujrFgw8MYMmFHY\\u002f\\u002fQFgc1dodwyWweCyWmMfzlkjGuLstDA4Oc6KGznpivKfH7rVrMurqz5WVJdfU1La1KXR6g8UiZLPtBQI\\u002fO2m4s\\u002fNkb69YN7dethF8ccrkB+JiL5ZXpNbUlrXKa9va2vQGvdmMAeDPE+hgH+\\u002fuviAoyM3WhvrgfpDg63Nu\\u002fSN7cnMvllcWNDcr9HoUw2y4HAmP5ye1C3VynOLdR+EwDc0QUqyQERMojlyvvdpYOdezt8XwM6L9v\\u002fz3wqFreQ\\u002fPHWtvSy0dxSmrlwMAeRGfBUUrG1s7PazhsllLJoTNHRN014d\\u002f7LuSQwijcG\\u002fnw0l5qcXVfQosnJ6eh+ZW5EBh\\u002foHCfPyYx2JtHDOWvIQwu7EBAB4\\u002fcoCwEMi07eHVfFmzBUUnkGRKV\\u002fKamwAg0smZbMRPsxobyEYAiLB2I1MqlwNAqINVsiXIOgDWn9dM0MvfGgEGNzkMIVu2XiRv9vzHX4kAEBri1lVgrX9kGofDPH+hYPuOq3we29fXSjZMmhj44\\u002fcP\\u002fb3z6rVrJco2rY0N381N8ujD06QSava2FxgMxup7xqemlp8+k2cwmMRigZen\\u002fYNvL58+re8uo4NgMAIryMGh9OUXqdYhJdbNNdbNlWodCA4CAd66nTowRNhwuQ\\u002fFxT0U1y8ZOzJsL8p469oJqhVgY\\u002fj4N8bMoFp7ZsO5Paeq27cCIPPBuDkPhozE6k6agdKkU1NNAE1dJnoKrna2yydF7L2c\\u002fcwP+\\u002f\\u002f76EIPRwkxpNToxUIeADhJRADQ0KqKgvbv49aTKUqNnvAEAAyDenkbue07A0EYDAY56r5gbMh3By9vO5M+Pz7Ew6HzdrOlTWvD53DYLOjf89xmvHbl2D8lmWTLD9OWL\\u002fQelrn+JoK3aUBR7M+sDA9b2xcmTCYHftqMBgB4NHaMPZ+q8okoF75lbdfiLTIqo4HFYFCWRkn4fAaCtBkMZCMAdF1RT4DvWiu03idUyLE67c9rJujlb40Ag5schpDNPzxENfUAl8va8Oj0DY9Opw504Ofr+NYb3bcPtLMTnj31OnH6\\u002fbcPEMf3rBp\\u002fz6r28nMEgY0bZmzcMIAfRDK\\u002f5aZSTdY8Gh5PPh2MwKK5tbguq6eaeiWrZWD+NDcdZ0E3NbMeor7D5i+vmlYnb7uWX7n8gz8ifV3cHcQ6g6m6SVHeKE\\u002f59jkAWDguZPu59E\\u002f\\u002fOVvZ2MrlsFKKqjNKauMC3NNLaoknQTF00Tu\\u002fhXs7h3o5O4qFar3xcm5FTbOC3MdBLOR9\\u002fND8V389suaTbfPGBDtLRXKVtrxBnlpcc+iDR3BR1Z\\u002fnobkVIdo0cFjMzanJ3yZffYkUwcIl0fyAwDGu7UtHuyJkcwCgSdObLLDhcM0oqjIayMkvhU6HYljvyowCvj2u3LoChLwZCfTvNY8SBj050HTlw2tnqSZraIF1x5HT0kBeUd879VpVo7abOx6a0Uyg2CFU6pRPSgT42dpNcPEiuXQPn8P+\\u002fukVR5PzDyflF1Q3ZZc3iPgcF6nNvTNicYcQT6f\\u002fPbH8h8NXtpxMZjOZMf5uW19enV\\u002fVSBZYDITx4Jz4q\\u002fmVR5Pz9SazVMT3cbb77NFFc8dY5SCmRflve33t1hMpF3PKFGqdWMjzcJA8vWQykZ3s5\\u002fPQ3Lo8O27i0eLCn9JSFgYGE40PIp1c9ubnXaup6UWsBDs4MBAko6HegmE9FYdEO7vkNDVmNzZO8uz85Gc1NcIAk3T+dnYAUNQiS\\u002fD2IYx43pCgP695lDDoyYGmK9\\u002fOWEKxaEzGwlbZ\\u002fpK8YDvH77uM0gLr9kdjNpYoW4IkVjUEPZEp62N5Ac0ohIEgv8xY+VHqmZSmGguKTnb1eSt+Bo\\u002fZr283A0EWjw9bPL7HZPrkcJ\\u002fJ4T5kS6Cbw9IJ4cQpgsDzK6Y+v2IqyaV7At0cPnl4AdXaQf+fh+YWhcdifTRj9oP797x2+sS+1ffhUmlpcMiXVxO3ZKQtCQohd7SSabU2XA6XyQIAMZc3xy\\u002fgRGnxT6nJT45tT\\u002fcAgBlFMQzDS93XRET9nZP1v+Srsa6ueH26zmz6LvkaArAqLIJ4SJ\\u002fM9g345NKF7TmZ94RH4qGvNoNhf2Ee2ac\\u002fr3mUcCOTAw2FpX6hVBMAAGyIGDt\\u002f39Z9pXkbrDfSoa\\u002fyHUGmrK6fAut6M50fvCXxEIl\\u002fmn4X1UpDM8qY6uWzNDj0YGH+r+mpG8eMBQApj\\u002f\\u002fV3IVPHzu06O8\\u002flwSFuIhELVptiVyeXFt97sH1HrbtNXnvT5+Z19z0xdXEsxVlsS6uXBarWqm8VFWxc+VqvAI93NHp5YlT\\u002fnvl0pK\\u002ft0339sUAO19RXq5ofX7CpAFFsLzE4odj4n7LSFv2z7Y5fgEmi+VkWYm3WFKlVBI+\\u002fXzNowR6chhu3EW2C3yCdxRk0gLrjkDK5atMBqJRxXVZ\\u002faqAKGuX7rne0hnBChQ7FCtlpEEaGhqaG+WdhOkXKso3JV2Z5x\\u002fgI5ECwGw\\u002f\\u002fwNr1v2Ymny2vFSu00l4PC+x5KWJUxxIW5M5C0UH1qz7OT3lVGnJtqxMBoI4CoVz\\u002fAIchZ2LyB6PH+cntfslPfXvnCwEgVAHp5cnTRnExtJvTp3uJBTtyMn8IzPDRSi6PypmbUR0zE\\u002ffkX3685pp7hycBMIadacEx0Hwbs40twHkVYRuQlsnvuh6R74vws7l8OKHCM+eQDEscufXGpMRP304NH5rfueiCXoVIYziRqM0tyJ3yCpCGprbntVH\\u002fq5Rt11evZFspCNYtydtRsN8ryBCYBUomgwWc5+VASXKFkJdAUCwxKoNCQ0NDQ0NzR3LwbJ8qglAadCfriq91lC9JpiaJurjF5fmFkVjMkQ7uBGnZhTNkzfFOnZauoUQZDi0wKKhoaGhocF55twhqqmDWCe31+KnUYy0wLo9wQACxfZky3VZ3YAElpeNhNgpgoaGhoaG5g7n3QndbAhty+H52UrjnN27tg+hBdZti5TLd+KLiDa+mf1oH5pJakka5+iuM5tIgwOmXqtKaazOkzfltjbWqpVtRkObSY8AImRzRGyOA08YInUMkzpPdPHyt9aCQ4VMr7lQW54pqytUyOq1bXK9Tm8xAYCAxRGw2M4CkadI4mMjjXZwHePoPrhuy0iXjcVy5Y1nakrSmmvL2+Qteq3ebBKyuRIuz5EnjHN0H+fsmeDm22eu9pZghN9pk059urrkWmNVibKlXtOmNhkxwIQsjqvQNlBsP87Zc45noItgMDtf0cCIX96bPjmQ0ZiN52rKLtSVFbQ21aqVarMRw0DIZrsIbHxs7KLsXcY6e8Y5uvfUf6v\\u002fjPBX5iYyku80U1Z\\u002frbEqram2vE2uNOqVRj2LwXDiizxE4rmegQu8gx14A9hLp3cofUT7hC5yv32gbJVzatn6z9Mvnqwuwk99be3OLX+MGO2K3mKO2PGVGWtfePjh+Ln+tnb3ndpJOPSzyL1SpThYnneyuii7hbr\\u002fV0\\u002fEOLjdHxx7l3\\u002fkjU5gAACAYtjxqsLfC9JSGqv7\\u002f+EOkTrO9wpe6hvmZ2tHHSNBKXIPlTodW\\u002fIIfpzcWP2f9HMZzX00EnPgCR8NG\\u002ftQyJhBBAj3leW+kNhjjJqMgMXOW\\u002fsS1ToQyO80SOJwcul6Yiipseo\\u002faecpCeWu3Mg7JZPd0rApM\\u002fFcbaml18mKgSAz3f2fi54Sae9CHRutjIYi95G8vCM\\u002fObx0+cie0mzi9OKKx71sJMSpwWL+MefalvzUNqPV7k9dsePy3xk7e4VfZ\\u002fu3rtzcr8ydNjlgAPvLcn\\u002fNS86VN1LHBshkV5\\u002ftc9ZQrUPB0EhImlGIxmSMdXQjBFZFm7zNqLfl8Ky9OslpaSDUFQDEOrg1dreJVS8k1ldszU89V1uK9jpTd+W6rO66rG5Pac4Xkxe5CW+ohUxyY\\u002fW7yacom5v2h4LW5oLWZimX37vAooBvymHBsP+knfs1L5k63B0yveaz9PMHy\\u002fN+nbnSXXhrbFhRqmzRmU18FtuMoZ+kntuSn0L16I4bf6das+mTtLPbCzP683lCMex0TcnZ2tKHQsa8MWYGm8GketBYM5KXdzRMDgBQr20jBFZZm\\u002fzx83uLFP3qRCM36CTcHifPrtysr8zIc1PeaYte++Llwxdqy6gDN48WnfZwecGDYVbbE3fuuHkHcrW5LGz\\u002f+2H73190+jvq2K2PzmyKIxVdYQCZvd41kvODfBY71M5JbzaTxvtAadQ\\u002fdm7PmZqSgU6gBFcaKu89uUOu11IH+gcG8NX1S2tO7hiEusLhMlnLe71D7Yotm4ti2IuJh\\u002fqprgjyW5uWHvmjXquiDoxKLBiW19qEYtjzlw71cwIlGPQ7bdCq7j6+bVv\\u002ffv4JUAzbkp+6+sSOPmMSdzgjeXlv+uRAUKtpww9y5Y13H9\\u002fWT3UFAHwWe5KLN9XaMzflK3NTGPl32qzTLD3yx6hSVwBQrJC9e\\u002fU0xXhHC6zbG73FHGXvykI6\\u002f4l73waHHNSNtHdhIQyDZQA1WGIOb3VgNNXaARNB7HgCP1u7EKmjq8Cmp2qGSpXiiQv7qdZ+gGLYy5cP\\u002fy\\u002fr8qBncABY6B0s7jnC1y02HO632VcOlFttowEALAbDWSAKkTr1slagRa999uKB3vMyFAQstojNpVpHBDyRdLiCukp5mN5ps06z5sSOvO6C\\u002f0wEceAJgyQOvrZ2PQUV0ptr153aSdmgl4ZghC\\u002fvzZ0cyNRrVABQq1E+cPqfAcm1yS7eA60ZGuGvzB0yORgs5vXn\\u002fq3VUFt6TnH1eW\\u002fs7J1z1x5f8siBhQ\\u002f+MmPlExETXHutGkQAXAU24529prr5UMcGjorU4YhgYJ+Ybok88KGFlFrC4THZIjbXQyANl7gtcA+Ps6e3lhxp9GYzn8UOljoSKWpyjKor18kV7g7uAGDo9wSKsz5s7F8F6USeUcjmJLj5TnX1jbB3CZE4cpidOQW1yXCtsfqP\\u002fNRL9RWEESepsepCbdk0dz+KvXc+Sj2zpzSHagVAAGId3Se7eo9z8nTkC6VcAY\\u002fFUhkNjTp1kaI5p6Xxcn1FhaoVd17T829AT6Q01Rwq75xWOEzm2sCY+V7B8c4ehLQ1Y2i2rGFbUcb+shzKPJLSVLO3NLufTfYBYJ5X0DyvIDOKyg3aVoOuVa+TG7QKg15u0G7JS5GTisOGnK35KeQ+xcP6Tk2oZf25f4l\\u002fF4IZ7v5rg2ImOHvhmVmcOk3budrSn3OTKlWKTleArJaGj1LPfDR+LtlIAzfp8t7EyYFMrUZptFgePbunhaSuYh3dElx9xzl7OglE9lwBALQadCXKluyWhgt1ZTktDRjATI+AzmfpHyP5lYE7ZnLYkp9K+SFz5Au\\u002fn7Z8nJMn2QgAczwDX4yZuinz8nfZV8j2UKnTS7EJ3jYSL5FkoKK5F9RGA9U0JAKrW\\u002fQWk95ikunV1+XV28uSYu08P45b7iMa9vUgM0983aBTpi5+U8DiUMfuMEyoBQBiHd36I7DkBl21WkGcxjm5Qccz9B93oXiRT8jhivyZHgH3BsZMdfPpqVBDxObO9giY7RHwT0nmW1dPkGu\\u002fAGBzbtKA5tAjlQXkjvMEM9z9X4lNCLNzptjFHJ6HSDzG0R0CAQCqVIrDFfkZsrrxzgO+DSBPK+OcPD+fvMibVEKLw0IYsY5usY5ud\\u002ftHbDy\\u002fj5Jb2ZKf2s+ZhQBfI+PEF5GNB8vzhnUOJf++Dvc7\\u002fSz9AuWzascT\\u002fJCwfIJLN\\u002f9AbkLb+4JiVwdE\\u002fyf93G95VhmKvwrTp7r5zPUMIhtpbsrlvVmTA4V6jerzjAtEFUGco\\u002fvrY6Z3\\u002fW224wn8xfbzvIJejk2o1Sh3l2TPGrjAGsmvDMHtPTloTMafc5PIFj6L\\u002fffctQE9LDVlM5gvxyZggH2ffZUwFiqa7bj8QLEDybE3\\u002fLZ8TjV1R7chuKEUWLF2nkIWFwAwwLRmY7W2VaZvr5LOkFevu7Rl+9RHvIdTY5WrZQ06auTwjgWfmGId3LcVZuCWJp26XqvqNmpKyR7GOrgDQNfAZJ+8Hjf9jTEz+r+ce3VAdKtB92naebIxtalGbzH3c793ldHwTtJJipGBIO+Nnd2fNY8A4GUjeTJyItU6QMY7e\\u002f0+a1VPYXCciS7eX05etOHcHrIxv7UpV94Y3kUFjlqG+53mtzZtta7ksOPy9y94gLz4qyssBuOd+FkAQBEBn6adn+MZ1H3O6Y7kJl7ekZ8cupJYX3G+thQ\\u002fXhsU8+H4ueQiim5xF4qfj55CtQ6E4f7KjB6G+52erS0lL+IGgI3h43tSVwQvxEzdU5rT0FHphWLYpqzLf8y6x9qrRywY5iESS3l86oA1cr22Vt1e4UcwyI9pt7wTvShEbLWCt7it6YfCCydqcwFAbtC8nXHwr6kPkx2GlitNZVTTHQzegINc5w4AmbI6V69gsqXD3nlH6ymSOPKFpMEB4DrwZT4bwsb\\u002fVZBBzqmbUEt6c20\\u002fS0p\\u002fzUvuWkvx+aRFK\\u002f0jKMbhQ8LlbZ6+ovdpBWeOZ+BkV5\\u002fL1rmPtObaPmeWUcIIvNMvMy5SMghfTlnc+88\\u002fwaux087WlJa3yQlLWZv8dHXxHM9AktcdzU28vCM\\u002fOXSFiMqv9I\\u002f4ZMJ868FhYQS+MqOEEXiniXUVFMu9gTEUS1dYCGNVQOS3WZ2Jwou1ZY1atbPAKs7XC2+Mm7bYN4RqteZAaf6z5w9RjH2I9xsk0Nbp67GrVvvG46dpLZXZrbXWLkPJlab2WxMa6IhY+traSbmd0runLGEGKYLVZ8P3oYWJIF3FUEUbtUCkW4wWyx+FaRTjUt+wrk84rLwYk0C+yL2zukskPKN5GL8UQ8twv9OyNvmZmhKyZbKrzwx3f7KlF7hM1iOh7bMNwZbu0sd3Jrfc5b2RyaEXvG0kH\\u002fa7euwGGe6vzOhhBN4ppb2Wt42knyKJkgXGAFKba8iW3unP+7LhdFOVNLwCC+fFsNl8ZvvfvjxsGkhnMabIKqhWGoAY0qaEPQmsLOse7qSRkSDeyYNiUfZvEfipmmKFwcqTz2J\\u002fMG4O2TLcCFjsVf6RVGvPjO3yZsmFXKOZEXine0qzKaUMG8LGWRv6YJlvGGUZWkpTtd5iJlvuWG7FyzvoyaEXnoiYKByRIt0R+MqMEkbmnTbrNeRTbxsp+bQXPEQSiqVM2RmI7Z0PJ84OkTpSrV3odgnnUKYIe8KGzYux87jaXAYA1ZrOm49\\u002fK9PfzTgIAKFi1z0zNhL2bll85rsylQwA\\u002fjNmxTLPaNyYq6i70lRWoGwobGuoULcQS\\u002fTjD39CPJBgfeCUF8NnU60AAMBAEACwYOjB6qxjNTnFqia5QcNjst0FkgmOvmv9xnkI+viHrNcp91SmX24qrda0tpn0YjbfW2SX4By4ymeMlNP9HixXm8sevfwnAHwz7p65bmEWDD1YnXm0JqdE1TzQv947sY5u5zrKDrJaGjCgbu9SqVKQE9sjL7Dcu+QOFP0ryTxdXUyxLPYJ7c\\u002fdxhAy2zOwP1FxAlehrZDF0Zg71\\u002fTe+A\\u002fGyDAC7\\u002fREVRH5VMBiT3YdWDLIlsMLEDsUKpoJixlFM5prJw42qXQ7cSte3kFPDj0h4fJ6b8g+hIzAV2aUMALvFANQWv\\u002fT25KWu\\u002faOuItnn3+OgNI7tCeiHV3OrnyUYhwJgQUAjrz2wkaVqfNdLfaI\\u002fDznpMqkz1fW57TWRkh7\\u002fF3Paa3F1ZWIxZ3nFkbYt5cl76+6TpwOGhGb26RXPZO0k5zBNKGWAmVDgbLh7\\u002fKUj2KWLvakhjRxMMB+LLj4c9ElI9p5G9diULcY1OktVb8VX341Yu5K797+hcpUsj7+euyyxR4DuDmgEEsSTGqToVTZQqkKJMdduUxWmNSJNDgSdO0v388FjJfrKymWe7pEnoebKa4+VFNf2HK4A5pZRgnD\\u002fU4bteoSZQvZMs7Zs6e1Zr0QZudEVgAAkNo0jArgVuEWvbyDnhx6Yryz1xAuzu+d4f7KjB5G4J1iGEZpc2hCUfJpLxi6BFkHvU6iJ7hMlr+EWm4\\u002fxH+jJ\\u002fBNdgHAhhRG4zHZy7yit5UmAcCuirReBNaB6kz8YKFHJI\\u002fZKZMXeUQSZfV6i+mbvDP48Uvhc7pOHBGSHkuLGIA8nbQzp7UWASRM4upv48hmMMvVsoyWagwwg8X8ZsYBHxuHbp\\u002fh7fQD+zpEniPPJtbOU8zhtxq06fIquUGjMunfyTjYpFc9ETzN6mEkchR1ZxsKe\\u002fvr6ft9RPbd\\u002fvX+EOvgykAQ4qOZKaunCCzyEsIoexcWYyQSx2SYg\\u002fqLTTo1sZU1DofJjCXlQ0eGYEnf0WMKlFu9\\u002fjdsvLkM9zvN6rIfef+XUpPpum83sYDoTuYWvbyDmxx6YcwIRuiH+yszehiBd8pAEFsOj6zDyM3Meqe5i6fDYBdyDYgRElglqvY7HjeBhGxf4zMWF1hHa3Nei5yHd3mgYEYtR2ty8OOV3rHkoclO\\u002fpOd2is0VSY9IbDu9R07oD5YGfJqAPCzcfwifiV5IWROa+3j13bIDRozavmx4ML3E+7tfAwAAPxdnoKrKxaD+XbUgru9x+DZRgCwYOhfpUlf5p6yYOi3+edCxC4zXILJjyU4W18Ag\\u002frr\\u002fUTE5vrb2hcrZfhppqyOUjdq1WJ0BGefG6TrNhehUqeRV4eBksH8St2KDPc7pcRFYCA1FmTId3E4SuMNJZVuD+jLi+Pf16r+IWS4vzKjh5F5p8FSx+TGauI0V95oxtA+G22AdZExju+gPvwEaJdwGg7lB2gkBFaeor6sQ2BNdLTqEedn4zDewTdJVq41Gw9XZxPrDclcaippNWoBINDWKbLnKNcNYsvmb538AJHKxImQur8eOf\\u002fV1D0AcLmp1IRayIExrdlISLp3oxfdbZ0HZCKMhwImMhDk0+zjAPBx1rEE50BmDx+FQfz1ARHn6N4psKxvZM0oSt6NfMiXELbotXnyxvzWpiadptWgbTXoFAa9zmzSW8wGi1lvMRvM5q7x2\\u002f7Q9b55EHdRNwiXyRIMpPLg1mUE3mnXLjJvJ514O+kExTgIWq1XQtyZjMLLO3yTQy90zTkOEyPwlRkljNg7nezqQxZYOrPpVFXxAu\\u002fuIxdkDlrvZsZjssZ311a3T1AM25Rx5Z+irAaNqht5BVD56Kvk02EXWHKD5o30ffhxsK1zjJ2n9Tis8Y1PkpUDwK6KtG4F1oGq9vxg75VMN8iDARMo+gZnrlvomwymGbUYUXOFuiXQtrM+6WB1Jl5S5mfjSAmtEdznN+7P0mt1WkWdVnGyLm+Bu1XoiGAQf31AxDq6\\u002fVPSfhnz5E1krZbf2kSewoYkgoViWHJj9eHK\\u002fNPVJV1l0FDRrNNQLCNc3g4AQvYAAqW3NCPwTputE75DiJZU6nHHMkou78hMDr3Q\\u002f8roG2QEvjKjhBF7p0t9wjZlJpJDR19dvzTN3a93eXe6piS5qVOWAcBsz4DB1WD9lpP6TcZle55gkpv35brKKAcXFoNRppQrDPpxLh73BFErgAfzN\\u002frEgqEqk75c3ZLYWLKzPAWPPzERxptRC4gMGsEs1xAHnkimV+cr63MUdZRKI5VJf76hCADYDOaSHsrMhwRy7TwZDoPlxLOp0yoAQGmyioQTfU3nuYUh1JV57TARxly30N9LrgJAYmNJTwJrEH99QJDjUibUkidvinZwxU\\u002fJjRvchWLKHgsDBQM4WJ73ecaF\\u002fqy5vUG6TuvdLpQdVkZmsfdoYATeqcbcXqk55HQXy7\\u002fjuOmXdyQnh17oT0ZpSBiBr8woYcTeqa+tdJF3yCHSrtLFStlj5\\u002fZ8l7C8p43JE+srXkg8RLawGIyXYnosie6dPSU5PrbSI8sfFLE5gb9\\u002f+cbYaZPcvM0o+mNW0uaspEgHZ4r\\u002fUAqsu85tppo64DBYH8UuHevgQx0AYDGYd3vHbS68CAC7ylMjYpeSR4\\u002fV5uCr82a4BPfU7+DG4TJZPqIeU8hcRvtVoqxeyVXU4Qehks7Cqa6EiTukTGuN9Ug7g\\u002fvrAyJQ7CBic9UmA36a2VJPCCzyEkJK2\\u002feB0qhVbzy\\u002fl9ILrj+Qa\\u002fD7j8lCXUIyYjdSBIzudfVtyAi8U+NQJ4NoyNzcyzvCk8NoYAS+MqOEkXynb8XPvFhXTi51T6yvmLH\\u002fp\\u002fuCYqe7+4VIHYVsLophLXrNdVnd3tLck9VFlM\\u002fPs1GTfW0HWYBVrmx9ICxOxOYAgIDFVpmMAMBiMJ6JmZjWVPtZysWtc1eS\\u002fYdSYHULAshEJ79XwucEW++iQ2a1T\\u002fwvRYkWDO1a6k7kBykVTkOLlCPsGlrrE7mxPUXlyO0mu0dA5P5aDNSUFs7g\\u002fvqAYCBItIMrsTVBpqwOgtuvJ3nKIzd0GCglypYHTv9Tp6HWeeAEiO1DpE7BEkcXgUjKE9hzBUI2R8hm81kcIYtdo1bOOvAL9TF9wejytR7ycg2akaRrhaK\\u002f2L734H8\\u002f6XO3sjuBm3h5R35yoLldcRHYfJew7NFz\\u002f5JXHbYadN9lX\\u002fku+wr0pcjXBEY\\u002fGzWZau03DARhd5Sxi7m8Bk1njnuSq9e3168SpzhDKbCIzZ4ZCCJkce24ghCxyzgHX09hH2rRmW87zSXobH2B1mw8UpN9j097JVa1phVf3+fMt53UsVpwOOCTWj\\u002f0EwuGEj\\u002fnvWdzicWoRACJwiD++iCIc3QjBBaxbFBjMpaRdhYb9AJmg8X82Lk9XSdQV6HthrBxC7yCBrENWZ90veyqHq4wzS0Bl0X9B31\\u002f7Oypbr4UI83guFmX96ZMDjS3MVPdfLfOXPXspYPdtmnoSV2xGIyXYxM2hk+gDgwEd5Et0QLe19buYm0F0YZUbzZ37ctF\\u002fcrdCF03e+4\\u002fa3zj8W4F\\u002f5SnEQLrYEf7qxVeMcMd4xkoTITBY7Lx\\u002fl697xSh6yh9GPkKITKxDp3iqUzZojYZRGxuZks98XHkMllhdk6Ez4D46volslDDeSQ0\\u002fvW4GRzmIFc+9ol9l348bX21qqMZzTh0+QeV31jPbhoyN+vy3pTJgeb2ZrKrz6ml6zdlXf6jII061gUWwpjvHfxU5MTQG+6hPd7Fc19pns5s4rPYMz393r16+v+Szi30Da7TtP2elx54sxqN9slkJ39PoV21Rp6vrM9T1IdJXAHgUHUWACCArPCKpT5gFODAFdVoWwGgSd\\u002fbWhhi1J57Q\\u002fXjNwi5zh0DyGppmOTiTa5wj7BzHlwbCKPFsr3oOsX4cGj8u2NnU4w90VX49wdnATUzS2lUTXNr0TWS0WK99RjNjXBTLu\\u002fNmhxobntUJmM6aX9oJoK4i8TNOo3BYuYxWWIOT8oThNs5j3F0n+7u59Llx2JwrAqKlBt0WpOJz2KvDo7aVnD9l5yUX3JSAICJIF9NW0jxHy0CCwFkjW\\u002f85zknAWBfVUaYxDWrtaZKIweAcQ4+fSYZbwpRdu64wMpV1M1xC6UOd5CnaBcxkYNtxT4kSLl8HxtphaoVP82U1U9y8c5oJle4DzI\\u002feK62lJL9dOAJX40dwDKNVkM3kd4+8be1o1hyWhqxLjst0twqBHVpLE7u0EZzg9yUy3uzJgea25vslob7T+9UdDRg8xRJ\\u002fjd16ZA3cexKjKPrjzOX4cc8JmvP4vu25qYVK2QuApsVAWHh9tRVhNSyx5vICq8YfIuoY7W5Fgw9UZuH23tqMUWBHH3RmEeiFifBORA\\u002fOFmXh0H3eV8Lhp6qb19TOqxlZP2B\\u002fPnDa9szW4ZAYHVdGbTQO3hAG3927WjVH3xs7SjLg9UmQ1GXdtU0twrEylYC8h0qzQ1yUy7vzZocaG5jZHrNI2d3E+rKVWCza97aEVBXXbHlcJ+LnfTdjKVvj5\\u002fRVV3BqBJYEo5gnls4AMgNmuvy6rMNhQBgw+bN7jk4RIbHZPOZ7T+3hW3DfmcGAAvcI\\u002fAVghXqln\\u002fKU6nDAACwvSwZ72LlwBPNdw+nDo8sZAmVJatv1KobtWrCMugPaFOXGTDCfmCleClNNVRTP0AAxrtQ+9buKc2hWGhuFXxt7TxEYrKlvK21lE77DhE35fLerMmB5jbmq+uXyLL7rfhZXdPfQ8sXaZcKW6k7s\\u002fWHUSSwAGBNRyf3A1WZleoWAFhkvbtz78TZt\\u002f\\u002fcfp17Rt5DT4QhhM1gvhW1AD\\u002f+OOvYjrJk8voFC4b+VXoNT3oCwKvhcwdX4TSEkCVUvVZ1srqIOHUV2g46S63sUirbdTvYXsAAEuvLqdb+MdM9gGLZU5pNN2u4dZnnFUSx\\u002fFWYTrHQDJqRv7w3cXKguS0xo+j+slzilIUw5nf5VA85316\\u002fOnfvltl7fvtfxhViFWF\\u002fGC01WDgxdp4hYpcCZcPB6izc0s\\u002f8IM46v\\u002fGXm0oBIF9Zv+D0t\\u002fH23o48G4PF1GbSN+rb1vqOu2sgz9Yf5rqFPRY09eeiSxYM\\u002fb+so5uLLsbZeUk4fIVRl9ZS1WJojw894D9h8XC2oe8nIVInPotNrGrcnJNEDI0ZbPgKAERdtp4g\\u002fkR\\u002fOFlVVN7WXhk2UJb4hn6UeoasqFr02q+uX3pjzAySF80tw72BMb\\u002flpZAtu0uyHw0b6ymSkI00g2PkL+9NnBxobkuq1Qot6SMkZHMo+ysPBx9MnH2isji5ofrL9MQv0xPD7Z2X+IUs8QuhhIS7MuyvbKCs8R0LAHj39mCxS\\u002fhACsOnuQQ9GdJePqky6c81FO6qSD1QnXmuoTBPUa8ensKs58NmvRO9CG8AJtOrT9bl7apIO1mXh6srPpPzasS81yPnUx92M2AhjEi7zvh8rUZJHA+6AAu6a5dQouhvNFVjNv434wLV2m\\u002fEHN5dftTdh37JS77WUEUx0twSBIjt53i2lzbiaMzGFxIPW3robUMzIEb+8t7EyYHmtoTSL1dp1J+pKSFbhoOHwuL+XrA6be3TXyYsnOsdWKpo+TTlwuR\\u002fflp+8K9fc1IbSJU2FEadwFriGSnq6OS+cuDdGZ4OmbFt6iNLPKM8hVIuk8VmMO24wmCxy1LP6Bg7D6r3EHGv79jjc555NnRmtJ2HlCNgMZh2XGGsneezoTNPzHn2oYCJ1AfcPHoqtCJ3yRooZNGGc6yqsD8TtgXDnr906AarQJ6JmkTpOIpi2ENndo3At45mOHgtbjolmZ7aVPPYuT3k29Z+YkItRHNdGpwRvrw3d3Kguf1wE9rii+EIHj+\\u002f76PUM8lN1XKDzowNY1MPCZd3d2DEL7NXXF\\u002f3zE+zlq8ICC9ra\\u002f0o6eyEv39YdWTHn\\u002fkZLTrqitchSBFmL3uXahoKOAzW4HZ3jrP3irP3olq7Y6KjX97y96nWLhyZ\\u002fTTV1AV7rujx4ITHgxOoAz0zhH+9\\u002f3QbqeIwmeF23ayA6CdT3HwQsFpFWaSQ\\u002fZaXvD5sHMlGRabXPH3xwI2HmtyEti\\u002fFJnycepZs1FvMj53bc09A9HPRk\\u002ftTW1aslB2vLDpSmf\\u002f33LVSLp86TDOCBIjtX4yZ+ln6ebLxTE3JiqN\\u002fvj5m+gz3vpfiGizmtObak1VFB8rzBCzO5ZVPUD1GMVVqRVZLA9XaP1wEoj43ax\\u002fhy3tzJwea2w8Wg7HUN2x3SXsREQCYUMtveSmU3DcZLpNly+HacQVhdk7RDm4LvIKdBX18TXqHz2LP9wma7xNkRtGkhuqz1aWX6yrfu3r6\\u002faunyx55hew5BAJraDlcnY3n8ma5hog59E\\u002fdENNtBCvCzuVGWio78IRzvYJOVHWWzAPAx6lnm3SaJyMmdt3kvFaj3F50\\u002fa\\u002fCdJWxPWkrZHP4TLZssG0PHw0dm9xYfaq6mGy0YNjfxdf3luVMcvGe6uYTZe9qxxPg4klrNioN+gpVa0Vba7a8IbmxmthyoT\\u002f31jcRM4q2mQwqo0Fl0quMBpXJoDIa2owGlckgs16uZUQt32Qm2nK4IjbXhs214XT+X8TmDGid\\u002fMjzeMSErJb6Y5WFZGOhovnhM7tDpU7T3f0muni7Cm2kXD6HwdSYTRqTUa7Xlra1lCnlufLGtOZaoixPYN3IY\\u002fTzadp5qqnfvBST8EzUJKq1CyN5eW\\u002f65HDncIdMDgDwWty0K\\u002fWV5BKX3jFYzM06c7NOU6ho3leW+38pZ+Z4Bb4dP9Nd2EcFVX9gIgiLweQxWd3ugTi6BBYG2I7ydh16j+8Y60GaIcCJL3IT2lL2BetWdQ2IF6KnnqkuIYdnMYCfc5P+KEiLdnANENsLWRyN2dhq0OXJGytVis5HArAYjM3T77pUV\\u002f5zbmfR\\u002fYBgIMimqUsfObu76y2vwWI+V1t6rraUYr\\u002fleOzc3ot1Zb1vykTGjKLfZCZSrR2wEIYNh3t0ySOu\\u002fQjvjTwIwDdTlujN5q7\\u002fcPmtTfmtTT\\u002fmXKPYafrPCF\\u002femzs53AncUZMDADjwhP\\u002fOv++1q8cu1g1mhakZQ49VFl6sK\\u002f\\u002fvpIWLvEOow\\u002f3AYDFfrK04XlF0uqpEYdAjAHHO7m+Pm7HIN5jiOboE1sHqrEJlAwCEil3HO\\u002fhSh2mGgjhHN4rA6jZvOCBCpI4fjp\\u002f75rXjFLvBYk5urE5urKbYCbhM1ncJy6a6+gDAjcyhAhb7j1n3vHrl6IHy9v60txlKo77\\u002fE2ifmDG01aCzjOJNSLhM1i8zVr6XfGp7UQZ1jOaGGcnLe9Mnh9ueO21yuC6r2150PWewmXQcjcn43MWDgpns\\u002fqTFcdQm45mq0uOVReery\\u002fCaxWhH16d9Qxb5hbgJuxejo0hgXW0u+\\u002fD6Efz4hfBZ1oM0Q0asg\\u002fvhigKy5cYFFgCsDYrRW8yfpJ019\\u002fub6Sa0\\u002fS5hGf7Xxzl5cJmsG2lhxWWyNk1dOt3d\\u002fz9p55p0PS7roLlVYDEYH0+YN83d9\\u002f3k05Rbgv4T0V17ZRoY2ct70ycHmtuDarXizWsnLg0qcNUVM4a+lHj44l2Pi9jUZiIUdhZmHasoulxXaUItABBu77zYN3iJX6inTR9JxpspsK7Lq38uuiTlCFEMLVXLclprcfsKr9gpTtQGkjRDBUVOuQhshioU\\u002fEhofJyj2ydp53q5K8Xhs9jrgmKfiZpky2kvwuAyWWOdPBL7WpTUJyv8wud6Bf5TnLWtML2srb8d4XhM1mzPwFX+kXSF+2hjrmdQgpvf7pKsPwrS+r+ZN96P4J6AaF9bKXWMhsSIXd7RMDnQ3NIkN1Y\\u002ffHa3xmQkLEI2Z7lveIKbb5DEUczlcbtUEptR1GAxq4yGBq0qr7XpXE3plYZKsoPcoPs1L+X56ClkY1deSzwOAMFShyV+oYv9Qvr\\u002fsUewLmVZI8b5hqInr+2gGKe5BG0adw+HcTOVH80Nkt3ScKamJKWppqKtVWHU6cwmfB2Hm9A2VOo0zslzjmegkN1HeeyNU6hovlxfkSmrL2+T12lUapPBiFrYDCafxRKyuG5CGy8bSYDYId7JI8bB9ab32afpk4LW5kv15deb68pVrQ2aNrXZaEFRHostYnPEHJ6PjZ2\\u002f2C5Y4jjRxfsGVwndmYzM5R0lkwPNrUV5m3zR4a3kZiKTXLw3TV3qyBeSvPrmRFXRExf2kavRgyQOJ5euJ7l0w1fpiUv8QgMl9tSBvriZAiurtebt9IMNOqXOYhKyuKFil2Ve0Us9oxkIQnWloaGhoaGhuSNZfWJHUmPnGqYQqeO+BQ8MbsHji4mH95blkC1p9zzbtSPukHAzA0VRUo+Ds56kWmloaGhoaGhoAAAgV95IVlcA8Grs9MGpKwCY7RlAEVj12rZhElijrpM7DQ0NDQ0NDQ0OpZ+IkMVJcB98k4Gu7a9a9dQtyYcKWmDR0NDQ0NDQjFLy5U3k0wCJPct6R8IB0XU7HeawbRc9XM9LQ0NDQ0NDQ3ODtBqsIkzE8tLBUaumtoC34w5LfhBubg0WDc2tzrjn\\u002f2c0W6hWgBUTI967bw7Vekdy4FruN\\u002fsvmS3oo\\u002fPGPTQ7njo8PEx88Tud0QQA6+eNf3pJ37vH0NDQjFp4LCuhQmyjNDhOWm+qxkIY\\u002fW+7MFBuB4H1R376e0mn8GMmgpQ++Kr1uBVPnT9wtaHy+LJH+twVdWQYba+HhmZo2XQgsVWtA4BvD15eNyOOxaSj5jQ0NAOA8uNYpGjWmU2DK3IvUshOVlvtjBnr6MZlDpcQGq7nxalRK6f8uxkBuLLqSdceesnfOIt9QwIk9q0G3aep5+v7akmMAcZnsRkw7J0gDpfnn6ou2ZSwhDpgzYi9HppeOJFe+NqWo\\u002fjxlHDf755YbjXcMx89MK+lTduq1inUula17lJuucFE95u2gvhks5h0AxYaGpoBE2ZntWGA1mzaXpSxPmwc2dgfmnTqx8\\u002fvNVqscg7L\\u002fcLJp0PL8AqswxUFbAYTxdCjFQWPho+lDg8R9jzBZFdvAPgpO6lPgfXD9OVU0\\u002fBwqrqkQauiWrswYq+HphdOZ3QGja8VVKp0Bht+H5sn4MyLs9rdc8G7v9XL+\\u002fgE3mk8t2zK1\\u002fsvYQDPLZsyuGLSH49cVWh0D88Z6yIdrps0GhqaUcsCr+D3k0+Ru4N+nnHR19Zulkd\\u002fd3zBAE5WFb117YRMryHbXQU2d\\u002flFkC1Dy\\u002fAKrCPlBTGOriYUPTScAmsUYsGwy\\u002fWV\\u002fmI76gDN6MNgMifmVhCnZgt6Pqt0yfiwTg+aG2DphPClEwZ\\u002fj9ii0v58\\u002fBqGwbIJ4bTAoqG5A3HkC1f4he8p7WxeZbCYN5zbs8w37KGQ+CgH154i4xhAvrzxYn35vyXZXXeCQgA+mjBvcKnGfjKMAqtKpchuaXg+ZrIFw77NvFKjVnqIOvtP\\u002fJyT\\u002fEnquYx7n91ZlPl3UWa9RuUhsl0bHLM+fBxxsfrj008Olec\\u002fc+EgcZq19nlbTjchCo3J+GteyvHKosq2VhTDHPjCWEe3V+ISvGwkuEOmrH5XcXZyY3WtWolimI+tdGVAxKNhY4nkx\\u002fbCjF3F2YWtzXqLWabT+Pz+GfHkJQ+8wuq4g+\\u002fn69lflvdnfnpBaxMARNg7PxYxfrZnp2bfkpf6YfKZtDXP7CvN3V54vVajdOaLprj5vBI3zY5ntace7lDW1qIxmRz4gjCp0wr\\u002fiIU+VtGXO5ZLueV4QTSDgaAoBgCnMoppgTVKSCqounmbTdDQ0IwK3o6fdb62rEWvJSwohu0ry91XlmvHEwRLHD1FYhGbw2Yw9RazzmxSGPRVakWVqpW8uw6F18ZMn93vGNjgGEaBdbi8AABmewaaUMu3mVcOVxQ8HjGe4rPx7L5qtWKOZyCHyTxVVfxxyjmZTvtG\\u002fPSB+vRJgrvv3\\u002fPvleu1\\u002f8u8UtjaTB0GAAC5Xrvq2I5SZUuco\\u002ftDYWMQQApbmy\\u002fXV3zKm0\\u002f4\\u002fJSTdKG2PMHNd45XgBlFT1YVf5xyTmMyPh\\u002fTvlukv9j+3qBoC4a+dfWkr63dxojOPDE5P9Kf1\\u002fOf1PM\\u002f5ST5ie3WBEVjGHa+tmz9mT1vjZ2xIdwq9\\u002fzU+QNZsvoFPsGLhSFJDdV\\u002fF2UWtsr2LlpHOGzOSfo09Xykvcu9QTEIQKVKkVhXESBxoAUWDpEfnBcXfCy1AACuFVRq9EYhj94Q7eZztaCSaqKhobnDkHL52+fce\\u002f\\u002fpnc06qxwfAMj12qsNlVcp1l7hMlkfjZ97T0AUdWCoGU6BVZHvKrSJsHfGAJz4osPl+V0FVp2m7djSRyRcHgA8Gz156eE\\u002ffslNvi84hogY9dOnT8Qc3kQXLwD4pzirJ0HzQfKZUmXLa2OmPRE5gTCaUAt5G+CPJswVsNhEUPHZ6EkJe37+pziLEFgTXLwmuHgZLOa3rp50EgjXBEUTjyXT5+tJa6r9KSdpvIvnH3Pu4TFZAPCK2fTAyV2fpp6f6uYbInUkPNObaw8ufpCwPHhq94XasvTm2jhHd9yyvzTXjsfft+h+In5mRlEj2k1zgTsQg8l8KbccP75rUkRKcbVMqTGaLeezSxeNDbX2pbkJJBVWUU00ND1wvOH0X5X\\u002fPB3w2ET7flWk\\u002fK\\u002f4p7y2gk+j3pewqd29CYpUpbtr9ldoKg2oQcgSjpXGPeLbefs6wiiMTd8UbUAAeSH4N1u21d7DJer0bRUfEKccBs+e4xZiO2GiwzIOo7Nx1M+lL9bprBqjA4AHP2i9\\u002f+cU42gjROq4d8H9b1w9nlhfQR3rNwjAbM\\u002fAt+Jn+tgMV2sGMoOpOe0P5W2tefImPJ+FAMz2Cshpaaxoa6W4rfAPx5UTANhyuGuDYlAMO1ll1aaiPz43jsZkPFJR4GtrR1ZXAEBWVwBgzxOQU7YiNjdU6tigUZHr74aEXcVZAPB8zBRcXQGAgMV+NnqSBcN2FmWSPZf4hJL1Fn7Ny5Wdl9qRL2wzGjKa6wgLi8EQDGfi+Rbian6lRm8EAD6HHePvNiXMB7efIpW909ws8qoamxRqqpXmTsWMmc81XXo\\u002f99Mn0196KOWJZzJe\\u002fTDvvwfqjqrMg\\u002fyQYIBxmVyk50XcGrP2q6LvStSl4+3jV7gvmWQ\\u002f3kfoRfG51pLyfcmvFOMwkduWyERYCILktl2mjgEAgDs\\u002fcJLD8gn2SwNtxihMTeeadvxW9poJNRIOM5zuW+C6YZrTajaDw2ZwpzmtXuC6YbrzWtJzjF48RZJtc9b8MmPlZFcf5gDXJLsKbR8NG3ti6fpfZqwcGXUFwxfBOlyeDwBzPAPx03legTsKrx+pKHgqaiLZzc\\u002fWqgw8WOoAAJRitP743Dh58iYziuJRpV7QW8z\\u002fFGWdqyktb5MrjXqt2YSv+UQxbGjXoOfKGwEg0t5qeWqEvQsAZMrqycZwax9cjCqNesLyYuzUdSf\\u002fWXVs+0QXr1WBUQt9ggnRNtxgGFy5UnwtqbS1VTNnTvi0hBAAMBrNcrlGKhVyuSP0MnrhZEZ7T5QJIV5sJnNapP\\u002f+q7nQIbxGLEtoQdHzWWWnrxfnVTXK2jRag7EXxf7Kymn3zYijWgEAoKpZcSy14Gp+ZW1Lm0KtE3DZDmLhmECPubFB8YEeVO8u4H1TnSSik\\u002f+3AbeodYajKQUnMopqZUq5Sivicx1shRHezpPCfKZF+rGZVrcfOPf8Z1tRbTdB2Rg\\u002ft99fXE21WqNQ664VVhXVNhfVNBfWypqVnT+ca\\u002f+7g+TYycNzxj63rD1+3BUmAwEAFMPOZ5UeTyvMr26SKTUohklF\\u002fBBPpxlR\\u002fgvHhnR9F6nFNes37QaAX59bFR\\u002fokVvZ+M2BS7mVDWIhf0aU\\u002f+MLJ9gKeAAga9N8e\\u002fByYm651mAKdHd4cFb8rJjhLem4k8EA+2\\u002fB\\u002f3Lb8u05dkE2AWyE1WJsrdBUlWnKZzlNo3r3j+cCH6earClRl6nM6uXui1Z5LKeOdZDWmtlqosYOholcZaI7PwjFzLmKSxPtl1KHAXxFUbOdH8CPDajuz\\u002fJ3anXF1xVnxtotwI2BNmPwg5SWowyEOcPp1pBWZOZ4Bs7xDGzRa8\\u002fXlua1NhW2NteolWqTUWM26s0mJoPBZbJs2VwpT+AutPWykYRJneMc3XythcTIMFy\\u002fcEcqCgDggVO7yMZD5fkUgcWxntqkXAEAqE2dchv653PjqEwGAOi20pygzWi4++i2IoVstmfAI2FjXYU2Ijbn07TzWbIGqusNozYZWQyGiG31eqQ8PgNB2qz72Dr0tQ14rKPb2RUbNmdf+7c05+qlwx8mn348csJj4eOGVhF2BUWx9z\\u002fYl5jYrmDCw9pTlhqNYd39mx99ZNq991oFC0cek8VyMac9Pzgjyh8AJoZ4c9ksg8lsMJkv5pQviB+JMrXS+pY3fj9aVCujDgwEvdH85d4Le6\\u002fkWNDOnbaUWotSqy+tb9l1MXNiqPc7a2a72duSHtQ9LW1a\\u002fIbhUk75238dV2o6xbpcpZWrtEW1zcfTCs9\\u002f9gTpQUPD5fyKt\\u002f44TrXeAAIep1GhfvOPY2nFNWR7Q6uqoVV1Pqt0y8mUrx9b4udilW0hKKtvEfI46zftxpdBaA2mHeczciobfnt+lUZnfOTrXVXNCtwzq7z+pV8PfXT\\u002fPHp5xDCRpcjNbcuPl8Y+H\\u002fQEEXMyoaYaXZ2IJbT2HTLkxlYAcOB0\\u002f\\u002fEAABRDc9vy3fgu1IFhoNXYUKcrne60BsXQi827FMYmCceJ6kSCy+BPdrxrV9VnNdpCQmD1kyzF+VT5cZmh1ojqRSyJM88nWjojzHYS1e\\u002fmYc8TrPSPXEk1jy6GRWCVKeUFrc0hUsdoB1fCmCmrL2htLlW2+Is7P6xak1WFv9ZsBAAR2yps0B+fGwd\\u002fwiZdb6HmrfmpRQrZ+vCxb4+dSRhZCPX2d0iwYXPNKKoyGmxImq9Vr0MxjKICkX7oJGeB6L3xs1+Ln36kvODH7Gufpp6X6TTkdzEc\\u002fLsnJTGxaPas8Jkzw958azdhl0qF0dFeV64W33SBdTW\\u002fUq0zAACDgUyL9AcAHoc1MdT7fFYpAJy+XjQCAqtGptzwv3\\u002flKi0AIAjE+buHejnz2KwmpeZqfiURwrEV8JZPDPdwEHs5SkI9rWKWAKBQ6576cV9uZSNhYTOZYhFPqzdqDe1fn6v5lfd\\u002f8fd3T64I9extUgYAC4rKVdqs8vqXfzuML6vsyvhgLw6r+0\\u002f+s0snVzUrFBqdQqNXqHWpxTX4u+sPjmLRpFBv4lSh0edVtb+pKF9XUXcBRR\\u002fn3qL9DASe\\u002fH5vaX17wFvAZQt5XKVGR2xwVNnU+vh3e\\u002f95fZ1UZLXwFqe0oeVQcp7OaJKI+Fq9EX9UVnn9keSCtJKaqmYFk8GQCHktHW\\u002fwm\\u002f2X5o0J7unK0NwIMmMLAIyRxpAzemwG21fY+YHBYSDI8YbTpxsvyIwyCVsSIQ5d7XmXDauzG\\u002fjVlpTvSn4mTn+J3yRgWt2mXmlJ2l97VG5s1Vl0APBr+Z+\\u002flv+JD30U8Zaf0AcAzjRduNB8uVpbY0RNSlPbfUntQV8A+HPcT8wb2I24J3KUiQAQbDPOgpkvNu\\u002fKbUuc7HAX1ckaHkMIACg2sIrby7K9pxr+cOP7j7GbhwDIjQ1l6uuOPE9CYN2f9JKQxd885v+Ih2gtulczP1OY2j6NfMVD0Pm7f4czLALrUEU+ALwQO2WeVxBhPFVVvOHs3kPlBc\\u002fHTCaMxUqru\\u002fY8eRMABJAUGPTP58YJljoyECSjuc6CYT0ld4sVLQBAXnxnRtGytm6Slfi3C+slzdMX0Y6u2S0NWS0NeA9VnOyWegCItB\\u002fk3RKPyVoZELHIN2T2vl\\u002f\\u002fKc4aboF14kR2RITHm28uoQ4AeHvZX7hYSLWOOEShVay\\u002fu1jYXuc3KzoAF1iJuRU6o4nPGd5itS\\u002f2XMD1h5DH+e6J5bH+7XE+ADBb0E93n\\u002fs3MQsAVDr97JjAKN9uZi4Uw17bepRQV9Mj\\u002fR+eEx\\u002fp64pHKGtblAev5f1+OtVgMreotM\\u002f8uP+fN9bZ2\\u002fQR9Uwpqvlgx0kUxQLdHFYnRMcFuDvYCo0mS528LaOs7lR6UUKkH\\u002fUxHUwJ9yWfPrN5\\u002f6WOMGGfjAvyHBfkSZwmFVZt\\u002fHYPfvz6qhlhXlRl2Sebj17T6I0cFvP+mWOWTwr3dJAAgAVFkwurv9h7ARdeTQr1r8eTXrl7uvVDAQD2X81lIMjmp++aEOKt1Oqf+G4vLvh+OnatsVU1LdLvw3XzxELetYLKJ7\\u002ffh2JYi0qbUVo7PriPSgOaQeDCcwKA3Lb8BMc+4ihH609Wa+vG2Y0Zzx1T0FZ8rulSjbbu\\u002ffDXCYcocfhboS+pzOq9NYdrdLWkh7bjwXdf4DIbAIrVpReaL091mBRs0578deQ64AduPJcZjlNRQLeUb3PlOS9ynUc8fJiSA7nKRFu2vSvfHwPMhiXNUfYtsCq1uQDgxBvYBzJLcUHAtF3v9zmjI3yAYhYzZhXpIIMBtqn490aD7I2Qx2l1RWboVTYAHC4vELDY09ytpuAEd18Bi43XZhHsL80jVl3qzKbthdcZCDLXq71yq\\u002f8+N46Yw5vjGVje1ro5+xrZbkZRU8eCOxeBCADqNCpidHNOksLQmUAhYDEYjnxhWVsrpSt\\u002f\\u002f7k3KJqBIJuuX9Z1tPHQmU3fZl5FAO4JHMDiUgygxnrzcCaCMBFkBDbnqamRR0d1\\u002fliSkUiFKpWOah1ZzBb0QnYZfjwzyp+wT4v0wxtqGEzm\\u002fiuDwSFXaS\\u002fklOLHzy6dQlZXAMBiMt68Z6anowQAMAx2J2aRRwl2X8oiltqtnzfum41Lo\\u002f3ciCne3V78xKKJvzx7N64UZW2aj3acJh7bE+9vP6k3mh+eM3bXG\\u002fffPSXKz8XeVsBzEAujfF0fnDVm2yv3rpg4jO2PhxCN3shmMr97csUzSyfj6goAmAzGxFDvrS\\u002fc4yRpj2ocTMrrdp2KwWS+f1bchBBvABALeM8vn4rb6+VtfC774wfm47p8Qoj3uA5RRYTcaIaWMNsQH6FXouza9yW\\u002f1Og6l+x0pVJb\\u002fX7464\\u002f7P7zKY\\u002fk7Ya9ESyKK1aXF6vYvGgAIWYIw25DxdvF2HEnnw0h4CTxmOE2d4TQ1xCYIAIJtAvDTGU5TiUhYqG3wDKepCQ6TAEDCERMOM5ym9lI1P2hajHUN+vJgm\\u002fEAgAASbDuuXlcqN9ZT\\u002fQAAAMXQNlNLcsuRxOY9PKYgVjqb6tErIpbEgGpqdJ33wAyESV6KSGF39dFUefYD3nfFSW+NaWHEGPoIVrFCVqyQLfYJoVRSc5ms6R5+RysK8ewhbnTgCxYe3DrPO0jK5R+rKCxVtjweMZ7Sf6F3H4PFnClrUJsMaqNBbtBiAPtKc0Ucrg2bEyhxsOcJAMCMohnNdWqTQW0yNmrVAHC4PN+RLxRxuL62UheBDf5UH06Ykydv\\u002fDz94pnq0jgnNy6TVa1WXqwt+2f+2mCpIwCs8A\\u002ffmpf67rVTZUo5j8m62lCV0lgzztkjudGqvANniW\\u002folrzU1cd3THP3s2Boi177ycT2W5z+vJ5wO+dX4hI+S7uw6NDv0939AOBcTVl5m\\u002fyF2CkR1lXtvWNB0Sn\\u002fbo52cA23d3YWiNRG4\\u002fnaskqVgugrMXxwOCyD0Uy1AgBAc7NKLO4jiDLcJBVWtWnbxfGMqPbbUwCwFfDiAz1wyXIqo2huXGcUdsjJKq8nftZnRneKPAIGA5kW6bftbDoAZJV3M5miKPbHmVT8OMzL+cnF3d\\u002fcR\\u002fm6Pr5o4tf7LgLA+ezSotrmIPf272C3GEzmBfHBvRSP30I8ODueHBUjsBXw1k6P\\u002fWb\\u002fJQBQ6Qyl9S2Bbu3BCTLTIzv\\u002fXeL83dlMpsliAYCECF8RaT+lcC\\u002fnawWVAFDX0kYYaYYQBJBXgp\\u002f9peyPKy3JV1qSfYXe0xwnJzhO4jI6\\u002fxVwJtiN9RJ0LumIlURnKnIa9I2Bom6+YrcKuXh+0HYcfhpiOyFVfiJXmTjVcRXZLbF5T2Jze9AXACRsp5WeL4lYvaXRuzLDae1fFe9tKXvDVxgZI50VZjuZzegmO4+T1pqzq\\u002frobOfJS9yoKZG8tpI9NceLVOUmzOTKc5rhNGGx60wGwgAAnUW\\u002fPvUNB67dpph3KI96LuPDZqN8a\\u002fx\\u002fucz2P3qxOflEw6U6faPOYpCwbXyEHtMcx0+0j7V+3Ghk6AUW3l90QXdNLOd7BR2tKDxcnk8IrBdipxbIm\\u002f4pzmrUqt1Ftm+Pndl1R53efWrUynuObSe5wwuXDuMHH4yf82BoHAC0GQ2rrH3evHoCP3g+ZjIhNZwFokNLHvopJ+lkVfFfBRkMBHHiC+d6BTkJ2m9Zwu2cf5t991cZl37MvsZmMOKdPP5deF9OS0O3AuvVMdO4TNaRioLvs64KWGxcouH08\\u002fU8ETnBX2z\\u002fc07y30WZCECYnfMrcQkD7Q7KZDA2Roy\\u002fWFd+oCxPbzZJeQJ\\u002fsd1305ct9gmhug41YWFuSUmlGx+bwWRaBUrr6xXnzuVNnNipaW4KRH\\u002fRIHdHSun3zOgAXGBdyi3XG808ztB\\u002fTXDk6s4wnoNt+8eMgqNtewFvK8mZIK2khvhFv29GbC+5iVVTon48ckVvNAPAnsvZb9xDnQ3JMBjIs0tvB3XFYCBrpkVTrR3EkUKGjQp1twKLXP\\u002fOYjKcJKLaFiUAUCrh7GzbbxjUeiPZTjOESNjiV4KfLddUXmhOvNqS+nvFjr21hx71vT9eavVbS+mkgJfAa8z9LQQcneACa1vF+2RjTheB5c4P9BaGI8DgMYWufD8\\u002fYTSR5us\\u002fHoLgp4N+SGzek6k4W16TfZz56xTHlZMcVnSNzDXom78p2homDnzMbw1l6JIsZVPR7658p1nOEzkMTq6y+I+KvQVtZa+EbEAA4TN5Ux3GnmpMLFSVBdt0JrtK1VU1uobpThMIdbW\\u002f9tRflfv8RV5znKcAQKNelqnI9+C73KEC64XYKS\\u002fEdj81L\\u002fULW+oXRraYUcsz0ZOeie7+thundx9\\u002fsX3FQ69RrdbY8fh9+uBIuLzXxkx7bcw06kAH09398HgSQYjU8e6ASLIFh8dk9fRU\\u002fX89c70Ce0mGPhIW\\u002f0hYPMW4xDd0iW8ocYoAvBE\\u002f\\u002fQ2Y3ukxUty3dtILL+545ZWdd62MBwCFQpuTU3M9s+rff1NMJsu9906kPmAEsaDo2awS\\u002fLhr6GhGlP+nu89iGOiN5sS88tkxPf4T3CC2gs6bb62h+64QxA92t6NpJbXEMaX4iYKAyx4T4HE5rwIA0kq6uSUgE+7l7GrX93rD0U+Ih5NDh0LtCnlIpTWQRtoR8jgUeS3gsvEDysaIPHa7m8HUfdSWZqjwFXr7Cr3v81p9SXbl76p\\u002f\\u002f1f8038i33Pnd5b+2LJvh48uGZmhtlFf6czzdud3BtRrdcWN+gqZocaB2xmuI7dpuBFsWHYLXDfMdn4wty3xcvOeUw1\\u002fqM2KeS6PkH0MqPHTgs22bNGrwRuY1jKuzaTeXLojTBz4XtizRL3\\u002fpuLfLzYnp8izx9lFAcA8l4RTjYmnGy+TBdaF5iQAmOHYuf7pYnOyLVv0n8hXieexYKgZvTW+ZVahhZGnu7IHKv3xoRmFREV5vvnGksKihnff3QsAu\\u002f9Nfva5bVu2XDSb0ffeXe7n21uKarhJKaomug+Q84M4ThJRuFf7SoJT6e2BruEgwLUzZNJTy3LCHuLRzRUrqZPhB45ikVjQY5EETkBHhKa0vgXPc\\u002fVEsIcT1XRr4u\\u002fa22oYcmwVxTrbWxDYkJKAOMSiXXJ+kGzvtpaLZshhM1gznRIe9FlrwSxJ8vYsOU7XQMutDh6+mu60dqn708R\\u002feAsrfGnhMMFmcGIkMx\\u002fz\\u002f1rCccpoPUUZ\\u002fb18T7W23o3v1LVNxuWWNL3FsNh1Bnk15RSHeABIb83GT32FHoEin8staTpL+1RswdDLsjQHrl24uPOeVsKx1Zh1RarOclgmwiDiW6OcoY9g0dAQzJoVFh\\u002fve+58flFhvVptEAg5wUGus2aF2dp2syR+JCE3al\\u002f96TbSCJVLuWUGk5nbEZ8YWnycpWMCPfAWTV\\u002ftuxjm5UyJi+w4n0GUXi2bGE4ewlFo2vOG3XYZoGDX4YNhoFTrHcTUaZFA0rGm8laHWBw6OLr2ICVgWye+aW4KzjxHAFAPtpP7jYNXFA23qs5RXuIweAGiOLIxwCaWw+DlKi9Nd6Km524EDDClsZncYYuBMBjAQKzDMXKjMqetKN4uMlWefb7p2nSnzpgTAJSqKwHgs4KfyEYchalzldhcl6nfl\\u002fx1SZYy13kqAGQq8hSmtrs9FpAl8hrPxR+qvn0758sIcdBMp4kT7eM4jPYo8uhnWH42aGgIxGL+8mVW88JNB0Wxc1mdS4p6R2swXc6rmBlNjXINFa+snPbwV7t0RlONTHnX\\u002f\\u002f0xJzYoxNOJy2bJVZrE3IrrZe2rpebFBZOrrQmINlf9KRTjkVpOqPXGXgQW63ZRDzz2Dc3FTGaPsZD+9J+jGUKqtDUOXHsBs\\u002fNGAsXQU43nACDg5lWvMxGmhC1u0DeaUDOb0fd3cBA0G6qbDdXh4imUSnMWwgkQxeW1XcGzh+ShXihRp8sN9VpLmwkzAIacb\\u002fpbwLS147oFiNpLmjAM\\u002faZogzs\\u002f0JXvZ8OyN6DaYlWa3Ngw3ele8vMIWfzPol5FMey5jA+3VOyOkoTaccTEqMasA4AlbrPEbGppKd5uA2eKQ\\u002fzvFf+ebryCC6wLzckAMN1pPOEAAEE2vv+LfW9\\u002f7clzTddylEVbyv9d4T53mfvsWyJOOSwfCBqa0UxayQBaXwLAqYzi4RNYIR5O32xc+u5fJxoVaq3BdOBa7oFruWQHBIF7pka\\u002fsnI62UhA9N7Eq9d7B29HjtNt004amlHL0fpTV1qS\\u002fEW+jlx7EUuoMmnyVYWtRkW0JKKfWzvjWDC0RF2ms+h0Fr3cqACAqy0pEraYz+S58lykPTRu6IUJ9mOPN5z+v\\u002fzPoyURFsyiMqmHdjfoHOUlAOi2i3qoeGJe25Vc5aX+C6yzjdvImz2fb9oJAB78IEJgIQhjssOKUvX1LMUFM2YUMG0duB7TndaEi61Kq7kMDi52N\\u002frf+1nBT5tLt78Z+iQxKmDyAGCCfUyITW\\u002fal8NgT3eccKT+XIWmxoXnmCLPCrbxcyUpMBw7jvgR31XrvJdfkaXtqz35V+U+hantIZ+VFLdRyE0TWI9FjHssYhzVak1\\u002ffGhGLTNnfbp1y3pv7\\u002fa6HzIYBvv2pV64WKjRGMLC3O5fN9nR0So11idmFD2YX3CyuKSkpUVp0Iu5vNOPPowPlbe2ohjmK5X2tKTu1PX2\\u002fKCDrfDPl3qMrv994fpfZ9MA4GJOmdFsGb723OODvT5\\u002fdPH6TbuNZguPw0JRzIJiIj7H00ESF+C+fGJ4Txu5AICkI+snV\\u002fctGQlZiSBge2O5MxqaEWai\\u002fVi1WV2lrSnXVJhRi4DF9+R7rHBfPMNxYH2ntBbth3mfkS1bytuLBO5yX7LSYyl5qD+s9ryLw2Bfa0k9UHuUy+R48jtLzoeEGU5re9oxMFKcEClOwI8DRHHvRxywHu+Gx\\u002fy\\u002fopqsQQCZ4\\u002fLQHKq5R8bZRU9yGHNFlkZOFPqLvM83J+Uqi3sXWAAw12Xqkfpz55quBdr4GFDjDKceFz9xGOzpThMmOYx5LuPDM41XaIFFc6eTlFx29GhWXX2rnZ1o2bI4orD93z3JP\\u002f54ViIRMJmMw4evJyWV\\u002fvrLozY2\\u002ff3Jr1YqN+47UChrr+8G6xqIV44dz6ir33bP3RO9uulfjGLY2cz29YPTIv162ZtvQXwwLrA0euOV\\u002fIpuM3RDQlJh1bObDxjNlgkh3p89vHBAZUOhnk4n04sAQKbUKNQ6Qm91S3FHRbyPs93w6UUamuEgWhIRLYmgWq2Z7zJ7vstsinGi\\u002fVhyiMuGJdo+\\u002fhfSeG8kOE7qs3E8h8Fe7XnXas+7qAN3DBt8V+coC8mJwqmOY3dUHTxUd2aKQ7wzr\\u002fMeW2FqEzL5bFIRlQffJcw24Jr8usLUxmawJztY1ZNggDUb5E7czjtMBoIwEEZPN8+jDVpg0QwjmzefJY5Pnsz+\\u002frsH\\u002fPycAODw4ethYe6bvrmPyWScP1\\u002fw0f\\u002ft37Mn5aGHpnY+smc0RuMDu\\u002fdUKRRMBIl1c\\u002fOWSvbkWOXU5gUGZtTVHy8q7lZgZZTWyZQa\\u002fHhGr4k\\u002fvOS8oVUFAKcziodJYBlM5rf+OG4wmcUC3pfrF3fbi6EXxpJaaF7KLe9lp2GN3pje0dOB3P9pNEOuczJbulnlR0NDc9OxZYse9b3n66ItP5XueCP0CQCwYQmfC3zoy6JfX8r8ZIrDGHuOVGlS1egactuKv4\\u002f7gCyYAGCeS8LXRVvSzNrxdtHkGjsAQDHsibR3AkTefkIvO45Ya9GnK3Ib9M2rPReR3UYtt0kpK83oxMVFvGnTusOHXvzpp4fd3KRbtl7C7Q0NytgYL3yR\\u002fPTpIXFxPknJ\\u002fa0635KWXqVQBNjbn3704X\\u002fuXf3f+fMoDvEe7gCQXte++I7C6Ywi\\u002fEDI44wP7lQn3TKtY8e989llvfc1GDQ5FQ2yNg0AuDuIB6quACDC2yXIvf0Gcfu5jF5WM\\u002f2bmEW0aFo2oZsFiaMQcqFYfWsbaYSGhmYUMcUhfpxdVGpr9vnmJNwy1i7qs6jX46WRqa05u2uOXW3JMKKmtV5LJF26lE2wjxGzbXQWPWUpIgAwEGSZ+xwzZrkoS95Vc\\u002fRic7KYJXop6NF7bhGBRUewaIaRe9dMiIzwAIDAAOcH7p\\u002f87XftnVRMJouA1GMzMtJz9+5k4rR3jhcVA8B\\u002f5s3xkkioYwAA4CwUAUCTWk0dAMAwONORH5wS5tvLInycGVH+\\u002f1zMBAC1znAtv2pqhC\\u002fV44ZBGO1BmoKapq2nUhbEhzjYCge0iG\\u002fD\\u002fPGv\\u002fHYEAApqmjYdSHyhY788Mlnl9ZuPXsOP4wM9ut00ehTi4SBmIAiuGk+mF82LC6Z60NDQjDh\\u002fjf+SagJ4LeRxisVb4PZ8UHtpbC8wESYDYUg54mhxCGUIAeQB7xXgvYJiv1WgBRbNcCEQcMj9rmxseG1tOgDAukRZxLZ8rba\\u002fG4xUKRRcFivWzY060IGdgA8ACn178zoyWeV1TYp24TWjSwP3rsQHeor4XLXOAAAnM4qGQ2BF+bh6OkiqZQoUxTYdSNx0IJE8ymAgIh7Xy1EyNshz5eRID4fOhdAEc2KDFo8rO5ycDwB\\u002fnE4tb5A\\u002fOndspK8rXqZQL287cC3v99Mp+DJDEZ\\u002f7wbq5lGcYtdgKeFG+rnivijPXS77Ye2H93HFEnZnZgjYr1Vw2y85GYPUwGhqaW4csRUGrUbnCfR7eVOx2ghZYNMOFu5v08uXiadPab0quXiu1WNCz5\\u002fI93KUAoO5opA4Aao2BxxtAvyJGr6uG1EYjANhwqT24gbR+kM1kTu11YxkcFpMxNdznWGohAFzILjNbUCK2VNnUmlZco9Yb1XqDWmdU641qnYFYpne1oPKV3w6LeFwhnyPicfCDSaE+zhJqVxgWk\\u002fH9Uys2frunXt5NCgxFsTatPqeyIaeyYcf5jFfvnr5yciTVCeDtNbMVGn1ibjkAXMwpu5hTxmExxUK+1mDUkLbGE\\u002fG5X29Y4m7fjUobEuQq7cWccrXO0HFZDBq9MbeyER8ta5C\\u002f9OshEY8r4nGEfI6Qx7XhcWL83XpZIwkATyya+MR3e\\u002fEg1raz6dvOpouFPB6bpTGYcOH7+qoZa6bFUB5FQ0NzS4Bi6O6aoyyEtdB1OnXs1ocWWDTDxZIlsV99fbyyqiUwwLm2rjUzs2rSpMBPPjmIopiNDS8xsWjdfZP4fI7RaD5\\u002fPt\\u002fPr32BYZ94isWFMlmRTBbk0E0DCABIq60FgGDHbkaJDZ7HBnn0s+BpepQ\\u002fLrDatPprhVVTwnxw+9X8yk93nyN7kmloVeHV8WS+fmwpRWChKLbz4vU\\u002fz6R1de6KwWT+v52nXe1sJ4VSe97wOKz\\u002fbVz2w5Grf51NwwutjGZLs9IqSRrj5\\u002fbu2tm9q5kbpKxB\\u002fv72k1RrB21a\\u002fZnr7flZgmeXTun9JY0P9npn7ez\\u002f\\u002fHPWaG6vgVNq9EprHxqa2wy5XPPM039azJZN397v7Dxcd0Q3EQywvyr2cZicLEVBoapsrddScp\\u002fS2wZaYN3atMpUL9z3k9mEfrXtMSc3CXX4prJoUXRNjXz\\u002fgfTi4gYWi7FsWdxTT87KzKpOT6tYsCDq\\u002fQ\\u002f237duc1CgS1V1S0OD8vXXFlMf3wOzA\\u002fwLZbKPz1345a7lnC5FVDqT+bur1wBgXmAgZSinsoHQMb2vHySDl2rhFe6nM4oIgXXjWFD0uc0HEvMqAMDPxX79vHGx\\u002fm5SkYBYOYdhoDeaGhXqlKLqzceuqXUGDIMfj1zpKrAAgMFAnl4y6e4pkYeT8xJzK2pkSoVGJ+RyHMTCOH\\u002f3mdEBE7t71C3BiokRYwM9dydmpRRV18iUar2Bz2Hb8Lnu9rbBHk5xAUPcdohmlKDTGRcv\\u002fBIA3nt\\u002fRUJHIPwOoaiwvqFeAQD5+XW3p8DCsMstaUqTyp4jfcB7xVL32VSP2wKka0EMzY2Qmlj09sY\\u002fAGDawqg3Pl9NGb1wNOs\\u002fr\\u002fzj6mm39fhLlKHBkXSh4L0n\\u002fwKAN79ckzC\\u002fm+TRTcdoNLe0qKVSISUJWFen+PKrY3l5tSIRb9XdY++5x2p7hF5Q6PVztmyVa3X+dnbrYmNiXF1WbNsh4fH23HdvVkPj5qTkQpnMSyI59tADPNaovn\\u002f4\\u002fXTqN\\u002fsvAYCXo+Tv1+7rPaJ2KCnvnb9OAACCQOLnT\\u002fXuTENzG3AnCyw8gsVAkG\\u002f+t87enlpXQHOrMKp\\u002fgW5pLp3Ieei5Oa4edtSBISUo3N3FQ4ogSHjcKI1PcDgsV1cJ1Qrg5ib58ot7qdZ+IOHxfrtrxaN795XK5R+cae+zpdDrZ\\u002f22FT92Egp\\u002fXr5slKsrANhzORs\\u002fuG9GXJ+CKS6gvXMVhkGLStunPw0Nza2LnZ1w+44nqFaaW43brWh\\u002f9IBa0D1brVaEDQdSB5vfT7y89fhL9k7U5iK3MVEuLkcffOC+mGgRx0pnCNjse6OjDj6wLtCht7Ke0YDJYqluVuDHAa59v1qjqbMLl4A7gAUBNDQ0NDQ3hdF+l3+L4hfsWlXadHJf2rqnZknshNThOwwMw1C0m0w03mh0cDgKhR\\u002fOnvXerJnFMlmzRothmL1AEOzowGIM\\u002fjlHEgQQBAE8P0\\u002feg7knrhRU4gdCHofuSkBDQ0Mz+qEF1rBgI+ZPXxR1+kDGgW1XHny2\\u002f\\u002ftm3lZgGPbnn5ePHsuUyVTdVvqdPfM61TRAmAgS4ugY0t8FiKMIFpPhZieubVECwJGU\\u002fCm99ozIr2768chV\\u002fHhGlP+tsg8XDc3Io1Lpdu9KvnKluL5OAQBubtKEacEr7x4nEHSTVa+vV5w+lZueVl5ZKVOrDRwOy8VVHBfns+qe8d1uP\\u002f\\u002fJxwfPnM799LPVY8f55eXV7tqZlJtb09amF4v5wcGuDz48NSDAmXCeP\\u002fe\\u002fDAZy5NjLzc2qbX9dTk0pb2lR83hs\\u002fwCnpUvjps8IJT1xO5t\\u002fPLt7V3sndJxft6z37djClcIgnh8AUlLK9u9LK8iva2vTdb3v\\u002ffiTVRMm9ncBEE2f0AJrWNBpDKseSThz8PqhHdfueTSBL+ymJxOZ+hr5ucOZGVdLKkubNG16Dpfl7CGNneC\\u002f8qEpDt0tIfnl82N7frfKP27e\\u002f6xPYOd3m+CldT\\u002fnZlQuuHvscx8sp44BqNt0axL+YzZZ3vhizbQFVjXyKqVu7x+JV8\\u002flN1S3AoCrp92UueF3PTC5z\\u002fdCsPvflD\\u002f+TJRIBLGxPunpFcHBLkwms7q6RaXSR0Z6LlgQRX3AHcaicSE\\u002fH0sCgGOphTw2+7EF413trPK8KIYVVDcdTs7\\u002fNzELb1LA47A2LqDuJkFDQ4NTWFD\\u002f5hu7FAotAHC5bAzDysqaysqaTp7I+e8XayjFoM1NbQ+s24yLDAQBPp+j1RrLy5rLy5pPnsj59vv7PT27z93LZKrTp3I+\\u002f+8Rs7l9f8yWFvWVK8UbNs6wdgSDwXztasmn\\u002fzmsVuuZTAaLxVCr9ZnXqzKvV5WXNz\\u002f8SALFPzLKU6nQKpXaFrm6pLi9gVwvDPT5t2+7suW3CwDg6+sYFube2KgsLW0CAA6HNXasr5u7nbdPN91taAYNLbCGBb3O6B3gNH5a8LXzBUd3p6x8aArVg0Rzg\\u002fLRhV+jFhQAEAThCTg6jaGiqLGiqPH0gYyvtz\\u002fu4Uv90EeM8VG2apStWnmzqjS\\u002fjjJKZu6KuNyMyosnsp94czGHS\\u002f3nvnAs22yyiGz5k2ZZ3e4U5dS888SfSrkGALg8NoZh5UUN5UUNpw9kfPLrw\\u002f2s3D95MsfdXfrT5ocEAu68+Z8\\u002ftmFGbKy3xYL+vfPazp1JQUEu1AfcYTwyZ9y5zNLiOhkA7Luas+9qjpu9ravUhs1iGU1mhUZf26Ikdg8EAB6H9dnDizwdJYSFhoaGQC7X4OpqTLzvE0\\u002fO8vV1xDDIy6v58vNjlZWyd97+d\\u002fNPj7BYnSUEjk62M2eFi8X8KVODg4NduFy2Tmc8dTLn++9OqVS6Lb9eeO+Du0hP38nly8WpKWVTE0LuWhnv4+NoNJorK2QZGZVeXt0Isvff2+fgIHrr7aVj4n0ZDEZ1VctXXx3Lzqrevu3KggVRLtaab\\u002fLkwMmTAwGgoUF5370\\u002fkId6ov\\u002fPX1XZsnXLRQB46eWFCxdF48Yzp3M\\u002f+figyWRev2GGl3c3r5\\u002fmRrg1ClYGyrHqgv9mntOa20tbUAz7OONM9L9fxu75alPOJWvfYcFoNAPAqvUJALD3z8tmUoVyVxxdxNMXRq14YNLnf2zYn\\u002frevuR396W89\\u002fQ7S1kspkqp+31TN50bJ84MffmTuz\\u002f68YF3N62ljlmTMD+Sy2NrVPqrZ\\u002fOpYwCnD2YAwPSFUWxOp\\u002fZqlalwdRU3KWDz\\u002fmcPpL1\\u002fIO39r7Zv9PJ3qq+Wf\\u002fDMNnNHy8feqa2VT54chO85yOOxNVoDADCZjHX3TYqM9Pj11\\u002fMU\\u002f35SrVQWyWRUK4lCmSy1trbNYKAOjDJ4HNZvz6+aExtEWOpa2tJKaq8VVKaX1pY1tJDVVUKE3\\u002fZX1hKbT9PQ0FD4689EhULr5WX\\u002f8Ser8LQagkB4uMf\\u002ffXI3g4GUlzWfPZNLecgbby558qnZUVGeXC4bAPh8ztJlcUuXxgFARkZ71WNXrl4pXrZ8zNvvLAsLcxcIOBKJIDrG66GHu9kDFAAQBD77fM248f5MJgNBwMvb\\u002fu13lrHZTAzDkpJKqd4Dp\\u002f\\u002fPn5hYiGGYj48Doa4AYNbs8KAgFwyDxMRCki\\u002fN0PD\\u002f7J11fBP3G8efi2sjdXf3FisUWtzdNhiD38YGc3d3NybMkG0wYLg7xaHu7i5J0zTu9\\u002fsjbXq5pm1aCpQt7xd\\u002fXJ7vc8ddkl4+93yf5\\u002fn+OwXWwer8PZU51O4ulL+VpG4pSeVQaBwK\\u002fbv8K8frLEiN4UWnNQBAeKx3eJx3e6vk\\u002fNEcvIc5L3+6fMMrcyNH+VBpZACgMyjz7hs7974xAJCTWoX3Hgx0JjVxRgR0aykszfWi4pw6AJixOA5r37k5pVMk9\\u002fR1fO\\u002fHNcZpRwRBwmK83vtxDYFIqClrTTmei\\u002fXvCwRBTM+LbDZNKOhpVh4b41VQ0Gh6OSj25hfM3v7nxxcv4Qe62ZmTu3LXnj15XU0QRjJ2DNoXD8\\u002fd+\\u002fqa9TPHjgnydOKy6BQyAUHoFLI9mxHq6TR7VMgryyeffP\\u002fhTRsX+ltRbGjDxn8TgwE9d7YQABYuiieTzfoPu7nxwsLdAeDq1TKsvS+iY7wBQCpVmWYAcdDplL7kVG8Sxgd6mIf8HRzYRktrqwRrHxrWH994B3Zz42GNJktb2zCcjA0c+DmjfwfF4rZEF18iQgAAlV73S9GNADuHI7MeIiLIvFNbdpRnzvWynAA4XKDQlTy4Yv2kdx7\\u002fa9\\u002fWKzMWxyGDzE2OHu13eMcNmUSp0+lJJLNbxqCYviju\\u002fJHszGvlHe0yHqZn3fkj2QDg5e8UFNHTC9ugN1w4lgMA81eNw4a1AMDVkx8a7VmYVXvjfPH0hWaazCLOzpyGBpFx28ODn55RvWhRvPGlWq3T9hvV64cbdfUA4G9vdk\\u002fBMsnXZ2dObkpV9SOjR+HHRiSBbg6BbvhZYBs2bFhPTY1AoVADQGiohWXg3d35BfkNtTX9Rb5NcLldVboGg8FiDCIo2IVOt5Ayb5Hw8K4Odlh4PGZ1tUCtHrh8eECsPz6HywCAdpEMawQAoVAKAGw2DWe3cev8OwWWUCX3YnXp9JP1JWKN8o24aTQiCQCSXP0P1RSYed9OxkwK9gl0rilvvXGhePzUMBiMxuJ093cw6NFb+aCix\\u002fg6u\\u002fNaGztSjuUuWTvBZDfG1XDhq9rKNoVMDQAhURZWIHHzsi\\u002fMqq2tbMMPWCIqyvP8+UK1WkulkseN9d\\u002f0\\u002fdnNmy8kJQW3tUkPHsr08RliPKZJKgWAUe4WbitGAu3tAaC+U4wfsGHDxr8UkUhu3Hj8se1mAxhksp4F5o3o9YZrV8vS06tqqoUikUwuV2s0Oo1mgGc\\u002fkwKzhn6cLdZWDxbrjz9+QuCff1wtLWm+ebNi3LgAozErq6awsAEAxk\\u002foyVWwMVzcwu\\u002f2CIZBophiSPuqctlkqilkxSJTO9SKHtfbDIIgyx+a+MVr+\\u002f7Zcnn81DAC0bLA0usN188XZV4rrylv7RDK5FKVRqPTanpScG4FBEGmLYjdufnCucPZJoFVmF3bXC8iEglT58dgnUXCrom8p1duxtqxyCRKvMkSs2dFSTqVSqWWSiXPnh195Gj23n1pe\\u002felAQCBgFi\\u002f+CAOkUIBAK5sC0XURhyZTAAQKaw6SRs2bPwLQLs7DrDZ9L4eY1kssyBNba3w7Tf3G6PsXC7Dw5PvH+BMo5GlUlVav9lRg5qLuJVuf9Zg\\u002ffEDA12WLBl14EDGm6\\u002fvjYrycnbhCNokOTl1KAor7xtnMfJn4xb5dwosPzv+5eaq5yInZQsbb7TWrgsabQxfAUCbUkol3tFG2Mlzo\\u002f\\u002f4\\u002flxJbn1+enXvOj4AqKtse+\\u002fpnY01QgDg8pnuPg7+Ia40OlnaqUy\\u002fYlXSwIBMXxT3988pVaXNVaXNfsGuAHD+SA4AjEoM4jmYKZWe+xSH3td9hGVHx5ssERLi+s47i4zbVCpp03cPHDiYWVsjdHBgT5seHohpGDMoyESiRq\\u002fX6PQMsuXPUW+wnDnx32RzxYtNSvyvhQcjaIP\\u002fZzijDRv3LlxeVyDnx58edLeizBlFUaO68vZ2ePnVuSEhPfIiM6O6f4F17\\u002fLEU9MB4MCBjKKixry8ehaLFhfvs3Bh3IREW\\u002fjqtmDh9\\u002f5fwOqAuOdvHBlzcJNUq2KSKRvCEkxDBaIWbxa3x\\u002fX2QyQSlq5N3PzJsX+2XO7drwE1oEZ15eXv9MJHS4Mjeybmsq5XDJfAcvHgRY7yyUuvPn8kx+8lV51Of\\u002flUPgDMWIJPpeLyu5K0vt31mPuwVu2yWLQH1\\u002fRMUA4ZFxarUiQqaGtN9PbGjwEAQIlACN1xLBtTnVe1a5qVOslV4SEAJNFhIYNk50CxPa3aAAAYtfd7Jpl8adFG\\u002fMC9hq+vE51OUSo1JaXN1gis8vJWY+zquednYdUVYGYb\\u002f31kZ9ceOZI1erTfex8spVp62rcxvFgbXby3WOQT8UrMFGc6a5yT95\\u002fJ9zvTu0RDg7wzT9Q80dXP3P22M2vZKDseI\\u002f1KWWNtO26oorjJGLt6+p2FWHUFAB3ds3XDwvTFcQBw8WQeiqI5NytlEqUdlzG21xr1PkHOdAYFAMoKGnBDI4TRHu4AsC0zCz\\u002fQzV\\u002fZ2QAQ727TEAAAQey4BPu5U5zvJyNUKoE+xfn+cfZzA9ixeD8bffPIxf0+f3369JUjWKNar\\u002fP569PHLh3EGq3kWE3xM1fNjmbjFiGRCFOnhQPArr9vWJM8rlRojBts83g8isLpU3lYy7+JP7Zf0ekMD65LtKmrO8M98C5fyKt87vcjzy+atHZKVw2aNWwIHbchFN\\u002fz2p3JKb\\u002fvVQJyp2UllUZesCphx4\\u002fnD+\\u002fsWvDERM\\u002ffOccsVxFF0bOH+tQQQ2DijIifPjza3iopyq67drYIACbPiyaZ1zMDAIlEnDwv5sQ\\u002faXt+vzR+apixbcTQ2L8\\u002fHW8yZ+nS0XiTFayKjt6dl3+xqvqNM2dfSZpkR+3pLK\\u002fQar+9dv14aRkArIg0a0xvoy+uC4+ebN76auj2HPGlDNFpsUbAJvP9WVHTnR9gkMw6y+eKL6W1nxJqmjR6JYvEdaH7xnCTwjnjscdZ4flCJLcnTJsvvvpP\\u002fVezXR8a7zDfaEltP3Gs6bc3wnaINC1nWv5qUJSjYHCkeiz1fMaR2vWA0aAoz+o4XysvEmsFKBjsKW4xvOTxDgsQ6Jqztv6c1QbldeHRos4bIk0LCgYmievJCJru\\u002fACP0jNDXSMvvCTY36Ao1Rm09lTXWN6UBPv5ve8Sx2qLn41O9LMbODoyIGcbylsU+GIuG32hUGg6Oy2kVDIYFGxHhrXrJt64Xl5dJXj6yb8eeHBCRIQHg0Ht7FQIhdKC\\u002fIYrV0pfeXWeqaOBt48DgYAYDOie3TeffW6WUXA0NIh+\\u002fSUlP3+EPlveOjKpCgCuXS3z9LS3lQ3eAawSWFq9\\u002fkhq0eHUwgZhp1Sp5rHo7vacCaE+yyZEcplWpeOMEBAAY++GO8\\u002fC1Qn7tl6p61V\\u002f5+3vRCASDHrDvq1Xnnp7AYVGBoDGGuGWr08XZPXZ6W4I0OiUiTMjzxzMTL1YcjOlGABmLMLPDxpZ88SUmynFNWWtz6\\u002f+ZdVjk8NivZlMqrhDLmqTFmTVXDtX9OJHS92tWFHhx5\\u002fO403mDE1ghTs7PTwqfktG5u68\\u002fMPFxfFu7m52bAKCNEtlmY2NMo0GAJZGhI\\u002f1tFAFaaMv9tR92aisCOckRHAm1MiLMkRnW1V1j\\u002fp\\u002fanK4Ijh4puVPN7r\\u002faP4MABBpWiqluY5UD5PAGhQl0vSjjb\\u002f4s6ITHObKdZIyaZYduWc++qrwUIU0O4AdE2I3xoDqiySpp5q3q\\u002fXKKc73YY4x8DnLdZItVa8L1I2ejOBx9nMRBGlV1VbK8ha5c0w+eeLL++q\\u002ftae6xfGmkQmUalnBqebtdfKS+7xfNuk5AOBSaQqd9of8619PGGJxhgk9il5rrvXnDOf8+7+bLz4\\u002fjjcBgHlHcgDg85mff3n\\u002fW2\\u002fsq6hoffftAxjHLrBL73G5jOUrxu7ZffPM6fzLl0qcnOw6OhRSqZLBoH719apXXt6tUg0cBhte0lIrL10qUcjVMrm6U9xVifXRB4d5PCaDSWEwqLGx3jNm3tJz4\\u002fwFsZu+O7N7183du24aLQgCTCbN399p\\u002foLYyVPCzN1t3CoDCywDij6x+VBqWZ0Ljx3j50YhEVvFsuL6toLaluWJUXhvG33A5tBnLRt16K\\u002frODuHz1y6LnHvlstnD2ddOVPg6MIRi2TSTiWDRf1s68NvPLpdpewKcZlIv1J25XSBQqaSy1Sdoq6\\u002fw09f2sO1ZzFYVCaTFjXW12KfqhmL484czDx9MLNTJPcLdvXvo2yE58D+5PeH3n3yr8qS5g+e+Rs\\u002fDGCwrrz4zTcX4ixKhbq6RnjuXKGfr+Nbb+FHrefVpEk0EunntHSlVne11kyGEhBkdUz0m5OTsUYbA1KvKN0Q8LkLzcf48s+a98ul2fWKUk9GsNGSJ77MINlt8P+MgHTFDAyoXocO8UfoSOPmNT5v+jK7fi1QQLFqZr7boxQCjUzoik0mOy\\u002f\\u002fpvSxzI5zOIE14DmfaN4iUDfOcFkz0XGJaS89qiMiXfc9hU5yuHGzDzN8ne+7XdflDPvqv8kVXy6RpIfajTHtRSeS53qH7i7PeSYq0ZvNNdlxpLXW\\u002f1BwPVvQpDbofNn8Zf6RD4WOJnYXi+wsy\\u002f6nMq+0Q6DS64Qquc9fPVqw4oGXiQghcvc3Mz0Dv5owDwDkOk3U7m\\u002f0KJq94hkelQ4Ar6eeOlpdnHffc8bDHaou\\u002fLM0q6SjDQAi+C6Pho+d5hFgOiAA\\u002fFGa+U7a2byVz9ZKxZ9lX8wRNqMo6s\\u002fhfz1hfkDf8u699HPbSjLWhcS\\u002fO3q6yXiwqnBneXZVZ7tcp3WgMcN4Tov9wud44xMM7jo+Pg6\\u002fb11\\u002f8kTulSul1VVtcrmazabbO7DCw9wnJoV4eppFHx\\u002fdMDkkxHX\\u002f\\u002fvSGelFzs5jPZ02cFLTmwUQnJ7vgYNfc3Dqs8x2guLjp1En87GR1taC6WmDc1usNtyKwxGKFUChjMqlyec8qFygKMpkqN7cuN7eupaXz\\u002flU9+co2bp2BBdaNktrUsropUQFfPTyP0H2nUGt1lS3tHMbIjTGiAOcaylKaKoQq+WLfyNmeIQCg1usEKrkDjWkqKryTLF2XeGxXau91Zh5+fmZQhPuhv6431AhbGjt4DqwJ08NXbZzs5MoNjHDPT6\\u002fG+Zfm1Z85mIkz1pS3QvfioHq93qLAioj3cfOyb6prB4DpfYSvjHgHOP1y6OlTBzKvnS2sLm9RSNVsDp3vZBca45k4PcLDe+DwFQBM6WM59+XLRj\\u002fy6LZz5wuXL+v5ARsUBAR5PnHCfVFRR0tKspuahQo5igKPTo9ycZ4XEuLH72qBZsN6IriJJqUCACHs0eXSbKG6ySRWmCSOQF1fryjzZnZ9rASESOkWW4MlzC7BpK4AAKuuAIBJ6okwAQCVwHCm+VTL8nE6rP9zVhuUBZ3XHKhuWHUFACZ1BQD5ndc0BlWCwzyTagSASO6kXPHlMmkGVmDJtJonIhL2VOT+WHD984Q5JjuWw9VFz1076sPmrQiIohFJqW31H2VeyBA0\\u002fJy0xHjS\\u002fhz7+wNj9AbDG6mnfe34G8LHmvYlIgQEIJzvXCLu+jXNFTYTEIIB1ecKm5Pd\\u002fQCgWNQWYe9iPNQnWSm\\u002fFKb62fHvC4hGAS42Vq5P2fdG\\u002fJRHwvB\\u002fU+caKt5MPZ3o6vu\\u002fkPh2teJiY5Urw6xwGMtHmRd6q6ufC29+mnUx0t7l\\u002fsAYBEFqpR1Xm2sCOPa3W2DR6ZTzKa\\u002fhrQNBpZIWLY5ftNiqfJJJSSGTeuWhAsDX367GmwAA4PU3Frz+xgK8tQ9OnXkZb+rmi6\\u002fux5sA1q6buHbdRLy1bwZ1fKFQ+tiGbR0dikceTZ48JYzPZxqLxHU6fXu7bPeum8eP5ezccX35irHY5Rpt3CID64xmkQQAkiP9TOoKAKhkUpgnvsw+s7Lx9zOpeTUtGq3Oy5G7cGz4A8lxBELXXjsuZn1x4FLKRxuOZxTvvZbfLJI4cljjgr2enj8BO8+IorDzUtY\\u002fV\\u002fOa2iVOXNaiceHB7o6mUSvRo+iTVw+cbig1voxz6JotkmrVk4\\u002f+9EJU8kZMXeHwMiox6FThR3grAAA4unCO5b6PtwIAwMQZERNnROCtAF9sX483ATzwxNQHnpiKt1rH1pPP4019QKGRF6wat2AVPo\\u002ft1nF25kyaGHz0aM6QBZYRNzv2hjFDmWS00RtXmi\\u002f2JZ3IBgClvidPaKrzqj+q3\\u002f296nVfZmQcf0q43XgygdKzwyBxo\\u002fvjTRi0Bk1Wx7kyaaZQ3aTUy7QGtTFUhqIGBKOE+j\\u002fnFmWNAdX7MC38WZloVFYAwN+1PZEkEzJdJ\\u002falUq91Y9ot9YvcX5X\\u002fdOQED5aZBAQAkVr5+s1TY5w8d0y\\u002fj9Sdh\\u002fDs1aOHqgvP1ZdP9wwEgHHOXuOcvdR63Rupp53orPsCeqa3jETau\\u002fxZmqlHUSKCZAkaw3hOEq06R9iU7O6HApSKBQ8ExQFApqDxl8LUsc5ef0xdYXxWfCk26cHzez7NSpno5hvCNbthvn7z1LYpyxNcukpuUTAXsxh1+3n2pd+K0v4XMuqd0dOwDoeqi\\u002fhU+sHZD5quS4caNHr8g6KNkcy+vekikXzqtPCV95nd0olEgpsbb82aCceP5SiVms5OhT1mtQ8bt8jAWtXTkQsAqWX1+AFzTmSUrN+0t6ldsnhc+INT4ll06leHLr+w9RhuNuml7cd\\u002fPH4j2sd13dRRLlzW\\u002fuv5T\\u002f96GOvw\\u002fbFrXxy4RESQ\\u002f00bNT7Ue\\u002fflnB+P46fVBmRbadrphtKFPhFbklZg7Q405hgn73ON5VijjTsP357Z2mr2A2bj7sIicfEmczwZQc8E\\u002fZBgP7dZVbm\\u002f\\u002frsvSh6+Ijhoauc7WJjmqehYVHr5z5UvHWv6jYAQxzvMX+zx5Bqft9zpZpNfRvo\\u002fZ5VBAQB0Yn\\u002fdOlR6OQBMcFgw3WUN7l8MNwnrqTMYAOCJyARA4acCfKkKAByrKZbrNA+FjjKpEABY4BsGABcaK3v8+iWS76LR62skIgDIFDSG8Z0j+S457U0AUCPtUOi0kfYuAPBPRR4APBs1wRSJZ5DIT0dO0KPo7vIc09GMzPYONqkr6KWuAIBOIgPA17lXfiq48VAvdQUAjjSGRKvOFjSZLCSEwCANvfzFxp3HeL\\u002flmJdSmairawcAMpnI4dxLSdUjn4EjWKMDPUM9nY6nFxsMhkdmjLW44qxYrvxgz7m4APdfn1hKJHTdX17\\u002f8+TxjJKLBZWTI3ueVvOqm3e+uCqoe+W1xzcfvFZck1vdHO3rCgDNIsm28+m+zvxdL62mUUgAsGHm2Pu+sJAG1D\\u002f7qvLiHT2+SbAQyw2wsz9ZX4K32riz5Oc32J6TRhS4STqLsMn8OW7rp7s8WNB57YrgwJmWP+U68SzX\\u002f+H9MKgNFoq\\u002f+udG+\\u002fE2Vd0EhwXYI2On8Ez0f85UAg0ApNoO\\u002fAAGKpEBAGGcBC+GhXmi3nixuAt9w\\u002fZW5j8VNcGeavZbldfeDACPXrSQWy1UWttXyaifSsQCf459trDxhehJKr3OqOeKRa0mh0LMtokIexcAyBU2Y40AEMk3c+sNm0LdVpKxKe\\u002faqsCYt3upKwB4PmbSA+d2Lz+9I8HFe7l\\u002f5BzvkLuSYmHjVvDzc7p8qeTsmYIxY\\u002fxGjfY1NZGWyVTXrpb9+ksKAEyZGn4ri97a6M3AfycEBPlhw6J3\\u002fz57MrP0ZGZpmKfzwnHhC8eG0Sk9TzCnssoUau3qpDiTugKA2fEhxzNKrhRWYwXWzLhgk7oCgKQIv2vFNbWCDqPASsmvNBjQFYlRRnUFAI4c1rzRodvPZ5h2sYYaqWh9aE9+AxZ7GlOsGfRN38YQuJBSjDcByKSq6zfKc3Pr5s7Bz4\\u002fYuCcgEyixvMkRnAmbyp\\u002fK7DhnkkHGWBF2VhEA2lS12JfWIFDVAwC2ONGA6oXqxh4P63CmeSOA1CtLDaihd88FI+50\\u002f5yOlGpZgZUCCwCejBx\\u002fqLpwc8GNdzBZSgAg0agBYH3YGJzwAoB+kuJx+NrxmWRKmVgQynMSq1VR9q5qva5DrayVikvEAjaZ6s3mAYBMqyYRCCxyVxGAER6VTkAQiVaNNQIAr9f54KjsbP8g4zwA5LW3qPS63uIp1sHtwsJHfy64ua8y\\u002f0ZL7fsZ5zaGj3s0bCw2acTGCGfpstFXr5ZWlLe++soeJpPK57OIREQqVYlEMuMsU\\u002fwo3yeetCCvbdwK+L8lizjYMX\\u002fYuKiovvXQzcLTWaWf7L3w88kbb983fUpUl3IqqmsFgOd+P2K2GwAAtEu7ytyMhHiY5QdwmDQAkChUxpdVrSIACDJPugqwFDPrHyqRpNLp8FYAAGhRSPgD3XFsDAsffmg2+YslLMxt\\u002ffpkvHX4OFBYdLWm9uu5s\\u002fEDNoYECminRsClOJksBIRAAAKCyTGwp7oBQKk0fYz9LKNFrBXkii+bHKzEjswHgE6t0BO68uuvCA7idJs10ImsULuxRZKbVwQHkpyWmex6VA+AGlPdo7iTzrX8fV14JIo7EdsZS6YT04hMEmJhFszXjj\\u002fPJ3R3Re4TkeNJmOdJNpkCALM8g0Y5Db0\\u002fCAIQzneulnQUiFqoRFI431lj0BMRJL+9uUwsNGW4sylUndQg1arZGI3VoVYaUNTOXHVZg1yr+XL8XIlG\\u002fW762RevH\\u002f9h4kK8B4AznfXO6GmvxCUfryneXHjz06yLQpXizfgpeD8bIxUGg\\u002fL9Dw+ePJF75XJpdbWgqanDaPT3dw4KdpmUFDJ6tB9+Hxu3jFUCy0iYp3OYp\\u002fOLi5OOpBV9c\\u002fjKS9uO7X11jZ8zHwCkShUArJkcz2fhZ3CNKVwm7Nn9pUQoVBoAYFDN7mtM2qBzaWMd3C82V76GTsF1vaqTiY\\u002fWFU11C8QabdwmnnjcQiY+k0Xz9OCHhbnf1qffG3V1h4uLbQILAMql2SJNs1wn0aJqQJELrbuZJDt7iuugmrmjqOGr0g3u9AA3uj+bzFfrFeXSLJGmBds3wZMR7MkIKpNmbal604cZJtV2FEpuuNJ8q+UFmCMNTDQ36Ub7sWNNvwrVjSQCpVpWUCsv9maG1cqL8K4DMc\\u002ftkWZV9bnWnaXSDC9GMIlA6dC0lkuzH\\u002fb7yJnmBQAMInuZ5zN76r78sfy5SG6iHdlBrhML1A018sLngjZjBSWWJyPHH60p\\u002fqXgJoPUc2uKtHfdX1Vws7VuQIFlvCmhffQ6ieS7pLfVF4vaIu1dSAQCiUAI4jrmi1qqJO3Jbl0PtNH2rvntLXntzRNcfEw75rc3Q695Q2twZrCW+EUAQKlYsKs8J5jr+FSk5d5mNCJpqX\\u002fkXJ\\u002fQaUd+21OeaxNY9xYUCmnhoviFi6yqr7QxLAxCYBmhkIjLxkfSyaTX\\u002fzp1Jqts4+xxAMCkUQFgWnRAjJ\\u002fl1kom+v9ZNU47imVdAS0jau2gy1UeDxu\\u002f6sLONRd2rQseDQDtakWmoOFmW+3W0jStXv\\u002fYbSshtIFlaH1EhwVju1EbAHCudSd2seeUtj0A4MEIGpTAQhBCouOiCmlOrviSDtUwiHYOVPeVzi9GcHoWl0QAecD7jTOtOypluVcFh7gUx2SnFdHcSZ8V95ek1RtXut9q7zcutO66LDhAREjejJBH\\u002fD9uUlYOQWCxyfzHAr68KjhYLElNbT+JIAQ2iRdqN5ZN5pl8QuzGbAz44rLgQKkkQ6GX0IlsPsVlqvNqZt8Z9IEch9lewX+X52DnyBb6hn2Zc3lLcfoC3zAvzGqnQpWcTaZSMfNuJALBkc6skog0ej2FiE95ibR32VuZz6O2xTu6Gy2xDm4lHYJ6WWdUt3i6PzDm7\\u002fKc7\\u002fKuxTm4G1PUlTrt9\\u002fnXEYAVAUPvTfjBmBmVkvavcy6HcB2NZY8AgAI0yjqxVZNEBCEiiG1+0IaNARm0wDLi4cAFALG8K5kp3Mv5aFpRekX9gAKrf3xd+ABQ0SwcH9pT9lLdKurxsI4xTl5fJyx4Pe3kxiv7AGBLSeqWklQAYJGpPyQuCeZafjC18a9BprYJrC4eC\\u002fgSbzJnvMN80zo2JiK5idgVbxBAZrqsnemyFuNiAQbJbpH74zjjB5EHsS\\u002fH2s8Zaz8Ha+lNEDsuiB2HtTjTvGN5PfESa87ZCJ3IMlYF4uxYnGneyz2fw1v75anI8SdqS7AxKB6V\\u002fk3ivCcuH5p9bOsCnzAXBrtdJa\\u002fobE9trbu0aCOurcN8n7Ctxekrz+xMcvfTGwztasXHY7vmVSP5LhKNKr2tflVgjNES4+B2qLpQqdMa09gBIJzv\\u002fFJM0mfZF+ce35bs7g8omtJUVS0RPRc9MWKglPZ+IBEIPyctWXBi+7NXjx6YvSaY6wgAetSQeHBztL1ruL2zM50t06ovNlbVSsXPRuPfahs2bOAYWGCVNQndeGwWvWdq32BA91zJAYBo3y45NTs+5Ptj13akZM2OD\\u002fGw77mVtEsVLBqFSh74fzGSHOn\\u002f1cHLe6\\u002flLU6IYNOpACBVqo+nW8iVHpAF3uETXXyP1RXni5olGhWLTI3kuy7wDjf2RB6B\\u002fFHzeWFnz+J9ZAKVS7b3Y4UlOS5woLqa7JvKXmlQVpleGvFiBD4Z+LFxu0lZ823ZS8ZtAkKgE1nudN+x9tMiOeN6duimTlF+XXiqWl4s1YopRBqHbB\\u002fMjkmwn8GjOBrP55WQ7+2pPbfsdnXLZyVPhXNGr\\u002fV5GXMYy0yZ+um2reu9LXUlRVE4eDDj0uVSuVwdFua25oEJjo6Wmx82SiQ5zS2j3N2cWV1Vh2VCobmLBYQKs8w\\u002fGzaGlxCe03TPoDP1ZVjjdI\\u002fAI3PWbS64cb6hQqRWcCl0bzb3xZgkBzo+L+Ll2CQqkXi8puTH\\u002fBsMEjmY15N16mvHZ5Iocp0mrjuCFePgptBpTRnuRh6LGOfP4f9alLarPAcBCOM7vxQz6dY7f\\u002fKp9N8nL1t68q\\u002f1KfsPz1nLp9KJCGFD+NjLTdWHq4pUei2PyvDn2P8QvWjeLf9f\\u002f0EeTzl8o7nu9KL\\u002fOTHuvRrq07Xlj54\\u002f+Mbo5Ecjx+DHbPTBwNLnrwuZJzJLIrxd3Pl2dgxap0KVUd7Q1ilLDPOZGRdk9OEyaR+vmfXStuMrPt0xKz7YmcsSSRVVraKMiobjbz\\u002fkxu+z5w0OD3vO6uS4v1IyV335d3Kkv1anT8mv9HDgNLR34l2tgEdlrAm8x+abx\\u002fCn0IhMAFDoZY2KqtT2c7nia08HfmbSWDNc7xOqmxU66SXBEQAkyXE+k2TniFFgRpxo7iHsOB2q7dAIyqS5ZdLcKU5LZrnej\\u002fU52bwzpe0QAog73deHGaLSK5qVNRfbDkVxE3hgVmcwZFLTqk6cyGtq7uDzWQsXxvn5dh123\\u002f60zZsvcLkMIpFw7FhOamrl7789bHHx0RW79rRIpV5cbsr6h4yW2dv\\u002fNHexYeP28lvyUrwJ4NfkJXgTQAjX8btEC91hcNCIpFdik1+JTcYPABAQpPD+57GWIK5DzZpXsRYjMzyDZnh23YEtsjY4fm3wADfAjOVP4SwhXEfsCSAAr8VNfi1uMsblv0WDrHPCP78gADdWPubKtPwcaCUoCnQS+Q7Mrh6tLjlbV7EpaR5+wMadZWCBNTMuWKxQlTcKiupadXoDi04NdLXfMGvskoRI7BclOdL\\u002f7xdXbT2XfqmgSixXchg0TwfuU3Mn2LMHV7L3wqJJjhzmvmt5uy7lOHFZKydGL58QlfjKT3i\\u002ffymTnRZjI0bHmv64LDh2s\\u002f3MPLeu2ZkQdiywYwHgevtpAhBmuKw0OWNxp\\u002fvNc3vQuN2uad1U9spFwaHxDrPsurNPrgiOp7Qd4pLt1\\u002fi86MkIMBpRQJuU1e70YSsn+fnnC6btM2fyf\\u002fzhQT8\\u002fJwA4diwnLMz9u29XE4mEixdLPvjw0P796essLRNBJvSXEWzDhg0bt5Vj1SVkAtGAGo7XlK4PH4UfHgybp1io0LwdnK2raJVL8VYbd5yBBVZimE9imA\\u002feaolAN4dPHuyzbuuB5LgHks3yKgBgVlzwrLiuYmwjCAJrp8SvnWL24JW7aXAZEn67Pj4959FAjqXJKYA\\u002fytJP1pVItepYB\\u002fenwhNd+l6Z664TzZ1wWXCsQzPwpFg\\u002f2FOcIzhj00UX6hTlEZwxAKDUy0+37CYh5If93nCmeZo8EUCGUV0BgIsL57XX5vv7OTU2dXz66bGt2658+MFSAGhp6Zw0MZhIJABAcnLI8RM+qWmVFgXW3lX35be0Rrr0lNADQJiT0+aF\\u002fcUJNh46XCzoWtPNhg0bNobMserSGEdXnUF\\u002frKr4FgXWnUGPoteaagM4fPyAjTvOwALrHuVSc+U\\u002fVbl1sg4nGuuBwDhTYvvWktSPss\\u002fzqQwygbCrIjulqeLE7PVcyghNzJLqxACAjWkNDTrRGEfsigPld97UGFSj+MlYdXU7uP++cZERHgAQGOD84JoJ3\\u002f9w1mjXavUMRk9WX2Sk5969aaaXWByZzCn+eM3nxGJ6cPqbd+YzRugHasOGjXuIOqk4X9jybOwEPWr4PudGg3lB5ZbCjPdTL2StevJAReHfpbkNsk5nBivRzefl+El8Ws8t6EhV8VMXj5pe5j\\u002fwjB2l5+4nUMpH7fpx79xVfxVnn62rmOjm88Pk+b8XZPyUd9ONZff1xDmRDl33\\u002fxxB897y\\u002fNSW+kaZxICivhze0oCIh8NHmaaSdpTk7C3PLxEJVHqdUCn33vq56X+pXPcitm1bakv9j7k3swRNar3O1463PDDyofBRRMyUFAqwtTBjR0lOvbTThclaGRgVyh+evJF7kbzOkg8KvwOA3Qk\\u002f4no\\u002f9c+\\u002fVmB9nH3etL2\\u002fOu\\u002fAjHUhXCcA2FWZE+fgvmfaGiJCOF5X\\u002fPS1g9tL05+NnNSz58hApVc2KCuPN\\u002f1pR+ZNdJyLHx4ktYpyBBBXWldtZp28DACCB1OoPwQYDIqdXc9dhs2mSSRKsDTfx7GjKxSDqPvj0QfQT2zqoNst2rBhwwaOo1UlADDdK0Cr13+fc+NYdcnGyLE4n8dTjuQJmuf4Bs\\u002f1DU5radhVmlvaITg47wGTQ5K77+7Z94lUyu9yrpV2WJ6O+CD1gq8dL8HV60xd+QuXTxR3CFaHxPxZnP3KtdMnFnblh\\u002fySn3apsXqSu88M70CtwXCmtvzDtBSZVvNcbFe3lAAO\\u002f\\u002f7gaJ3B8Mb1M34c\\u002fgZMNjp2kZXDlUXPXj7uY8dbGRhJI5FuttR\\u002fmJaS3trwy9TFJoX1ReblH3NvBnDtN0aN6VAptxdnOfaq1RgsRZLy863XSqVVHRoxCsAlszlkuwCWdxwvMoITRCZY6Ot7r\\u002fOvFVgeTM7XCQtCuc41so4Xbhz5Ou\\u002fSr5OWA0CDTDwrdKxRhM71Ct1TmZPSVDlyBNZnJT05pwSEmOgwe7LTEiZpiJOYOlQr0rRdFRyvlZfG85NNkTCprhMAeBQLU6g4sOczWNzdeNeulScldVUb3bhZqdcbLqQUe7jzAEAmV5k8ZXI1jWbtX9f6UfGjPQbo5cii9HSAtGHDho2hcay6xJXJjrB3RgGcGKyjVRYEVlZb45H5D5oCPGvP7L3YUJ3V1hTn1FVlz6HSEly9AGBPWV5fAotMIG5Knq\\u002fR62P+\\u002fv5odcnV5Rs82RyJRr27NNe0ftGH46czSGRj5zMAeCZm\\u002fKS9v+4pyzMJrHGuXuNcvdR63RvXzzjRmfcFWWiKJlIpX7t+ZoyL586ZK0wxrWcuHTtUWXS2rnyGVyAANMokP+el+nPsjy140PjfPR0zfu7hP7DHGRQooFur9pxquYQ1CtQigVpUIas51XLpo8iXg9i+2FEjKKBflvw6wWHUeIcByjVGJv9agbUhLGGUoycAhPOcn45IfC\\u002fzjNGuMehZpJ7wxihHT2OLrBGCqYpQbVC2qhquCI63a1qXemxgkcz66AxIdseV7I4rxm0ygZLstHCWC7aEEAUA7DonfRHFTaAResJFKoMyT3wDM94f8+fHfv3Nqdq69sAA58amjtzcuvHjAz\\u002f++IjBgLLZtKtXyx5YPZ5Op2g0uosXi\\u002f38rI0\\u002fv5achDf1Yk5wkJtdf3OINmzYsNE\\u002f1ZKOIlHbg6GxAIAATPcK2FmSUyPp8LHrKhUyMt83BDt9NtUz4GJDdVWnyCSwrCHKwQUAKESiJ4sj0ag82RwAcGfaoQBitcqFwQIAe5pZxRiLTAnhO15vqjWgqPWViceqi+VazUNh8dgZw4V+oYcqiy7UVxkF1pm6cj2KrgmNMYk5ZwZrSUD4L\\u002fmWEzkG5GzLFaO6SnQYPcV5vBPVAQDaNR31iqY0Ua5EK7WorgCgVt6YJsoJZPvgB+4R\\u002fp0Ci0mm8DBpVVwqvUOjBABDr8kpPpUu1w1icup2g6sizBPf2FH7tdagXe\\u002f3BsZrYIxtGlAwXBee4lEcZ7isJCA9PaMZJDsAkGgH7uA622UVrg+W9QJr7tzohgbRocNZ5eUtJBJh4cK4Jx6fmptXn5VZM3t21LvvHVr9wM9BgS519e0tLZ2vvjKcFcVJvr5Jvpb\\u002fYm3Y+PdxXXjqUOMW4zYBIXwatcd8fNDsqP26UlbwXNBXprrjQTHs53NXOFZVAgDTvLqKrGd4Be4syTlWXfpk9DisW7i9WQkOl0oDgE5NT4TeGjjUriY1dBKJgHT9eFGJRADQGfTGlyq9bk9p3oWGqupOUadGpdBpNXo9AAxKYOUJWwDg0fMH8QMAQqXcuFEhbgeAUL5ZR25st7bBcq71KgCMdxj1TNBDJqMzzSHMLnCmSxLanRzcm1zxoNdvGFH8OwWWD4t3trF8jleo8eWFxgq9wXC0tsiXzQcAibbnqy\\u002fRqGlEayen7jxR3AROE79cmqs1aMiEQUx7mdo0kBByStuh8637ZmIiWO5030y4WCUvCufcxpZxCIJs3DjloYcmtbfLeDymcRIwPs4nPs4HAN5\\u002fb8lXX5\\u002fMzatjsWgbN0yeMSMCt7sNG\\u002f9uPira0KkVjeJPXuHZ0\\u002f7+r5qv8jtvskict8N\\u002fx\\u002fgOQBQ3wYnmLtdJTzTv6NS244cx5IqvF0nS7\\u002fd6Bj9gDoqiFAKNMJh8XizWn89I5lh1CQA8eHqvubEYJ7B6N5IdAiTMW43NlzIh0aiXHt9Z1iGc5hXwcPgoFyabTaF8kn7JKJisR6JRA8AjEaOxafhGTJE5mVYDAMzu8JURFnkQP0A4WlQCAIjjheMHAAAAAcvqEAU0xyawRiCrAuLeSD9Z2SkM4zvXSjtS2+qmuQc+f+OwHkW5FPqZhrInwycwSBS1Xne8rsiY\\u002fD5i0aE6FFA9qiPDUL7f05yX54pvXGw7HMVJcKX7GI3hdqOPNm7PEF2c7LR4sJOPg4VCIbm6cvFWADc37ldfYmctbdj4z0FESPWKcqylXlFO66r5HQQsEieAFQkAl9oO9y9oiiTpnVaErtf4vIA3DQbrz2fEUtUpKukQhPAcox1dTcY8YXOxSFDZ2e7PsTcZLauD4WZbUWZZh\\u002fCRiNFvjplsMmKn+azEqJNmeQeNcu5aKqA3DBIZAERqJdao0uuwLwcFjUhV6lWdWqtac7VrOg40nKqVN9QqGlV6NQDsrD20s\\u002fYQ1ufvcZt6J8XXK5qPNZ8v6Czt0IgpBLIH3TXRccx050QiZvYGR5W87mzLlWJJhUgj1qE6OxLbgcqL4ARPdhrvTBs4R1milb1X+G2dotGH6fF22DNsMr5B\\u002f79TYK30j6mWiv4qzyzoaCERCA8Exr8VNy2tre5aa81yv+gnrh5IOro5gudcKWlvkHd+OW4+fv8RQ2bHJblO4kzzHMI91wiZQFni8cjvVR\\u002furd\\u002f8ZOAnxkdSHsVxjP3U1PZzW6s+Xu3zvD2lJ8St0MsYRPy3xIYNG7cDR6pbq6pepVfSiHQAkGg7xNp2f1Z4q6oB7zocGFBDuTTfidbnL6sNE0erSwDg+bjEmd6BJuOZuvJHzh08WlXybHde+R2jvEMIAHN8etpG6gyGqk4LWtlYwtU7H8ZIlIPr\\u002forCGy11\\u002fQisAK49AJR1CJPcexItKsVDF8rBbL+b7dknmy9OdZrAJA3wWybVysukVQDgQnNsVLZoDToehcMhm1V6Ib2mRM+0XN5SvceAGgCARqSq9OpSaVWptCql7frroU9wyPiUXBTQP2sOHGs6hzW2azraNR2l0qrxDgM3PDOpqwCW95thT1u8rn+nwCIgyOuxU1+ISmpVyhxoTKMen+DiO8HFFwB+nrj0tbSTqW11HArttdipS3wj8fvfPVLaDhqT3LUGdYuqvlpeTESIC9zWmRxKpTnt6ha5TqI1qAGQsy3\\u002fMEl2DlSXIHaMyQdHEDs6lpeY3XH1suBostNCo3G+2zqRpq1cmvdFyTNejEA+xUljUAnVLQJ14ydRu80PcEsUFTXWN4hkUgsZCUuXjsabrKCoTUAlEf35fPyAjeGmQyh7bu1vOp3+6+3rnSyFIW3cIi40zxZVXYOyMoAVAQD1inICQnCiupsE1hXB8aNN21d5PxvD7flFzxFf+7v22\\u002flu66xv4HKz\\u002fUy6KKVFVac1aGSyzpdzl5uGPo3abUrQNB7ZNPRexHY60cL8l9qgvCI4nt+Z2q5uRgFlkTjejKBZrvfzMY9qA1KvqEgXpVTLizo0AhRQB4prPD9pouM83IRRVsflm+1nBepGtV7FJnNdad7x\\u002fCTcyqrW+AyWo1XFDBI5ycMslTPJ3ZdBIh+tvgsCy4XJBoAmuSQOunLnN+enitUW7qskAsGRzqySdGj0egoRH7xZ6B\\u002f6ReblLQUZC\\u002f1Cvdhck12olLMpVCqRBADTvQI+TEvZUZKzMijK2LJLolEfrBz6bN1C95lpolyhWvRS7kf3eS2Y4DCqn6iSD9Pji+iunONnst9tUrbOcZ28yH2muZcZWR0Fv1ftRgGd4TJpqcdsPoVrQA35naVbqnZXyeo+L\\u002fn5\\u002fYgXcP\\u002fj7rqjRnUVx4uY6zrFl+VFRkjtmo4SSWWDssWLMUCBgkldBbP93gh7ik7sSqHD8e8UWEaoRJIXi4u3AnixeDunrMJbRwZpoq61ZRBAmCS7SM64Kc6Lsd3VTzfvwi72fLZ1LwB4MQL7EVgAMN9tXYkk+2zrPxGcMcZlDSkE6nq\\u002fN7M6Lmd1XG5UVtcpymkEOpfiMMFhDn7nodLZqXzjzX1FRY34gW6GJrC+u3b9XGXlUwnjnp0wHj82YsjPrDl1MLMot769TQqAcvksnj0rKNx9zMSg6NG+FOq98XdXVtTY0tgBACX5DTaBdTtgk3ksEqdeUW4UWHWKcleaNzLUzKd+cKS6j7WfZkD1Bxp+c6S6JnU\\u002faAEA9r8LZsds8H9HrpOea93Xoqoz2bHIdZLNFW+3qRu9mUETHOYggLSo6splectIG\\u002fGu\\u002fXKx7XCZNDeIHR1mN9qA6gskacea\\u002flTrldNdVmB9TjTv8KD7jeVPRxBoV7eWyfKcaB5Y8WSNz2ApF7eXi9vn+YYY+yOYoBJJyR5+J2pKjbOH2KG+0BkM2YImmVYj1ahbFFIAOFpV7MhgsslUXw7fWB5oDYv9w7YWZrx941xVp4hGJF1vrktvbRjj7JHWaiHYucAvdEthxoqTu5LdfXWoQaRSfjx+hnGIR6V\\u002fmzTv8ZTDsw5tX+AX6spkC5WKCnF7akvd5eWPGtuoerG5D4eP+q0gff6RP6d7BWgN+jO15V52vDqpGPu\\u002fWE8Ay\\u002fuZwP\\u002f9VLlDoBZ9X779z5oDEx1HT3Ga4MnomX4dMiig22v2oYBOdBzziF9X2gkBIURzQ98Of+bZnPfLpNUX225Ode7RxEK16HDjaQCY5py4wX+1ye5Od3Gnu5he4kAAMRYTmNRVmF3ga6FP0Ih9tl28N270\\u002fwXW+ryMN1ni6aDP8CZz3Og+n0fvxRlZJM57EdtxRgSQeF5SPM9y1wOL52NPdel98L74fculoqLGMaP9EhIC2JiOo7dIfmsrACR4eeIHRgYoiv706Ymje1KxxrZmcVuzuLSg4eie1G\\u002f\\u002ffCQk6i6cPIqiH7ywO3lW5CSr6wmCwtxd3HkIAQmP9caPjXiGcL13Hj2q82YG1SkqjC\\u002frFBVezCDjNMfw4s8K94dwHao90PAbm8wbw5+K9wAAADqR6c+KAIA00YW+BNaRpm1t6sY5rquTnRaZjHpUR0QG92uy2GM9lUAjE7p+nKY6L\\u002fus5Mk00QWswMruuMIksZ8M\\u002fNgUYzOgeh1qlgxkjc9gOVpVDObzcSZm+QSdqCk9VlUSEm+VwJJo1MuO\\u002f421vH69q2fQs7ETTC2sBiTc3nnr9KVfZV39KS+VTCCMcvbYP291vrDVosB6edQkKpF0rLrkh9ybDDIZpwWnewUcXfDgT3mp5+srRSoFl0r3ZnNfjJ+IzdZ\\u002fY8xkJzpzZ2nu9qIsFybrwdC41SExkTu+wxxmcIx3GBXI9t1Td+yaMKNTKznWdP5Y0\\u002fkobuj9XgsDWLd0e6mQ1jQrWwFgoXuXiDThQOVPsI+\\u002f0HY9pe06VmBdFWboUQOVQHnAewnGfQBoRCoCiEldRXFDXwl5jNIrFQzL4P4k7jkMKGqxBHRQ3e5tDI2szJqoKM9PP+25XQ4LIqUSAALtB85AvCuc2JdhVFfJsyNnLYp3ducBgLC1s7ay7fqF4s4O+V1RVwBQVdZ6\\u002fUJxcIQHfqBveA6s7cefw1vvEYZwvXcFb0bQVeEJAEABbVBUjuZPrpGX4J1GDGqDMld8w5HqilVXADBYdQUAuPIaGpHuSvOulBWggJpmCVlkTpu6oU5R7sMMMVoICJFiPtdjjc9geT4u8fm4RLwVAAAW+oUu9As1bj8cPurhXqsTLvALXdDtAAB8Gr32IQsPqyYc6Uysw6H5a0zbj0aOeRTTjT3Zwy\\u002fZo2c2AwBCeI7LAy08P9CIpFdGTXplVJ8NtEN4jpuS5uGtGJBe\\u002fzsA9H8hA+JItX8ycO1a32WXBakXWq\\u002fXKRrzxMX54pIHfZbMc5uG97aaclkNANCIVIvzesF2\\u002fhfarlfIavWowfS7Xy6tMg4xSYN48qcTaSq9+qOi7+sUjXG8iBeDN5AJA3ztBxi+RzGg6PcFV\\u002fdU5bQqpBbkFUDV\\u002fa\\u002fjTTaGG2G7dOq0MLz1luHSaAK5nEq6pRvo7ePE\\u002fgwASJoZ8eonPWkurh68yHifeSvGoAaL38c7QdaNrjDJf4R75Xq9mEGS5p1ibbtKL1cblN6MoJEssJqVtQZU78cKxw8MHq1Bky66UCLJEqiblHq5xqDWoVoAQFED0i2PZrqs\\u002fK3yw58q3vJnRYzmT47kjOvdrcYaHxsjBzaJOdd1ylzXKbni4u01exsUzX\\u002fWHAhg+4aw\\u002ffGu1iHRSgGAQ2ZbbPfAJdsBgB7Vy3RyU6a8WCsFAAfq4BJ5KQTyV6W\\u002fVsnrACCA5TOguoIRJbBq5WUCdbNSL8cPAEx0HFxi0NbStO8KrvCpjARnn+utNZF8VzKBUCURiTXK0Y6ey\\u002f2i8TvYuA04O3MEbVK89ZaJc3M7XV5e1t4e6zoM8\\u002ffDTnO9CABGJwbhBwAAACFYuAXcAVAUzbx+bwiOYeEeul5Puj8BIdYrypV6BZPEvvWV3W8rSr0CACxmvg8KpV7+U8Vbrar6MLtREx3ncch8KpFxonlHg6IS6+bFCHop5LuLbYcyOi5W1hUcIW5LdlqU5LQA+1NqjY+NEUg0N\\u002fT9iBdezPlQpBGfb702ZIFlZFBPrsZ5LcIgvyEtKkGLShDA8qmQ1eytP+7BcE2wj8M7mTMiBJZcJ91a83mtvAw\\u002f0M1gBdaB6nxvNu\\u002fozIdYZGrIns9ejZmc4OyjRw0\\u002fF934pfhmJH9E38L+NcyfH7Nt25Xly0f7+Tnhx26BR8aMOl9ZuT0zK3aetSVUdxIanaKQq8UiC88J\\u002fSDtVB746\\u002fqNSyUtDR0A4OrJS5wavuSBBDoTnz45f8z7CIIcvvGmoE2y69eLmTcqRUIpjUb2C3adu3x00kyz+QJhq2T3lstVpS3V5S1KhQYAtm06u23TWazPkdS3cUn3v319ev+f17CWn\\u002fc96RNg4UPcsPQHjUa39cgzv311+tTBTJYdfd2TU6fMjS4ratz0wZG6KoFvoMuzby\\u002f0DcIXl42o6727kAlUN5p3naJcpVd4Mywk\\u002ffRGrTdrUHQnoRJpACDRduAHBsk14clWVf0kx3nz3NaajBYry+zIvAXu\\u002f5vtujpPfD1FcOhE8w6ZTozdy0ofGyMQNokZx4s413rVmEQ1NHgUDgB0aqXYyWUTYk0nABARIovU81TAJjEBoF0z6K\\u002fxi8GPjrWP3Vr9z8nmlB\\u002fKtztTHfxYXngnDCPiRnOiZVetvCyEHRNmF88gsfDDg6dGKloTGM8iUwGAQaJItRoAICKEJ8InZAobPs+9uCVpmBODbPRm+rSIG9crHnv8j8mTQwMDnHk8Jpg3L5kyuSdTwXpiXV0\\u002fmzXztdNnPkq59FzieAa5vxzDO09YjOfVc0VHdt2ctTiOZV1qf1lh41tP7ujskAMAlUZGUbS6rLW6rPXcsZyPN6919eDh\\u002fDVqbeqVsi\\u002ff3C+TqohEApFElElVeRnVeRnVNRWta5\\u002foyV\\u002fuFCuKcuoAwNWDX18j1Gp0fAc2l28WfiD0CqpFxHl3dsg7OxQiobSypBk3iqOlsWPv9qsHdlwnkYhtzeIv3zro6ML54IXdCrlarzOUFjS8\\u002f8KuLYefJmA6Io60673reDGD6hUVSp08mocvjDXGinBx\\u002fVZVPfal9RiXH0X76JBkDa40bwSQOkW5ATUMuc87dF9CJCfBZDGgeoGqqcfDHDKBEs9PjuKO\\u002f7L02TTRBYviyRofGyMNo6qm9lGIZxRM\\u002fX9jg9n+AKDWq6vl9X5MvNwpkVYCgD\\u002fLC5t4HcDyyeooKJFUqvXqvv5ri4ziRwPAOp9lzcq2HHHhpyU\\u002ffRb1mlHhWWRECKxyab4fM3S932v4gaFCQBASoethyI5Ca1FITEMJzj4\\u002fFpo9nd8+Hsl4XaQRT3FKeCKgJ2\\u002fxi9LfbrZnc8l2W0Z\\u002fivG1imvCzHRR3rNB\\u002f8MPjEiWLN1k3DhzpuDMmQLzQYChCqzL1TUavX6ij\\u002ffWzMzdeXmRLi72DHrvvnMAsOluhLhW\\u002fG\\u002fi9QslbS2dj6\\u002fcvPaJqUmzIkj9pot1CGVGtRE3zv\\u002fRF2f7BDihKFqcV\\u002f\\u002fte4frqgTvPff3D7s29j7Chy\\u002futndkv\\u002fLJ8rgEfwIBqa8RbvrgSEFW7e4tl2cuinNx79Io\\u002fsEuP\\u002f3zuHF7\\u002faJNDTXChavGrXxoYs+BLJGQHJKQHAIArU3itXO+xg+bgxrQI7tTfz\\u002f0tIOz3SuPbC8taHj3mb+jx\\u002fi++skyQavkyfs2N9eLKoqbg8Ldjf4j8HrvOt6M4HTRBT2q82bgZ5Ydqa4AUNyZkWA\\u002fw2jp0AiyxFfMnKyGiBDZJK5A3aRDtSRkKE8mdCIznDO6oDPtouDQFKeeCiw9qgdArU9155D5ACDWCr2h65JT2g4r9DKsDwqoWCPkUXoq4AgIgQAEbJTCGh8bdxeLgSUjcp0iTZQDAEEsX\\u002fwYAAAwSHQAaFP31+PUh+nhy\\u002fSsltcfbjz7XNDD2CGBWnS9PQsAkhzNenZMcBi1t\\u002f64Uq\\u002faXX9src9S7JA1EBDC88Hr38j\\u002fvF7R\\u002fGnJTx9EvNhXLaG1fw+3FYm2I45nuWRjaLgzOdXSrha3fmz+lZbqB4O6aj1UOq1Wr+9xvc2QEFKZrAZrqZDVMIhWBTZ6ky7KE2nEeOtI5YnHe0ILw8j\\u002f9h8wbSu02tT6Pp\\u002fm74rACgp3f+WTZd+8e6itWfzFm\\u002ft\\u002f\\u002f+b05NlRMxfHeftbmGIDgJ2\\u002fXuzskHv6Ory3aTWZQgIABEHCor3e+271wws31ZS3ppzMnz4\\u002fBrcXgiAfb17r7m1vfOnl6\\u002fjap8vXzftWq9GlXy2bv3KsufvtZdbieA8fBwCYs2xUaUGDXKZa9+Q0CpXs7mUfEeedfrW8rkpgElj\\u002fgusddryZQVqDhoAQPBkBuCEvZpAXI6hEmv1z5Tu+zFCptiO\\u002fM9WN7lMpKzT56FBtvaJCpVeqDQq5XoqiaFbHZRqRQSXQnWkeuGK9GN6EK4LjP1e8G2wXY0D1cp1kicejxiEDqjfOVKoMSuNK8Lni62wSl0akO1DdjJIIABa5r29S1pxq3lUsyfRmBJEQikjTVibN2RjwngvNC6w7n1jepKvCE4catwjUTWQCpVJWWCMv9mWGVsuLu04UAEUNnxQ\\u002f7skIcKf72pH5Kr2iVJrdrmnF9nGwxsfG3aVKVvd9+fYx9jGh7AAPhqsdmYUA0qmVFEnK9zec6tB0MkmMWa5J+N0AACCQ5Vsurb4sSB1rHxPNDUMAMaCGTq0UFzR6yHfFO4XfXBdmMIi0ZZ5z7Ck8FNCCztLfKnep9WofpsdkJ7PYsBvdeabLpFMtl441nRNpOma5JHsz3QlAEGslDYrmbHHhTJdJXoyuW5ZF6ETaa6FPvJr3aZWs7ofy7c8Fr7coIkeEwOJRHMTDul7VGEevQ7UFSr2WTiQnu\\u002fm\\u002fm3nmo+zzsz1DmhWSP8oyAjgO+B1uG+50pzpFs1KvMnZ67dB0CtUd4ZygRkUL3nUgjK1p3en4dJYRy9D6iA7IwtChxL3uJEkzI0IiPf7afOHiqfyOdtmBHdcP7LgeN85\\u002f3VPTTDrDiMFguHA8FwDmrxxrVBsmXD35odGehdm1Ny4U9xYc45KCTWrDiL2TnbsXv6airbWpE2u\\u002fA5i0ozGSRKNTvPy6Igp8BzYAyLv7+P87rnfY4VOcWCQOm8yjEGi4IQSQ\\u002f\\u002fm+erJ5Z7ksr05ezqM4THVeFseb+H7hepOPSNO2ueJtzE6wu+5748Yi94fHO8zCDs1yWUVCyLniGxdaD1AIVFeat2lIqVf8VPEWxhcONPxq3JjuvNwkWezIvKeDPrvUdriwM\\u002f268DSCEOxI3HDOGDtSVxzRmvNxp\\u002fuu8331TMuelLZDJITkwwx+PODDBkUVVmAhCCHJaUGZNC+r44oO1TCIbCea+2rv56K5PT+W1vjYuOs0KlsONpw6iDcDAPAonJeCN\\u002fReysbIArdpV4RpUq3so6IfyAQSCSGp9GoKkbJj7LdYtxC7gKcD\\u002f\\u002fdjxR\\u002fnWq+ea71KI1K1Bp0e1QOAF8Pt1ZDHe1f8rfNdrjJoLrbduC7MvC7MxI1OdBj4x8uRav9SyMb3C7+90Z7lXndspdd8vMcIEVjj7KedbvknyXGeKw0\\u002fgTo0lvlFidQKhVZDJ5JX+MfsrMjeUpK6pSQVAIgI8mWChTfiNuHJcKtVNFXIaiM5wQBQLqshIAQPugtOYF0WpJ1quVyjaAAAP6bXIrfpo\\u002fiRptHTLVdS2m7UKho1Bq1YK1l6vWsSBAD+SfgBO7Xc\\u002f3EA4GTzxd+r\\u002f\\u002flzzFctKsGO2kPlshoUUHe6y9OBaz0wHWwvC9JOt1xpUrUq9Woume3D9EhyHJtgH4s50l3j67mz8aaRh7Mb98UPljz64qzzx3JPH8qqKW\\u002fNulmZnVb1yHMzl6zpufXXVggUcjUAhERaaNfk5skvzK6trWrDDwCEWmqmxbVnQUWbRq3FD9xmODyGcYPOpGBfAgCRRAQAna4rZvzvuN7h4o2wX0zbb4f\\u002fbtpe4vGoKaoEAEwSe5nnRtNLI9h+v05Ud+vb\\u002f5IJlNmuq2e7rsYPADBJbCuPwyCy+joIWH0+IezYELbZLcWF5jWKn2x6iQAy13XN3H5rha3xsXF38WS4bfBfnScurlM0iTRitUFDAAKTxPBiuMXzI6c4je9rnRkAsKfyPo18ZW\\u002fD8XxxqVjbaUBQJ5pDIMsH7wcwwWFUAMv7cOPZ3M5ikVpMJVA8GK4THOKnO0\\u002fqra4AgIgQnwh4cLJTwvnWq6XSqg5NJwDYkdnONIc4boRnv+ErEyFs\\u002f43+a74v37av4YQ7wyWxlyyz8B\\u002ffeeJ5E4skmd+VvR7DTXCn+7LIHFy0LWaQjyPR9m4\\u002fJnblB9CIpL3T1mwvy6joFDoz2It8IsJ5dy4IxKPYccjscmmNUWCVSWu8Ge645NA\\u002faw8ebjzrRnee5jQBALI6Cj8p2bzWZ8mC7t5rHnTnac4T9Kjh16pdbnSnhW7TTfsaO\\u002fcbGfA4JjI68n6p2hXNCZ3rOlmilWWJC+0pXNPoocazf9Ue9Gd5TXdOBIBWlTBXXOxBdxmywEJR1GCp\\u002fxOROPQk2XsCOw5j8eqExasTMm9U\\u002fPLFyboqwW9fnw6O9AiP6XqQELVLjRtPr+75rcUhk3SFf7DgErex9JsPelvAxaJwLwFzSv+O67Vhw4b1UAjkac6J05yHmAXkRHN4IsCqegVnmuOj\\u002fqvw1n4JswsMswvEW3sRxQnZO34z3goAAJMcx0xyHIO3doO\\u002fFd4V3i3selzL6Lic0XHZfBBg8AILhx2F9nTEED\\u002fdW0SHGoLZvsZWswBQLqsOZvsa0J4ksFJp1eHGs+F2gW+GPWlMlFvttfD9ou\\u002f\\u002fqj0UzQ3zZrgBQDgnKJwTpDVof63axSNzpmFa\\u002fpuw5jgmfq78+43QJyI4XemluCTEy4I0OzLrk8iXTbExPWrQGXQmBytBUfTPP6+dOJkrFEot\\u002fgpeOP8q3vQvJT4h4MttDz+2\\u002fKf2NsmpA5kmgWXqO8rm0C1O4QMAy87C492I0qaWz9sS\\u002f47rtWHDhg1rGBECa+G\\u002fuJ4WRYPYfsebUwAABbRSVjfVaXyxpNI0fr7tOgCs8JxrKkOgEinLPWd\\u002fUPTDudarD\\u002ftam6o5qOOMs481qSvoLoU1waXYNShbyqTVoXb+RgsRIRCJFKyPNezdl\\u002f7Hn1e5XEZsrE9WVk1wsAuRSKyvb5dKVZGRnrNnR+F3+Fdjx2GMSQw8eSCzsbYn3ZDL72pK8u1fj7p7meUY\\u002fSv5r12vDRsD8nHWhd+KUwHgwMwHYx36m5l66cbxo7VFcQ7uf065j4TpezICuYdO9bYyIgTWYPuI3lsEs\\u002f121B4SqjsUeqVSrwpi+2IFVrWsHgD8zZuVGZt5VMhqscb+GdRxcG447vOc9770+zcLvorgBE1xSkiwj+urBrV\\u002fzpwpcHfn\\u002ffLzOgaDOnPWF48+Mjk21luvN+zafXP37tSgoJ6Ur\\u002f8IxoQkGr3nzfQJdKIzKEqFpqyw8XYLjq7JZIuxxDvFf+16bdgYLlCAg9X5ehS90VrbIBf7sLuKOkcg99Cp3m5GhMAadk7Wl+SLmp8MT2SQyABgQNFPci78U5lDQJB1waOfiZiI3+F2YmxxViGrkeuUdmSWC62nZQsAKPQqIkLEZfmxyUwEELluEP2aB3Ucu367uQaxfTfFvnOo8UxK282CzrKt1fsWu89Y6D6trzmdvmhsFC1cGM9gUAGARiPLFWoAIBIJD6weX1jY+PvvFz\\u002f+aDl+n75pkkj\\u002fyslJb2gQyhU0MsmXx5sRELAgNIQ4kh6PUAPa12I4Mony+oViAMAu9kwiESfPiT6xL33P1ivjJ4dSaUMRslbCZNEAoKWxAz9wB\\u002fmvXa+N28TJupLHrxzEGekkModCC+Q4jHP2XuIb4cJg4xzuaRCAxb6RR2uLEl18PVk8\\u002fPBt4GRdaadGeV9ADH5gIO78qY5YRpDAalbVpbafr1dUKvUKOpHhwfAbw5\\u002fsTvfF+1nBwer8TGHDC1FJxpe\\u002flaRuKUn1YHIICOG7\\u002fCsBdg5zve5cqT+VQPFhepTJahQ6RRAbfzlMEr1FpVfoldjmWFKtHAV0UAt9D9dxjPApnId8lz\\u002fgvei6MPNg45m\\u002fag+KtZJ1g2zIhiAIidSlfthsmlDQleAMALExXjt23jC9HJDzlVVPHz2m0vXkgZUL28+UV2zLyvpt8SJnVn968U5SXtL0xRv7x08Ji4j19vZ35PCYCAId7fL8zJpdv18SCaUsO\\u002fr8lWYZkWs2Tr55saSmvPX5tb+tejQ5LMaLyaKKOxSiNklBdt2180UvfrAE16FgaIREeZbkN5w\\u002fnjdhalh8QgBCQAwGg1gkN3ZSuGP8167Xxh1DqdMqddoWhfRKc\\u002fX3+Vdfjkn+Xwi+quue5ouEuV8kzMVbbw8GFH0t9QSZQByCwII7e6ojmZEisC4Jjh1v3mlADQCAAIICWqsovy48M8Nl2XTnZXjvgSgWtyW6+BpztFV63S9FNwLsHI7MeoiIIPNObdlRnnknBRYABLH9KqQ1Mp1igkM8biiA5VMpq6uU1RnLDI1UyusAwN+867+x9tDQx6KW1h\\u002fHeigEcrLTuPEO8c9kv3++9fpgBZazM6ehQWTc9vDgp2dUL1rUdflqtU6r7cn0758WqfS54ydUOh0CMMrDPcDe3mBAiwWCvJaWwta2Rw8e3r\\u002f6\\u002fpEzzV9fLdyz5fIevBkAwN6R\\u002fdbX9\\u002fPszeQgz4H1yS9r333278rSlg9e2I0dMmKxAHMILF0z\\u002fsLxXIlY8eYTf5EpJBKZqFJqqFTyoRtvYt3Sr5ZfOVugkKvlUrVxNRsA+PTVf7j2LAaTymRSo8b49e5TZT0j7Xpt3NNM8whMdvMHABRQmVZT2dl+vrG8Q61U6XXvZ56jEEmrA2Px+9iwgnxRc6dG5UDrs3rXhjWMCIFVJMk82vSXDzN4uvNSD7ofg8RS6GT1yspzrQdOt+x1pnlEccbh9+kXoUru1R2ZPFlfItYo34ibRiOSACDJ1f9QTYGZ9+0nmO17vvWaDtUHs\\u002f1wQ9OdJ5xpufJP\\u002ffEgti+VQAEAtUGzr\\u002f4kAsgUZ7PaSSJC5JLtmpVtWoOud2MP64\\u002fTPyigArXIidoTQiAgCAEhYPtBWElUlOf584VqtZZKJY8b67\\u002fp+7ObN19ISgpua5MePJTp42NtlOLv3Dy5RsOkULYsWTzaoycJ9Gpt7cZDhwtaW48UlywJD8Pscdfw8Xd65u2FWTcqaivahG0SlVJLICJsO7p3gNPYScEzF8Uxei1mDADe\\u002fk6\\u002f7Hvi1MGsa+eLqstbFTI1m0PnO7JDozwTp4V5DEc4BwAcXTibdm7Y+XNKdlpVh1CGEgku7rzgCHxSbWlBw5nD2ThjTUUbVHS1p9LrDbcisGCEXe+wUFXY+MSsz43bBCKBzWX4h3vMXpWQODfGzM\\u002fGcBNt74qTUCq97t30M3sqcwHg85yLi3zCmeRBF+jYuNJcgzfZGDz43+m7QkrbEQeq66N+b1AIXT8\\u002fTBI7hB3jzwz9uuyVy4ITgxVYDBIF7Y707KvKZZOpppAVi0ztUCt6XO8IwSw\\u002fjUFLQAgBLG\\u002fckC\\u002fTc7X3gh21h1\\u002fM\\u002fSSOG44Cmi0ubFK23ec5z4+Jb66Y6DDqWPOFtwu\\u002fieWG6VGDRCvb4H+\\u002fcWhQx+kHA4o+lvlWAMvbj+nFp3AUelWWuLBFJVjpOeh47+xZUZJOpVKppVLJs2dHHzmavXdf2t59aQBAICCvvjIPv0MfXKutA4Anxo3FqisASPT23jhmzDfXrh8vLR0hAotCJc9eEj97CT5OOSAUKnnBfWMX3DcWP9CLo2lmPbKxfPrLOrzJHBd33gsfLMFbzXlg4+QHNk7GW\\u002fvgl\\u002f1PYl8Ghbmfynkfa3n6zflPvzkfazEycq53GPEMcB4zJUyj1rU1ijIvlWRdLrnvqelrX7b2e25jWKARSR+PnZ3b3lwibpNoVFdbamZ69lRM27AGPYpebq7CW20MnhEhsBqV1WP4U0zqygSZQA1hx6aKzuPsA+Jnx7\\u002fcXPVc5KRsYeON1tp1QaON4SsAaFNKqcTbmFprESeaPZdsx6XY0Swt3L3YfaY73eVw47mzrVcBAV+G56rghRa7eq72XkgmkK+3Z+5vOE0jUrzMu1tZf5x+ICDIQvfpueLiy8I0jUFrR2K5051XBj08vtfk5oCEhLi+884i4zaVStr03QMHDmbW1ggdHNjTpocHBljb7rWmowMApgcE4AcAZgQGfHPtekFLK37Aho07TkCk5\\u002fq3Fhm3m2uFT8358p+fzs9bO9HemWPmZ+M2Q0CQud4hJeI2ACjvFPQWWL47PwGA7ZNXJrn5GVD0SG3Rvsq88k5hh1ppT2P42fGT3fwfCbWs\\u002fnUGw76qvBN1JSXitg61kk2mBnMdZ3uG3BcYQyEQ8d4Y8tqbt5Wk32yra1cpuFRajL3bA0Fxk1z9qMT+9ko89FOjvBNrYZOpeSuex1r6QaZV\\u002f1OZd7W5uljcJlYrCQhiT2M60VmjHT0muvoluHhjJyb2VuZlCRuLO9pKxW0qvQ4AhCq58b3CsjFs3CuxFp7BbuVUBUr5n2WZl5qr6qVihU7DpzFiHdyX+EZM87DcBfSd9DN\\u002flmVOcPHZMfV+rUG\\u002fszz7WG1xlaRdqlXzqPRIvusK\\u002f+jen\\u002fudZ0QILOjViqkHpI+co35ZHRD3\\u002fI0jYw5ukmpVTDJlQ1iCaahA1OLN4va43k5+G\\u002fWxaXvL6E9N2xv87zdFnoyM4UeP4UdjLRahEMgPeC98wHshfqCbAY8z2zV5tmsy3ooBAeRB78XgvRg\\u002fcMuwWLQH11hokTogUrUaAFzZFnKTPTlcAOhQWej9bcPGXcTV22HC7Ogze26WZteOn9XT8q0gtXL392dKsmo1aq27r+O0FWMXP5xEMG+jeuFAxvEd1xoqW1VyDdeR7RfqNnXpaNxsY8rBjKN\\u002fXKkubgKAgAjPZRunjJ0eYRo99PvFX947+OqPa5MWxJmMl45kffrEHxveWbxofbLRcmT7lc1v7dtX+GlTrXDbJ0dLs2tRFPXwd37puwc8Mc8\\u002fSpn64O8p107mNdUIDAaU58AOifNZ98o8F0yjjeG6ruHCmd51u5BqNeYjPbQpZQqd5tFL+6+11JiMLQppi0Iq02osCqxqiWj9pX1Vkp5Wdh1q5c3WuputdVtL0rdOXu5nZ3mC+7fi1E+zUwzdTUMESvnZhvKzDeUPBsd79ft75EhnClVytX7QfZ4B4FBN4dtpp6VaNdaokInrZeJMQUNKU+WpueuxQ1\\u002fnXW5RSLGWQTHkUz1UXfBG2mmFrueTalFIT9aVnKwrmejq++PExWyyhcAEAFRK2sUa5QPndhV29DxjC5TyC40VFxorlvlF3fVE+xEhsFzp3iXSnDmG+8kEs8lyrUFdIslxp\\u002ftgjdawyCeiVSk7XFMQznN+LnKSM70rrbhB3pknan40dHATjjbuLnoUBQCKpV7edDIJAPQGg95gGFH9GmzYYNnRAQDFNOJKOZT5xTN\\u002fufs6zrhvLJVGzrtZ+fsHh4rSq9789SGkO8dx7+bzWz8+EhjpOWf1eACkuVaYfaXUM9AFK0S2fHRk38\\u002fnPfydZt2fgKKQkVL07kO\\u002frX9r0dJHLcQVBuTm2YIfXv8ndmLwwoeSOkWyjJQiBxeuabSzXfbSsk31Fa2h8T4LH0pCEKguac6+WvrM5\\u002feZfIbruoaRTk3XQxeXYmFhACOtStnTV49ca6nxYnGnegR6MDkKnbZGKkpprJzibiFe3ijvXHbmL5FaQUCQWZ7ByW7+fBq9XaU4U19+vrG8VtZx37mdx2c\\u002f7EjHJ4afqCv5OOsCABARwgr\\u002fqPEuPiQCoaJTuKsi58\\u002fSzL40mZGDM9cCgEKn7VAr1l7YU4nRdv3zR2nGuxlnjdvebF6ym7870w5F0SaFNEfYlNfe1Ls8cOfU+3UGg3F7Xco\\u002fzQoJj0rfPW21uRfwaQycxcjQTvVgdcEL14+iAFQiaZlf5GgnTwaJ0ijvPFxTmCNsutJcverc3\\u002ftmrKF2z0FhaVFI11\\u002fcV9jRGsx1XOoX6c3idaiVN1trD9UUAsC+qrzRTh4r\\u002fPuLONxuLJz0nWeC\\u002fcy\\u002f677\\u002fvfqT6c7LPOh+NCJdpVfUK6vOtuwTqJvmur6I38EKNoSO29BLSLkzOeX3vYpbCtDGnaeqqq21TZIwzsJdzIaNfwcl2TUIgviGdiUOSkTy71\\u002fdEznW\\u002f+O\\u002fnyB2ty\\u002f5\\u002fOm\\u002fUg5m3DxbkDAj0mhJOZhhx2d+c+R5k49eZ9BqeqICRRnV+34+Hzku4MO\\u002fNlJoZABQvTLvjQc2b\\u002f34SPykYJ8Qs7QBa9j06p73\\u002f9gQPb5rLgZFUZMqAoBf3j1QX9H60Gvzlz8+zWTUafUkctfE1nBd1\\u002fByo7XWuBHO7zMV4c+yDIFS\\u002flzUxCciJhAxl6xHUbVei3Hs4sUbx0RqBRFBfklaOtW9Z+pqhX\\u002f01pL0DzLPCZTy9zPPfp+4qGcfAK1B\\u002f17GWQAgIMiW5OVJbn5dA57BD4WMvv\\u002fc33ntzVh\\u002fizBIZAaJQ+l3MhFLcUfbB5nnAYCIEN4ZNX11YCyuSqlNKWP1yv3HSj3jdCcRIQRxzRo3DsigTrVJLnkz7RQKYFRy2P9rbfCoL3Iubi68USBq+Szn4tvxPV8\\u002fLJmChqV+kZ+Nm2v6BFcGRI9z9n419QQA\\u002fFGaaRNYEMdLbFLVXmw7Uil7HwCICFGP6gEAAWSO6\\u002f0RnGHrZYIAmNbXs3EXOXAg88TJ3EGtRfj2uQv9FDJaHP1wuuW\\u002fSRs2bh9aja6lrv3QlktFGdXTlo9x83Ew2i8dzVLK1YseTjYpDABIXhiXcjAj7XyhSYjwHNj15a0l2TXho7t+iYkkApHU81t4Zs9NAFj93CyjugIAGoOy6pmZbz6w+eTfNx57f6nJ00oS50Sb1BUAYNWVUqa+fCzb3c8Jq64AwKSuYPiuaxhJaapMaawAAAcac6xTn01qBEr5Sv\\u002fopyMTcXYigjB6nViGoOFmax0ArAqMxaorIw+FjP6nMrdULDhZV9KikGJ7nJ5rqGhTygBggU94j7oCAAAGifLhmFkLTm7DGoeFnwqv61EDALwUk7QmKA4\\u002fDODUPatzd9lWmq7QaQHg9bgpOCWHALwUk3ylubpA1LKzLOuxsITeoUEAcGGwPxwzC6uPAWBFQPTPRTdrpKLijla5VnMXy0hHhMACgHmuqyPsRqeJUhqV1WqDkkZgeDECxtpPHcL8oI1\\u002fJbvz8vAmDBZHbQLLxp0k5WBGysEM4zaFRl7+2FRsCWF5bj0AvL\\u002f+d5PFhBjTg3fNi3NeX\\u002f3Ti0u+ix4fOH3F2IlzY0xCykhlYQMABGLWAwCAwEhPACjLrcMarcS4r0Wqihv1OkNUQn+R5uG6rltEZzB0alSlYsHxuuI9FTnGedlXYpMtTi2ZeDzC2hY2R2uLjBvL\\u002fXoy6rAku\\u002fmXigXG9WEW+\\u002fbkw13pLsdb6GOh0jmS7+LF4tbJxPiBW0Br0J9rKAcAHpU+wlutHq8tAQAmmbLAJxw\\u002fBoAA3BcQ82baKY1Bf7K+5MGgeLwHwCKfcFMFmwkEIITrWCMVoQAClYxJ5uMc7hj4M7uL+DCDfJh3P+1\\u002f5DNh2Zd4UzcEAnLlnxfw1oE4f63kakblO8\\u002fc5XzAvoh3H\\u002fSshw0bdx5jmwa9AT22\\u002fYqzB3\\u002fNi3OwQR2ZRAEASx6ZzDHvNAsApigXAITE+fx28Y29P50\\u002ftzct93r5L+8eWP74tGUbppiWYFJIVSQSkcEySy1i8xgIAZFLlFijldh1r8DdG+MBjclkfTFc1zU0vsq9\\u002fFXuZbwVgIAgz0VNWtaHGDLizuT0n2COJVvQCABEBAnlWZ5zdGPYGTeqJF3dlY0Ui7sayEXyXbF2EyE8p+EVWEUdrcYawARn7\\u002f4LG+8urUpZs0ICABE8l77OM6579etMQYNFgdXX8timEJ0Ss\\u002f7HnWcECaxhZEStRTjszJvaFXUHgNOXiwgIMn1iV5cv4pDuVlczKgXtMrx1xPDP\\u002fT3ptDZsjFhMbRooVNI\\u002fP577+9vTa1\\u002fueWhhsGkAMGF2VFj3HFlf2DtzNr635KHX5l8+mv3PT+e2fnxELJA+8vYi4yiTTdfphHKpksnGLIrVoUANKLNfJaSUmVWTWYNRxonaJPgBDMN1XcMFEUGS3PwfD0+Id\\u002fTAj5ljKn6yhiaFBAD0KBq46zP8mDmS7vx6I+0qBQAQEYJ9H7nhjsPdLb1F0XUz97O7a5EbazDOnAKAK7NLm\\u002fbGrXuor\\u002fJGZ8YAH6KpI+ZdYaQLrE6tKLX9\\u002fAyX5fiBfhlRaxEOO689NtO0fSWtgkhEsJbBYjCgGfm13m496Y02bNi4FVY\\u002fO+vy0ex9m89PnBfjF9b1hB0U5XV+X3rezYoBhYgRCo08bfmYSfNjH5388endN01CJCjGuzy\\u002fvjy3PiaxJ95fllcHmMk+JocOALJOhckBAGpKB06mxuET4ooQkJKsGoPegOu5YGK4rmtomJbKISIIi0x1YbDDeM7G5+oBIfcRNbGIrO92Dzh0aFchnhGlTgsANFKfP7V0687WemTdfRmYfXQ3GCGY+jL0nuMzYXpz+nr\\u002f6Xe8q+Wg6PPCRggCdfOZ1n2DFVgjbS3Cu0JRRfPxCwU5RQ0tAgmKop6uvFlJ4Svnx5vKSQ6dyT1+oaCyTqDW6ERiBXbm8fKe54nd99MBj4NDgEm86AuV2kKRjg0b\\u002fw4oNPJTn6x4Y\\u002fXmb1\\u002fc9e3R543SJHlR\\u002fB+fHz\\u002f428XkhfHYDlIdQimTTaNQyQCAomhbY4ezR0\\u002fggUAkEIgE7Dza7FUJJ3Ze2\\u002fntqdB4HyqdAgBqpWbXpjMIgsxY2VU37e7rBAA3zxbOXZNotLQ1iEz5YdbD4jASZkReP5X3z0\\u002fn73tqusmu0+kB7Up1H67rGhq9l8q5TTBIZLVex6HQvpvQZxtCI6agixGjetDo9VgjFm13Z4ThwqQvjdpuxMLsriRQ9X2epkvoXfN4TzDSBZZaP5SsgpG2FuFd4e\\u002fD6ak5NWOifSaOCdDrDJfTyn\\u002f486JCpXl4RVdep7c7f8H0KL3e8MWvZz3deKsXjjHtS8D0lBrwODhW3vcj3mTDxn+MuEkhkxfFpxzK3P9ryvLHpgKAHY\\u002f50qY1H2\\u002fc9vjMz5IWxDm6csVCWV1Fa\\u002f7Niq1X3zKKD4MeXZfwXlC0V0Ckp72znUKqSk8pbq4VPvD8bNOR\\u002fSM81r08b9unR5+c\\u002fcWoyWGAoukpxY1VbWtemB0Q2TUpFhrvExLnk5FS9PLy7yPG+IvaOq+eyPUPd8+7UWE6jpU8\\u002fuGyqsLGPz4\\u002flna+IDTOl0IjtdSJMi8Vf77vaZ9gVxi+6xrhONFZHWqlQqdNdPUZVCk6n8ZokHdqDfoOtZJHtTCHK1KZBRpvHdMKzbXSDvORkYVrd9Zao0JiPtKDqTW8yfne4q4JLIm2A0EIbBIHAJR6OX64G4lOjDdZwUhbi\\u002fCu8ML6aXQamUbteppZtzxhxRO\\u002fHzufbxJGseGeseGeGq3ui1\\u002fPOnBZ8zGpXVgGPA6O0aN98SYbd5uP\\u002fvdL7tWSn6++y7ct23KnePSdxekpxTu+Pjl+VpS7ryMAjJsesen4C\\u002f\\u002f8eC7tXKFEJGdzGa4+Dmtfmstz6KrqJxCRZRunZl0uSTmYoVZpOTymR4Dza8+tmzTfLEiz4olpngHO+365cHLndQQBv3CPdS\\u002fPxXbsRBDkvW2Pbvv0aPaV0n1ZNU4e\\u002fFXPzpy8eNSq2Dd7jmId9s6cTSde3Pfz+Run84\\u002f9eRUhIHwnu4SZUXynnh+84bqukcxoR89SsUBr0GcLm0YNlN2FJZTnZOx0VSBqmehq4d5Y2inAm26NCL4LiUDQGQzXW2v0qGFQcrCHW40tDow9jeHD5tdIRYWiFpVeZ3GiMFPQaNwwZbvfW1i4pDvDV2UvUQi0N0J\\u002fAIC3Ch7CD98aI20twrsCj2OWU8mkUwK8HTIL6gwo2tfsnkUGe5zPPl2JN9mwmr8+PbLz86PPfvfgrDX4UozDv17Y\\u002fOqu+1+cu\\u002fb1RbihgUFRGoN66zMyNiziF+5+sv47nJHrwN5bgF\\u002fHzSfE7eXvH8QZTSAI8vAbCx5+YwF+oBcJMyMTZlp+IjJix2dim60bwZ3kgnUTF6zDf816w+Yy\\u002fvfq\\u002fP+9Oh8\\u002fgGG4rmvEMt8nbEd5FgD8WnRzVNIy\\u002fHDfTHTx3VORCwCHawp7C6waqahMPMwCi04iT3L1u9BYIVDKd1XkPBAYh\\u002fewAuM8Y4daoTMYSLdtkYyFPmHf5V9V6LSHqwtXBuA7ghpQdE9FDgCQCIQZI2BhwSFw1wRWACscs4YEuNA8OZaaVXRqRS2qerx1IEbIWoR3F7VGd+x8\\u002fvWsqvrmDqlMpVRrtVo9AKAGFIiD+KEdruPYsIakxaN2fn702tGs3gLrxolsAEhaPBpnt4Y3tm\\u002fEm2zYsGE1Y5w8E119rzZXn20o\\u002fzQ75aWYpN6RoWaFpFQsMCbdm5juGeRAYwpV8kPVBYt8whMxGktr0L+ZdhrjO2w8Fp6Q0liBAnyYeZ5Fpi7q1WVKa9BXSUTBfXdp97OzL+5o06PoyfqS+d4WOngNC2uDR\\u002f1ZltmhVn6anRJl7xrKc8KOfpl7ybjI4DK\\u002fKGzv1nuIuyaw1ng\\u002fh3053XlZNBe\\u002fsg0A5Iiv76jFPxoOiG0tQplcvfHNXdX1wgmj\\u002fFfOjXe0ZzPplJ92XC6pbMG79stwHceGlXgFu\\u002fmEumdfLlFIlQyzOnx5\\u002fvUy4yjG3cbAfPnPxb8vZAPAlNiALzeYhWEaBOIFb3X10f7n7QcDbLW0Nvrm2\\u002fELFp7a3ijv\\u002fKXo5pGaoukegV5sLgkhSLXqOpk4V9hU1imc3l3VaIJCIL49atrTVw\\u002frUXRdyj8rA6LHO3uTCcRqqWhvZV6lpD2S75Iv6u92qkcNEo1aplUbM+UNgNbKOthkKotM7at91ChHj6cjE7\\u002fLv6rW6567duSXwpsTXX1dGWyNQd+mlNVIO2621obxnPfOWIPfs5sF3mHHa4sB4OUbxwtFrdH2biQCQaZVtyll8Y4efU2SDvZUeVT6lwnzHr20X6xRLjq1falf5FhnL2bXWoRF2cJGAPC3s38rfip+z3uEuyawcDBJlvUplWAhK9Aa\\u002fuNrEe49kVVdL7xv\\u002fqin1iabjKQ+Cq37YbiOY8N6khaP\\u002fuPjQ2ln8pOX9pQd3DyVq9cZkpeYha8u7E09+ntKdWEDAAREey17aua4WWZh9ksH0j9Z\\u002f6vp5b7q71jmE75GlDLVgZ\\u002fOXjuW3VTVZjAYeE52IaP81r252NWn5wE3\\u002f3rZ7q9PlGRUadRadz\\u002fn6avGL944ra\\u002fS\\u002fZFJUW3rgBYbNvrCnsY4OHPtM9cO32itbVZI\\u002fizLxHv00fphvndYo1zyRc5FPWr4uzz77\\u002fJs09CGsHGTXP1Wn\\u002f8b496FHkUTDn4v02pwxYByrSb58M\\u002fGbTKByCZTf0la2lvxPBs1kUulf5adotLrSsRtJd39Tq1khmfQUr\\u002fI\\u002fVX5Kr3ul6Kb2KG34qfh\\u002frtbOdUp7gG\\u002fJi19\\u002fvrRTo1qV0XOrooc7OgoR49fkpb2XrnoXmFECKwHvJ\\u002fpa0kcGnGIAssiyH9mLcLqhnYAmJzQM2+t1xvqmsxaDBsxFgwasPO1GKw\\u002fjo3hYtLi0X98fOja0SyswLp+PBsAkjAC6\\u002fd39u37\\u002frRHgMusBxNRFDLO5b+76odHPli+9IkZJp\\u002f4KeGfHX5BIpLt\\u002fPxYTXFXuiiOTqH0xbmf15e3hI72X7hhKoJATVFj9qXiZ79ba\\u002fJJ2Zf6+cYt7n7OM1cnUujk\\u002fGtlv721tzC14q0\\u002fHsMuXTeSceAwW0RSsUzJZfXcUowCi0wianX6HlcbNvrAkc78e9qqq83Vh2uKMgQNbUqZWq9jkSmeLG4E3yXZzX+Ku1n4ysTGsHHjnLy2lqSntdWJ1EoulRZj77Y2eNQEFx9Tv81eoAJln+VfRrQGvUitUOstNytfFzxqnnfo7oqcq801lZJ2sUZJI5LtaQw3ht1EV99ZnsH4Hcz5MmHeRFffvZV5RR2tEo2KRiLbUxmBHMcIvgve9dZOdYp7wMWFG\\u002f8szTzXWFEr7VDqtPY0Roy92wKf8NleA5zkCGdECKwYruV6NADwZgS+F\\u002f473mpjIBz5LABoE0qhWxrtOJQmkZm1GDZCIhLsucz6ZpFWqydj1nA1Yv1xbAwX7v5O\\u002flFe6ecKNGqtsY2QWqnJvFDoH+Xl7t+1TEdRWuW+709HTgj6aO+zxjXdVG8tfmPpt1ve3R8\\u002fOdynu7kli8uInhgCAKf+utqXwPr59T315S0PvbN0xTOzTEadRkeidN0cJO2yTc\\u002f9FTk+6JMDz5vWfvl8w+8X9qbePJmbMCfGtNdIJsLH5WJuZVFt6\\u002fhwH5PRKLCCPR0Lqvubo7Ex0pjtFVK9+jW81WpuZV8ASHT1xaZSWUmMg9umRAs9tJzoLIvnQ0QIFu2DwoHGfDJiwpMRE\\u002fAD1rHQJ3xhr\\u002fyt3tz6qXIp9KcjE3svvN0X742e8d7onifJ3gzocGcY6eEcAkLsa\\u002fawf1CAsw1lr6edePTy3pP1JUajWq9rkHca12n6dzNzUhiBgHz1+\\u002flt+278fST9xY8P7DyUFh2KDyMbmZYYIhIrnnhn99Z\\u002frv+2++oXv5w1DQ3qODaGi0mLRqkU6qwLRcaXGecKNCotNr399I6rAPDAy\\u002fNNK+bSGNRVL80z6A0n\\u002f7xschsQpUx1+VC6u78zVl0BgEldAcClg+lKuXrRhqnYlfWM0bW0M3kmywjH25kH5nOCKArFdW0cJs2R05WjacOGDRvDyIiIYA07ehR98uqB0w2lxpdxDl2CQKpVTz760wtRyRsxdYX\\u002fSoJ8nb54bclvu6\\u002ftOJhGIhGiQtw3f7SqtLIlt7gB7wqwYdVECpl0\\u002fnrJnwdSaVSyv7eDaWhQx7ExXCQtHr3t\\u002fQPXjmWNmx0NANeM84MYgVWZXwcAgTHeJgsABEZ7A0BpVg3W2D9VBQ16nSE6sb84fFlODQC8v+Yn\\u002fABAh0CCN41UfFz4AFBc1yOwats65CpNYoSvSmO5kXSnXLXjXNalvMpGYScAeDhwpsYFrp4ax6RZyAhpFHaeSC1JLamtahZJFWoqmejmwBkT4rVmWrwzDy\\u002fgxj25CUGQa5uebOuQ\\u002fX4i9UZRrVAip1FIwR6OyyZFzRjV38dhw8a9jl51RtOxgWz3Oon5CH7sDqLpeMKguUF1PIUQzKoXh5ERIbAMqB5BCMjwtTbbVpp2uqF0oU\\u002fEAu+why\\u002f9Y7I70JhjnLzPNZb\\u002fawTWiW1P4E3djIv1HRdrFsf293KYMzkCazFCpZA21iwWyQABAABJREFUrp64cTW+L4AR649jY7hw8XYIivUxJrYDQNqZvJB4X2fMOiQKqYpEJmLLDAGAzWciBERuvgJd\\u002f8glCgBgWsp8NyHvVALAksenc7r7Rppw87tdN6Zhh0WnOPNY2AiWcTvKz\\u002fVmcW2PXzeFNa1P\\u002f3iwQ6oEABqFZEChvFFY3ig8drN48zNL3B04WOfWDunCt7cZDCgAIAgwqBS5SlPRKKxoFB6\\u002fWbTt5ft8nHlYfwBQa3VX86vf2n5KqlATCQQSkSBVqDPKGjLKGiqa2h9f0GfWhI3\\u002fMmrhAoM2H2ckkGOoDgdxRmvQK4\\u002fp1eco3G\\u002fxA\\u002fc4Vl8XCgjjts7jjQiB9XLequWeG8byp+AHAPY3\\u002fNaqanw84F38QL\\u002fsq8qLd\\u002fT4JsFCX7sAO3vTjKENGyOWpCWjf3trb+HNcoPeIBMrJpnXDzLt6DqtXi5RMu16NJZUJEcNaP9qCQedRQMAUWsnfgADg00DgAnz48LHBuDH7h00Wn24j8uF7AqRVMFnMwAjsK7kV+Oc2yVyo7oaF+r9\\u002fPKkADd7FIW8qqYPdpyram5\\u002fbvORv19fja2ldeaxZ40O4bLoU2ICwrydaRSSQq09frPoi38udspVPx669sWGeZjDd\\u002fHSr8ccOcyPH5ozLsyLgBBqWkUf7jiXXdG49WTawvHhOA1nwwYAkNjPo7oa1NChk\\u002f8KgJCYjyAEPkIadEKYEb36HKr\\u002fF2YfWnldFJ6FqPzwchu127DAJNk1q+rw1oGokYrGOnnhrQAAYE9jijVDWd\\u002fQho07yaRFoxAEST9XkHYmH0GQpEVmAis4zhcAyrNrsEbjXB5u3rB\\u002ffMM8EAJSklFp0Pe54mxgjA8A5F3tmnC\\u002fR0FRNMLHBTBpWEW1rQQECfdxMS2rZeLX46kdUqWPC\\u002f\\u002fbJxYam2MhCET7u337+AICAaloFJ5Mwz+kffi\\u002fWS8uT4oLdKdRSADAoJKXJ0UvT4oGgPRSy62SEYAfn14yIcKHSCAgCPi68D9ZP4dCIhpQ9FpBDd7bhg0AIjWZxFxHZj+HIHQEYZLZz5GYa4nUSXg\\u002fq9Ab1Nfwtn8DI+i6RrrAIiBEjUGNtw4ElUhS6SxnsrcoJHzqIB7xbeD4Mzfbb9NXxn+B33+NHx48T548Gv\\u002fbT23yAap87xi3eD7D9f44uvNDR\\u002fvlXyvNvlwcPi7A3pWLHZ394ESEgOz84phaqTFa1ErNri+PIwgyc7W1lTgAwOIyEubENFa2\\u002ffPdKaxdp9XrNF1\\u002fQZOXjWGw6Qc3n2uuMVvTo0Mg0agtZy+NTMIxAsuAoqX1bX5u9r0TqgwG9ERqMQCsTI6mkMzqaj0cuVF+bgBwMbcCa++LUUEeACBRqHSW9OukKD9j6r0JJy7Ly4kLAM2ieya5zcaIQiffqmz2RQ3tOvnvKsEUZUuwqm2StvM11NDR46PYqRYuUrZEoAahQZOqbPY1\\u002fQPo6Veik\\u002f+pbPZFDRKDNl8tekDZEqlsCVcLF6A6sy+\\u002fXnlI3b5U2RKubAlXt6\\u002fQq85jRwEAANXJt6oEU5QtQaq2STrZDwBmf1bGc9Yrj2KNeuVRZbOvTr4VawRUrpNtUgvnKFvClS2hqraJGvHTqL4rBGPldRmPbPqHGiz\\u002frfV\\u002fXda8zzBCpgj7QodqSyU5XPKg2yvHOrhfbK58DZ2C63pVJxMfrSua6haINf4XGL\\u002f1lxaZbFlYxOfTZpqMj584cqqi3IHBSFv\\u002fGMZ3AOYGBQfw7TtUys+uXW6WSvHDGI6VlZ6rrvx25hz8gDkoCgwS2eKyhneFWzwf69+fAUlaPPrXt\\u002f4xGNAnPluFG\\u002fKP8lr35uJt7x94IumD0dMjUBRNP1vQWNm65tUFAdFdsVu9zlCSUaWQKhVSVXuzGAAuH0znOXEYbJpHgItJsT3x+aqq\\u002fPrtHx5MPZ0XOtqPQiO31AozLxR+cewlY9d4Oz7r5Z8f\\u002fuihnx+f9H7yktEObjyxUFpf1px3rWxb5sfYzLARTpi3MwFBimvbAKCqWaRUa6P8XPFOAJXN7XKVBgAifCyMejlycyoaq5qtagXH6+65ZTAYoFdTVov\\u002fO9+OCU3tqm51a8PGENB0PGnQ5hFpsxHaXIMmTafYbdCVUe33G0cJJH9g3E8EnbbzTYTkS2JuwOyK\\u002f5Ya1Oc1nW8SqYkk5jowiPTqiwix53urlXyik\\u002f+KkPxIjJUAqF59UdOxHpe9rpV+qZP9hJACSMwNYOjQyf9AiI6mUetBDSJ1+wpUV0mgxJGY6wAQVFdiUF9FOJ8aHay8LgJ1EtX+b9TQoZN+Z9CVYXx6sOa6YKD3Ge6uwNpZ971E23Wfuth2JKvjCnbUgBqE6maprnOK0yKs3RoeDxu\\u002f6sLONRd2rQseDQDtakWmoOFmW+3W0jStXv\\u002fYvyXDfVCQicTclmasJbe1hU2hYi3WYE9njPf0AoBfMtP7FxDnqitbZf05GPlxzny86a5yi+dj\\u002ffszIBMXjfr5jT0IgiQuiMePAax8drZnoMv+H86c2H4ZQRD\\u002fSM91by2eiPGUdypemPMZZg\\u002fY9PwO48YDr8x\\u002f4JWuDEV7F+73F97c9\\u002f3p68ezj225iBAQvgtn\\u002fJxYvnNPDtC42dHfn39zz7cnU0\\u002fnSUQyNpfp6uu49o1FPCc7k8\\u002fIh0mj+LjwjRGsotoWAIjytSBxhJ1dwcs1n\\u002f5tPtKDRKHCWfQGQ0pO5Y2imorG9naJXKbUqLW6\\u002fvuXGlPBLNJ71tKGDesxaLOo9ocJ5BDjS41onV59yaDJIlDiAIBAGUegjANUre18EyE4kRgrzXY2R9P5OpW\\u002flUDp+tEkAwrd5WgGTaZO\\u002fiuBMpbK3w4IDQDI6Etq0Vqt5DMCdRKBFAwAqL5RJ\\u002fsFIfnTHI4AQgcAEusptXAo91it5H1UV0lmv0JibeyxolpAulrVWHldCIGDUBIAQK\\u002fYA5YEljXX1eXZ7\\u002fsMd1dghdvFF0oyK6T5ACBQNwvUZj\\u002f\\u002fAMAmcSc6zpnuvBRnH5AxTl5fJyx4Pe3kxiv7AGBLSeqWklQAYJGpPyQuCebeM6VPw4gfl1cuapdpNCwKBQDa5PJmqXSch2eFqB3vOhzoUfR6fa0\\u002fj48fsGE1fGfOSeGveCuG8XNjx8+NxVu7sbNnnRL9hrdags1j\\u002fu\\u002ftJf97ewl+AINPmPsrv67HW+81InxcjtwobJfITRnueA8AtHtVAw6TZj7Sgx3DbKiquf2Fn4\\u002fWtnYAAJ\\u002fN8HLmBXvS6BRyp0LVTzYVsVdMy4aNYYFIm2f61QcAAm2qXn0J1VcDdP3wWw+RNsukrgDApK4AQKfcCwBk9jNGFQIAgDBIrKc0orV6xS6C3bsAoFedBdCTGA8Y1RUAIERnIn2xTt7fnc0CqFyvPIaQfM3UFYBJXQ0j1lyXkQHf57spsGK442O44w2o4Y2CtQvcHhzNT8aOIkAgImYztYNigXf4RBffY3XF+aJmiUbFIlMj+a4LvMN51K6P+b9GkL1Dabswv60lwcMLAHJamokI4s\\u002fjmwTW1pzMDy9f\\u002fG7W3PlBPd+Yo2Ulz5w6\\u002fuak5IdiLARRLLIzP3dfUUFpu1Cl0wkVCr9NX5mGyp98jkjo+lExHtk0lLPhSTuqWTjNeD7pjzx2qKT47\\u002fzcRqnEmcma4OX9UkIij272IR4uLf4rL6dEKACAcEfnR+NHTfX1Nw4JFPKxv\\u002f+8Z9nKHXm556oqE728N82euzU7c3NGmiub\\u002fdX02RFOzkbPAc8HAHJbW\\u002fYVFaQ1NjRKJQYU9eHyloSEPRQbP+T5RBuD5XhTxuaK4zqDYY3v5NXeyfjhgQj3cT5yo7CotrWottWOQfN2tvAAYAos\\u002ffHK\\u002fcaMqP4xoKhRXfm52r+7doYxld7IzeLafgSWjWkpb6r0GgBY6zv1Ef+e7AUbtwiBbNZ+HUG4AIAa+isW7gsCORJv6gbVFkIvB+NLgyavy0dXAQAEcqi5T08QyEoM2mIAPZEyDj9wG7DmurqNA7zPd1NgGSEgBFeaFwEhkoZbivKojDWB1soCLB2aTh7Fco10o7I1Q1SgNqg9GW6jeOFkwjCf8+3Dkcm0pzNyWpq7BFZrc4iDo0nuDCP+PP59EVE6g+GtlHO+XN6j8aNNQ8Z1D41M8vbZuWRFh1K5Ke1GWbvQZMfx1Mljea0tswOC5gYGpzU17C7IK2sX7lt+v8nh06uXf81K9+PxV4ZHoihcrK1+5Oih1xOT1seNMvl8ePmiD5c3zsPzbFXFS2dPlQgFqyKi\\u002f8rLee38maP3rzH6WHM+v2amX66rmejlPc0vQGfQn6mq+PjqJblW88zY8XhXG7eHnytOiDVyAPi14tRKr4mkQT6DRfi6AEBeVUtZg3B0sIdFYRzg7sCgkhVqbWFNizUCq7S+zRi7emP1VKy6AoB2ySB6ktmwMVwghJ5m0bcIQrDwEGIERaUAJEBYWCNC4AIQUFTS7SMHAEDMZ8MRptlLK+g6IOFO5CRYc13dxgHe57svsABgND\\u002fZgWJ2Y7qLNCpbn8r6II4Xtt5vhQvN7O072pSyrXq\\u002fKT3Cle70VuhjrvR7Y8JRZzDEubrltrYYX+a2NMe6uukNFoqbbpFxHp7jPDzVet1bKeecmMyV4ZYfgDhUWoKHJwD8U5Tfl6ABgKzmpkMrV4c4dCVF\\u002fu\\u002fw\\u002fku1NVnNTXGubsbRX7PSx7p7bFu4lEYiAcCL2sS1h\\u002fZ\\u002fdu3yRG+fYPuuj49MJH43a65Gr4\\u002f79cdjZaWX1q33tONINOo9BXkqnc64ozXn8\\u002f7kqQwymU7qUtVPjUlI\\u002fuP3PYUFNoF1xzApIuKQWhMHujtSyKRjNws1Wl2kpQQsACARCbPHhO6\\u002fkrftdPrkmABj24V+kKu6Silx84YoCkeuF2Itt877BbvOtGTjrQBkApFJovHIrAC2WxTXZ5pzDJv8Hw3V2wAA7ETe7QNB7FCoRVEpgrBNRtQgBjAgSJcSQhA6AOBq6wBVm720RJcy6wZBWACA6tuwxtuENdfVzQDv8wD3jjtDgv10vGlIjDn4Hd7UB2mLn8GburnRnoMCmiMuphPNZojyO0ux6goAmpVtHxX\\u002f\\u002fF3sG7cylXnHQFE01tV1e04WABhQNK+tdXlYZEZTA95vhDEvKNikrgBgqq\\u002f\\u002fpdqaanGHUWD9U1QAAE+PHW8USQDAIJOfGjNu3eH9uwvy3kmaYjRGObkAAIVINOoqTzsOALix2SiAWKVyYZk9qfSDPd3sOYxFoYQ4ON6orzOgqG2W8M6wMWDOTxXHURQeC5yNqxG2BhKREOzhmF\\u002fdDH0kYBnZOH\\u002fcpbzKikbh\\u002f77Y\\u002fciccdH+biw6pUOqFHTKsiuaLmSXv7d2pqnDgr+rPYGAGAzon2czXl81lUomAUBta8emg1dyKpvMjnvb0Br0Yo1crJFXy1vPtmRvKju60mviQ37TKYQ7d4ffUnWmU6tY7Z3sTOPix2yMQLp+tob+jE0gRxu0+agmD6FOMBkN2jzAzK8hpAAAQHWlgGnWZdBVmrYBACHYAQCKms1gorpS7EuEFAxAMGizAfS4Lg947sh1Wcmd+\\u002fO7AwhVcjaZGs5z8efYExGC3mAYQjFOkaQCAILZfhxyj3oFgK3V+1FAiQhxjffCSE7QFWHGocZzjcrWS4L0KU53YmL41olzcftcfqVZKpVq1HKNJtbFdeQLrDBHswAhh0YDgE61yviySNAGAJHdeVRGjC\\u002fzumN1AMChdWllOplsmhWlEkkAoBtMDE+l0\\u002f1TmH+xprpK3CFRqxRarUavBwAURcEmsO4Ic9xGzXEbhbcOhghfl\\u002fzqZgKC4KbzsNjbMTc\\u002fs\\u002fS5zUdK6wUv\\u002fnIUP2z8xLvhselrpsX\\u002fcSbj6I2ic1nlzjx2h1TRKVcxaZRfnl36xPcHlXe8W5jWoNtRk5Irrv4m9hEa8U6kMYg0su1V51FA57iOsgmsewQSQnBEddWAagDBd4OzBiLjPp3ib61sE5US15XDjip1sh8AECJjeZcPbZpW8pFOsZNIX9klpAwSvfJQz1EAEKIvABhU54HxgNGC6hv1ysNmPgQOkTZdrzqtk\\u002f1MYmEXiNMBipqnut+J67KSESGw2jWtLBKHSjALsAOAHtUJ1M12JC6DZKZ1+mKWZ0hue9PNttp0QV0I1ynWwSPewSPW3t2b3fWsaQ2NilYAiOAEYo054uIaeSMALPOYudB9KgD4sTwrZXX5nWWp7bn3isCKdHYmEgi5rS0StYpHp3tzuXiPkYcjo7\\u002fZeqlGTSIQjHWRJrh0OgFBJOqeKDQ21WzIoSaJWr18367y9vapvv4PxcS5sNhsKuXTq5fz21rxrjZGMMZ2o76ufBYdX8SAxd\\u002fNfu\\u002fbaw5dK7iQXVHeKJQp1RwmzZHDivJznRoX6GXeIPSZJRPDfVz+vpBd2ypqEnba2zGnxAY8MmecC58d5u2cWTb8jzGOVM6eCa+YXir16na1tETScKo5M6ujKzyQL675tvTwq2HLTG63jwxR+RCeZm0MFr36EqqrRQ0iFFUCIFrptwiBj5B8htbMnUifr5NvVbffR6QloagODCIy5yO8U98QyOFk9ota6ecq4TwiNRkA1asvorpqMvs5AjnC6IMQvUjMh3Ty39XtC4jUGQAaveoMQvQ2dQcFAAIljkCO1asvqtvvI1BGowaBQXUSIYWhmpsmHwAg271n0BZppV\\u002fq1RcI5DhAqKi+3qC+TLHfQyAFYT37vS69QZONolIwyIzL6ehVxxCCI0JgIURfhOgC1l2XlYwIgXWyeXe5LP\\u002ftsJ+JCO58kJ8q3o3gjF7hudHcbpmfEpcAQJtSltPelNPemNvedLAmX67V8KiMOAf3WHv3WAf3aHtXBqk\\u002fVduplQKAO90sKHKm5SoA0IjUBe5ds04AMJofld9ZVi0f\\u002frvnbYJOIoc6OOa0NEs06jgXN\\u002fywJeQaDd40kmBTqDqDQapRYxt6iZVKA4r2rgG8RbbnZpW3tz8cG\\u002f\\u002fGxGSTkUzsN1htYwTw4orkF1ckm17OGRMyZ0xIzzDAn6\\u002f01ExgoZJJK5NjVibH4AcsMS0ucFqc2VOZkd+et\\u002fDIe\\u002fOHp\\u002fGmbn5+dine1AfY6T8KgcQhM\\u002f1YLnPcRp1szvyk6B8DigLAieb0VT5JXoyeSfbbRHq7hX5CNoYdnfQr7GLPOtl3AEAgxwxNYJHZLwFC1SuPa2U\\u002fIggDwXR4shIS6zGE5K+T\\u002f6ZT7AJACOQwMu8lIm021ods9zpCdNIpduoU2xGCC4nxIJGxStUajXFBKPwtOulnevU1nTwbIbqTWE8R6YtUraMxPoAQnakOR3TyX\\u002fWqMzrFXwAEhOBEoM1ACPivdz\\u002fXhRok6nazP0lt5xvGDRLrGTL72e7tga\\u002fLGkaEwKpTlHszgnqpKyAixGB2dKWsCGfvHyc6a4ZH0AyPIAAwoGiFRJgjbMppbzxWV\\u002fRN\\u002fiUACOI4Hp+9Hr9bNzpUBwAMYk+KqEwnTxcVAMBEh3is3YnKh25Bdq8Q5+qW29rcqVbPC8T\\u002fLdlRaQCADfwAQFl7O\\u002fal9RjzYwy3+Zk22tmloK01v7XV2NvTSF5bKwCY+i8MF8Z+FrMDeh6V9AZDVYeox8OGjRHAbNf4GlnrztqLAGBA0SuCwiH0sxgsGaIKvMnGbYDqcARvMofEfIjEfAhnJNLn0+nzcUYAAIRGZr9MZr+MtwMAAIn5IIn5IN7aCyJtBpE2A281AyExH8H1QKe7VmNfIgQemfMpbjIb5wMACIHbzwn30Pd1IQRe78NapP\\u002frsvJ9HnSW6O1Aqut0pfX8QGLhU5wkOjHeajUEBGGTqXYUqh2FxqHQyASiHkUFKjneDwOdSAMAmU5hslwSpBtV1xTnBJMRAEgEIgBoDTqscYQT5+Ka29pS3i6MdcVHsPy4PAA4X9WTftgolRwuLe7xGAwkAsGRwawWi4xZSreJ+yKiCAiyKe2GUteV5qLUaX9Iu4kALA8bXCx3QJyZLABoxvSm\\u002fzkzXazqygazYWPksNSzp6y1QFyLGbktlEgaBGqzDGUbNmzACIlgIYD0NX+vQ7UoOog0ZACQadX5ouac9qbc9qac9qY2pYyIEEJ5TnEOHvcHxMbau3uyuPh9MLjQHCpkdVXyumQYAwAG1HC86SIAeDJcQ9h+WE+5TgkAlHunFRYAxLq6qXQ6IoJEO+MzfGNd3WJdXC\\u002fWVt+\\u002ff89oN482hfxURVmYo9PNhnqTj1qvy2ttkWk0Mo2mQ6lEAQ6VFLMoFBaFEmhvjyuymx8UsjUn8\\u002f79eyZ5++oNBpFS8eGU6cYhvcGQ3dIs02ikGnWLTAYAx8pLHRkMFoXqy+VZX9YX7uj0YkLi59evzN+1I9nbFwX0Yk11tbjj2XHjBxXBsuZ8FoWEbc\\u002fJeufi+aqODhqJdKOhLqOpcbSbRzqmUGBQ78\\u002fIxMrej23qziVXutIa3gq\\u002fb6ZrnPl4DxXS5nOtOQWdtXVygVyn0qF6OpFqT2V7MhzCOd6j+YEhdh74fTCsS\\u002f2mQtqMtwJEcn02j3ocb+2F8XI4ZMbxpHcBwICiVwWF51pzy6QNQrUURVEOhRnMdk90DJ\\u002fhEksmDDDhq0cNVwVFF9vySyQNIo1UoVP3deMCgKeD5q\\u002fwmoi33hGcaFwuhWlsGCbWyEz2fHHNYxk\\u002fGbffj1w9xRk7TWMBtUG74PIHcp0KABa4j305tGv6slMrTxeVV0ibK6TNFbImoVpi2mV92ibTNpbVPsmPBczBW7sxZkbe4qcDAA0K4dmWnDRRWbNS1KmV04lUewo7huc3xTkqlueP98YwvN8TGzaMjAiB5UB1qZRbngesUZTxKU54ax+8nHost72pUtJuQFF7GjPOwX1d0Og4B\\u002fdIe1e61aU0kZzgClndhbabkxxHezHcdtYeaVYJAGC+22ScZ5OyDQDsyNaqgZGApx3HgcFwZDAZZPwbggD8Pn\\u002fx59evXKuvzc5Kd2fbPTUmYWFw6JjfN5t8GiSSlfv2YHaC58+cMG68mzTlwehY7NCL4xMpJOKJ8tKfMlIZJHKwg4NpSKJWr9i3G+MLb144a9x4ZmzCoNpKbRw1xo\\u002fH\\u002fy0rY1dBHoJAqIPTi+MTsRN51mDN+YQ7Ov22YPE3N679nJFGJhLiXd33Lr8\\u002fv60VK7AG9f7865HpVF8U7z\\u002ffmtvLrpTplLXytquCol\\u002fgpCfD8bcxT7FI+BqXYaRTqxBr5BpU937BrpyOKuxQm0rcphJfERTuqEn5JPpBH2afurxa3vpu\\u002ft+VMgtqbwTCIFLFIAcALdoTQo7k+gSwXY2C9XBj6oAC63JbgVFdAcA8t56EmJvC0g8Kzf5ebhEGkdqm7ryVT0el1\\u002f5QfvRoY5oe80CuNSgkWkW1vPVgw40x9kEvhSx1pfdX8DQs3xMbvTGgaJlY2KKQStQqPaYCtx8W+5s1Sb9HQbD1xneLs637Trfsneu6arLTQpPRgBpSBIdPNu+e4rRojqvlLFQcfrs+JhOIfnb2QRwHRxpLhxr6urr3RvX5aN6iEj6Z9b4e1QMmtOZGd\\u002fou9g2SeZbY+4U\\u002fZIuLo7kh74Y\\u002fhbXbsHHvMlwRLK1BtzHjp1JJj\\u002fqkEsh2ZIYO1Uu1Sh3mVz+K6\\u002fNT37GoG8KSBqWwU6Po1Mo7tYrsjsoOjQwGGcECgM9j\\u002fre5\\u002fES1vKvkk06kMEm0Tq0CO8XvSOVsG\\u002fssl2KhcLVJKdqQ\\u002foPxv0YAieb5BrPdqUSyUC1Jay8zhXDYZPpct9HudHsPhkMQ251DHuaYpanRqCOVc3BiV3KuRWZdfFumUwHAOPuQL2N7kkUON978ovgAACCA7Br\\u002fkgej57GnNy9k\\u002f57aXgYAvkznvxJeMNkzRRV\\u002f1140vezUKkq6P+gIjjeTRDUNmZjiHDO3V38N06fzZNC8443pQ\\u002f50OrXyF7O3Fkt6Yu1kAtGOzFToVEq9xmTkU1hfxj4cxHY3WUwM1\\u002ffEBg6RSvFD3o19FfkSjVl274DUrHsFb7oHGRERrEmOc7M7rh9v\\u002fjtNlOLPCqcTGRKtuFZRLlQ38ylOyU6WsvMs4UJnA0CnWpne1vOXZpF+BJYLzeERvxW\\u002fVO5GATWqKwaR\\u002fmzQWpy6UunVhZIKAAi16y\\u002fybMPGf5NDjTdN6mq5V+ISjwTP7lo2PWqoVwiyO6putpemCksXuo\\u002fr2a0XCQ5mFX8v52y7LhxKXuB7BbvkOhWZQLrPa+I89zHudHsA0KOGTFHF92VHjT+oAnXnHzXnnwlagN8ZYFPZEaO6YpJoX8Q8FMX1MQ3pUP03JYcPN94EAJlWNdkpKpxjOaP0jlErbzOqKwDwYZrNAMx0ifup\\u002fIRcp0IBPdyY+kTgXOwolna1JL07dX2e+xjsUDw\\u002fIJ4fYHqZISp\\u002fNus34\\u002fazwQv7n\\u002fO1yNbKswq9emifjgFF38n\\u002f26SuEh3DVvtMDrfzMk47NitFJ5oz\\u002fq65pDZoRRrZi9lbt497jk\\u002fpc9rhFr8nNrCUi4VrzvzToujJW\\u002f2vMSIEFpVAfzzg3cNNf+SKbwjauyLwCCARnDFL3B9iEPv8Y8BxfdHwRJJmuiT6Mj0uCdJkOoUH3WWmS2LvecCMjgIqgUIjUic59kTObdiwYeS6oEsGTXWOxv0UERGCD9PZh+m82CNBolXglky4Tch1KjKB+GXMQ1hlQEQIY+yDfhr1+IM3vzamaZ9synwqcD6uWVqHRnat+3I2+M\\u002fCqisAICHEF0IWZXaUNyjaUUAPNdy46wJrX\\u002f010\\u002fZYh2DMCNCIlFmucfvrrwPAiaaMR\\u002f1nkvvo9n6mJduAGgCATCDO6hWhHF4UevWQP51DDTcyROXG7Qd9pzzqPws76krnP+w3Y6x98LNZv6n0GpFG+nnxvk+j12F9sNzK98QGFq1B\\u002f+iFg\\u002f9ldQUjRGABAItkt9rrqWUe65uUtSq9gkqku9K86MS7FoMNYvsEsX3wVgyJDvGJDvF4qw0bNgAAoFPbVYfrQLUzHzHDbrgn0fphlXcy9lfTBJtMX+Y1YXP5CQCQ6ZTV8lZ\\u002fllkJSEFnrSmZfZKThepUAkKY4BC2p+4KABR01uGH7yyHG28earhp3PZnucTz8Je82GO8UWB1auWX2gqmucTgHIycas4ybiQ6hHHIt\\u002f1WPLRPx4AadtVdMm6H2Hms97M8NRHB8X7Yb\\u002fqP5ccB4KqgqELaHMB2xTt1M7QzsYHjUGVRtURk3HZhsNeFxY919nSkM4ewwtW9y0gRWEaoBLov02xGwIYNG\\u002fcizjRumbQRAC625a\\u002f2mdzPpMydgYAQsM0LcMRwewqEBWox7ofTWI5nxJ7Kxoz0YN+tI8VamfnIbUePGhQ6dbNKVCJpONmcmS+uMdpJCPG54EW9oyw+TKdYnn92RyUAHGq8aVFglUkbTen8uPnB28GQP50ccXWzssO4vdwzsffFmljkkbCl6oxKrwWAI02pzwcvwnsAwC2ciQ0cZ+q7wopBXIe9c1ZzKDTz8f8EI0tg2bBh49\\u002fBdJeYK4JCAGhVidenfrfWb+os13jq3etpEsh241MsayMAwA7JtF3ZSybY5J72wgqdmmmp4NFUbcckWhgddgTqzsRzL+OtGMgE4uthK2J4Zp1lTCzxSDAKrJyOqlp5m7d5nhZgwldOVM5o\\u002fuBqcofAkD8dbK0fLl0PB51Iieb6pbaXgvleOIZ8JjZwFLR3FQq8NWbKf1NdwQhpNAoAKKCFnRl7G37dVv1FXmdXfFuHakUagdbQUwZiw4aNe4IpztGmLgBt6s4vig8svPzBVyUH8ztrzR3vEL791tVjV6vE1vkb8cMEKjL7aFlusgey3cxH7gIhdh6\\u002fjH5yukufbUEmOUWYpm6PNKaaD4IeNZxryTZuz3Yb1U9YaLgY8qdTJWsxbjhQ7QacbjYFnKplrVpDTx0rliGfiQ0cHSoFAFCIxAQXb\\u002fzYf4YREcEyoIY\\u002fa78p6EwzvvRmBho3lHrFpyVPz3JZOcVpkcnZxshHq9Mfu1F05Fphg7BTplDz2HQ3B874cJ8lkyK5rJ5gwDByJr30Um7VR+tn4wcwWONjYxh5N2JVsJ379qpzxlJ5mU51sOHGwYYbXgzHee5jFriPYZFuy5fBIrfSMcGL4RjD8zOGPX4oPxZi5+FE42Id9tZfLegWjnMx\\u002faLuGGQCiU2ieTIcwzheSU4REZwBftKICGG++5htVecA4GRz5oaA2diVDVPbS0XdDSnuzOUM+dMxpfpZ0zSB2z1PjQIq0cpNs7pYhnwmNnAYdTmPSidhVOl\\u002fjREhsK4ITxR0psXxEmO5E7ZUf2ays0kcP2ZYkSRzxAqsEkmV2qCJ5vYXmv6vYUDRpzcdSiupc+azYwLcKCRia4espK6tsLplWVIU3nuYuJRbJRAPkPtijY+NYYSAIKu9k+e5jd5bd+1w401jmwMAqFMIfio\\u002fvr3q3ErviQ\\u002f4TL4z84Y0IgVvGgxPB81\\u002fPGOzSq9pUopW3\\u002fhyinNUINudSiCLNNKb7aWmtKepztGJjmFme94eHKmcPRO6GgUhgAyht\\u002fgC97F\\u002fVl\\u002fQowaJVpHSmoftZGaaH4zj+7vR+Sb77WPIn45S39VdyZpvEQ3jI9er7TFDJoZ8JjZwODFYNZIOmfY\\u002fPQE1IgRWuuiiDzN4lZeFJgvONPc8cdeM4Qjkk5JfJFrZwQk\\u002f4gf+w9wsqk0rqZscG\\u002fD5xnmmyQWNVlfZ1G7HvC0z8QYDmlZS5+vS3y+BNT42rEeN6d\\u002fYPxwyc73\\u002fjHV+U68Jio83pae2lxrnVhR69baqc5faCr6MfdiJysHvNsIIYrt\\u002fFr3uo8I9bepOpV5zvCkDIAPrgACy2DPh6SBrm\\u002fbdOtiY0xBwpHImOoZfbMsHgMONN00CS6ZTXRUUGrex3dtHJqZ8OLVBaz5iASUm24R5R5qD\\u002fJeJ4DvXSDrkWk2tVOzN5uKH\\u002fxvc0p\\u002focCFUtyQ5zsNbAQCARbJT6Edu1EHRndlqw0RzuwQAkqL9sKkbFDIp1Buf3KBQaXaey7qQVVEvEBsMqL0dI9LP9YlFE9wdu35uC6tbjlwvzCprbBZJDAbUy5k7LyFs1bQ405H3Xco7cr2wokGo1upEEkX8o9+YDp728zPGhAlrfIxklTduPZGaX9Wi0eo8nbkLxoevmhpHIPRcxZ6UnM93pVz89vEGgfj7A1cLqltQFPVx4b\\u002f\\u002f0Cxf1\\u002f+WdJMO8ptPQohJThFJThEijexI4829df9n7yzjm8i+Pn7irk3d3Z0CheLu7rCwLOsGz7r7f90FWHaXXRYWlsXdaYEKLdTdXdOkSeMy87yYkiZDaVNooUC+H17MnHtmJqHJ5DfnnnPuFWxyp1LR\\u002fHbOjq3DnyPAoCf63CGxQr+PItY8d32LHjHQSRQjiiIowibTXRl2EQLv2S5x993yKQvc4jGBldtRXa1swV7\\u002fhZYcHWIAADaZMc4hHHfIUMPUP0JqVul5K0wxVAIQ+kzYsnGHzPEJPlZdDAD\\u002fluW8GjMOP\\u002fxwMCQEFplI0aM9PxB36CUscg8z5UMBPWIwoAa89aHH3YEPAOnFdXNG9baYlLRTveHLvdXNkggf5+UTowkEKG8QXy2qffuRKSafHWeupRTUxId4jovyNRiNidkV3\\u002f53SanRPTknHnPwdhIuHBNuMCKf7jrv6Sh4ZNow07HEG91WrPEBgFPpxe\\u002f8fsrdkT9vdCiNSr5eWv\\u002ftf5eyyxu\\u002ffGoOLsf3Um7lp7vOjwj2WDEpWtqpTs6vchTc4x4EA4ipS435ajY3U6dsw5usQ0hlr\\u002fOevNh99Du5OzMkZQBQKK\\u002fLlFT02HloSHFdUv5K9h96xBAn9H8\\u002ffNUDkKwTK\\u002fTzZDnUKFsB4FhjxnP+swHg9I35wanO0XcYJLsLBHJcL7TkAEC7Vi7TK3vv12XKiPdk2d+qvaqNgWKKu\\u002f8IJ\\u002ferzXW\\u002fFWQkOHuNcu4jL\\u002fCBZEh8yDyZ\\u002fkXyrNnOq4gEi0yCdl1LtjQlhDdE+3mqjf17iH9IGBboHuThcCKtCEGQ9TNH+Lr0mOoAX\\u002f2bWN0seX5hwrrp3dMQeoORQu7+DLy2ciKTRqVTuz6lj88eOe+tPw5fyTcJrNhAt9hAN53e8Omu8yIea35CD00grfHpUKg\\u002f+ftcdIDr5k2LTDGtt38\\u002fefJqcVJOxfgoX3PnT\\u002f4+98ML84cFumO7KAqDX2V192CRaFjHgY4bj\\u002fs9ktNRhTf1BzaZ8WH46tmXPsCmCwtktUNcYGkR\\u002fQf5u3WIgUthfhL5CPNBmWCa7zby+5IjAHCmKfMZv5liXWfujXwy6+cHzaOPd7m2LlrY\\u002fd1MERfPcL7lj4XKqM2Rdn1oI\\u002fjeloM2Bh4igfDdmDlrz+4t7RCvPfvfk2HD1wbH2jN6U8APHkNCYE1yXLC5\\u002fIOtlR+PEc0EAKWhs1pZUq4ouCQ+YUQNE81WgB5YjKixVdPuSBeZRzKsR2UTWD1BJBC+f37+hzvOnkovOZVeEuzpOHdU6JxRIQxad4apSqM7e63U01Fgrq4AwFxdAYCQYxEkYNGp\\u002fq72GSW1CIoObOn4mYxSlVa\\u002fclKM+Yzh9OFBJ68WX8mrwgmsSbH+JnUF8ECpKwBwoPNbtTLoVUIpDGpsaulO4FAYdjRuq6YDAEx90ocsRbI6ia4TAFwYwgdGXQHADOdhW8tPaYw6iU6R3VFVqWjG\\u002fhYBHNceF0XuEfPGYM0a6d1cKSiE6+7LdsZ6ov5Xe2WaU3f+AI5D9WmmPK27Uxppg0YivT5s\\u002fAtJRxV67U+5qZvz0kKEjgF8EZ\\u002fOYJD60B4vx4zFm+5D+niTdwcfVvBKj+f21W\\u002f7s\\u002forAEhqO5bUdgwA6CTGGq+NzvTB+rp+UPBTnqw0Thj+ZvBTJuOqtJfNXHpjQH4V3t+0OzWxGAAIBAKLTXPzEo0cFzh32XAW+zbzwZNO56cmlbz+v0X4gbuIiMf64fn5RTUth5MLzmSUfL77wq\\u002fHUt9eM8WkVErr24wIEhvoZnkcHq3ecOhKfnJeVU1Lh1yl0Wj1OoMRANCBjhoV1rQAwEu\\u002fHMEPAEjkXXXgJoI98F0ZHyTC+V5Yx4F6VfuZ5qypN\\u002fVSQlDkq6KD8hvl8T2iMGhqlK29\\u002f9AWyuswdQUAHjc1uhxqEG583ko7G3dVJ052irKjcciWEff7ETaZPtUpGmuFlSourrzRvb1fEsSVYUckEBAUBYALLTmTbvQ\\u002fuzus8570Tt5OACjtbNhSfuKZnpavzpfV\\u002fFF5FtuOFvj2\\u002fsm0MSBE7\\u002f5BqlWbW4womtfenNfeNVHbOzaBNZBECxICOJHZHSn16kq1UUknMtyYvjH80UzyLZvq3jnFnVUAkN1RbG5UGS0+E3eH6fNjGCyaTKrMz6z586fzx\\u002fZmfPD9Sr+gW66W1QupSSXtrXK89V4Q7OkY7On4f0vHHUsp\\u002fH7\\u002f5de2Htvz7hosGVyh1gEAh9FbJKBTpX3si38rGtvHRvqsnBztKOCw6NQf9l\\u002fGxNDA0qnSAMDqKbECDr4zk5s9H2cZpFZeQ4RZLnF7ai5hDw+fFu4Va+WzXeKwjGAdYsiSVv5VdS63o5pGpOhRA\\u002fabejMdOuWTGT95shwSRCGxQj8\\u002fjov5UjlNamlSW96fleexXT6VFW8XZBodmoTyPFwZdg3qdgRFNpef2Fx+wnyUSCCyyDR3hiha6DvPdeTdaW0wUCx0G4UJrBxpZaWyBQCoRPLNwroXOBRGKM8T61WR1Jr\\u002fY+nRR7wnmtKhDKhRrJXTiBTB4CyXNMExYpo4Bksd+6cmqVrZusZ7YijXAwtlNWukJxqv\\u002fVOTiC2SwybT3wxZgjuDjcEAp64eToaKwAIAFpkzWjQNbx1MxohiE9vSx\\u002fS0ZrMrw7HPLEg9YmhQD8yP\\u002fbL1Y1zchQCAIujRvembvzz1zvO7tux9mifo34w1giDZ6ZXuXiL8wL2DSiYtHBtOp5Lf+ePU2WulT8wZCQBMOhUAxLLeCn\\u002f2XMiqaGxfPSV205LuRxky6XYmc\\u002fuEzaABwMRov0g\\u002fF\\u002fzYQ4YXy2Gx++j\\u002f6q4AgB4x\\u002flJ2fHPZCT6VRQCQ6VVYhg0BCO+Hr9xcdqJW1Vuqe42ytUbZuqsmEQDoJAqbzCAAQa5XmVfUkwmkt0KW0Uk9NDGS6hQp4iKFQaM0aJQGjcKgURk0RfI6bLRa2fJW7g42mc4k01kkOotMY5HpEXyvQSrlIxNIX0c\\u002ftjFzW7NGih8DQFCkU68u1NcVyuv+q72yMXDeXNcReKehih\\u002fHOYznmS+rKbzxfzvWIcx8dSBr2OAzdVPWNkxw\\u002f1t7+d\\u002fayzwKk0akqIxahUEDAJsC5\\u002feyxt8d8krQIrlelSouBoAUcVGKuIhCJPMoTLVRZ1rCCADYZPr\\u002fItc631fy9\\u002f6FSe7hS\\u002f2w0YeGeLB53n\\u002fNc\\u002f6re6wPfy\\u002f0OXtaH9\\u002fDFk37U9ffxVvvDAKRMHf5CIlYsfv3S3v\\u002fTH5801TMXpLfcPpwVl5mdWuTDEVQFw\\u002fhlDlRC1fFE240ETi+L+P04azqslatVi9tV0yLfs90zhPX3iPd0CV9nmeQcHPgA4BM2fVM4+dqRyQQ8iqbEAQ174NgTmWTBAAmxfqbLEYEqW7p4eeNSCQCwK2iKRi9+wR7Oh5LLbxWWmcTWADwXMBsA2o8WJ+K7aKAmurbAYBNZrwctGCMfeiJxmu3ElgMEoVLYZpPI2qMeiyEYI470\\u002f7V4IXRAosUNxPVypZPC\\u002f\\u002fDW2\\u002fQqVcntebjjE\\u002f5zRgMgYWgyP76lN01l0xzmr2gQwxfFh1wpAtG2A36En4DxQK3eFMnegCY4zLcbNAqYoV+rwYv+rr4kB7pKqw29Vi\\u002fC9BJlM8j1\\u002f1eeXZ3TRLWY0KPGMRai0B+ON\\u002frteBFg\\u002fHxsNEjhav\\u002fD296+BgSAgtBjQQCsUehM9jc6qIcct\\u002fRbGZPa74OCAtWx+\\u002fZfjnxVJ5JYP3315VrqRWxI31HjQ8yGJCUi0W\\u002ffnNapdSueWoC5uDuZT9jYSxiRH745Jibp93itaNNZzNXMH2e584pqxc723GwmBAGgqB7L2YDQLhPl3zhMunjonwvZpX\\u002feSpj\\u002fczuu7nBiKAoiqW6O\\u002fDZANAi6QSfrqnSP09lyJU9FBaQSUQ7LqumRaozGKmWafImeveZMSLol0PJu85mTo8LMnXhAgCJXMVmUKmUIfE1uWuQCMSXghbMcR1+tCE9t6OqRSNTG7U8CtOJIRxjHzrTORZbY8Sb7Ygt53wzdjTuwTFvpYiLMyXlVcqWJrWkU6\\u002fWInoigcAk0RzpAn+OS4J9SLwoaOinMRlR5LXsP9PaiwHAi+X4iPfECL4Xn8I2JVMjKKpFdK0aWaa0YnvlWYVBgwL6e+WZ+0hgTXSM+LHsaIdOCQDODEGMWWme9cx2GR4j8DtUn5oprWhQtysNWjqRwqEwnBlCf7ZLlMAbf8CAQiQQH\\u002fedNs91xMmm62ntJQ2qdrlexSTT7KicSIH3WPuw4ffPn8PGAwMBvcUz\\u002fd3k5ZxlS9yfHCGciB8A2F+\\u002frUXT8Izf+\\u002fiBQWNB8rMUImVv\\u002fHf4gZswosjilOcB4E46uWNJ7tuPvIhNEZrYsODHumrxnnOvCOzYANAhUTKYVBq9K+iqUmrXzfmeQiXtOvWS+VE6nWHOiI8iYr2+\\u002fO1Rc7sJK89zJ7y3\\u002ffSp9OJQbycXOy6PRe9QaDJL61s7FKPDvL57fr7pZ6mtQ\\u002fHYF3sbxLIIH+cIXxcqhdQolqUU1Pz28lJfVzsAKKltXf2\\u002ff3gs+vKJ0TQKOaOkLrusIcDdPqusAdcgFAC+3pv0z7nMcB\\u002fnUaFeRgSRdqrfXD3J3KFPn6Scite3HieTSdPiAh0FbEmnqqpJcr20\\u002fvAn613sujqxYY1GP1o\\u002ffebIYNOBNh5sdtUkbi47AQBuTNEfI17svYTwZNP1Twr+BQACEE6N\\u002f8C8vG4oY0CNCy5\\u002fgsUpN\\u002fhOXec9Ge9h4z7hk1f+zcmo2rLvWaFoENOXbVjJUH80Z5G5TZquqYq7gz1NKKB2\\u002faD2DolApBGpWrPlFwYQoT2nrlosk6owgcUXWiRjMVk0H3\\u002fH7IwqFEH7Nbs3UOfphalxgTKlpqy+rai6xWBE2Ayan6vdhtkjFiSEm1dQ2\\u002fPZO99a+dfpa4nZFXsTc4gEEPHYE6J8RfyuVxjo4fDdc\\u002fO3HE7ZfjKdQiZF+rr88dqyopqWrLIG00lMPLdgNJVMOnu99I+T6Qwqxc\\u002fVDu\\u002fRl8+4SN+\\u002f31q5\\u002fWTG5dzKDoWay6K72\\u002fOfnT\\u002fajnvf95O0cSccbbiKbSx1T+hdXQFA1I0GS9i86v0isC615mPqikggzHQehh+2Ycbfmy\\u002fs2pq48d150xfik3cP707b\\u002fPmJFY+PW\\u002fss\\u002funubkJnUE1FrzbuLUNdYBEJJB2ixVsHk1+HfYQ33RoGma7VDYrAMhoRACCRu+I0Wq3+9MHM9Ctl9TXtik61Rq3X6wwAgKAo6RaznD0yUOfphdFhXqPDvPDWnuCy6M8vTHh+YQJ+4AY3n8rPVdRjg3gahdz7qcAKHz9X0ScbZuCtZiybELVsQhTeauPBRY8Y61Xt2LYP28lysAe0NzKQAIBJ7kONDR0O3xCRw4WBDnS+xZgNS8ZNC9+1NTH5QuHNAiv1YjHmgLPfTd76chneZOPeMaQFlgHVl8iz+ZQeohFDhN+HfTJIM6xYqwWBkAUAik7N\\u002fz36e01F68hxgQtXjRQ58pgs2u\\u002ffnyktbMQf1isDdR4bA8K6d3YVV+GrUEN9nX\\u002f\\u002fYAXOOFCcSyu5nFnxwTMz8QM2bgGBAAQgYE0r1Fasb53RXoptMEk0PqXvPM6hQJG87rqkHNte7DFYhX4PDB4+9l5+DllXK1VKLZPVraE7Zeq869XYqJn7w4seMaIoUElDPclyULmXAmtX7Y9yvQTbTmw9kim9bD6KoIhY29RpkE10mG9uH1LcXgv4Pmlp7Giql7p52rG5DAA4vDutpqJ10ZpRT\\u002fxfdxsL0k2Z2n0yUOexMSA8uXhUXXOHTKHeefwaAWDVrGF8DsPdSYD3GzguZ1a0SrvrAW30CZlAcmIImtQSADjdnBkv6q1fV2lnw++VZ7DtMQ6ht2opPqTAah6x7SCu2wi7QMtxGz0wblr4Xz+fT79UOn5Gd7Aq7VKJ0YiMn95tKcmvP3M4K+96dWuTDEFQV0\\u002fh5NlRC1ePwiVjqJXaAztTk88XNtZJEAQV2LGCItzXPTfZ2a37VtCnT9KpvE9f7y653Xf5TTbHYnr64K7UrV+e3HPhtQvHc47vy2htktnZc6JH+Dz6whQu3yILIu969Z7fLxXn1ut0BlcP4ZS50QtWx2NV2P3iXF35y1dOjHb2nOTut8w\\u002fAj\\u002f8cHAvBVYoN7ZAfr28Mw8A2rRNbdomnAOHzB9jP3OK4yKc\\u002fYFn17YkAJg0q6shck1lGwCMmRxicjAakfoasWnXBFYweKtmBNafx8ZdID7SOz4SAGDf2WwSifj4osENHiAImlFQ6+nSR\\u002fMRGzimOcX8WXUOAM41Z9OJ1HU+k5zoFiIYQdHSzobTTZmHGtKwJgV0EuVR7ynmPkMEBEV1iAHrOoagaL6sZnP5idLOBgAgEgjPB8y5VVW1DXPGTgv76+fzyRcKzQVWyvlCsJwf3PdX8rWU8th43\\u002fgJwUaDMeVC0bZvTqtVutVmJdsyqfLl9b\\u002fXVYmDI9znrRxJIEB1WUtWWsXGd+f1yyd2lN\\u002fn2x6Vd6h2bb1YXd5qsuP436t7SwsaxkwOGTs1LD+z5uSB69Xlrd\\u002fueNzkcPFk7hdv7Xf1sJs2P4ZKJ+ddq972zemC7Np3vl7e37yupIYqpV53prasRaWwCax7QBR\\u002fVBR\\u002fFIIib+WvnevySJxwvPkoAYikIV\\u002fCPeBo1Lq\\u002ftySePpTp7Cacv3IkZhQ5cAGgrVkWHNG1BN7e7Vc6ZV09pcwhk0kCO3ZDTbteZ6DcWCPZhPXnsTEU2HMq87udiSd\\u002feepUctHB87lN7XJ7PjsuzOPppQl8y47zp5KLDpzPqW2SqjR6IY\\u002fp72E\\u002fIyF44vCuuvQD53OPXcqvqBNrdQaJTDVy9TemA5P\\u002f2mjqkVZY0XzsUn5WcUOzWI6gqLuTYGZCyPIZFou7ISh65GLegQu59c0dKo3FlFnazq62N\\u002f+dzf76rwtnf322oaXj538vF1Y0Iyjq5Sx87+kZXjfkXe\\u002fXapcpZz27dcs7y\\u002fafy758vWJ4uOfHz83afTJzx9F0RzvOu09OD\\u002fK+e92MVntNuNyWX6FoBoBjjenHGtOdGQJHuoBCIOkQg0yvalJLzFun0kmUD8JWuTGHYmJDh14x99JHdBKFRWbIdEoDajQNrfaaEGlbAtk6XD3sfIOcM66U6bQGKo0MAFqN\\u002fnpqhW+Qs6tn99\\u002f92Tdmm5dsr3xi\\u002fKOzvzt18Lq5wNryxcm6KvH6F6csfXSMyWjQG8mU7t8+a3zYXEZknDcAnDp4vReBVZRb98POJ70Dur4+bz\\u002f797XksqLcOuwXQd6h+uGjI+ExXp9uXWu6LXzx5r4LJ3LTkkrix\\u002fcWvr2ZHHFXxGSWV\\u002f8OfJDA\\u002fwbffYgEojPdg0ggkQkPb+PXf\\u002f+4TKVT2ppleZk1CrnazUv04fcrTRP8E2dGHNyV9tNnJ+pq2mk0ck5GVX5WbViMZ35mjeVpAADGTw8\\u002fuCv1lQ3bh432NxoRmVT5wltzsKF+ncfGEOGtH48XVTZPHO4\\u002faWRAdnHD4Yt5lfXibe9152n9fSzj5z2Xg7wd50+IAAI0tHak59V4uQpNAsvLRTB\\u002fQrjBiH6x\\u002fZyHk2D17O4yMfPI\\u002f87j19Jyq0eEe46N9TUYkaRr5T\\u002f8k6TS6DYsjDf5\\u002fLT70j8nrk8bHbx2znCZQvP3sfSmNvkLK8fFR3qZfDCuZFZ8sf388DDPpdOiO+Tq1JwqB2F3TpI11\\u002fp+Z6K7kyA2xOPS9YoPt54ur21bMDFi39ns\\u002f\\u002f1+dsfHq01ugw2dRPkp9ukvivdfbMnFLE1qaZO6h4a3ADBKFPy0\\u002f0zvod3N8uamr4vdRz\\u002fu2502YKNPxk4N2\\u002f7D2czU8pHjgwDgWnKZTqsfNy3M3Ofmkm3vAMec9O6SbbVSe+lMvqunnblyAgBz5WSNj\\u002fWMmxZmUlcAMHJc4LXksvqadkxgJZ3OU6t081eNNKkrABg\\u002fI+LCidz0S\\u002f0WWK2qrmyEOEc3y5GHiHsvsAAgTjheRO27QucB5tShTBKJyOUzA0NdRk8MmTo3yjz+5Bfk\\u002fOEPK3f8cuHfPy5TKKSQKI9vtj9WVtTYozB69PlJVCr50tn83b9fojOo3mYZl\\u002f06j40hQl554\\u002fYPVvp52GO7G784kJZbnVfWFO7f1X\\u002f1dEoxn8P4\\u002ff0Vptui0Yhgq2JjxAS7xwS76\\u002fSGL7afsxOw5o7vucrplXUTGXQq\\u002fcYHb\\u002f38kYte+v1IYr5J9Oj0hn1ncwK9HD54uqvW0tfN7smP\\u002fm2TKrxv6ovx2R\\u002fnvnl5QWxIV6wUtzx3n9cCADKZ9OGzM\\u002fV649SnfzmXVnLg28dc7HmdKu2RxDytzkC7KUA7eHAojI\\u002fCV1d4N19oycmX1dQq2zoNah2ipxIpTBJVRON5shxCeR4J9iG42cOhBpVIDud7NajEnQYNAAip7HC+13zXkVECH7yrjV4ZNy1s+w9nk88XYgIr+UIR3FQ\\u002fqNPqTx3MzLhSWl\\u002fTrpD3ULJdWdpsNCKRw3oLHFrjYz2+luvbcrgMAFDIuyYxSgsaAeDDTbvNfTCkEiXe1Bed+q7yf1e2VW2PHkju3k2qF+Lthla+glQnE1C723mb06BuuSbJ1yJad6bLMEEohXinUbf3v7WqZCxutH\\u002fcaH9zi7e\\u002f49S50eYWDBqNsv6FyetfmIwfAID+nMfGEGHKiECTugKAMTG+abnVtc1Sk8AScpnVDe355U2Rga6YhUQiMvq\\u002faKPAsuMXi0H1d7e\\u002fVliLoCg2c9cmVer0hkCvbsnu72kPAA2tHSaLiQlx\\u002fiZ1BWChrsCKawFAsI8jAFAoJBd7nkKldbHnAYCTHRdFQa7U2A\\u002fOysG94Mt28rWiU8NQhk1mbB72DN5qo\\u002f84uQoCQl2xxHYASL9cGhTu5ujCNzkoOjUvrfsNK9lesCpe5Mhlsmh\\u002ffHe2tLC7jZ9SoQUAlmU2Og5rfKxHYBZFvhllpwYAFq4ZdfMauLg+2NYgorMalXIAoJGGhMy4Jzy87\\u002fxWNKhbns\\u002f8KEYQssFnqRNdZD50tPHi9qr9WM02ADgzHN4JftqZYSvKtTGIBJgJGgDgsugA0Gm2ZNATi0e98Nn+Jz\\u002f6NzbEffbY0InDA24vuqPVGY4k5adkV9U2SzuVGrVWr9cbAQBFUCARAEDIY5JJxLqWDtMh9c0dAGDqDWtO72lSfV4LbrxTAKBTKaQbhVdUCgkADAYE27Vh414xblrYtm9OF2TVIEZUIVePtZwfPPxPWk1F68I1o554abrJaOpriMFgUgFAIu40N+Kwxsd6es9TZ7JpADB6UkholAd+rP+4c3iYwGpVKXjUgRGI9x23cyMeDFBAC2XXCzszFXpZrHBMBG8kABhQvVzfwSHzKEQq\\u002foBBI7U9GwU0u6OIYdm1OU9WYq6uAKBJ3fpJ0Zbvo996CJPxbdw1hDyLYM\\u002fNhPk57\\u002f1y3Y5jGScuF14vrPt2Z+Ka2XGrZg3rV5uATpX2yQ\\u002f3VNa3J8T4LJ8e4yBksxjUn3dfLjLr1MWgUeZNCN9\\u002fLue7nYmjo33kCs0fB9NoVPKiyVHdJ7oBLg3fHGuuBQDmqyHdRpV4j2iNHTQSH2+9gR5RNCgTlfp6KonnyBjJpQ7MvIyNB5KxU8N++\\u002fZMxpUyowEhEAjjploIrNrKVgAYM6W7K\\u002fLNJdve\\u002fo4EIqE4tx5BkFt9wq3xGSj8Q1zOHc3OvVY1IAJrtlfw1eY6AMhoqffnW4QqHh6GhMBCUGRHzbf5snRs15PVNYelNqo+K35hutOyu9kKq1BeDgCBHB8ehWNu\\u002f6NqPwooiUBa4zkvnBdwWXztUMO5BnVLUlvGRIeR5p53gb8KMt9LOY9tkwiEig0vW47beHCwpnJeJGD\\u002f35oJzy4bc+5q6d9H03\\u002fec1kiU724ahze79bsPZ1VWd++Ykas+VFkywduANi4enyrRPHv6cx9Z7N5bEaIr9MHz8zwde\\u002ff3dPKaw04BkR1onaOHS3cn7\\u002fKmdm9GjpGm\\u002fp6SssrOqPMZPHhLoqxf50Ag\\u002f7CbNyP2DvxgiPc865Xa7X60GgPOweLTCNs17Jk+zKuZJvNZcSPD0q5ULT3jyvLN4w12Q0GI6BdaezW+AwUE2ZG\\u002fPXT+YN\\u002fp46fHmHehUvarmCx6Vi9pPXM9wn5JuuyVKveUZy5IjCq77vYg0j\\u002f\\u002fssGicviE\\u002fmy9BhBQjR\\u002f9O9Vn5vsHDLPhxVSKL9+NwVWg6oFAMJ4FolK2R1F1coGAFjsNm2e6yQA8GG7Vyhq82SlV9tzBlBgJdVVrT21z7TLolC9uPypXv4bwoexKN1hvNk+QX58O6lW81l6UpNCbrLfHscqi8\\u002fWlH8\\u002fYTZ+wMZ9BY1KnjUmZPKIgOWv\\u002fXk0KR8nsLDHXxTpuUdaVUM7AJgKDwHAaERqmvC1ctnFDcnZlR8+M2tKfCBuyHqsvNaA06S6YkBULeqrXKoPTmApDY3JzZv0iEUmb6V8P4lAixK9ZG588Hju+LHU+rqTqx9xYPUw1Tuw3M1r3QXGTQv79etTCIo++\\u002fos3NCkWZGHdqX9\\u002fOnx+moxlUbJyagqyKq5uWT72TdmV5Y0\\u002f\\u002fnTuauXSoIj3ak0cnOD9HpK+Ze\\u002fP2bqCN+nj9GIFOfWqZRalUKLLQFy6XSeQMRhsmhunnY45dcLXB7z1U8WffLq3meW\\u002fTJ+WpjIkdchUdZVteVeq95+bKN5hpk1cKi0r8fMevz8\\u002fmJp2xfXk16L7cfz3gPDkBBYGZJEL1bgSo\\u002fn8QMAjnTX3I40vHUwkek7AcCVYZFBcqb5CgDQSbS5rhNNxjhhRJ6stEpZ3+03QETaOw93djMiSItKcaWh5tvrySerSg\\u002fNW00nd\\u002f297BjM0a6eALA15+qdC6yzNeXNSgXeauN+AEWhWSx3tu++hxKJBCKReHNXQDKJaMdj1TZL9Xoj5aYHX3sBGwBaJZ0AXbnzfx\\u002fLkCu6M70w0gtqEAR1d+KbZ6P3FyuvNeC0qjOwDXf2VMsRyBV\\u002fh6krKpHrwZmuR5S1ilMoaiyX7fHlLeZQPHH+Q5knjx4+W1EBAAQADo3mIxBO9vFZExnFoVnkPJhAAZgUym3\\u002fNTGOlZacq6z4bvpM\\u002fIAlA3KtocOYqaFbvjpJAELC5O6pQAzfIOcPflj1t3nJ9p8bbi7ZtrPn\\u002fPjPU\\u002fv+upJysejY3nQCgSC054yaECy0785G79NH2al56dHfTf4A8MPHR7GN1U9NMG+71Scjxwf9uOvJf\\u002f+4fPVSqbxDxeExnN2Ea5+bJLC7HUE80c33lwnzN146tjkvrUEpfy1m3B1WFL743I6igobjZ141v4PpdIaZU74IDnH5cfO6btehwZAQWGJt8zj7nsMnbDJXZbyrv\\u002f0G1AAATFJ3BonCoMyQ5APAGFGsud2BJoQbgmxgGeXi8drwrmiwUq9beXxvTlvTvtL81SFRFn4DgRFFkxtqfflC\\u002fICNQSYtt7qupUPWqdboDASA3w6k8jgMd0f+yAgvvOutQRBkwabfQnycAr0cRAK2Uq1NzaluaOkw73dgYkp84J5TmU9\\u002fsndkhJcRQTrk6tfWT8aGZowO\\u002fvd05pd\\u002fna9pktAo5OtFdTklDVGBrtkl3UVPADBnXNjhi3nr3tmF7VIoJBcRd\\u002f7EiOXTY63\\u002f0bTyWgNOh64UAChEtpBukS4j11XVKy9gQ5PcdrAp7gDgwIjLaH0fBaSm80SY8Glz\\u002f\\u002fuCpaFhbCq1Xa3OaKj\\u002fKiV5Z27OtrnzQx16qMj5eVbP995+ca6yokXR9416QK41dBCKOCczP8BbbxCX4B+XYDET4uXvOOWmkm0Oj\\u002fHoC1MefaG3Uvrefbh85qnsD\\u002fFWSxasil+wCn9PGDc9fJzZ2j4YXv6Or326GGe8PRAUjbF3\\u002fXzU9FeSTx6pLDxeVRQucg4ROghoDEpf+WQboxLwJgDEiCAIit5iqZIhyJAQWGQiRY9adIU20aGXsMh3pHn7C4NEVxhUCoPKZElqy8BU10RHiw8omUgCAGxxjMGDRaE+FTn86XOHM1sb+yuwDpUX7ijMKm5vA4AwkeMTkcMne\\u002fiaRncVZe8tyS+RtmkMBrFa6bXtS9NQ+WMvkfv6Ati4Q7b8l2y+2PNvB1IBINTXuV8Ci0gkrp417GpezamUIq3OwOcwPF2EnyycPWlE9wSciaeXJlAp5PNXS\\u002f46kk6nUfzMcqcCvBy+fmn+r\\u002ftSdhxJp5BJEQGuv767vLiqxVz0NLR0vPnDMQGHMX9CBJtJBQCVWn+9qPb7XUkkInHpNPwvx62w5lqDgVLfCAB8WiAurapSvg8ABYBA\\u002fiOYugIAT86svPafNEaxWJNp7ny\\u002f8HTccE8+HwAQFN2Zm\\u002fNR4sXHDh88sfoRIeOWxQe3jRFFU2prfYW2hzQb3Yzc+4tYozQg3QW\\u002fRhTNbmvMbms087olPQqs+44hIbA8mf5F8qzZzquIluV47bqWbGlKCC\\u002fW3DjYONFF5YraSmXteBgOAAiKHG9MBAB3pnMQx8fcU2lQAwD1jlth9QmXSgMA80+qNXx6NWlrbroPT7g8KAIFNLGuasPpA2+NGP94RBzm4Mu3WxEUYUSRt66c9eYJnowYbjrWvIDLxiDx50er8CZLlk+PWT49BmecEh9onv9EIMBzK8Y+t8LM49bQqORnliU8s6znO1d8pHd8pLe5xdddNGts99zHp7+fa+9QHvjmMcaN1T8AwGiMn\\u002fX81gvppSaBtWRK1JIpUSaHHun9WnY8lmnhHQD4\\u002fYPut7dq1rBVs4aZdvuFHlEAAIvcNS+JgaD6ms4TAEAiUH253Q\\u002fuBCAK6aGNyqROXbXJeD9CJBAeiYxqVSp\\u002fSb+69VrGG2O6QuNHS0pePHnc5Jb99LPcnuYQlTrd71mZp8vLajo6EBQVMZnRzs4vjUrw4PEAYFdu7r7C\\u002fBKxWGMwiFUqn+++MR1Y9sJG023EymsdLi76Oye7WCwGgFAHhydi4yb5dN9y\\u002f8jK\\u002fDgpMeOJpw4VF\\u002f2Tl9sglzuy2KM9PF4ZnSAwU405zc37CvPT6xsaOuUIinrxBQuDQ9bHWKz4tCMn+\\u002f2LF7KffrZW1vH5lcs5zc0IivoKhV9Pm+EnFCp1uhHbtrpyuKcfWWs6BGPqjj8bOzvTn3iKSRn02\\u002f79TrNq4Od2rOfcmfyjRzLrayVqtU4gYPn6OUyeGj7Wshl9bk7tPztTigoadDqDq5tw2oyIRUuGY+v5DhRDQmBNclywufyDrZUfjxHNBAClobNaWVKuKLgkPmFEDRMd5uEPGEzCeYHlitoLrWlj7eM8mC67ao40adoAYI4Lfia7Ud0KAFxK92T5IJHeXA8AgcLueEOfXG9p2JqbPsLZ\\u002fa\\u002fpi7HMrVfi9I+c+O+z9KQxbl5BQnsAGOnsPtLZXWs0vHXlrAOTvTwoAn8WGzbMyCtvjA5yM1dXAEAiEckkkkLdcwR6iIECANFySa4m1RUdIgcAF9YEKolnPkQnCQFAh\\u002fQ98zX0eSw6ZktG+tGSYpPAGuvluWvREqlG\\u002fUNaWmm72NK9C4lavey\\u002ffyskkhhn57VR0QQCoUTcdqW29tPJXa1DfIWC5WHhBgR958I5b4Hgidhu7WveU8Caa312+dKv16\\u002f5CATLwsJRFE2srn78yKE3x4zbEGvxgP38ieO5Lc0z\\u002fP1n+QekNzTsyc8rbRfvW9YtwX+9fu1STfUYD8\\u002fJvr4GBDlTUf6\\u002fy0lKve7FkfgJsvOVFe9cOJ\\u002fg4bkuKlqiVidWVzmz2QDAolLnBQXvzsvNbGqMcXYx+ee3tpRLJItCQmzqyhqoJHyi513j391p27ZcCAh0mjUnikAgNDZKr2dUeXiKzAXWhXMFn35yxM1NOH1WJI1Kzsmp3frL+YK8+vc+WmR9tkOfDAmB5cMKXunx3L76bX9WfwUASW3HktqOAQCdxFjjtdGZ7oE\\u002fYDCZ6pRwpPGC0qB+JecLAhCwxlcuDIcJDiNwnqWdVdgQzj5QGFG0VaU4U132S\\u002fZVDpW2NAA\\u002fWd4Le0vyAGBjzChTXjyTTHkhJv6Rk\\u002fv2FOe+P2qShbcNG1bAYdFrmiQ6vYFK6b5vnL9aKpYqEqItgrtDEwqRpTV2aM0aMQBAlfwgtuHNmWtuBwAAIgCg6ODmANwdBAyGt0BQIZG0KZX2LBYA8Gj0eHd3ANibn38r0fNh0sUKieTVhDFPDesKewOA3mik3PjtHOnmPtLNXWswvHPhnAOLtSys53tUn9fKbGr89fq1EW5u2+cvxG5ZL+v1aw\\u002fu\\u002f\\u002fzKpTGenoGi7mfLzKbGQytWBonssd1HDx1Iqq7ObGqKce4KTH44YSKTSmXcuO89P2Lk+O2\\u002f\\u002f5uff7PAeuv8ud\\u002fnLcBeGACg0N0QZVVE5O683D35eeYC62BREQAsDMbns9vokdI1L+NNd4vzZ\\u002fN5POaPm9eZrx6GtTLGkMlU3351MiLC44tvulcY+\\u002fTjI+fP5qcml45K6CG\\u002f4vYYEgILAKIFCQGcyOyOlHp1pdqopBMZbkzfGP5oJpmDdx1knOiix32Wbq3YgwKKqSsmibExYC2ZYPF\\u002fpTFqC+TlABDM7c5qGig251zdnHPVtOvK5v44cY49sx91HAXtrQAQLnIyN4aJnAAgp63Z3GjDhpWsmB7z4+5Lj723e9LIAA6T3tGpzilpyCiocRBy1s\\u002fHP34MQdgUD62xo0NXYrJ06muaVakAwCK7ODLxb0GPdAIAidjDZNb9iAOLVSGRSDVqTGD1iVKnO15a6i0QmKsrADCpqwFkb34+ALwwIr77gZBCeX7EyHUHD+zJz3tvfPfsweyAQJO6AoBJ3r5J1dVVUqlJYNkxLRrzsqnUIJF9ap3FKkwY0\\u002f38TeoKzNQVAITY20c6OZ0oLX1v3AQWlQoARgQ5WlLswuGMNDvExtBEIGDV1oiLChvCwrv+WCQS0XwF68QLRWq1buHiOHPjxEkh58\\u002fmp6WWP4ACCwBYZM5o0TS89V4wzSnBm+WW1JauMKjcGE7TnBJunge8Js2nEal0Em2svcXdZ0DA2jSQCAQulRZq5zja1bO\\u002fKecKnY5MJLKpVHOjgM4gEghy3aDXw9t4IFk1a5iAxzx4PvevI+larYHJoLo78tfPH7lsWgyXfR8shWFPj2nX5Cr1DXWKM+7sqUZUl9n2GQoIAPjxlln+wgIAKPR1AEAlWswb3r9gSZwkgrV3kiJxmxFBRrrdDT1R2NYKAOGOFs1xwh0cASC3xeKBMMSyEJJHpwOATNt9T9MYDHsL8hOrqiqlUrlWo9LrdUYjAKC49cYBwiwvh2NVeOSrZ08fLileGR4BAJdrasQq1XPDR+A\\u002fJTaGHuseG\\u002fvaS7s3Pvd3VLTntJmRY8cF0Sy7pJaWNAHAe2\\u002fvMzdidEiVeNMdMIQEVqehQ2noJBKIHDKfQbLqGWvwCOB4BXC88FYzEkSxCaLByr43b9Nwe3CoVAOCdOq0HGr387dUo0ZQlHs\\u002fLwtVUNjw+\\u002fZLpeUtGo2ew6aPHRO46QV8T6MPPj6clVPz+9b1dr2ubGrjNpiZEDIzIQRvvU\\u002fw5Mwu6diBAnK15a2Sjr\\u002fVhhaNsR0A6CShD3chztmI6uS6CgBgUVxxQ\\u002fcpWBsFEauPlZdMdGq1ANBjNvqA09nTAyGfwSASCHKt1txobxmgwiHXapfs3VPW3j7Jx2d9TIwTm82hUj+7cjmvpbtc10TvBZWzAwM\\u002fvpT4b34eJrAOFhcBwMKQ+\\u002fXD\\u002f6DQg7690bSheyg4xHX730\\u002ft+Sf1zKnc7KyaX348u3xl\\u002fNJlIwg3EtgVCg0ALF46gs\\u002fHf5xcXAU4y51w7wWWwiBPbD2S1ZEs00tMRnuac6xgbIJoBt2s75QN64l0cM4Tt+S2NWP9SDHy2poBIFxk8dyGPdHeq84i6RmVr731n2mXwaC6uQoSRvkvWRTHYFjcbQGgU6F56739Go1+yqRQe3tuZ6fa08MO5wMAKIrS6Q9OM0MbAwWX6u3PX1nasRMFRKotNNmjRa+Rifj7rFidaUR1ACCgBeOG7kfq5fJamcxbIODRrH2+wqbGWpUD+UB\\u002fKzhUmgFBOrVa826oHWo1gqI3Kbzevtd\\u002fZmeVtbc\\u002fFhP71thxJmOfLZd6hE4mLwwO+TM7q6itzZPPP1dRHuPs4sUfyF9fG\\u002f2FSiUDQIdU5eDY3bxJKlEAAN2y+MZOxH72hSkbnpyQdLFozz+p27ZckEqUTz3blXzMZNIAYMzYwNBwN\\u002fOjBpx7LLAa1NW\\u002fV30m10sJQHCguXIpfCNqlOulbdqmU83\\u002fZkgSH\\u002fd5Q0SzKKu2YQ0rgiL\\u002fKcr5PislxtGFQaYAgNqg\\u002fzErlQCwNNAiEZVMJNozWZUyqc5ovFd1H0GBzhHh7giCiMWK65nV23dcSbpS8sv3j+DiukVFjTKZevXK+MfW9Rbee\\u002f+d+XjTA8oLqfvT2mqOT33Cnn7LWF1me\\u002f23+YkF0iaVQc+j0qe5BX8YM+M2fB4MIuxeJAK5TLbbiGoBgEYSRNhtdGNPxvsB1CnOYBvOzDGWI\\u002fclP15NA4AFwf0IwASKREQCIaupyYiipF4fV7B2DMgdPKRFOjnlt7bktbaMcu8uacptaQGAMIfeJvJwlLe3A8AM\\u002f+4cGiOCVEql3R79YWVE5J\\u002fZWfsLCyKdnNQGw+JQW3r7PcbRiQsAZaXN5gKrpKQJAJyce5jKp9HIU6eHj5sQ\\u002fNgjW08ezzYJrMAg57On87Kzax5kgaUxqv6o+lxhkE1yWDDWfhbLLJ9doms717I\\u002fXXLx96ovXgr8gmxZWf2QozUactqaFTqdQq+VaNQowMHyQjaFyqHS\\u002fPl2dgwmAITaObwybMznGZdmHdgx3t0bAC7WVVbJpJtiR4dZRrAAYI5P0B\\u002f515cd2zPO3duIIO0a1f8S8PNug0p0lOcTj3U9carUupde3VNc0nTqTN68OdHmbm3iTgBwcuzhi\\u002fRg8HTy3nONpYAtckKhe3PsJrkErPYbxqH0PE2DAjBJlF5Wg5bpNE8l71UbdPM8w50Z3A6d2pcrug2focbxusLzjaXfjJiPH+gLAhDD7Z4PFjwm11cRgcyj+hEse++ZYFFcg\\u002fjrSESaA2MYfuy+QqXXf5+W+l9BvgePvy7K4gvVOzwafYqv7+ny8q0Z6c8MH2GyGxAERVHzVHcykWjPYlVJb\\u002f8hbXlY+O683B\\u002fS0qKdXbACQLXB8FN6GgFgSWgY3vvWOLLZANDU2Qk3ct63XMvo0Nxm1qmfUDjc1e1UeVmbSkUjk2eZ6TYb94QR8X5nTuX9tf1SaJgrX8ACgA6p8u8\\u002frwBAwphAzAdFoaVF5uTU\\u002fTNBIhKIRKJ5g6uJk0P\\u002f+C1p\\u002f970iZNCnc3WWJRKlSwWDYuTDQgDdqLbILn9tEwvWeD66GjRdNyQkGq\\u002f1P0pJomd2HY0Q5IUb9fDI+Yg0awRO9GH9A9Mfad86dHd5pZNF7ua+H0watLa0Bhs++moEb584a+5GbuLcwkAIXYOr8SNmend9Sk059W4sTQy+XhFyc9ZaUwKpV8NtwYcJoO6YumI9z46VFjUgAms8xcK\\u002f96d2tbWqVJpAeCrb0999e0pzHnLT2sDA7oqJS8kFn30vyM3TgNHD2xks\\u002fG6ZOGyn6Q95TCeO\\u002fmKeTlJbl7dzt2phUWNOp3BzVU4fWrY4oVx5t\\u002fPg4czf\\u002fj57NEDGxubpL\\u002f+nlRU3ISiqIe78I1XZ\\u002fc4a9kvlnhHschUiVZ1TVz3Tf7FXRXXfk1YFsLvepvm\\u002fBi\\u002fCG+yJEfSINWqnglO2BQ2Hj92A2t8hhrnG0tb1J14q9WQiUwhrY9oRLDgMbzpvmJzRjqdTG5SdKbXN8i0Gh+B4Ld5801JTkYEyWpuUmh1nTpds0IBAMdKS+yZLDaV6i0QOLG7AqLvT5hY2Nr2VUryharKaGcXGplcJ5Ndrqnes2RpgJ3FXWJOQOAfWZkr9u0d6+llRBCJWv3xpK6btjXXCnVweHnU6C+Sr8zZ9fd4L28UILG6qkoq3Rg\\u002fKqyn5X1uxfyg4D+zMt+7eL5SKqGTyan1ddcaGuJcXTMaGvCu1rEqIuLFkydkVZVTfX1vtZjjEOSvosz3rp7FtkkEQsXaVy3H71fGjg2KjvHKyqx+9JFfQ8NciQRCfl69XK4eMy5oRLwf5oMgyOplPwcGOfsHONmJOCqlNv1qRWOj9JFHu0PRXC7j9bfmfvTegScf+238xBB7B26HVFlb056TXbNj9zPm4uwOuZcCq0B2jU8Vjbp15eBUpyVXJRfyZFfvpsB65vr7ITy\\u002fSQ7xo0TRNCI+DWiwGefuXf34K3irJb58YZ8+GFO9\\u002fKd6+eOtN0Enk1+LG\\u002ftaXG\\u002fzbncTNpsOAEZj14yDt5f9koXDAKCgsOHk6bxpU8LCw7riuubRrLhh3t98uUImU+3YmVJV3Waym\\u002fPskxM1Wr1pV6s1bNl2kcOhmzdFPH+h8JPPj7m5CmZOi6DSyDm5dZt\\u002fvZhf0PDBuwtw8yQpaeXf\\u002fnB6WIzXovmxHTLV1YxKe\\u002fsB6CryZNAoT7YQABAU3VVx7ZPsMxsu7zk29QkhDZ8n1CfNajkAuLJ6u19Y4zOkMKJoamuVD+dePgYMffYW5JOIRAGdHuHkOM3Pf3FIqHlsSa7VLt37r5k7vH3+HLbx4sh4U8soRxb78MpVv16\\u002fdraifGduDhHAnsWe4utnz8JPSb88OoFKJp8oLfklI51Jpph3rrLyWk\\u002fFDfcRCrddv7Y7L5dAIATb2788arT5ZJ81hDo4bJs3\\u002f9vUlC0Z6RQSKdbF9b+ly\\u002fNaW25bYE3387djMttVqoFqf1WvkCXs20IASFnyjDNrAG4XPTLbO8iPbyfVqj+7ltiklOOH7y4GBMkWN+a3t3Ro1VqjET98C16L7c6iM0EgEj75fOmef1ITLxRdz6giEglu7nar1oxesLi7lp9IJC5dMfJ6RuX5swVarZ7HY7p72r3z\\u002foJxEyySKUeN9v\\u002fl10d370pNSy2Xy1QcDsPFVbB+w3iBYCAL7Aj3KrsZAN7JXx\\u002fMjV7p8Tx+wIzt1V\\u002fWKsveC\\u002f0VPzBoLEh+FttgkugJ9sMmOcT3Xk5o407AktxXLBtpmiIEgO07ruzYmbzh0bGrVnTdfDFOncn7\\u002fKsTL2+aPmtGpLkdx6tv7s24VtVjBAvH\\u002fz4\\u002fdiGx6JsvlkfcaJcik6lXPLIlMMDpq8+WmWJan3x29NyFwo\\u002ffXzh6VJdaxSJYNBr504+XREd2ZY3cVAbeb7ApwnMznsEEFsY3+Rc3FyVvCBz5WkTXY8axuoJNaQdNDtfnv8ylWGQuH63N\\u002f6XoSrO6U6HXmtsB4MDkx8IFzlb6YGS01W4uTs5ur9caDV4c4UKvyHX+I8yTcv4uz\\u002fgw6\\u002fT1+S\\u002fXKqRf5l3IlTQiKOrLsfty+Dzz2cbez\\u002fNnWfon2WfS5m46XJO\\u002fp\\u002fJ6g1LmwOCMdvR+KWyC4Iay3F1xfV91TqmsVWM0mE6LUbz4TesbENiwYSUIio767VcASN7wRO+JaFayJf\\u002fq15mXERR5c9iEx0IHvsUPjjlH\\u002fyqUtNzDCNax6uJPMi7ehsirXvca3nQfci8jWBqjqs+FnPkUUZExC28dTKIFIbkdxUYUURk1Z5qvnGm+4s50nuQQP95hOI8yWA8cNgAAQdB2ieJKctk\\u002fe9JYLNqMaRF4jwHl8NGss+cLnnlyokldAcDFpCK1WrdowTDzGcNJE0LOXShMS68wCSyMsQmBJnUFcKfq6lY86j9ia3HK0doCk8Aa4+j797jVUp36p8JLpbIeYnX+PIdHA0YAQKa4fn91zkKviFhR13t0Y3ZFqqzxAYCjtfkvpx\\u002f2ZAsXe0fRSeT0ttrPcs5liut+GrUE93YvNJa9m3kiwdHnEb84iVZ1qbnCidn97bbyPC+mHsiVNs5wC57hFpIhrv23MqtU1rZ34jps1IcrWuYTbUSQdzNPenOEGwK79TfRpq5uQUnbc3JNaqTLSSqpH3NtNjCSa2tblcqn4oYPiLoCgONVxVH2znoEOVpdfBcE1r1lb1nuq8kn8VYrGJj\\u002f6yHAvRRYKKBao0astegjh0OP6BDU2qDigPBuyLMyfefltmuJbekViloAqFM1\\u002fVl94O+aw3HCsEkOo2IEIba7+cCy+9+03f+mmXYdHbnvvDFXKBzIUC2OktLmn7ecHzcmcMkii3tcSWkzALzz\\u002fgFzI4bkpuStAP8e8qIGHAGN6cUWVna2t2kUWLUgj0of6eAFAP9VZfcosIJ4DkE8BwAgE4j7q3NiRe5LvaNvw0eqVb19\\u002fUScyOOvcatM8aGXrh46Upt\\u002fvrF0sovF9M07149vS1iOvTCwXHjE+vNktdfvn\\u002fwY9sIA4LHLuy81V2S110fbuQHACHvPEfaeWqPh3cyT9nTOzS+4d3SInErs44nuZko6dgTyH8Fb7ymFres61JeGuaVQSdZ8AlEikUmAO7pliZXHJOpzAaLv8AMPNEYU\\u002ffFqGoVEWhsVhR+7LWo7O\\u002fLamzdGjTai6I85KfUKmRu7+2Hm1\\u002fz0\\u002f127mLXihT2lObtLc5qUnW5s7srAqA2hw01fJWt8rCe9pe6n3NSstkat0eDNFS72C1sfEjdQUlKiUX+Qft60SyYSnZgcKolUKZMAAI9KZ5ApesQo02mwFrgAwKJQN4TERTu4RNu7mA68r7mXAgsA0iUX0iUX8NZ7DY\\u002fCme0yYbbLhAZ1S2Lr1Utt11q17UbUmNaek9aeI6DyJjiMmOQQP3irED5sYG0aiEQCm03393WIjfEyDyANOJ2dmvc+OujsxH\\u002f15Zm4IawB3ZJFcXwePuHJ9aYGdDweA2cZJBwYnMrOdqlW3Us7hsHgeF2hyqBb6z\\u002fcfPZtjkfYkdr8xKYynMCa5hZsUldg+Qxq\\u002fXlmuYea1BUATHTxv9RcUdUpwQTWHZLU+NQ4ly3WaywE1V1v+6S689hQE1j9ItD+Z7yp\\u002f0jU53TGFrz1AQVB0c+vXGaQyVdqazKbml4eNdrxppyz2+NYVTEATHb31yPGH3NSjlUXPxXWXZ6J8eSFg3WKjinu\\u002flQS6Wxt2ScZF8Vq1RvDxvfXp08OVxZuunzMiytY6h9BJ5GvNtd9knHxWkvDlokLBkRhHa4qVOp1AEAA2BidsCEkjkWhAoD\\u002fjq\\u002f0iPG12HErA6MAwIAgOeKm7UXXj1UVKfW6Tr12vKuP5ZnuY+6lwArlDcObhhiuDMdVnnNXes4pklcktqantmcpDCqpTnag\\u002fsyB+jPBXN9JjvGj7WLppLudC\\u002f+AYd6mYbBBUfj4s6NyuWbzD0uYN\\u002fUyZbJoADA2ISAsdAB+0QcK7Amvv8sl3Tl50iYAeCaluxOsCbEGH88LM0vbwmH9eUIEFiEZHpUBAHL9bZbZ4+jQllxufG6sy2YKse\\u002fgqNYoSW5+uV2Tgx94+EDBKNOkMCi++IEHFBTgWGlJu0rlxOa8Pmbs47ED9jt1rLrImcUJs3NEARwY7GNVRTcLrEal\\u002fOTc9XwaHQBeiBw999hf2wrSVwVGeXD4\\u002ffLpHYlG\\u002fWbq6eGO7junLjPdWDZeOnqosvBcbdkUj75Lo\\u002fokpakG21gfGvdi5GiTnU4m63VGpUGH7ZKJxFgH11gH19HOnm+knPqj8JqIznomYqTJ\\u002f77mXgqsR72sKoW75xCAEML1C+H6PeG79Jok\\u002f7L4eqY0X2PUFckriuQVv1X+N1oUM9lxVBDnwdHdDzA7dianZ1S++9ZcT88eytAC\\u002fZ3OnM3PzqkbUgILa0lgR+tbFgwsnXoNAKwPGCG86dKebHw8T0C9ZTzP+vOIbnIYWCTagstNz411\\u002fvnm1u3mdOhKk5s2qQzNAEAi4FX4fYFYebRU\\u002fKJpd7h7Nrmn0F2b8lBz5y6NvtKIqigkEYsSbM9eYMecgY02d+5qVe5T6UoQVKM3ilNqum9x8Z5lBLidlldDHxKBkPzY43jrHVMllxZKWtcERQMAAWCyh98\\u002fJdnVcqkX1+IrsMA3FFNOAMCl0lYGRP3v2sUztWUbzBK2rPHpnWPVRUq9bn3IMPPHtrk+IYcqCy\\u002fUVwyIwCqVdmUvPBIUY25nkCidoFUZuqu5MVYERGa3Nf5blvtN9uUZXoHelv8t9yn3UmDdd5AJ5JF2USPtojRG3bGmC8cbEzv0nRqj9nxL6vmWVG+W2xL3GfF2UfjDbAwZrl2v+mtn8qIFwyaMsyjZNTF5Ysjvf17+70DGpAnBzs58k33AG9BZT4Oyo04p9eYIeXd9EUk2mQYAU12DTPnvt0c\\u002fzjMgkxO3gE8N6NCVtmtyLze9MMb5RzKxZ0XYoExMb33bgKgBgE6yG+30Dd7jfoDPGBvquMuASOs6flDpS\\u002fHDAADQIN9aI\\u002f2cTQ1z5KwAIGgMtR3qKwyKn0lgMSi+juzlKGqolLzDoHi7cJ8wHXuHSV0PIceqigBginuXdpnm4f9PSfbx6uJnIyxqpX24QvPdQIEIAMpl7eZGa3x6J1fcDABPXOgh2VSsxgenbw+JVg0AbArN0zKuRieTwXJ9bhPPRMT\\u002fW5ZrQJADFfkvRXe3rbp\\u002fuQc\\u002fGPc1RfKKi61X09qzOw1dn0IKkQwAesRQpaz\\u002fonhbJD\\u002fo\\u002fwIe5VIGZs7ehpUYjUhhUaNKpVWqdGKxAgAuJhUJBSwmi+buKhCJOADQ0aH6+LOjDAbV3U14\\u002fKTF1E\\u002fCqAAsoYrLZbz12uz3Pz604antEycE24s40g5VTW17Tm7trr+evCdN5H8qugIA8z0Ht6ayR8KEzgdrcq+21fQtjHploM6DgSVy3cbCLONctyY1PtWhLRFrspKbNyY4\\u002f0Ai4Bt5FEn\\u002fyJf8AoACAJ8WONrpWybZEedzX0Am8nj0eABoUey9lcBqUx6mEAXhzgdNsSgUjAja3baDRx\\u002fJg5EIqq2UvEMhOTiyl5mGbPSX49XFAPDI2b3mxqNVRTiBhWuFj\\u002fUoUei7JtQwrPHpHblOAwAbQuPs6PhQridnYEJHKr0OANgUfAAYe1CUatU4OwB4cvjubF6dQnapocomsB4i5HrFhda0sy3JjepWk9GZbj\\u002fVKWGiw0gAON+aerwxsV3XkdNR\\u002fGbeN19Evsok3e14w8OMQqF94f92mVu++f40trF2zeh1axIAoLGpQyZTA8B3P54x9wQAP19HU8b6qHi\\u002fLT+t\\u002fefftNS0CplcxeEwXJz5j60bK+AP7uzVzagN+h8Kk\\u002fZVZXuwBY\\u002f4WRv8H0DmeoR9m5+4vfTqHI9Qd1b3bVesUXIoNBrJ2rvHQJ0Hg0wk2tPZ1Yp2HWKkEvsxS0Ulcse5bLnU+LRUW9yqvpbctGm083emGUAjqrvW+kGt4hS268qaMNzho1tFuR4MqESRGi3v1GZxaV1pRgQgkQj4X1wbd06lTFIsbQsS2EeKulMVc8RNxdK2Clm7L697+QeV3mLuTGXoQaZY49M72Opb0z0DhjkMVi4Eg0xV6LU3yz4BnQEAVXIpzo7hzOLWKWSN\\u002fe+bNTTp363tYQMFNLej5GxL8tX2XAPa1duQRCDGCSOmO42J4AealoFb4DplpvO4v6oPnWxKalC3HKw\\u002fu8pzTveJ7k\\u002fq5TtLJR9h2wQgTfAqtBwfAIbH+Vw88xreegumTw2fPjUcbwUAAB6P0ed5QoJd+vTB8PG2f\\u002fv13v58C+bFLJhnkVgwgGwtTqGTKE0qWYa4VqbTeHPsfk1Yxr6xHKERRbLaGxR6rcKgbVHLAeBEXaGIzmaTqd4cO0cGx+Jcdwafyvhq+LwXUvfPObNttkeoE4PbrlVWyMXpbTXnZzzryuLjD7gFA3UeE7PcQ\\u002f4sS1+VuGOsk68BQSRa1UexM\\u002fFOPYFprKTGZ6Tawhb11ZTml0c7fU0kUDRGcXLT\\u002f0m0BZhbkODRcOGzgzthOQRw52\\u002fqbH0kv3kpjx7vwF5sx5xBJNgeCweFo9VFALApOmGaR3fN7NnasscvHDhaVbwxqjsHvEwmNm0DQKGkFQD8zBQYWOfTO+Eip\\u002f0V+WnNdYMnsOzoDIVeq9BrJRqV0CxOhnWmKJG2aY2Gmx+u9IgRADp6mkC8H8G\\u002fPRsYUp3sfGvauZaUFk33R1lEE0xxHDXZcbSQ2sNUEY1IfcJnabO6NaujKK0921xg5bY+I1add2TNDrX\\u002f2mREUG1iTYQ9c1q4ww8m45DCgTWDRfXVGzvKpV9qDc34YRuDw39V2SQCUUBjhAtcprkFLfSKNI\\u002fTyHWaFRf\\u002fMnOHd66fwDaeDxn7QuhY86E7Z5JLwIHJj20tTrnQWCbVqfhUhgdLsClsgl0\\u002fG0YM1HkwXgqfSCORT9QVbS5KZpIpAWadHfqEQuSMc\\u002fnlUuOzEm1Bsyo5teW1IP6jqS2vqg2tAEAkUIfZv+PJsUqu3e9waNHRLucaZFtblftl4tQq4keuvCdduY\\u002fDAOVX+e39GG+6AYlAKFnyFt764HKsqphJpoyzbEAw1tWbSaYcqyoyF1iHKgofDx1uz2ABgNqg31WSTSQQplpmnVvj0zvzfEK+yrz8e0HGXO9g89pDsVrJofY7qNwjgQL7ms4OAMgRN01w6y5BDRE4AIDaoD9fVzHTK9BkBwAERWs6pQBAuesV04PEAPw\\u002fPmBclxacbUm+Jskzol3dzwhAiBIET3caM0wQ1meL0VGimKyOohatxRMGRqvyhDf\\u002fOSbFGz8wVKGS7KikeACokW3Tgk1gDTqbRy\\u002fFm25CQGOWLXkbb70FC70iF3pF4q2W9OkTyHP4ZsR8vNWMNX5xa6yYwez9POv8h6\\u002fzH44zznYPne0eijMCAJ1Efjl84svhE\\u002fED1kEhcsa6\\u002fHKp6VmJJr9RmdSoTMLsdJJwlNPXdvR7kO52r6CSHL2F73oKXhUrj2M573qj2EswMNJniXeUaftwTR6RQJjjEYbtPlTrGpV1iMs6xLO9guiWwoVGIo938zlRXYLNHmJGEYM588j2aZ4BAhrjZHVJhaz9qbARuP4LvftojYYccbNCr1XotBKtCgU4WFHAptI4FKo\\u002fX4QlXQlojG\\u002fHzn428dCMI9vnegc7sTjtalW5rP1qc23SoifN25\\u002feNrEOrmdqywDgfH2FucAa5eyJbXyZmZTg4sWldudB7i\\u002fPl2jUAODC6qHi9X7EJrDwfFz4i2mbR+FMcoyf5pTgQLM2+oqlt5MJ+P9YCpFnRNXVss0hoi9wQzZs2LjLUIjssc6\\u002fXG56rl2Ti1l4VP8E5++YZCdLx4cCIoHuwF4kYs3KapzaotiLE1hdKfA3Hjit59O42abtsw0lZCLR3PLwgPUXnWEZrcGY7hFworrkWFWRSWBtih5TLGn9tyy3RaVwZXPfjpt484o6vfvUK2RLT1okpG66fAzb+GDElLXBXbkNU9z9jsxeuzkv7XxdhUSr4tMYnhz+yzFjRYyBSTad6uH\\u002f6bVEADhZXfLe8EmUG2F4H54wROhQKGmtkkvnHP3zqfCRIUIHuU5zpbHm98IMzGeks8eN09zf4HWADYxQnv90pzEj7SJvlkq9ozSoAUBAxQtwIpHhwJjZ2LnXm\\u002f8cg3zLT0+HJqNatkWuzUFQLYPi6cxe6M5da6rxqZP\\u002fVSb5X6j9N46sWaZDWpTHC9r+z1\\u002f4pjt3LWbBcqfGemSoDXUV0q\\u002fk2lwUECbFJ0T0BetGt0C5NrdJcaBDk6ExNKCAMimeTuz57tx1tuprG+acbdjUqLq6xPsQk9yPabj7AgqRNdb555Tml1vUVwHAnhHzkKkrVGtooJG7U3AIQCIA8eY7AIFAppDs1YYqBNURB7QrmNKgiz\\u002fynQuTe2r6U7ihaae2NKpk6XP\\u002fj0Gm\\u002fFaS9lnOuWvzX\\u002fq3MmtPRVazWu7K5K3wjVkfOBKXJZfRVvtLUfeC4ou8ItcFWCxMDgCHa\\u002fL+qcis7GxXGXQiGiuI77jAK3y6W899WwaETdEJm6IT8FYAAJjrEzLXJ8TcYkCMz0eOej5ylLkRR+8+vjw7K1dKDhLYfz+2t2TTO8GbK4wUOeeImyQa1bXWhnin7l+9F6NGP3nhIADUdHa8kdJVVmKCRCCsCYzGGe9T+qceHgZmu0yY7jTGlXGbtdnuTKeVHnPsaHyc3YgoPXlPNCr+q+7YEiz6H24Uo0V5tLDtVQbF05m9iESgSzXp5ZLPZZrMcIcfbyPfVqy6WNL+npAx2o37iN4oaVdfoputXFYr\\u002f61dfUVITxAxJ6FgaFOdK5d8bkSU3vznzc5hw8aDDJnITHD+4Xrbx9WdRytk\\u002f3mwp9nRe5stHVJUSz8lESyKHJ0565jUIABAwdipzTIiCiPSqTM0A0C78hiFZE8ishkUb2wFQxSQ6w1j2dQIFi2MSnIwIooOdZLGUOvOf9H8nBgi1pwm+R8FLSv4jLEoatQjEl\\u002fhLfOrrIdFps71CNtTmZkpro8RdUu9fGlThVy80CuCQaaYjE8n\\u002f1en6JjsGkAlks41ln6ac06sUb4WOcnkcKQ2\\u002f+Wrh73MFhT\\u002fNOfcdXHdz6O7FxT\\u002ftTj1i9zzYQLn5T7RBCDUKqVXmiv9uKJBFVj9wpr2I9b4DAUeD427WF\\u002f5RNjwwBvxOYxpHgFL\\u002fSP2lnUFj3G8HDMW53\\u002f\\u002fYhNYeB7zXow39Qc\\u002ftqcfu2uO2RwjqqaTXZxZ85uUh7z5z9LJrjgHvVFa3P4unz4syvFPAqErZFXY9nKz8qhYdUHE7L6PWElx+7uRjr8K6CNuGFBzlRYgfI9EZJpu0F68Z1IbpjQq9tkElo37ncTGJ\\u002fCmmyAAkUxkUYhMMpFFJ9kxyA5qQ2tK8yscqhfeFWC8y6940xBArDyKswiZU5kQBAAGRJ7fbJHPVyHpyttz572ISSgCEF25T3RoLosVhxBUSyYJGBTfAP6PImZ3dNyEJ\\u002f9lIoHarjxRL\\u002fuFRGAyqT3Mdt0eq\\u002fxi91Rm7q3KMhdYh6rzAGChl0UyXJNKfmza43wqAwCeCx2z4Owfv5emrfSLwRp\\u002fSLWqt6+diLP32GG5oPjhmvzzDaWTXbtq947U5glozP2THzX5GFFEZzRi2zYGltnewbO9e1aun46a7sbmbclLM2\\u002fp7shkvxo7bpFvV6LeA4BNYN0lUNQAAJ78p5qUB6tlW4PsPsQ5tKhOGBGVG3etSV0BgCN7drPyqFideBsCy4E11UxdAS4GRiVZZJWRiWw2JVCqSUMBuXmOwIaN3qnsPF3csV+qqwAAO1pAqGCVOws\\u002fJ9K7T4H0n2vin5b7nCyTHy2VHVIa2thkpwDe\\u002fFDB8v6Gb9vU1\\u002fEm69AY2zXqdrx16BHi8CfeZAmFKBjlWYm34iF4Cl73hNfx5p4gEuie\\u002fFc9+a\\u002fiB+6YYL5jpNDleF3hO9HTWGQqABhR5FhdgQuTN8Js7XAAmOcZhqkrAOBS6Ct8Yz7LOXe2oXR9wAi4saD4OssFxWd7hB2uyb\\u002fYVGYSWCIau1wuzmpvGHaj5y2JQGSQbXe8uw2JQHghctSG0Lj0lrpmZSeFRPLhCiNEzrj53Psdm8C6qzDI7o6sOc2KA968ZygkoflQpzYfAPJanzU3YuiMPdQk9gmH2ttzAIJqGjv3tauTVPpqAyIzomoE1QEAoGg\\u002ff85sPOxcF\\u002f+cL93Fo3r4c+cAoA3KtAuNrw4TPR8qWNEvHwC42PRGp77Rgz2GSKDWKS5dE\\u002f+oMUpiRT18Ke53tEbDrsqM43X51Yp2AHBm8iY4Baz2HT6wnczuC1b4xr6ecfRITf4K3xgAuNxcKdYonw1JwN2HfDgWz4QBPHsAKJd33RvzJE0A8HTyf+Y+GOYLim8MG7c2qX75hb9GOngt9o6c7haMq+yzcTdhkinjLVtXPGAM7mfr86I\\u002fcmVlP8a8Ibwp6ftY46WtFV1fBiKBeDjhe8vxnklrz\\u002f2kcNt67\\u002fkL3Pod0RkMmjViI2rsV8KWF+\\u002fpFsXRGtmv\\u002fnYWpToGRA4AHtxHccILABjkHuYc+4RCFOBNNzAg8utNK5X6MhFzojt3LY3sRCayy6VfYiLPhg3radXk5Ut3OTKip7h+g608Y7BTn23cdF38swtzuIDma6UPhtLQMtdjB43EBYBI4aPHatcXSHcH8BZwKC4mnz6Jd\\u002fwcbxpiSLSqx67sLJI129FYYxz9DChSIG38rTR5nkfEQyiwZnuE\\u002fi\\u002f77N6qLExgHa7JA4AFlvODAEAlWvxaCahMAFDqtdiu3LSgOB1fBOdltqB4lJ3r2RlPby1OOVCdm9Za\\u002fXHWmSeCRm0IHEkcAoGTJ8KGPxGG71SCwxofG0OH7o\\u002fsx4XbrrZ3J53RiFQRjR\\u002fG81voNtmFcZsZZyigdCKV2FNIZIx9tDvTsVOv3F59WKztwA\\u002ffJ7ye+5VM33lw9M\\u002f4gVvDpHg5sGY2Kv7z5D9FMCtRJBHZAGDPmsqjxXR7W4ER6X4+s5I6+d9KfZkH91E\\u002fYfcEARG680lt2LCSctkxAIiye8y0rh+ZyIgUPnq2YVOZ\\u002fMhw+01W+mD4cKZh6goAqER2IG\\u002f+NfFPdYqkEMtAV++4sSfjTUOM168dKpI1L\\u002fSMej96FtZFFkHRLEmdH\\u002fc277T3NXQSeYFX+F9lGUUdLZ5swbmG0hiRmxcb\\u002f5ypNFgsuoKtD8O6scIBttTBNLe+FxR3YHDeiZ72SsSkE3WFW4tTvsg9L9Yo3oyagvezYeOOwUewpjjFs8kMAOjUq8oVdaebUy63ZX4b\\u002fertaazXgx\\u002fDm27Ao3Ai+YEAsL\\u002f+3P0rsFRGDd5kBV78p1qVx2tl28yX\\u002feJSw5rhkFRztReBRSZy4Easy4RCX2a+aw0qfTkA2LOmmSwoalTp+0zasGEDj0RbCgB2NIusZ2xXrCm03geDR7UI1vJpPgDQoa8xN97vZLbXXWopD+A6fBQzx5RxQiQQYu0surfkShsOVGdfa69tUHWgKOrJtpvvEbHWryvWItYoEk58s3Psut2VGeebSkc7+HwzfNFf5Wm\\u002fliY7MbifD5sfync2nSpDXLO15EqOpF5rNHiy7RZ6Rj7iN3JIJbus9I39qyzjQHVOhNBVbdQv6qnzbbm8zXy3SNYCAH5cEbYbLnA+WN2PBcXpJPJCr4iZ7iHTT235ryrbJrBsDAb45L4lblPWey9Y773gxYBVP8a8Pt91osqoOdl0BedmAwCMqFGPdFdAWA+L4mfPmtrQuRdFzQoo2HPIRHad7E+1oc7MF3RGsWl9e6wLvFh1wTSqMTS2KI6Ydq2ERnIEAPPVb2rkv+oRWbeHDRvWoUOURAKZQrSYl6GReAQg6hCF9T4YRIJFGJVO5AOAHlGZG+93zjQUAcAKn2G9S5zfS1OP1uX5cERrfEes9IlTG\\u002fWf5539pfiSuc9neWeAQBhp73W+qeSN64cP1+Yu846tV3a8k9ldYHisLn\\u002ft5R0Nqo5FntGP+sdzKLTP885uvPrfkKr09+WK4uw9TteXXGgspZHIM90tWkNhHKnJb9N0fVrURv3u8utEAmHKjez1uZ5hbArtj5KrdUpp9zEAYo1SazRg2yhAvbLDfJREIBAJhKEwP\\u002fhgo0eMx6qLX085tfjErokHt43et3nxCYtWqA8q+AgWjjH2MYcaLrRqJdju4YaLv1UeeCVo3Vj7WJPPpbbrXxb\\u002fucFn4TzXCeYWk8Oe+C9YZIt+LVaCAnqkIfFk05UWTbsdjT\\u002fFMd6bje9ucA\\u002fBeoreHl68Z1qVpwG673IUIj9E9GV+24vpjfMcWbNoJCe9sV2pr+jQZMS7ncXaOvBoUVxaVLv6UmbzGj59mM7Q2qo6w6EGSTXp3ae2Akf23Dr5jhLJhyp9FZFAk2quyrTX+fRhHZprJh8E1cq1eUZUYUAUekQKgDYrjpCJbBKRzaL44ooQbTy0UInsTtSgQxRUIttk1BplKCAmizU+GAbE4julR1UAQCF2B3ofAAo6mgAgxq6PQMu7UTNYZCqd1KU4nwkaO\\u002fXMj\\u002fuqs54LHmfyoRBJX8ct1CHGkce+PFFfcG7aC24sfqdO8191psZooJPIUp3q3axjw0Se2xNWm8rrXsk4eLQu70JTySRni5jivWWlb+ymtIOyRvUU10DOjYk\\u002fc+zorLlnfpvqGsinMU7VF1d0tj8RFI\\u002f1aAAAPpXx9Yh5z6fsn31622yPUCcmt11zY0Hxmc+6sfgAgKDI+OM\\u002fRQhdQgVODgyOQq9NaiqvVUgHfAVPG+acqC75OONCo9Ji4uVm0lvqvs9OBoAIkfNrsd0f8vuaPgSWVCcHABd6\\u002f+YHYwTBn4S\\u002fIDco9tSerFE24Yet5u\\u002fqY\\u002f\\u002fVnXFnOi1ynyzXK481JQko+GT5e4j6tuYHMdjUQHvmpDbVOXOjiDlxmPP+GtmvYtVFPSKlEPkMsruPYKOZmiFEOmyp6Phaok6plWXTyS5e\\u002fGecWHOu1I02P0+fcKghEY5bKju+r5H9SiBQeLSYGKfdnbp8c4GlMTRkNq8yOwgKxa9gGwHCd9y4q82HHgwMqCGt\\u002fXKK+JJY16YyKDkUrh3VPpQXMUY0gU0elNTja9K03I6s9d5P4wfuH0T0kHZtcbum2Jk5zGQUa4sBwI4eZL0PRoeuynxXqi0HAD7ldoo8hixSnQoARDdWuf6r\\u002fOqnuaex7UnOgT\\u002fHL8O27WgWAT82hRbIc0xrrUJQ1BRxCeM7AwCVSHJj8jv1GkxGODN5KIBMp6YzOCfqC1QG3SO+Fs0LZrmHHa3LS2oqG1ICa7pb0Mc0VrtWiWt\\u002fZWJj2Ljijtb\\u002fqrJb1J0uTN6bUVMeDRhh7jDJJeDglMe2FqVcbCyTYAuKswWbwieY\\u002fquJBOLjgfFXWioP1+RrjXoBjenDEf0QP7bHgJmNAeH7nORvs6yaAQsVOma2NaoN+vSW+sdDhwvptxOUGWrcUmCpjJryztrtVYeEVN5c1\\u002fH44V5hk5kRfH8AONucetsCq1Ur2V9\\u002fzo3p+G30KzQiFQCWe0zfmPUF3u8OeDHrY7ypP+iRrshzn0Q4\\u002fII3AYQ79JAaz6YGhNp\\u002fhbeaQSEJguzwL3uiV4n5rht3dZ8CyI4x1o5h8dzGpgY4sxeadpkUH9xpH2xQQH8q+6q4s0BAtfNl+ZOJFKlOUqeqrlZWjBVNxHsPELkdWR36rvDwfUoAb26p7FCO5A97RhiZQAcAA6rJlfwJQPDjzrbeB6Oy83SoYAWDZIf5lMgOEoDozh74x1kUNdYrzzerUto1eVqjRI8qKQQWnWwnoIU6Mka4s6fgJisHHMKN0h9\\u002frv1ir2iVQXeivsDcQWM07K\\u002fOSmouq1a0y\\u002fQatUGnQ4wAgJp1DObd6AvFIFNMEopGIgOAATUCQL60EQCeS9uLDZkj1va7OOZOuDb\\u002fJbzJEhKBSCIQHOjs0Y4++DEAANAjyLMhCc+GJOAHzAjkOXwzcj7eegMCwGuRk16DIVGB\\u002fjBwqLLQXF2RCAQ+jdGu6XnGn0Whjnb2PFdXrkeMiQ2VC31D8R73IXiB9cS1D03bJAJxjsv4Je5TsAWM7zJX2\\u002fMQFJnpPAZTVwAgpPImOMQdqD9v6Xj71KpuU\\u002fzZePAolOcVdxZE8Yc96fuC6cdPj+ibNPUs8qB8\\u002fhEUKe4scKJ3JyMPWa6Jf8aEkYlg\\u002fhIBzQ8AhLSAaNGTmeLNx2rXuTLjUUAbVGlyXW2U3QZTVrs1PhgMkvBozToP9jgaiVujSJTpasIEq\\u002fvVo8EaGpWXssRfqAwWX38dKtfp5HJdVU3nsdz27yJFmzzYM8wdBgqsW6ZUpxLSmAAwysFnlINPg6rDXGDJ9ZqVSdvL5W0TnAPW+o10ZHDYFNpX+ecxwWTCPC7VYyJRp14LAI\\u002f6jxRQ8c0LPM2aFwwFUlqqWjWKp4JG3To1bUiljdnoA6Ve92F61xSNN1f4auzYca4+TDLF68\\u002fPLR27iXfyOFdXDgBpzbUPpsAyVRGqDdoaVdPhhotNGvFzfsv51EGZIumFOlUzAHizLJKuPFkDfKsFACqR0uO9qU8QFNXdVpK7jSGIRCsGgEh+jEldAQCFSPFgemPbGqPmtdznhVS790I\\u002fMzlgvF\\u002fwmlTX\\u002fkXkzzRiV+7IVUnypbYLLZomLaLhkHluTI+RwtExgq4GNpfaLqS0X2pQ1+kRnVwve+r6GtOpfon5k2jWyr9MUXyy6UiVskKP6BzoTvF2YyY5TCcSiAAg18tezX3u5cC3E9vO5XZkBnPDNng\\u002fd7711Knmo0KqcJ3Xk6ZXDn29nj6p6jyLs3iwx2ICCwDCBWt4FM+Cjn9KZYeBQBDS\\u002fGOcn\\u002fRkd2VkWu8DAFF2G6TaijL5UZVBzCI7xomeDxEsx\\u002fncIYXS3wokm\\u002fFWSzTG9qstb0s0hVGiPuIut0EA1+GauLawo8mXI8KP3eDv8vRyeduj\\u002fiNfC59qMpLN5JSVsMlUAJjiEtxnyte9xYiiPxVephBJj\\u002fjH4cds3J\\u002fsr8iXaNQA4M0VHJn9CIfaQ14dDtMShCVSi4rR+xe8wFriNsXZrCPDFXHW50V\\u002f6BH9B2HPmHndDbAMJzrJ4q\\u002fCsNwdEH6IftuRfss7XS80a8RPX38Pb7Vxf2JPdwSAYnlBvN0Y\\u002fBgAANBJ9OHC+MviixWKMl+2v8leq6pq1jTG240xqaszzccPNOzxYHqPEU0AAqFN21Ikz3emu5gEjRPdOUE0HkGRf2q3O9KdpjjOMp2NYPYjmi5J2V61xYHuNEo0lkqgliqK99fvrlCUmcfY\\u002fqvb5UB3CuSE5HRk\\u002flX9a726dqxoYmLb2b9rfn8ruGsquc\\u002fX0wtTXL\\u002fFm3rCgz3Wg91HprA1PghqjBCuixCuww8MEFXyQyZ1xSQ7u7EnCWhBdJKITGAYULXa0NahK65XXMCCW2Wyf5hkxwB+H7Pt\\u002fWW8c8A\\u002fldcO1uTMcQ\\u002fHj92gorMNAKa5ducGGVGkStHe7WEdYQKXQ7W56W3VQ1NgISj6Re55BolypaUqq73+pfAJDg9fn9UHlUsNXfmUL8eMtUZdAYAntyuqWqeQWY7cr+AFFo4EUfRvVH6WtFiH6KnEnpMS1MauJgIDC51IAwC5XmFutD7tyXo4tzsByiRZTJrYsJLTDW9VK674cSdNcn7XZDSiut9Kp\\u002fhwxk1x6ZqkPlH\\u002fSp0yfbXvPha55xqLOmX6ifquvHsAoBAZPIqbF2dMhGAphdjvBMlATogH0+uqJBkBZIbTPBdGD\\u002fWqY+0nXRZfTBYnmgustPZkABhp150aclWSzCZzXg96zxSLQlCjHu3+6AZwggM4wXpE\\u002f0\\u002ftdh6FnyAabxoyoTB07qrZ7s8J2uj\\u002fmuk8f1RtTpek5HZkRfJjMAuZSH7M+xkDangp++lr0rSPw74R0exVRlWyOFGP6ChEKljxeoYSgzgNpDV25LR\\u002fCwAEIEaKNvnxlt+87KYnzIyw21gu25Mj\\u002fhYFpEC6xYMzgz6gNbMJDr4hfKeU1sqtJVeeCMQvCIOB9XNvUsmjhF2WbSXJMp3a3McaZruHf1d48c\\u002fytFnuYaaCOwBo1yrZZBqWrXUPQQGO1xW2a5ROTO5rkZM2BMbjPWzctxRKWgGASCBYvxgO94YOU9xo0H+\\u002f0\\u002fcXzIAaUED1iIFKpLDJTABQGCyS1GqUFmkBA4Ub0xEAapRNMYJgk7FO1dLtMRCQCeTb1klM8m0eaAMAKuQXY+3W8akWzRVvAwd6sBMzAkURpaGtQXX9mviPqs6k+Z6byTeahlsJAQjP+r30d81vGZLUDEmqB9N7lGiseVwKANyZnl4s3+vSq0vd19BJdABAUOM1aZqQahfA6f6Ucim8Zk1jpbLCjx2AWYgEEs1s4s8arkmvahHNRIdp5jOGccL4dElKnizbJLA8md4AQCaQMV0lotkDgJBqhwKqNCr5RCoM0Ot5AKiSH9QjCgCIsHvRn7cSP3wDAhD9eSsBCNnirwyIukp+MFiwAe90BxAJhK\\u002fiFq659Ne3BRf212RHCFxQFC2Rt5r7zHGP2FF+9aOcE1UKMZ1EudpWfb29dpjI45q41tytT\\u002fhUxhfD5m+8um\\u002f++a2z3MIcGVyJVlnRKc4QV5+Z9rwrk48\\u002f4O5CIhAuz34Bb72JDYEjNwSOxFttDG2kWjUA8GkMFqUri7pPTJPg6CA+Z91V8A9wOC60psv0Cg+mM9bIyoXhAADp7fkmh1atJLHtmml3ABlhF04AwsnmK6Z2U0qDOrE1w9LrTuFQ8Lmf1kMmkCm3iOrZ6B0aiUskkLLa\\u002f8YP9B8XZnS8\\u002fTOjHJ6b4vLBKp+9DvTgdm1FqewU3s8KeBT+c34vvxn84Tj7ye26tj21f72dtym747q5z1j7iVpEmyFJwXYL5flyvWykXYJ55tZcl0UUIuWrko++Lf30anuyHtGZhqynRlkJAFsqvnvq+hrTv5\\u002fLvwYAuaE7fs4kdX2AqUQq+0YyPvaxNKJGbHdAXs8DQJPqMgDQSAJ\\u002f3gr82E348ZbRSUIAaFJ1\\u002fa0HEB+O6NCkJ5d7x+qNhlMNhSmtVUQgrPAZ9qh\\u002fVwgnhO+0edQKFyb\\u002f15LkLcWXCQD\\u002fjHt0kWe05WmsYqJz4L6Jj09wDrjYXLq55NKphkItYngxZKId7TYj9zZsWAN2Q7x1yUIPyHQabINPe0CCF\\u002fgI1n\\u002f1Z7Ekd61RX6NqLJBVkAmkx30XYaNBXK9Ajtd1aeEbud+H8nwlOnmKONuH5ZYnKzOdwYgiJZ1VKoNGZdS06zoA4HJbpoDKYZAYrkx7OyofAHSIvqyzVmXUqI0auV6JoujF1gwmic4k0z2YTjwKBwCc6KJ5rhMONVzYlP3lSLtwA2JMbc91pouaNWLTte6Qfq0h2CNMEl1my3PvP2QCzZc3oajjaKzoUe7A1YhRiMxI4Yqzje+2qPND+PPww9bhwfT28PBe4r4qtf3ygfo92yp\\u002ffCfkf070rhcZJxi5r27XFXHiGPuJAHBVgp8fBABvlt8HoV+cbj6W2n6lpLNwb\\u002f3OaY6zpzjNNBdhfaI2qgBgsuOMm1twOdAcTdvm8a2bJ7wwBuT1PAAo9HUAIKJHEayI3hGAKGLE1CvOYUcNOPZ09vvR3bl3NzPW0W+sY1cZAUYA12GBZyS2LaKzixd2z7D\\u002fO\\u002f4x0\\u002fZ6\\u002f\\u002fj1N4QaRgDX4au4heYWG0ONjXuPX62qO\\u002fLMGntO38\\u002f854orntt95NWpY9ePjsWPDRlEDFZtZ4dUq9YZjVRS3984ACho75qhcmENoYaXdwJeYJ1tTsU2CEDgUtijRFFL3af6srsSJAlAeDf0yb+qj2Z3FJfUVzvQhMs9po+3j1tz9U3TGZQG1Ws535l2AeDn8j3YxgqPGSs9ZwJAq0byeq6FzzclO7CNJ32XzHbpyoRd7zNfSOWebE4+2pBkR+PPchkzwylheeqr3Yfdaz6LeNkUJ7BhPXpEFS1cVSw7ntX+9zin1\\u002fDDdwCNxAYABO70j0ImkMeIJlCJ1O1VW65Jr852XoDZKUTqSLuEC61n6tW19jSHnI7rvmx\\u002fB5qT5dHAowiWuq9Z4LrsmvTq6eZjBxr2yA2yxW63nJa6GTqJAQDR\\u002fGG+N+b17oQ7fz2DTahgZahgcF+PDpEDAI3Exw\\u002fcAiqRCwB6y6U\\u002fbTzw6I3Gg9mFB7IK6qSyTo1WyGS4CXhj\\u002fLyWDgsXMPud3GklKIoyqLdZzz40CRY41HZ2GBDkWmv9KGeregUfrizENuIc3SxH7le6BdbbIY+b2W8Jl8J+3h8fYD865kfTNpfCNt\\u002ftETemY58+AEAAwgK3SQvcJpkbrTnwruF0W+WHNgyolk1xDOBOK5WfjrFby6HgBcpt06TKAQAh1dq0yt6xpzkCgNJgUWkx1n7ShdYzqeLLXiwfHaK7VdUhAFCI1Hi7McMEI94veC1ZnIQTNFi3BeQW6QaeTO+09iulnUUDIrAwen89DzwUIldrlOiQTvzALcAEGcVyMR8bDzYIij6x81BqZa0zjxPj7kIlk1rkioKm1tyG5uVxPbeYHxC+XzYbb7rPmejue7q2FAB+yUuLd\\u002fbsUzleaaw+UVOCbU9x764iuq\\u002fBR7Bs2LgLIKgBAKLtVpfKT2VJdo51fBnv0U9QQFSG9qrOy1mSf6hEViBvJt6jLxrUdUKqHYPENFkQFElsPQsAPiyLmRonuos\\u002fOyirI0NukFGIlFjBCPNRFFCJrt2O2q28CQQikUC8eT6ORCBxKbxWbbMBNZAJ+G\\u002ficOGow437zrWeihPGi2gOJrtcL2OQmNYn\\u002f1n\\u002feh542BRXrVEiVmejgNxqOtUECohYnQUAbMpQbHBgY5BIrqhJraydEuz3\\u002fbLZpniS1mAob23nMR6QxKC7w1zv4G+zrjSrOq80Vr+bdubd4ZMoxFtOFB6rKno95TT2tBlj7zrC6QH50uFv6zZs3DW4FBc\\u002fzuQS2alYu7V0qyducGRL\\u002fsmW\\u002fGPa5VAcJzm\\u002fxyQLzVys4lzLyXRJihfL144qYpHZSoOitLOoQy8N40UOE+IrmMbaT\\u002fy96heVLCuSH2uuyQAARZG38jZ5sXzcmV58Cl9j1OTLctq0rbNdekiCiRPEn2899XXJJ6G8CAQ1dho6V3k8ig2xyOz1Xk\\u002f9Wvnjx0VvDRPEC6iCTr28SdNYpij+KOxrc8HUO\\u002f16PQ82joyR7Zo8jVFcJT\\u002fow+3KK70VFbJ9GmM7ADgzLRLsbDzYNHbIAWBioI\\u002f5bB2NTA516U58BAAUhR1pmbszchtlckcOe3lcxJLY8OGf\\u002fmLKi\\u002forNfPTU0lfL545KzzQdNTxvJKX9p14Y\\u002fq4tfEx5haTQ\\u002fobz3Dp+PJn07UaOuSOXPai6NAgp5471wwpGGTK28MnPpd4GAD+Ls66WF+52C8s2r4rmdWIoCXStla1MkfcdLy6uEjSitmpJNL7IyabTnK\\u002fYxNYNu4lMXZryuRns9p3jXbsu1q7R7A2DUQgUolsET3AlRlrnvdtPbGCEQqDokFdW6OsNKJGBonpynCf5Tx\\u002ftGj8zcGeaEEcp47baZDfPD9IIBCnOs4qlOelt6foUR2bzHGiO892eQ4X6MKY77qEQqRck1491XSESqS5Miye2yL4MW8Ef3i6+VieLEth6GSR2fY0h7kui7nkfmSA9uv1PNh4c+cXd\\u002fyFoLos8RcEIHlz590odcKBVsj3Z7d\\u002fBQBkItOb+9Ap0YcZDyEfAFKr6hZE97ZUy7fnk3+9nO5rL3xs9DCpSv1HyvWk0q6+mv1ijJ\\u002fnX+sWS1XqnxPTylrb8cMAYHatDQnDpCr1zvRse3bfifBDgdleQbUxHV9kJgFAvUL2XXayaahZ1Tnt8B\\u002fdrgAAQCQQPo2fHiEasIyRe45NYNm4l\\u002fCo7r7cicWyY9F2q4k3TZNZgwszeoT9k3hr\\u002fwnjRYbxukq0+oREIBEJRB6FH8wJww0RgLDQbflCsGqBFwqROt916XzXpfiBG7gy3Nd7P423AgAAl8LbEvu3afe1oPdN21McZ05x7Jok7dfrebBhkp2CBesLJFsQ1HCt7aNS2U431iQ+LYhOEpGINCOi1RjbpNqiesX5Tn0NdkiE8AWsWYONh4QR3u4hzg5HcoqMCPL02BF+DnZ4D4DGDvnvyRk+IuH+J1fRKWQAeGbciIVbuuPo1sNl0Ed4uwPAvsz8HgXWAF7rnvBMxEh3Du\\u002fN1NOduj56h3KptO\\u002fHzpng5osfuJ+5nZ+0hwEERQrkZZWKeoVBhQCCH7ZkjedtdgSwAQAxdmsq5BdyJLtxywkPZYrk+TJ9x3SnOViiuo37hRDBBqW+obrzKADIdVWFut\\u002fwHmYEC9b78pbgrTYeaIgEwtZV898+fPZ4XsnxvJJQF8eF0aELo0IY1O6sx\\u002fPFFUYEXREXgSkeAHDgsOdFBv+ePPAtIe\\u002fmtQaJOd7Bo509dxRn\\u002fVee26DooSbXmcVZ4hf+WGgcj3rf\\u002fARYiU1g9UCVsv7Lkt+b1F2zwn1iE1h3goDq5c0ZW9RxFO6TEmUERU40HSITyBMcpuDHbAx1CHEO7wtpoXmSn\\u002fW3Liekk0TRolfc2EMlF+TQ4es\\u002f\\u002fNS13jaRSDh3eiA7m9wvfPDRoeycmt9+fcxOOLh1nfYc1tbV8wsaW\\u002fZnFZzIL\\u002fno+IWfE1M\\u002fnDtlclBXcKVCLAEAXCKUf0+xrjvnbl5r8BDSmRujRm+MGt2gkBdIWiQaVadeyyRTBDRmkMDeh\\u002ffABoltAguPwqD8oOAnmf6WN18TZALZm+UWyPXGD9joJzF2j1R2JvW4PkJa22ZcZCtMsMiOdg\\u002fCyCigB+r3UIm0InlepbJ8nusSHkWAd7JxP+DLW+LJmVWjONGiSpNqi7RGiRHVkQh0OtlOSAtzZo52Z08lEqyq02xuka1cvZlAgD27nrW3x7eEHSjGjwv28LCTyzW\\u002fbrvY2tZDDOC+5mJiUUpq2VtvzMUP3ASdTr1rnaJCXRxDXRxfnzbuUHbhl2cvb9x77PDTa3zthQCg1OoAgGkW0wIAFs3aBWH6xd281l3Alc11ZfcjhfR+xyaw8JxpTsbUlSNdtMhtqifThUVmvpD1MYvE+CDsBSNqbNVKrrRdS23P9mG7vxf63G0vZWjDhB3N14udUK24jB8AKJefx1m82An3RmCh6DXp1U69TEAVLnRbbkpysnE\\u002fQiYyfbmLfbmLsV1rGjf0SGJiEZlMQhAk6VLx4kVx+OEBgs9nxkR7AcCef9MePIGVklomFivw1pt47535eNPgQyWTlg4Lp1PIrx44dbKg9LnxIwEAmy6UqrrWdcHQGfpubqzU6fCmvrjta9kYCtgEFp7MjkIAEFB530a9wbghnqhEihE1erPcAMCP7TnKLvp08+UtFXs+Kdz8cfjGm6vMbPTCNNdP8CaAaa4f4ywz3b7EWXC4s4Y\\u002fGZiEtw4aRALx0\\u002fDv8FYbDwS3p64AIDGpODjI2WBALiYWDZ7AeoBBEDQzq8bDfUjPeWGlhR2qrlVxfUVCAChrFSf4dTcorxRLTNsAgHVbkGsshFGPaey9Y821bAxZbAILT4OqGQCmO40xqSsAoBIpSoOq2wlgmtOYq+05WR1F51pSpjiONh+yYcPGw0BTU0dpWfPaNQlGBNm5K6W5RebkyDN3QFH0+Imco8eyGhqlKpVF9OLC2det97GSc+cLDh3JrKxsBQB\\u002ff6flS0fEj\\u002fTDhiQS5eJlP37\\u002fzarDRzOTU8qHxXq989a8ffsz\\u002ftmT5uDAef3V2QH+3bXxuXl1u\\u002f5JKSxq1OkMbq7CadPCFy+MIxK7HyOxnLAjBzc2NnVs+y2xqLgJRVEPd+Hrr83x9OiSSsXFTSdP5+bm1bW0yFAUdXUVTp0StmRRHOHGHN\\u002fRY1knT+dWVbVptQapVDlxymem85899SqJ1CV5L1ws+vh\\u002fh01DRw5uZLO778wqlXbR0h9dXYW\\u002fbV1vMmI8+ti2llb5gf9eoNO75tf6fF8AUNIiduFxOGbNqIwIuis9GwCi3bt6OE0M8v389KXdGbmLYsJuCCntkZwi0yEA4CUSAMDFksoVcV21yY0d8qO5Fj7WYM21bAxZbAILj8KgBgA3hkVbOQaJJtcr1EaNueoa5zA8q6Poivi6TWDZsPEQcjGxCABGxfvpDcjOXSmJiUXLl400d9j668W9+9InTwpduSJeLlfv3pPW3CJ76smJI+J8+uVjDVu3Xfx371V3d+GsGZEoQHp6xVvv7HvqyYlLFw83+fyy5byrqzA6yiM5pezzL49XVrbOmR116HDm19+c3Lr5Uczn\\u002fIXC\\u002f3121M1NMGN6BI1Kzsmt27L1Qn5+\\u002fQfvLcSlP6WmlX\\u002f7\\u002felhsd4LF8TKZKqr6ZX2ou4stH\\u002f\\u002fu5pxrXJYrPfoUf4GA5KcXLpl6wW1Srf2ka7Gre7udrNmRiFG5NvvT7u5CZct7W7MRiR2BxTj4ry\\u002f+XKFTK7e8XdyVXWbyY7BZNJGjwq4cLGwsqrNx7s7E7ysrLmmtn3qlDCTurLyfW1PuX4srzjC1cmVz+Ux6B1qTUZ1fYtcMdbfa0ZY16JV7gLe2viY7SnXF2\\u002f9Z1KQr95oPF9c4chl10llpvNEublEujlfKqtes\\u002f2\\u002fYZ6ubZ3KM4VlQU726dX1Jh8jgmTXNym0OoVG1yJXAMDJ\\u002fBIRm8WmUb3sBI5c9q2u5S7gmV\\u002frgcGIohJNVyDDnnF\\u002f9PrqHZvAwkMkEAAFgmX5PYfMaoF2sVbqznQ2GV0ZjgBQo2zs9rNhw8b9AIoa65Xnm1Up7Zo8rVGiR5UUAotOthPQQh0ZI9zZU6xJck9MKra35\\u002fj7O6Eo2AnZF5OKzQWWTmc4dCTT39\\u002fpzdfnYBYvL\\u002fsXN+1sb1d4eoqs97GGgoKGf\\u002fdejYzw+Ox\\u002fS2k0MgBo1o979fV\\u002ff912cVist0l5kCmkt9+cq9cb5y\\u002f6\\u002fmJi0a6\\u002fn3J24isU2hMns7VaA41GlsnU33x3KjLC\\u002fcvPl5tiSP\\u002f77Oi58wUpqWWjR\\u002fmbrggA33x36tOPl0RFdU1doahFHfCLz09lMCg0Wtd\\u002f4yOrR61+ZOuJUzkmgRUV6REV6aHTGb79\\u002frSdkD1rRs9d6DhsOnaJEydzbhZYADB1StiFi4Xnzhc8sWG8yXj2fAE2hO1a\\u002f75mhgV2qDQlLW35jS0GI8Km0wId7J4ZN2JxTLh5fv2rU8fas1l7ruXuvJrtxGWvHB7p7yB6atchkwOBAFtWzfvm3JWUitrf65tceNynx42YGxE8+sutJh+5Rrvq972mXQB472hXyulz40c+NyEe2za\\u002fliOXvXJ45LJhEcM\\u002f\\u002faX7sAeFJqU8Yd8WbLt63YNQKmsTWHh4FE6bVtKiEZsbRTRhuaK2QlFnLrCMKAIACsupQxs2bAxxGpWXssRfqAxN5kYdKtfp5HJdVU3nsdz27yJFmzzYM8wdcNQ3SMsrWubNjQEAAgFGjfI7eiy7oVHq6tJVW9rertDpDP5+3bFwXx8HAGhslJos1vhYw8nTuQCwds1oTF0BAJ1OWbN69Gtv\\u002fHv8RPbzz07BjIEBzgBAoZCcnXgKhdbZiQ8Ajg5cFIXOTjWNxrmYVKRW6xYuGGZSIQAwcULIufMFaVcrcAJrbEKgSV0B4Lus8PkWS0gxmTQfH4es7GoURU2zhAPCsFhvOyH7\\u002fIWCxx8bh50ZQdCLF4sc7LnRN16e9e9rrL\\u002fXWH8v0+6tIBBg\\u002fehYbFUcjPPFFWbjAAACJuOjuV3\\u002f8yaKP9hk2hYwGea7t+Lma4HleWwMWWwCC48Xy7VNKynurDQ3erNc09qzk9rSxzt0x9srFXUAQLN62V0bNmzccwqlvxVINuOtlmiM7Vdb3pZoCqNEL+HHbpDYNT\\u002fY9ds8elTA0WPZiUnFq1Z0BR4EAhaZTGxo6JZKDY1SABCatXGyxscayspbACAgoDuPCgCwtKqSkm4dybmRvUSjUUzTcFQqCQAMRgQASkuaAODd9w90HWCGVKrEWXCXw6HVGk6eyklLr6ivl3R2ajQavV5vBAAEQUmkgRRYRCJh0qTQvf9dzcmpxQRfZlZ1u0SxckW8Scn1633dHijeYMOGTWDdRCQ\\u002fKEOSl9NRpDHq6KSudiOxgrDdtcezO4p21x5f5DaVSqSUdlbvqz8FAOYxraHJ\\u002fl8v\\u002fva\\u002fI3jrDY6Vf00iW8yH2rgfKcio\\u002fPbVPZJW+bDxwa9+t5pMIeE9bABUyQ+Z1BWT7OzGniSgBdFJIjKBYUDVakNbh664XnEBC26Vyf5hkh0D+KstTnGDxKQiAHjtjX\\u002fNjRcTi0wCi06nzJoZdfhI5s+bz8eP9O3s1Oz4O5lGI2NBL+t9rEGl1JLJRCaTZm7kchkEAkGh6F6ixDx+g0vuxlAotQCwZPFwPs8i\\u002fgQALi58nIV7k48JhULzwqad1dXi+JF+ixfGiUQcFov267aLJaXNeNeBYNrUsL3\\u002fXT17vgATWGfPWcwPQj\\u002fflw0bA4VNYOEZaRe1vWq\\u002fxqi7KskeZ98Vr\\u002fJlewRxfIo7K\\u002ffWndhff5pCJGuMXbetcfZx3QfbsHGP2PrRoYaqNgC4fDw7fmr4hHn9+4V+GNAaO3LavwUAAhAjRZv8eMtv7s7gCTMj7DaWy\\u002fbkiL9FASmQbvHgzKCT8E0E6uokWFZ1UFBXZRkAFJc0VVa21ta1m5oOPPv0pLa2zgMHMw4fuc7lMoICXd56Y455LraVPn3CYtEMBkSp1LJY3RpLLlejKMpmW6iu3mEyqQAwJiEgLNQNP9YfDhy6Xl0tXrJ4+NNPTjQZSeTBEv3eXvb+fo6XLpdsfGEagqBXkkuDgpzNWz8M1PuyYaNf2AQWHjsqf6n7TG+W2zBh9wMQADzrv+r13K+UBrURNRqNXX3eIviBU53GmLsNEnUVrWln8gquV9VXtEpa5VqNnkIlM1k0kTPf3c8xKNozbkKw0y16yfiGuk5cMEwuUcikSrlEKZcq1co+1t20cd\\u002fRUtfdGqel3tYmpweq5Af1iAIAIuxe9OetxA\\u002ffgABEf95KAEK2+CsDoq6SHwwWbMD5XEwqAoB1a8ckjO6qLAOA5JSyd97bfzGxaO2arjzunNy6tKvlb70xb+KEYJMbDmt8+iQoyLm0rLmktAnrR4pRUtoENyYKrSQwwPnM2fzsnNo7FCI1NWIAGDcm0GQxGpG6uh66QGEzlUhPqzj0i6lTw3\\u002f+5dzV9AoAUKt106aEm48O1PuyYaNf2ARWDyx17yG51Y3h9HXkG\\u002f\\u002fWHc+XlamNWke6XYIodpbzeNIgL\\u002febk1L297enCjIscsIAQKvWadU6qbizLK\\u002fuwsFrABAa57Pi+SmxY4NwnlGjA6LMfgYA4Kmpn9cMTqx+SNFUIzYYEJETj2H2WP+g4uRhJ7+RTeJhljRtw0ST6jIA0EgCf94K\\u002fNhN+PGWFUv\\u002f0BglTaqUHgRWYhGdTokb5mNujBvmTadTEs0EVmZmNYKgbm6CXjK7rfHpk1kzo44ey97xd3JoiCtWuKfV6nfuSiEQYMb0CLz3rZk0MeT37Zf27c+YNCHE2ZlvskulShaLRqVa+3shEnEAoLWtM+SGZfe\\u002faZ2dGjOXLshkolDIqq+X6PVGyh3Ma0+aGLJl64XLV0oJBCCTSRMnmK7cNTog76sXJgf52hLPbeAYgA\\u002fWw4Mj3e4F\\u002f0fw1kFDq9b9\\u002fM7+s\\u002fvS8QO3oCCjsqGy7WaB9XCiVmofn\\u002fSp0YC8\\u002fuMj4+ZE44cfOJ54ex6WgzVp4bD4qRbBVxsYCn0dAIjoUQRC3z\\u002fkBCCKGDH1inPYUebU1IhrasTjxwWZSvYwqFTyiOG+SZeKTT2ZZkyPOHYi+6ln\\u002fsQcKBSSkxNv9syoxYuGm6RUnz46naGkpEmp0qlUWplcjaJw9nwBi0llMmleniKsWM\\u002ffz3HD+nHbfk984untw+N8AUWvZlTW10vWrR3j358IFpfLePP12R98dOjxp\\u002f6YMD7E3p7TIVXW1Lbn5Nbu3PEUro1qL0yeFLr\\u002fQMYPP56pq2un0chZ2bV5+fXh4e55efj\\u002fTACYMD5k\\u002f4GMTS\\u002ftiovzMRoRmUy16cXp2JDRiBQWNapUWqVShy2nczGxWChksZhUNzchJuMw+Dzm8DifzMxqI4LEj\\u002fTjcLrS+TEG6n3ZsNEvbAJriKKQqd5cs6Us1+J+RGdSo0cHOHnYCUQcvd7YIe6sLGosya4x6I0AYOfEm7GyK8HWRk5KmdGA4K0PLqFxPr9dfBNvtWGGDpEDAI3Exw\\u002fcAiqRCwB6RI6zY\\u002f1Fx\\u002fX0JDMmISDpUnFiYpGPt31jY8f7Hx3i85mzZ0WxWXQAUKm0WTm1m7deIJGICxcMAwBrfJpbZC\\u002f+3y7zq3z62VFs44XnpsyfF4ttr1g+0t1duPe\\u002f9GPHswkE8PN1fOzRsT2+yN4ZFe+\\u002f+ed1u\\u002fekpqWVy+QqDofh4sJ\\u002f7NFxAn4\\u002fGj\\u002f6+zn+76Ml2\\u002f+69M+eNAqFFBbq+sN3q0vLmnsUWBvWj6NSSYlJxbv+SWXQKd5m+WcKhfbFTTvNfOHb709hG2vXJJhaamFMmxqemlYOluntJgbkfdmw0S8I6B1PftsYcBAj8uryn82nBQX2nPWvzxk7O5pq+dAMACqF5uq5gsN\\u002fXp64IHbuWqsSwsynCB\\u002fUKsLN7x848udlAHhIIlg2+uRI9RStUeLGnhzv+Dl+rCdSW16rV5yjkfhzvbraP\\u002faLl17ZXVXdtmvHUwxGVzEyABiNyJJlP7l72H3\\u002fzSorfWzY6IVnLx5Oba49Ne9RB2b\\u002fWnsMQeoVMlujURuDzq7vT5urq2Hjg9\\u002f46RGm2Qpc5jDZ9AnzYyfMj7VpZXOyLpfgTTYebtgUV61RIlZno4DcXD+IAwVErM4CADbFHT9mHYVFDZERHubKCQBIJCKJTFTeqDKxxsfGPSepoWrtmf9MuywK1YsrmOrhvyF0GIti8be7+6AADDLFvMu8jaGDTWD1htqo6dDJtYge7bWNnDdrICtTyvLqdv901rQ7bHzwe9ses6at0W1nyD54tDfL6ipa8VYbDzeOjJHtmjyNUVwlP+jDXYQftqRCtk9jbAcAZ6bFPJT1sNn02tp2nc5gnkOdmFTc3q4wrcFsjY+NIUKkvfNwRzcjirYoO6801nybdeVkdcmhOWvopHv5M\\u002frLhHl4k40hw738ZAxlzrekHm9KrFY29C6tMA6O\\u002fhlvugP2bb2AIl0X5duxX\\u002flmlTXqyoYJFEVTzuThrTYeery584s7\\u002fkJQXZb4CwKQvLnzAHp8JkEr5Puz278CADKR6c1diB+3jiWL4rb8evHZ53eMHx\\u002fMZtFkcnVefl1mZrW9PWfNqq7l4a3xsTFEGOXk8dqwcdi2Uq9befrfnLamfWV5q4Me9gwErz+tmnN\\u002fCLEJrB74sezvC61peOtdobVRmnwq17S74a15XOFQycH8YuPOi4euY9s\\u002fn3jZJ8TVctyCs\\u002fvSv3l5N7b95Lvz56\\u002fvujHdivL8+uSTOcXZtfWVrUq5WqvR0+gUNpfh7Cly93OMGOkbNSrgVv8VKIKW5tVVFTZUFjVWFjVWFTWqFN0F4Z89v+Oz53eYuXez6PHxG97q+\\u002flPrdSmnMpNv1hUWdjQ0a7QqLQ8IdvehR8Z7z9mVpRvaG\\u002f\\u002fDyZM\\u002ffTjp4S9u+0xzIgiaOrZ\\u002fKSjmaW5dZJWOaAoX8Sxc+SFxvnEjg0MG+FLvkVvxmtJxe+s3Yq33qDPv44J09906dOTHn1tNmbMTi5NOpZdnFUtaZWr5BoWl+HgJggd5jNlyXCf4O6+mr2DImjaufzUM\\u002fklObXSNrlCrjY9NvTIhPmxr363Gm8dUJhkp2DB+gLJFgQ1XGv7qFS20401iU8LopNEJCLNiGg1xjaptqhecb5TX4MdEiF8gU4SWp7GWpYuGcHns44ez\\u002fpnd6pGo2cyqW6ugjWrRi9aGGeqcbPGx8YQhEWhPhU24umLhzJbG00C66+izPfSzuWuerGmU\\u002fr5taTstiYUwJcn\\u002fGbMLD++nenY9Oa6n3LTstoatUaDN1ew2C98fegwEoEAAG1qZdyen\\u002ffOXPl3Uda5uvIEF6+fxs\\u002f5veDaL7lpLizu12Nnhtt11YQerSp6PrGr1gEAcle9yKVaNKP5o+Dah+kXfhw\\u002fZ453d3817Kh3h09cHzrM+mvZuG1sAgtPWnuOSV05Mxw8mS4C6t0r4r10NMtU+yYQccbNffCfjZpr2396e9\\u002f1S8U4u1qpVSu1bU0duWnlx3cmk8jEYeOD3\\u002fjxEZplwgoAdHaoNs77FmccKE7+k\\u002fr3Nyel4k5zY3uLrL1FVpxV8+8v5+Knhj\\u002f70SI7qyu9xS0ybKOhqu3zF\\u002f\\u002fGFYq2NkhbG6RFmdX7t13cc+2jW2nKAaeuvAUA2ptl37yyO9MyfU0mUcgkirLcukN\\u002fJE1aOOz5T5bc\\u002fCfAUZZX98WLO+srh9wsbYhgg1LfUN15FADkuqpC3W94DzOCBet9eUvw1v4wdUpYjxVt5ljjY2MIwqXRAMCA4kuVz9WVv51yJsHF69GQ2HaNOrG+0pnV3U7icGXhpkvHvbiCpf7hdBL5anPdJxkXr7XWb5m4wBRN\\u002fTj9ghdXEO\\u002fscba27KXLJ4qlbauConYUZb2efPr43LWYz1hX793Tl0u06h+yk0uk4huH9htrrmXjtrEJLDznWlKwjWf8Vk12jCf0PIkwWOSb5bZPXDjsVgGMB4aa0uZXl\\u002f1k6pDZC0YD0tHW2edP+wBiNCDfv\\u002f5vn33IUs\\u002fklebUfvDH41aGsiQtcgCoLml6bcXPcskt33hwtFcv6srRVTB5UZxcqpRJlHKpUi5Vqjo1d1LlUFveIpcoX1r8Q+9d4M8fuCZt6\\u002fz4rycJPa1kh1GQUfnGqs16nQHbJZGJ7r6OTA5dLlE2VLWZv0gag+rmY+\\u002fsKXL2FEVb9sIdNAhxDu8LaaF5kp\\u002f1iIVoNodOEkWLXnFjT8YP2LBxg\\u002fTmOgAIFOAXNXoz+fT2KYvjnT2wXdRsHlqiUb+Zcma4o\\u002fvOaUvJNxbb3njp2KGKwnO1ZVM8\\u002fDELhUj6YdwcndEYvfvHY1XFlxc\\u002f6c7hybXaPaU5GqMBS\\u002fniUenYJf4tzb0TgWXNtfpkfcgwvMkGANgE1s1UKGsBYKx93BTHUfixwafoerVpO3y4b\\u002ffAA8oXG3ea1JVXoPPEBcN8Qlx4QjaBQFDIVPVVbRUF9VlXSptr2wFg5uqes1K4QtbJaosI1t7N57d\\u002ffgzbvu02DT+80a2u6EzqhPmxUaMCHFwFZAqpQ9xZcK3qzN6rklY5ALS3yN5bv+3H4y8JzDof3gqpuLOjXfHuul8xdeXh7xQzJsDFy57FoSs7NfUVrTmpZTWlzcMnWbSixuHu5\\u002fjS1xaLvZhP4N4GTbXt7z22DVNXbj4OkxYOC4j04AnZaqW2PL\\u002f+xD8pWIgLADIvl5zckzpzZc\\u002ffDrVS+8nTf2LqikAgLH160pKnJrK4DGxU2tb511cnTv\\u002fbFSF2cBV8f\\u002fj\\u002f7n6XEF\\u002feEk\\u002fOrBrFiRZVmlRbpDVKjKiORKDTyXZCWpgzc7Q7eyqRQMEfZsMGgBFFW1WKM7Vlv+Re5VBpS\\u002f0t1uQBgBlegSZ1BZZZfseqipR63frQWJO6AoC53sGHKgov1FWaBFaEyAkAqCSSO5sn02ncOTwAcGFzUYAOrcZpQNsxDMi13h0+CW+yAQA2gXUznXolAITx7s7ztAVScad5LCcgqvtb+kBSlltXWdiAbcdPDX978zoiyeK3NnJU1x2nuqQp6WjW+NvSSbdH0tGsM\\u002f91qauASI93tjwqMlthAwCGjQ9e+vSkz57fkX6hEADaW2Q\\u002fv73v7S2Pmvv0CGJE3n\\u002fst7amDr4de+Pny0dMDsV7ANSVtzDvbgoOYkSKs2oAYMnTk9a+NNNc9IQN95n9yOgvXtx5+Xg2ZjmwLfFWAuvErhTTdOqyZyatfWWW+ajAnrPx82VatS7xSCYA1JW3pJ7JS5gZae5zdyATmb7cxb7cxdiuNY0bHnh2ZmR\\u002fdPIitk0iEArf2Wgx3H9e3Hf8anXd0afW2LPxsdgBv9ZdYHPe1c15V027rmzuj+Pm2jPwby3c7pYLVeW2NwPAE+cP4gcAxJruOz+P2vXdp5PJRELXwwmNRAIAA2I0uQ0Id\\u002fNaDyE2gYWHRWbI9QouGf+1uQsoOlSmbQqVbE045L6mrqIrKAIAM1bE49SVOV6Bzl6BznjroGE0IH\\u002fcaJYtEHE+2v5Ej7N1DBbt9R8feXzSp+3NMgBIOZ1XVdzoHdR3GnhJdg1PyP7+yP85uArwYwAA4H6PFhOcvChu\\u002fY1Ud3PIZNKmL5ZnXSlVyFQA0FDV1tog7fHFp53LxzbIFNLip3p+rl327GRMYAFA2rn8eyKwcNy\\u002f6mrst9taOhWLokL\\u002fN3eqyfjCf8dOF5WJWMzkl5408+2DGSEBviJhh1rz5bnLzbJbzp8CwImCkgsllV8tnIEfsAQFlEGh9Ng+xvprDR2wNg0kApFLpYXaOY529jQPRJkQ0Ltkys3ItVoA2BAaZ3eTjye3+9tEMjvtYK91ezev9RBy9wSWwWA8dTb\\u002f1Om8xuYOhULD5zGdnXjDh\\u002fnMnhnF4+E\\u002fbfcQF7qDXK9o0rThBwafTjOBxb4xq\\u002fIAY37nFTd1dA\\u002fca5JP5bY2SLHtxU9N7FFdYTBYtBnL43d+dwoAUBS9dCzbGoEFAM9+tKhHgXIPIVNIG96ai7fegMGixU8JM82ZVhQ29Pj6KwsbsQ2vQGfWLYJwXoHOLC5DKVcDQHVJE37YRj+hkEg5Dc3mltyGZg6t3wuc27GY8d4eALAt+VrvoudCSWVLpwJvvYkfFvcg1jGsv9bQwbxNw+3BoVIBYLpXwDAHq\\u002fI1BxyFXoc32RhM7pJiRVH0tbf\\u002f+\\u002fq7U23izrAQ17EJgc5OvNLylr92JRNvnS17T0iwjwWAxNaryE3lIYONyqx3M4Pd7\\u002fvjfYd\\u002fRHeP7L+\\u002fOVmaU2s2eC9JNWujNXZWVPdAT4QN9zFt56SUmY3cEkc3YcKMex+2wRE3IYQn7C3lwtusR0NnT3UJBoPR1CCj91NxBV2aVSnv8r+3IKihTX29Un6wSn6oWZVqQNR4jyGMt52gUixRaLt+O9sUyiZ5Z7AzPvl6oDCiaGrVUPmq3l+Ei5wBIK3pbvzvcal0AJBpLb5fpXeQDm\\u002fjNrhLEayM61WZWTVjRgd88M58U9xCpzNU14iHWruXaU4JF1rSKpV1P5Xvesp3OZV493JdGczuEjmN6sF\\u002f1HDzcYgdG4Q1aJCKOzcu+G709Ih568aE3evsftM6RVwBC5d6dTNCswYNzXXtZiO3JDohoJcqvHtFaFy3UuwR84iUStH9MGCCRCQSCF3Lm2o1evywGRpV1+EM1qA\\u002fSHTqaxqUF2XaMh3SSSVy7OiRnpxZFGJ3VLJZlXq97WOVoTsIRCJQfXlLQgVPkYlMk3HI4m9vV9oqzm9sGentDgA59c0kAsFXZFfZ1lUQ+tfVzP+dTvpm0cxZoYGmo44XlPzf\\u002fhNvThu3dkSMydg7u6\\u002fnHsguKG0RawwGsVIV+GF3ZUnh2y+aJpuwM5uGMl59hku\\u002fnb9ybkPzgeyCjNqGhg45iqKedvz5ESHrRsZgy8IodbqEb3514XGPP\\u002f0I7sCZv\\u002fzVKOtMfflJBqXr7p1R07DlytWc+matweBpx18YGbp2ZAzWegoDywnLePWZOmnHV+ev5DY0IyjqIxJ+MX+6r0hocrtD5vkEf3X90u8F1+b6BHtw+Ca7WK3kUGk060r2rMSbJwCAc3UVpjZdDQr5oYpCCycbg8xA\\u002fkV7oaVFDgCjRvqZzwpRqeQAfycAQFGYvfC7hFH+b7wyCwDUat3shd8hCHr4vxe4XAYAfPPD6QuJRUf3byQQoLik6eTpvJy8upZWGYqiri6CaVPCliyMM535333pW7ZdPPzfC8dP5Rw9kdPW1unkyJ0zK2rJwuE9JQPgIRPIH4Q9\\u002f0nhloutabkdxeMchgewvYQ0Ho14ywYBHkyrZoX6hMXpnhY0b5X5ALPpi+Wvr\\u002fwFa5iEIuiVEzlXTuS4ettPnB87ccEwJw87\\u002fAGDD9Z8C9uWS5UzvDZZDPeKNf0mAMDD3wlvGgJ49JX4ZSkKUbPtLghEgouXqKGqDQCqS5oQI9JjXp20rVPa1jUr5Ow5uH\\u002fi3PYfSjv+RqE7Gl2rOFUo3Rbv+Jk9IxYAxJqsK80voqhFPq8R1ZV27GpTZ41z+YVCHOqpkPYclh2LmdPQ1CWwGpoCHe3N1cNA4WsnXBoTbkCQ94+f97ITbBjVXZxPNEvlGePrueORxVKV+qdLaWWtVj1y9MhvqdeulNck+HpOCvQ1GI3nSio+P3tJqdM9Py4eAFhU6pywoH8z87LqGqPdu+\\u002fABU0tFWLJgsgQk7o6ml\\u002f86sFTnkL+ouhQOpmcXlP\\u002f+dlLmXWNPy6dg\\u002fs\\u002fulha+d7x86N9PR4ZHi1RqS+VVzlxewvE9hcBjfHt2NnPJh6ecfjPud7BTixOu0ZV3tF+tbk2afETbuzuR7XeMSBIVlujQq9T6LUtqk4AOFZVZM9gsSk0b54QK\\u002f2LcXCNtndJrK9cdnL3cEe3VrXyZHVJiNAxrfluxM9sYNwlgeXqIgCAzOya6VPxRa0AQCCAv59DVXVX2lNxSRORSERRY1FJ04g4HwCoqGwN8HPE7hh7\\u002fruaca1qWKx3wig\\u002fgwG5klK2+deLKpVu3ZoEs1PCOx8ebGrqGD3Kn0IhJaeUbf71olSqenLDeHOfHnm\\u002f4Md6VXO7rgMA2nUdB+rP4D1uYqCWymGb5aJpVDq1UnsXnu\\u002fvLXZOvO8Ob9rx9YnjO5NNHVYbqtr+\\u002fvbUzu9OR4z0nbV69OjpET3+Tg8SVoqkHjEaEKMB6bPvgKltwZCCxR2AWPKISaEHfksEAIVMdf7gtSmLh+M9AA5vv2TaHjF5EHtsFkp\\u002fK+n4C28F0BolV5o3TnHbxaa4X2\\u002f71KSuiAQqihpMakyqLbze9r+Rjp92HzkkMRiRKDfn3MauCFxOQ3OUm7MRGfgMh+FebsO93LQGw\\u002fvHzzuwWUuie\\u002f7bcen0EV7uAPBfVv6dCKz3ZkxkUqkMSteP1DNjR0758Y99WfmYwAKAFcMi\\u002f83M+y8r31xgHcotAoAFkSHYrlSlfvfYuWGern+uXmSKsb188OTRvOILJRWTAi2C5e8eO\\u002ffryvnYiwfLFlYDxRQPvyNzHtmce\\u002fV8fYVEo+LTGJ7\\u002f395Zx0dtvw\\u002f8ubue99pe3d3doVQoUNxtMGTIsLHxHTLmTH6DGUzYgOEw3LU4RdtSWtpSd3fXc\\u002fv9kTbNpXaUtsjyfvWP5Pk8SS7J9fLksQ9H6xPvYN1O1Yg90CwWzb5+Aiv5MrrtObXWM3CtVyAAkAAOhM38Nf5hZHnRnppYE7bm\\u002fzyHTbN29j3VP08rAlUYJAPLy9PcztbgTkSaXK5Y8G6ApYUuTsHezvDSlQS5XEEmk9Iyym2t9Vv5oozM8iF+1goF5BfUTJ3U5udc+9EYJpNKp7e9nbw3f9j8xXuv30zGGVjV1c0Hdi9F4o\\u002fvzQtctebf0+dip0z0NOot4pPUmIkXDRba+hp0Jk0kaAsO5qWVYfN73lbYHMYH382YuXzE+X33756LQ113CoUi6Ulu0pNcIwvdpZ9PGrSkJV7LgPsO1XqzwF4JjP5o4jp1aci149HId3jXN+fV1CihU71R77JUKgs\\u002fEnlmdwSyamiuM3KaD7pt\\u002fyKU1Wc2HESWKSSaAStAnWoqk4vqRekNonSpnJ9av8tWc06zOA8ALDgTnLnL1anmAIoGUVZ6w95y3kMAKGm97ai1WIveEVl7DVGAwsvU6N+niQAgVyhSy6tmebnEF7dVG7y56LCV4rPqdJqDgV5MQbFcoUCihE6Geu4mhtfTsr8aF8qm0QBAJpdfT80y1uT4txtJ19Oy+WLJIn9vbLncJFfHqymZD3IKcAbWGCc71LoCjHU13MSqcMmnqLw7Fjl5L3LqPd7qyNXbPrzr9H89Jht7oEuTFqLLK1z9V7i2va5oM5iqfB5tBvPnwHE4IbqhiscieBkGycAikUg\\u002f\\u002fTBr6x83I+6nR9xPt7czHD\\u002fGbdwYNwajzU5ysDOUSGSlZfXmZjqp6WW2NvoCoSQzqwIAysobhEIJEkwEAC0tpf86Fotuba2X+LxIoVBg44+jR7mg2V3q6vTJEz1377sfGZ0ze6YfqtMl441eqk7kZSBTyDYuJunPCpDVnJSSN9fAEgl6SsHpjL4J94PvZiz9bNLj60m3zzxNjc1HW35XFNVu+eDwiKne67a+S6UN+DcWa2eY2xl+sQOf4dEzvbqv3m70jbkb\\u002f5i\\u002f5YPDCoVCyBf\\u002fuvbYgZ+u2rmbsdQZrU38rOfFTfVt1WdMNv3rf5YM3ETmZbx7MoUIAFhqRsONd6tTTdGhct6DJ1Wfl\\u002fEestSMAcBUPcxf\\u002f4f2QRKX7hho+Ft05SdlvAcAUNhy1fP1NrAAwNPUeFtEZEVzS6tQzBOLPUyM3gIDSyiVnktMfZhTUFjX2CQUCsQSsUwGAAqFAtp\\u002f6uf6uH955fbVlMy5Pu4AEJlXVMvjrw4egj4JUsurAODDM1faBR3U8vg4iauxPk5CQPAyDPjjCkVHW\\u002f3nH2Zl51Rev5V8\\u002f2Hm9p13\\u002fj0WtWHtuKBhdgCA2E\\u002f5BTXmZjrpGWXvLwoRiSXHT8UAQF5+NQA42LcZWCKR9Pqt5KexeSWl9S2tQqFQIpHIAEAuV1AoHQaWmak2ugwAVpa6AFCkQg7yCut38KJBxN7dHDWwHl97Pv39V2btvSR9yyGjM2lhM\\u002f3CZvpVldbfOPHkxsknaMDu\\u002fuUEBpv+vx8H\\u002fO5oYpoyCPmiwey\\u002f9XYQOM79y52Ldn17Hkm0qqtqqrvThNOxdjLe+OeCAb221YI4ZMFTdwPWugIAY3aojcbsnKYT+c3nAMCF27lZFMlNZw1iYNUKk\\u002fCDrx+uxgYUMjm5rLJFKOKymBbaWniNN41moWjeodM5NXUj7a0XDfUy5HDU6bStEY8RgwlloqvDz7cfnk1MRQysKykZADCtPT4IAM0iIQAsGeqjzcbH5S24WjgJl4XXISB4GQbPwEKwtzO0tzP8cOWoW3dSdu9\\u002f8P2WS\\u002fv\\u002fWWphrmNqos1i0goKa22s61tahA72hmKxtLlZUF7RmF9QzWbTjY24ANDaKlqz\\u002flhhUe2wobazZvjp6XLYLNqeAw+ystvyD1Coym\\u002fGmhosAOC\\u002f9qV5Q0Y5Xzr4EFnOSCgszql8fRKisQ7CXme9Ky98qXpgA1PtxZ9OnPNh2PHtt87vvY8Ib56MmbEs1NR6YN8y2RpMDW02Mo9NTUUjr0XYXT8ngu4YNtYtL73s1I47AMBk02VSmVQqZ7LpOgaajp7mQRM8fUMdu+w\\u002f2Y+0iAsAgEJiGLGC8WMAZuqjc5pOSOQ8BkVXg9aFn5hDtWSpGfClVTxJKX7s9YNJVXM00Esuq2wWirxMVTJbee1tHV5PjsYm5tTULRnq8\\u002fmYEFRI7dTYk6GmNs3d+UhsYmZVjTlXKyIrz8vMGGtfqtPoADDGydYbk6f11vPsQcamBf8AwPCp3p\\u002fvXIwbfXg54ecPDxtZ6B6M+gY3RNC\\u002fDLaBhUClUiZN8KTTqT\\u002f+Gv7gUeaiBYEkEtjaGpSVN2TnVNJoarY2BlKpjEwmZWVXFBTWohnuFy4\\u002fKyyqnT3Tb\\u002fWKkeje1ChdRBkEylXiAqEYAFiYPgj9hUwh78cGuB7D7IwtdVHrZM\\u002f\\u002fXdpydJWyyisDGzvjtfTSKCgnpQQvenGYbPqyL6fIpLJLBx8BgEKhePYgc6ANLADwCLBDpoVRyBWJkVmDlv71diCTyn\\u002f88HD0rRQAGDnd98MfZrLUX4GFKpDVAgCHZkEmdfErhxpVbGq3LR9ZasZ8aZVE3hbTfM3xMjVKLqtsEgonYHoxIHAYdABoFig5lfucfo4kM8l7fcd6OXJr6gFgrLMdKpHJ5fl1DR0a7cz1dT8Sm3jhebq7iaFAIp2BcV8BgKuxwaXk9KeFJf8pAwvlcfjzxZ\\u002fVvZJybAIYtEajXWJsrAUAzc1tj2oHO8PSsvq8\\u002fBp7O0M1NTKDQbWy1MvOqSoprUcTsAqL6gBgeHDHL4hMJi8u7eKXoqhIyYOSl1cNABZm\\u002ffY9kynkzxszduUeXxL7OX7sJSCRSBMxUxonPM66eiQSM\\u002f4q0eB2ZL\\u002f13IC7vLAWnWTw5QnGtPpsqmsr7+8ZWnsNBAA0tk+NpzpDMfMDYkveCFQh\\u002fGgkYl3ZuZt98vu8V2JdAQDSLJRG1sAPAAAA2uBKjdxtVEiNzAAAbIuH1xlPM6Pkssrc6rrOHiwrbS4A3MvORyXlTc1INK0PqJHJuurswroGJCNqgDDgqANAZXPHP+\\u002feqLgmZRsRwUZX28\\u002fC5E5mzv3sPLqa2ngXe+zoZDdHdTrtcExCSYNSnLqWxxdJpVjJW4lcJj\\u002fXXlNCMPh08W43EOQX1Bjoa7AxTQfkcsWlKwkA4NzeHtrezvDG7WRNDZarc9s7pZOjcX5BTUVlE5qApaurDgA1NS3ghAjg5JmnLV2Vfd29l\\u002f7OLH9tLhsARCLJlWvPSSQSku\\u002f1MsgU8tSm7Kja+Ji6pBZp3+v5e2DKouA752ILM9ssmH++vSCXyacu6fCTvypsXDoSWe5djJ+yqIvIC8KhX8PxopcAmekPQVNHHTPSLVq6HWoF7VdSdYZP9j76x83K4joASI3NP7\\u002fvwczloXglgm6IupmMLNi6mg50HLAH5AoxAHTpvgLM5IOk\\u002fq\\u002fEfzV4mRoJpVIKieRmjE8q8DQz9jQ1epRbuPDfs77mJtWtvNsZOY6GerGFHdFPkVSaUl7VKhK3isQNfIEC4EpKhjqNpk6n2+hp4wr6Jro4\\u002fPs0YeG\\u002fZ4NtLGVyeT1f8P3EUciQTC5\\u002fXlrRKhK3isXIdDrX07L01NnqdJqlDhcxm1Q51hR3xyNPE\\u002f7v+r2C2gY6Ve1pYUl8cZmvucmz4i7e3Ob6eGy4cL1JUBDmYIObI0iLydg6bdzH565N3XNsoquDoYZ6HY+fV1sfV1h6Z81SE62u7e+3A2tnk+Lsyjunny5YP17rbZ\\u002fZ9vWk61+ffufM+diI++mODsaGBhoaHGZTsyAppaS2tmWIn\\u002fXI0DZbyd7OoLVVlJxaMql98ldnR6O799JEoo4SwtEjXc5ffLZ9x53ikno6XS0xqTgltdTd1TQ5FZ8nweWyln9wKDjQXkOD+Sgyq7ikbu47Q3rt0dAd7XZVwtP6pGaJUsiARen2DbhvqFEpn\\u002fw2\\u002f+OpvyN9oRQKxe7vL0bfSln86URHL4sun1h1VU1J0TlqVEpIezOLgcB9qC2VpiYRSwEg63nRyb9vv7tmDE5HJpUf+jU88rpKecE7N50zMNUeMc1HB9MMHUddZdPR32+gq25DbDGD3eLgYY4uR1yIm7YkxNIR\\u002f1rfAxQ18vKvpv6wsq3If\\u002f+Wyw01zfP+N6Y7Z0xFUW3k9aTKkvo1P87Gj\\u002f33QMs\\u002fH15JtHcz8w110tLlDFy1IAGCqZamLpulq85m0TrctwgkgN1zp\\u002f4WERldUPw8usJYS2N1yJDJbk6Bv+1Bdcoam+cfPoPZCDZevIksbBo\\u002fYoGfJ3Zo\\u002fahAuhrlRnr27shYJpXqYNARGWgWiuYp7+fba20elI+GD0VaWKlyLGdD\\u002fd3vTtv+IHpvVCyVQvE2Mz65ZE5qRVWXBtZYJ9sf2aw6Hh9tf4VlpIPN+eXz9kbG3c\\u002fOb+ALtJgMM22ttSMDddSVrMa3D44Wa\\u002fg0n4hzsZcPPlz0adeNIQgGlEEysEYMd2puFuQV1GRlV0ilcnU23cpK7715wyaO90AtBjNTbSaTJhCIXTAeLKFQgma4A4CdrcGP\\u002fzfr0JHHJ07HUKlkV2fTv3+fn51T2dnAWrIwOK+g+vrN5Nq6VgN9jdUrRs6a0UuDhs70aFcx\\u002fLTdA3W9vbjtzrT+w8bF5Ktdi3\\u002f66AhizQBAckzu+hnbtfU1PAJsdQy1NLXZMpm8qa61vKg2L60MmSl5wrxhA2pgaWizR83wvXkqBlk98tuN5Ji8UTN8zWz0yRRycwMvM6Eo4uKziqJaAHDxs0YnnOmO0vya8KNRB366auVo7B5ga+lgZGSuw+IwKGoUfouwqrQ+5Wneo\\u002fBEQfsUjV5B9jYu3WbMYDGy0HXytsxIKAQAqUS2bsaf098PdfSy0DXSkkllrU2CxtqW2somF18rZ18r\\u002fMYAADBsrNvcD8NO7byLrJ7fe\\u002f\\u002fmySc+w53s3c00tNlkEknAF9dXN5fkVWUnFSMzQ7sNsVHaxX+V4AmeqbH5AMBvFW7\\u002fQuk5ikBn0jS0WFZOxr6hTiOn+xI1BC\\u002fDo3XL0eWoDSvR5e8njkK9SgDAZTE3Tx6NriJkfbMOXbbW1cau9gxDTW3DqKANo4LwAwBcFrPX\\u002fah4rBBbyxBbS6zEXl93hkdH+B6FQiaTSSQ9dfYwGwv8GAAA2OvrbpsxHi\\u002fFsMDPE2dEvgXwW0WzV4+6dz7u6uHH76wercr8ti2N\\u002fAt778XcTq0srgUAIwvdoAme05ePQLdVKBSznD\\u002fjtwhPJG7h6rV5xY5uu37iz5sAsO\\u002fh16Y2bTmy53ff27\\u002f50owVI5Z\\u002fMx2RAEBWYtHVw4\\u002fS4vLrq5qBBNr6Ggam2j6hTsPGe5hY6aFqbw2DZGAN8bNGerL3AIlEun5J6b\\u002fO0kL3\\u002fq3PsBLoalfWVnqdG8RLZbKF84YtnDcMJ1cFuUKe0o1dxaQw\\u002fLTdAnW9vbScqeQBvHoBY9x++Hfljx8eRsrZEOqrm+9fTsBo9YJUItu56RyvRchrFvBahPwWAa9FyGsRor1MAWC682csdQZbg8HmMFnqdBaHyeYwxs4Z2mULrmVfTkl6kouYUADwPCr7eVS2sgoAgGeg\\u002fdf\\u002fLJ7t8RXqzOiZgszygsxe2vaYWOlt2DYPL+2eld9M2\\u002fjODsRCFfLFJ\\u002f++jdcA+OD7Gd0ZWADw3icT6Ezakd9vKOQKAOC1CB+FJz4KT8TrDTr\\u002fbrteUVTLaxHyW4Q85J42C7CTV\\u002f5vyu9sDpPFYbDUGWwOg8VhsDnMIaOcB9T+Rpm8KKi+uvnsnntyWdfZSyKBuEYgrqlojL2XfvKv2+u3vevb7sYmIOgD0fnFNa28FYF+AzFB0JuLUCCysDfyD3N5eif1+vGomSs7KsO6JDup+Jv3djfVtQIAnUlTyBUFGeUFGeV3z8X+ePJDJFOeRCLZupolP8kpyCjj6jkiG6Lv0hnxBaiBhaTh2rl3BBNuHI\\u002f++\\u002fPTyEOBzqTJJLLK4rrK4rqk6Jy6yqZV\\u002fzcT1XxrGEAT4dWi2pNdCcSuiq5LjKl7jrOrOGpsJONqusno2WbjsEMDh0eA7aFHX5\\u002feeffSoUfiHqfORdBqf59AkYilqMOpOyRiaVN9K9r+EcHR27JLA4utwdx2ds1PHx1Jjc3Dj7Uzcf6wZV9NZbBoekZa1eVdVP2gOHpZpD7Nk0p7SZUlkUmjZ\\u002fkv+3IKR7nHbM84eFp8s+\\u002f9reuOYS3UF4JEIs39aLSLn\\u002fXhX6+lxxfgh5XRMdQctGLDh1cTURu3S2RSeXMDDzfnD5vDGAQDS8AThR+JjL6d0p11haOhtuX75Qd+PrG616mm+0arpCStviMQ1pkeFFol\\u002fVAJSzDQyBSKXY+fUimUhf6e+LH\\u002fNhKRFADeWR329E7qxX33py4d3kOkvqGmGbGuvEMcl3873dLBSKFQZMQXbv\\u002f0ZHF25fdL9\\u002f19c6OaGgUA7DwQA6vcO8QRAOQyeVZioY2raV5qaWZC4eh3hiA7zE8rBQC79mwNQato97fnFQrF9OUjZq8O4+pxFHJFfXVzSkxu9M3kicoTsbw1vLUGlurIFfLUppyouoTOdpUBQ8df291f28NZw2Zm9Brs0ODAUmcs+WzSnA\\u002fDEiOznz3MzE8va6prbapvFYukdAaVrcHUN+aaWus5eln6DHfUN2kLpA4o2voaW898lBiZ\\u002fSg8MTOxqLayScATcjRZ2gaaXoF2I6b5olE8M1uDng2sRZ9MmLI4OP5hZlpcfml+dXVpQ2uzQCyUKEDBYNG1dNQt7A1d\\u002fKyDJnjoG\\u002ffl1HyHOx58+PWds7HxjzILMstbGnhyuYLNYXK0WKY2+tbOJt6YctTucBti89v5\\u002f2UkFMbdz0h5mltd2tDcyJOIpcgnNLXRt3U19Qq0d\\u002fK2HMwJE19PCjLLv1u6H7npbA4jcLyHraupuiaLjJklWiKWtjbxywpqYiPSEU2pRLb7+4t\\u002fh29AdfqRVklpesNevBRDrwoErydyhWLb3ccMKjU6vyixtGLdyEB9jkoVMP8dpBIZADj7Wbv4W6fF5t87Hzdm7lC8UjvH\\u002f7jZVNdqZmvw3eEVyIQZJBLJ2dfqu0MrloVsLswsf3AxPmy2PwDYu5sDQEFGW8whL61MyBcPn+JdVVKf0f4iKpXISvKq2BpMY0tdRFJRXIu4CRZ+MgGZY5dEJukYaoZO8wkdsPmyXjmEgQVL4r7A2lUkIFmrm\\u002flru\\u002flre1iyVcr4GWhY6ozAce6B49zxA73BZNNvFP6Bl\\u002fYHXkH2XkFK5dCd2XykIyOkO7i6HKR1O36gn2BzGNOWhkxb+rI1mE7elk7elnjpizBzxYiZK0bgpX3i4MOv8KK+8umfCz79cwFe2g2jZ\\u002fl3OXkzQksj\\u002f+v39tRXNwOAg4f594eWa2r39MBb\\u002frX0i3m7ENdgbmppZTHRrYfgBVAAXE\\u002fLruPxDTU4G8OC3x\\u002fmi9f4z4NmaMxeHZYWu\\u002ffc7ojRc4Z0WSYll8nvX3wGAJMWBeOmIzOy0HXysUyLzY++lYwYWLbuZgBQkNFWbZD+LB8AbN3M7NzNkqJzBDwRk00vyqqQSeV27mbo4QxMtSlqZJlUfvngwzkfje7yY7x9EAYWoNaVPcdqjGGgt5Yzl6aprEJAQNALV49EItYViUTa+OeCnq0rAKDR1cbPC0Bjr6X51f1rYBmzQ\\u002fEigrcICon0YO0yvJSgK\\u002fxHuVg6GBVmVcTcSgkY597ZtinKruS3CAHAsavXSGNLvbTY\\u002fOL26VKMLfXUNVnF2ZUyqZyiRk6PywcAG1dTO3fzxMdZ2c+LPALt85D4ICYBi63BnLFi5Nldd\\u002f\\u002f9JTziXOyEBYEjpvu+9c0j3kIDa84s\\u002fzndv2f3QHZLQY2oPqkx00vL2VfblaPGxmsQEBB0Q2JkW7mDqbWeigVBGtyOfzEknNGPBBr+hhcREPwnIZFIs1aHbfv46JlddwPGuXdOZmiobkYWPp64TXmkg9YmPrps62b6PDK7JK\\u002fK0sEoLS5f31Rbg8t28LIAgIyEQo9A+4L0cgCw9+wwsABgyReTDc11jv9+ozSveu\\u002f3Fw9suew30mXaslCPl+5P+dqCv9D\\u002fQdbZL\\u002fbXdqeSqQDQIG56XPPsr5wji2M\\u002f\\u002fyrlj0tld8sF1fgNCP4DRF2KHU2efXbbFfxA\\u002f\\u002fHDnN9n6S+tr+gpTe0NAq2TUNdUtRahvLAGXdbW18CMEBAQ9CehU330TbUzEwpTYnKpdLxjBZ34iKPF0uCyu\\u002fzD\\u002fl8jrqnirIqa8oa6yiYnH0to935lJRZBewkhkq2FQiKRJiwIPBzz3ac73vMMspfLFTG3Uz5\\u002f5+8flu3HFkG\\u002fTeAv9H+QED2\\u002fED0\\u002fgUwYV58SXZeY0JAukUvkCnl6c256c+6\\u002fhRdNmAZ+2vg2EG8Qec8LV3lvRJbJFDJHW93Wy2rCsrCQWd0mPBK8DA9ORz+5GvfFsY\\u002fxAzgUCgabQeo0f+0bClrjWV5Yi8QOlMfxiATia8eikWUmm27p8AKdYAkICF4Iihp5xooRu785f2bn3c79GrTaZ8j44+oGVdzPdu5mAFCcW0WlUwHA2dcaALT1NfSMudnPiwCgMKtcQ5utb6qtvB0AAJWmNmKa74hpvlUl9Rf23gs\\u002fEhl9M3n\\u002f5ksf\\u002ffgOXvXNp5cfwf8OTAojRM\\u002fvc8cVR\\u002fx\\u002fWW+\\u002fZKiOB41MRYbKBFWXytoaTqY2Z2c25yugzd5\\u002fgzB3Mpm1YfKkVWOchtglPUj74Z3fDn59Eq9E0B88uRpXW1aPl3Zi05kNxwp2cbvvYv9mgRYBNNW3Ht9+S2msEzUVjZsW7y3Nb3MPD5\\u002fsRWO0\\u002fbsREBAMBOPeDdDQZj+7n15WgA\\u002fLWDoZI5V92UlFuKEuQTxYpXlVSC8GJ5+2boJOPpb11c2FWRXN9Tyc+6ozBmbaH\\u002fww672NEwHg0ZUE\\u002fPBbAeHBwsOg0IP1fIP1fIUy0bOG1Kja+ISGdLG8rQ1VcmNWcmOWDk0rUNc7UNfbntNtm8rXDTtv65Vb30OWy\\u002fOqPvT77PQvl6auHqfTpw4IBN0hl8kTI1LMHF+L+tPBZMK8YVf\\u002ffSwWSQHg5N+3MxIKx84ZYu9urmuoicywxGsVVpc1FGSUxz\\u002fKjLmdivY\\u002f4+pxlnw2SWlfBAQE\\u002fQ2dSZuyOOTY7zeudJrAXk2NMmK67\\u002fVjUWd23B021p3OpOEUcBia62hw2ZXFdWKRlM6kWbdPvuLobfnoamL09SQAsPe0UNqmGxCHmYAnUigUb19pIWFgdQuDQg\\u002fS9QnS9Wm3tBISGtIQS6tO3Hil\\u002fN6V8nt6dO1AXe9FltPxG7\\u002feGNsYBM0YcvPgvcynOYHTOwoCUh6ln\\u002fjpYkZMtlgoMbEzGrsodMbaibiMSH6L4MIf1x5ffFqeW6GQK7QMNJ2H2i\\u002fZ\\u002fK6RtQGqE3H88ZVdN\\u002fOTiwDAztv6nU+mDJ3cVkRdX9k4x3j57w\\u002f\\u002f7+o\\u002ft6KvPPMZ7f7VyXXn\\u002fwg\\u002f9ctFfTPdTw9\\u002fZOdjrYoOeqyeP\\u002fOFP6\\u002f9s\\u002f7w2cr9d489vrb3dlVRrY4x1zvMfemWeZqYAhaFQnFx+\\u002fWru29VFtbommiPWzLSxgP\\u002f65AZm3vr8P2UR+lVRTUKucLEzmj0wuEz100itTd5Ct99+9bh+wUpxSKBuKGqaTR5NrrtTfEpilpbi7\\u002f7p6J+nPcnOnSx\\u002frC6VhflFD1cQ1D5vAYTY0vdj7bM\\u002fvOz00iL0e66\\u002fOMwstD9\\u002fuBybLY7AQHBADFl6fBzuyPQekAsCzaMj7mdUphZvn7aH\\u002fPWjnP2tWZzGI11rfVVTWmx+VE3kjb8Md\\u002fEuq1LOwDYupnlp5c11rbYe5ij+QBIGlbMnVRoDyOi3D4dk\\u002fwkd9g4d0dvSyThUiqRJT\\u002fJOfTTVQDwDHJ4+6wrIAwsVcBYWuJnDSnRtQkJDekiuRgAakT1l8ruvnEGFgCoa7EA0ygFAO6diPz5vb9M7YzGLR1JY9KSH6bv2XgkNTrz23OfoF\\u002f9pprmdcO\\u002fKckscw6wn\\u002f6\\u002fCUAiFaQUJ9xNXrd3FbqffZ8dPbP1ipmD8fhlo0ABsTcSN039ZeXW92ZtmIzq7N7wr4mdkecIl+jLcVuX7MhPLpq0cvTlnbd+X7H7n\\u002fhfVddR5TMDwOa5f2TF5YbMChj+zrDkRxnX990tTC3eHrUFVTj09cmTP100dzKZ8+nUptqWyztvcA3xjr2z2y4\\u002fu5XkM8Zj2FQ\\u002fqUQWdSl2z8Yj\\u002fFbBe9+2pQ6YOZpMWBYmk8q2r95nam\\u002f0zidT0W2xRqrfWM+tEd8217Yc\\u002feFcYWoxKseiyjUEFc5rkBk9y1\\u002fHQHP3dxdK8vAxiM6wNZjTlw6fsTwUiU0QEBAMNBwt1rh3h1068AA\\u002fAMDV0\\u002fjx1IffL9mXn1a2efkB\\u002fDCAXK6UGGPnbpbwKBMAQqd2tAm1dTNTo1JykosB08MdQcgXR5yLjTgXCwA0OlWNRkEaQwCAnjF39eZZWOW3BsLAegEYFBpqacU3pEbXJsQ3pCGW1htHRkwOiUSydm\\u002fz0zTVtvy5ao97iPMvtzehvpafF\\u002f4VcfzxkyvPhk1tawS6a92hksyyZT\\u002fNn\\u002fPZNEQCAFKxVK29N11adNaZrVfchzv\\u002feP0rxM+8dMu8z8dt3vf5MZ8xHlZubf9yVJral8c\\u002flogkM\\u002fWWPjgdfTRvp6GVfmsj\\u002f8b+CHSexJ516Eyaip8ZANKfZO94+hN6sl9O2BJ383n6k2znAHsAqCqqOf3rZTNHk11xv9BZdABY8PWs1b6fopsjrNmxjKnOQBQAYMHXs96z++jmgXuogeUR6uIR6iIWSrav3qdtxB2\\u002frGOqXSzqXLbnCFcAuHHwXpcGlorXEHo7r1eCd7DD7tufJT3JfRqRlpdWVlFUy2sRiIQSGp3KYNI0uCwTa31zWwPPQHu3oTbIzBsEBASDxoyVI8L\\u002ffdzlBGUW9ka7I764efJJ9I2kgsxyfrOQw2VpG2g6+VgFTfAwxbivAGM\\u002fOWGmc6XS1GxcTbMSi7T1NXSUs0uDJ3m1NvKfR2WX5Ve3NPKFfDFbg2lmazAkzHXykmA2h4lVfmsgDKy+wKDQkBwskVwcX5+KH36NkYgklQXVF7ZfS4vOGrMo1NjWEJE\\u002fPB0laBVO\\u002f98E1FIBgBFzgyKOP356PQExVvgtgodnnpjaG2GtKwBArSsAuHXoHgAs\\u002fGY2GsVnsOkLvp75xfgt1\\u002fff\\u002fXD7UkRo72sDAFQ61dBKv7WRZ2ilDwD6ZroKhaKlvhXx9\\u002fSsQzfRVuUzI4TOGYZaIQAwdJJv3M3npdnliCESfTlOLpNPXjUGNZ50jLlhC0PObL2CbgIAWvpKvxcsDaa1u8Xze6kKuQKNEvYLKl5D6O28XhVkClmVRv8EBAQDhG+o043Sv\\u002fBSAADQM+Ze7X56DxqDOmVJyJQlIfiBTgSO9+jyEH9e7XrOK64eZ966cfPWDdJMvq8JhIH1UtDJtGG63njpa0nE8ccRxx8jy3Qmbc6nU5dsfhcdzYrPA4DvZmxFJSgNVY3IQn5SkUwq8wh1URpWJjexEADsfWywQjsfGwDIistDJertOTd0Fh0NnyF1ZDKJDJH0rAOqfWYEW0+lWgSOtjoAtLbPhVycWQYANh6WGBWwdMGXwIgE4psH7sXeSCjNLm9p4Al5IolIAgByuZxC7k9PjIrXEHo7LwICAgKCVwhhYHVwsTTyr+yLyDKZRI4Y0cWTu1fOlTzamXN5k8uCkQZe+LFXirmTif8Eb7lMfmXnTQNLvUXfz8E6fniNfACYtX6Spi6+awDq5eI18QGgy4xsFF4zX41KYWko+Xs1dNRJZFJrY8eDn0LpOHTntsIIveqo8pkRem6FIGgRAABTnYEVspRd1q2NvHXBmwrTSoZO9p3x8SRdU222Bmvf58eynylZPP2CitcQejsvAgICAoJXyGttYH2dfCiqNvVYwBcmTF1UWCaoXfDkp0Bd183uSzC6\\u002fcAIfU8LtkGzhLcn91q1qBE\\u002fjOF+1fOo2rSvXebjB15j0DYNNAb11M+Xjm0+t+SHDg8W8jgPmj7EJdARFeJgcRgAUNdj53G2JksqkfGa+GxM29\\u002fmulaFXNGzZdYHVPnMbfRYn8Jg0wGgqbYZKxQLlVLrLv11ozCtZNb6SSu3LUKFatT+dFyhvMA17PG83j6Gzv8NJ7E21Tnxy2Kc8K3hhz037zzJcrMz2v75LLWu3jF64F5s9vXH6dmF1Q0tfBKQNNh0M0NuiI\\u002ftuxN88KoYXuaIbwr\\u002fhXMkeE0gvl4daNHUvbl2ofqeGtSOB1uXRNWm1Yqa8NI3hAWbZhtZG5z59XJ+UiEqRAJSSQ\\u002fSUUlnrNwsSGRSRkwOUoffJY7+tgCA8+sgq9jeCv2CKp9ZFcwdTQGgMLUEKyzOKsOuFmWUAEDwzABUIpPKSrLKOzTaQZxtCuWKmxdiMK\\u002fhm4WuFpv6n8mLVyjgRmS6WCKNTy+pqHmxX5vNe299uf1qZEJedX2LRCITS6S1jbzEzNKy6ka8KoaXOeKbwn\\u002fhHAleHwgD64WRK+QJDTl46ZsDnUn7eNdyqUS2bdk\\u002fqKk0cl4QS4N5\\u002fs\\u002fwivwqrHJDVZNYKEGW1bnsYVP9ynIqTv9yCasjlcikYimyPGFZGIlMOvrDORFfhEhEfNHxLedJJNK4JSM6tukPVPnMqhAwxZdEJl3dcxsNwLU28iKOteWrIeiaaANATUktKjn9y+WW9tn3sKhRKdqGWqXZ5UiGVh8YzGv4aqlt5J2+mbDu1wsz1u4f8f5fwYv+HLdq1\\u002fvfnvjtyL241CJMC5E2wneuevzv2oj9a87\\u002fsYyOKa14KyGRYHyQM42qFuRtY6KvhR\\u002funpikwvCHqQCgzqIvnT7053VTtm6Y9vWKsfMm+I4NdMJrY+jzEQef+7E5l+8n46Uq8AadI8FbwFvyI5XcmH+s8G56c5FYLjVl6o4z8ptlFkImdZiPmc3FNyrikhrzqoQNCoXChKU71tB3ttnwF2pudqUs+kZFXEFrhUguaRC3jLi3AR26O2IrBXM4Mol8ruTRlbInlcJ6XbqGD9d+mc0ETWo\\u002fx8j6jM8Yj5Hzgu6diDz729U5n04FAA0dzudH\\u002fvfDnN9XeW0MnRuoZ6LTUNNUnFGa\\u002fDD9SM4OA0s9ZMM1fy\\u002fLe1548OuTMdfinQPsqQxaZUH1s1vPf3\\u002fwvaWrOQDYelkt3TzvwJfHP\\u002fD51G+8l0KhiLuRWJpdsei7OXbe\\u002fex9UfEz94qRtcHMtRPP\\u002fR7+of\\u002fnw6b6ScXSqEuxxjaGWLtt1PyQC9uv\\u002f73mQElWOZ1Je\\u002f4gLTUywy3YKeVxBmZPbYTODbzw57UNI77zG+spk8maapo\\u002f\\u002fmcFMiSTyjJicvjNfF6zAJlO58HpaG1DLZYG09TeGDHjBvMaviokUtn+809O3YwXtZvmCI0tgsYWQVpuxdlbiROCnb9ZNR47isBm0thMGvlF\\u002fnPfUDatHLdp5QtXXd2JyUQWPn9\\u002fdNhQB+XBXujbEQcZuULx4\\u002f7bVDXy1BHu+DEVeCPOkeDt4G0wsCKqEraknzBl6k0w8qdRqEkN+f\\u002fkXk1tKvzebREJ2n6FTxXfj6vL8tV2CNJ1lSpkkTWp\\u002f+Re5ctEi63GKu+sJ8xZBpOMh8oUsj+yzpuy9Oaad7gTcD\\u002f3Z4ofFPAqh+t7hOp7JDXmhZfHFPAqd\\u002fisweq8Wj74fXHsjcSj358Jmu5vYmcEAAFTfHfG\\u002fnzql4sx4fHNtc0cbXVjG8MlP7yrhcmk1jHm7or75cy2y1GX4q7sukUik3WMtAKn+WsbcVGduZ9PM3M0Pvvb1Wt775JIYONptWTzvAGaWFqVz6wKK7a+p23IDd9759LfN3RNtKeuHjdx5ejp2otRBVsvqx+ufP7vt6dP\\u002fXKJSlNzCXT48\\u002fHmnPj8Lg2spVvm0RjUh2eenPjpAoNNt3Lr6KTQ2shfF7IJowvbP9iLLCz8djbaUmswr+Hg08ITfvr75cTMUmSVw2b4u1kY6WpQ1Sg1Da2pueWFZfUAMCG4p3pVgu4oLK9HFkKUC1HfGjLzq1p4Qm1MhiIBwesJCdvL+3VDlST3Jgnv3egtDhqm2zxXoT6kLenH71YmbHZfEqjrikgaxa1MCo1OaWssxJcK5z\\u002f5iUqmnAn8BpFgWRn3R25reXdVhGK5dOyDzzy0bP70Xo0fa68ipJLVdvuutVY3QoSfJe2Lrcvc4bPGRdNSSZuA4D+GXKH4+KdzcWnFAMCkU1e+EzhrtBcu17igrC4yIW\\u002fhZH+sEMeIpX8JRJK3O8m9b8z99FBhWT2HRb+z7yP82FvB4UtPd5+N1NZkXd\\u002f1AX6MgOB14g3wYC148hNehOF+1XOBTDTTNAQboRtl4H23MiGmNgM1sLRo6ugoALDUGNbqRokNuQM0weQIfU\\u002fUugKAYbrOsXWZpfwawsAi+I9z8no8Yl2xGLTtn810szfGawBYmehYmejgpQQqIJHIpFI5AJDJb2d+rVyuiEkuxEsJCF5L3gADK1Tfg6XW0aOILxU+qE5CV7NaSgBgU8ohVIJSL25Bl0VyyfXyp0\\u002frMkr4NS1SgVAmlsilACAHBaU9jNiP2HFMsKscNRYAtEgFWCEBwX8NsUR6NDwWWV67MLRL62ogqGlovR+bHZtanFtc09DMl8sVHDbdwlg7wN1q2kh3DeUWaDjKqhov3Ut+ll5cWtXEF4qpFApXk2lhrO3pYDrCz87CWBu\\u002fQTt923Dax\\u002fsqlTuGqLPod3v0RV26l\\u002fzwWW5tQ2tNQ2tjS9uPTFOrANfVwtHK4PDmBVgJQh+OiIUnEF99mBKbUpRbXNvUKiCTSFwNlg6X7elgOsTNwsfZvPMLbB9uR\\u002fjD1JScipzi6rySWiRvr76J37ltx8LJ\\u002fh\\u002fODcYJ4eXOsa6Rd+7O85jkgrLqJoFIwuWwXG2Nxgc7B3t3HYHddjji3J3nfq4Wf38xSyKVXYxIuhOTVVLR0MoXaXKYjlYGk0NdQ33t8JspE\\u002fO8cMOW8+gqk0E1M+KG+NvOneTLZFAxim8qEdFZkXF53348AT\\u002fwdvEGGFjLbCbgQoRYA6tVKgCA2ebDtahKPioAQLdqlQrWxO8o5FUO03WZZRaiR9diqzH25IYjxtlAwKVx8CICgv88EU+zG5sFAGBtqjMl1A0\\u002fPDAcvBhz4OITmXJvkfomfn0TPzGj9OSN+O2fz7S30MeOolyMSP7t3wgpZluZTF5RI6moaY5JKtx7NurKjpW6XTV46\\u002fOGOlrs+ia+WKKU+98ziZmlT5IK8FKV6cMRUW5FZWw9HNHaXu6KIKhpKq9pSskuj36ef\\u002fznjr5xCH27HXvORtU0dFG0qyJ9PsebkRm\\u002fHLojwFQlV9e33IttuRebPcTNcsv\\u002fJqm3z6+Fo7CsrrlV+NFPZ7MLOyY+r2vkRSXmRyXmTwxxUSXR3tnW0MPJVC5X1NS3xCUX7z8d\\u002fSAmZ++P896CEtrIuLya+g4PyNvKG3+fWBQGAIToublqWuHH2rlQ8riQVznbfPhq2ymoUK1fpzfB0emdjYCAAJ61T249ZcQgWVcAYG+hJ5PJmXSqv5uFu72JsZ6mXKEoKq+\\u002fcPd5bSOvoZn\\u002f1V\\u002fhp7cuIXeaUDItt2LrobtyhYLDok8McXWw0uewGTyBqKi8PiG9NCW3fIibRZdGUp83BIAD388DAIFI0tQi+PiX80XtGes98OHc4PemdOSrbdx2qbymicOi7\\u002f52LkYLGNSuf+37cESEs7cSfztyD1k2NdAK8LQy0tWQyxVV9S1puRUZ+ZVTu7rLfbsdO76ajVqr63+9UFXXoqnO3LWprSgEhcvpOvO9b+d4IzL9\\u002f3bfUCiARlWbFOLi4WjCpFMra5tvRWem5VY8TSn8cMvZfd\\u002fNpXV1YWsaWjf8djG7sNrGTHdCsIupgVZTiyA+o+RWVAYAXHuU5uloOnl4WwZLd3i7mn8wv80hxxeIP\\u002f6\\u002fs+m5ldcfpE0f46Gs+IYhlyuepRRZmHTtxH2b6OKb8WbhoGF2u\\u002fLZ84a8HgysQn4VAAzX66jplSnkxfyOF4sXAikYVMDrWxxAQPB6kppbgSx4OZoqjwwggV42330wYbifLZOuFFuZO9574RdHyqqbSiobEjJKfDvNPnkzKkOuUADA9i9mOVsb4kYbmvl8gRgnROjzhihMOpVJp9JU66qqr83R1+5wmSO9WMlkso1ph+O\\u002fV17oiACQU1zz5\\u002fEHAEChkNcvHDE9zANXSV3byGMz2oqKsPTtdlgYdTyM1dQoAEChkF7oBOEFz7GyrvnXg3cVCtDiMHd+\\u002fQ72WLPHeP9z5vGRK7FZhVU7Tz1et7CjnBxLSnb5xGCXr1aMRY3FKSPcfJzMftx\\u002fGwDO3krs1cDCwmLS5k\\u002f1\\u002f+q3K6lZ5VgD63l66ZGLT9OyK0QSqZkRd0Koy5yJPljz9PzNxN8P3Lt1+KOyqsZ\\u002fjj9Oz6mQKxQWJtqb1kywxJg4fIH49LX4B09zSisaFQqFtibLxd545btBxpiK7J6PdeLKs51HH14\\u002fuPpqRMrlu8k1da2GehpTR7vPneSLfjUu3U66dj81r7hWJJbWN\\u002fEDZ3cEeR+dWkdpL3ZR8TPffpxx\\u002fubz3KIaAHCwNpg\\u002fxTfQtyNue\\u002fpa\\u002fF+HH4Tv\\u002f+DW44xLt5Mqa5t1uep+7har5gVpKs+ENnC88YmQYQZeLDXG2ZJHFYI6rLxB3CKWtzmEdemaAFCDmf3mZNG9FgkfXX0h1EgUbRqnhF+DZHER9Asf3rjqvX9XNY+YqPhtBo3yWBoPXg47iQTjgpxwj3MAYDFoqOMnu6iL163mViEAkEldP8i5GiwTAy28FABeYsM3iH8vP0XCfKveCZo52rNzWzJdLXaX2UJ9vh2DzOmbCQKRBADWzBuOu48kEnzwTrCDpQEAXIhIqlOeIRRFj6v+6dIwnCtucqibmSEXAHKKq\\u002fnK83H1ijqbDgAyeUd09XZkxprvzlRUN08c6fruZF91Fn3HkYdf\\u002f3a1c2+AyPi81d+cZjKosyd4jw12amgS6Gt3JNU0NguWfXF8\\u002f+loBo06e4L3nEk+1hZ6cclFXEwvDBWP9eW2K+dvPg\\u002fwspo5zlMuV+w48nDXsUfoqIWJ9pQw9\\u002f8tCgUAMyPu56vGoH+dyzJ6\\u002fsw7jz76\\u002fq\\u002frza3CKaPcJo9yq2\\u002fkffrLpZNXn2F2AACw6Y\\u002fwfaeiXB2M50\\u002fxM9DlXLmb\\u002fOnPl3A6A8cb78HSoLK\\u002fcp73XeqRZbG\\u002fjTTw0qNrNkhai3hVSY35xwO+MGRoA8BoA5\\u002fzJY+3Z10s5tfQydTEhtyUpgJ3Levkxnx0P2K5NLO5mC8T8aTCJglPAYo7lfFsNQaLwrBkG+CKEEcaeJ0rebQ2YZe\\u002fjqNMIW+UtK53mIVV6AOlzc3B\\u002f+4jAUQvWWGo\\u002fvakcIXnZN3Nz\\u002ftzbC\\u002fJjAoAlhq18880wVuDTCZHnihUKuU1SSKxMWvrRtvMEyqPAAAg78pyhWL3mcg184Z3jiF2R583fFOQSGWPE\\u002fIAQFOdOXesN364r\\u002fR8OwaZe0+zAYDFoI0JcMSPAZBIMHWk268HqyQS2f24nFmjPfEaAOOCnDt\\u002fz0kksDHTLalsUCigrpHHMuzCydcdz9NLAcDarM3aa2oR\\u002fLrnjoez6fZNs1Dfz\\u002fd\\u002fXb\\u002f9OCPyWW6wny26IQD8uufOti9meLuaIasKhdJEptsP3S8qq\\u002f9gfvCCaR2xZolUhs5Mpfqxqmqa\\u002f932HlKpsGRWwPufHzt19dn0MR6IJ8zLxczLxUwskW7dd1eXy548qosgMkoPnzklq\\u002fzElTgvZ9PfvpqJXGThvKB1m8\\u002fvOvbI38PSxrzDIE7NLt\\u002f\\u002f03xbi7av1oYt52OeF6Zml7sOSoUN3mZ8Exmm67Lbd22ArsuT2vSjhXcfVieL5dL3rcejmeZ2HJMf3d83YHBPFN07VniXBPC390fjjZS67FQK6z9O2PlF0v7NaceQbu8\\u002fpp\\u002f4KvngusRd96ufYzUBYJnNhHkWIxskrceK7l4qjSziKU3V0jeu5WZRKRQyiXQtNxs\\u002f9iZzNz+vktd7MuOu8ZMjFy\\u002fXZXWdQkHwNvH6mNGc9gxlmazTKz\\u002fA9JEeSArzyRvx73xy8MytBMQ11St93vBNIaeoBinl83Uxo\\u002fbflOc9347BpLahtaquBQAcrPS7O0E3u7YndHK20rylKK62HZ16sKDpd0LlaQy6Qy5XVNe1nL+ZeOxSrDqLPnFkW2DxblSWQCh5Z4I3avEAwOggRwCITsAXPYQOtUMtFVCeJp4vEEc8yTIz4mKtK2iPNSOofqyxIc5oHag6mz51tIdcoXgUl4vVUZEePnP4vVQAWDp7GGrCMujUxTOHyuWKK3eTO\\u002fQAwoY5oNYVACAxxJLyhg6NgQRvX79WIK1EcZgwde+P7AjcIlirG33tMh8nxDJEx3GIjtKLiLW60TgjP3TVnKXfebfdQSdTl9tMXG4zET8AMMssZJZZCE440sBrpIEXTojjWk6Wh4GhVC4Pz8l639MHP\\u002fxmIlMookqLbLgdUXOC\\u002fywUCplBowrFEpFYin05HhwyC6qiEvNzimuq6pqbWoR8kVgkluIm6sGhpcH86\\u002fNZ3\\u002f1zvbiiobSq8fcj9\\u002f8+8SjI23raSPchbpZ4bQx93vBNobqh7ZXJDDOFwwvRh9sxmNS2R\\u002f0MdLoNJhi2D9V0NScpAOhxleIenem1y\\u002fexS7HHLsWiq4Z6Gt+vnajTbp9l5lUCwBdbL6MKKPWdopYO1gY4CUpuUY1MJvd26TBlOqP6scyV+49Ym+sCQGGpUgKPivTwmXMKqwHAwUZJwdHGAAAy8iqxQjsrpYpUxPgbNBfpa21g\\u002fXcobmpKqa762D9AplDsiIspbW421dDA6VzKyjiekpTXWM8XS3RZLCddvRmOzuNt7VXXOfg8\\u002fofHD\\u002f4aO3GyfYeteTU783+3rm0KDl3q6VPD5\\u002fkf2H1m5pyjKUl38\\u002fOCzC3+HjfxQGL8P\\u002fGxxuqcbaPHu+kbAMC+hGc\\u002fRj1MWL76dFrKybTkitZWE47GPFf3ZV6+6DvG8dSks+mpWXW1Qqm0ls+3+rvDeM39cB2lPdyOHB0dSlrxkQa9i7LnS1kZR5OfZ9bVAICLnsFKb99RVh3JjMh5PVv2wcXMjBOpSWUtzQZs9UAzi08DgrhMpWTGnq8PwUDD1WRW1EgAoLy6qbtGUP1OYVn9lv23UrLLsUIKhcygqXFYjKZWAVaOw9nG8PjPi64\\u002fTjt1I6GgrE4ild2Pzbkfm2NnrvfxgtDOefEofd7wjYDXnqTfZRp7z7zM7Rg00L4MdCo+VwyFQWsbQq8GDjr9ZR+vSJsGMpnEYdPtrAz83MyxDiSkO8bcST5anWYNMjXUwkm0uqmvhPb9IAle3aH6sXAOPy0OEwB6rerokh4+M48vUqOQ2Uylr5+GOpNMIrXylJqGaGt2Xa47OLzsN4CgXwjPyQSAMGsbiUy+Iy7mWm7WSu8O7xoA7EmI+znqkZu+wTwXdxIJipqaIouLbLV1sMaBKjqq8MPjB1Za3ABTszv5uZ\\u002fcuZlZVzPP1eNo8vMv7t0On7sQVVt1\\u002fUpxU9MYaxsahXInP+\\u002fHyIe1fP4XgW3eOxuu9rsu7lKF\\u002fOv7d620uNjTwSYzhlhYnpj+ToNQsD32SXZdLSrH8lPUo70JcdZc7TnObgqAB0UFy8IvfRk0fLmXL1btoxvhydWV423tJ9o5xJaXnkpLzq6rPT\\u002f7XVShv64PQZ9xsDSoqGkGgLS8ysExsMprmpZ\\u002fd6KFLwKAIW6W44KcHK0MDHQ4LAYNALKLqt\\u002f78ih+G2WoapSpI9ynjnBPyS6\\u002f+ij1zpNMgVCSU1yz5qezHy8InTuuW2dznzd8\\u002fUFT1FUMcqG8\\u002fO0YHFhM9AQ7OmDhQIdwj\\u002fl+BNumoTPIcYcPsXN3NMGPvQjIxa9rwDu9sKh+LIFy5j6yyurvS8Rm0aUyeStfhO1D1twqkCsUOEvx1eYjEAbWa8G13GxDdY6rnoECQJ\\u002fNDs\\u002fGG1iXsjK4TObF2fNQ349MLhfJZC+qowo0CmX72Ilimcxr387wnKxHi5aZaWg2i0Sn05KFUilDre07U97SfOPd97QYDABY4xcw5fSx\\u002fYnP5rt6mGtqAsBQE7OhJmYimfTr+3f12ew5Ll0nM2rSGQGmZgBwOi2lSwMrvqJ8b0LcEBPTw1NmIofeKAladPn8L1GPQswtHXQ6khkTKssvvzPfUbct3L74yvmHRYUJleXehm2pEv11fXpm81fnkxIK9xxdqa3bS4CgZ\\u002fprP68V7vbGD+JyAODOk8wJwc744QFg\\u002f\\u002flo5HH+\\u002foyA5TOH4UaxjUB7xc3e2M3e+H\\u002fzhp+6EX\\u002f48lOpTP7XsYcBHlbYDgJd0ucNX1vQiZZLKxuVBnqjH2\\u002fHgIK2vaiq7TZ\\u002ftKK9NTy2R8Zg4mhjeONhemJ6aa9GT8\\u002fYWOiSSaS0nAq5XNFdQYbqx8JFA3OKagDA0lQHK0TeseW9BEh7wtnWMCu\\u002fKjOvytetwxmckVcFAI7dBxYHnw5fAsGrorCxIb2merSVDQCQAMKsbFJrqoqaGrE6ukxWi0iUWFmBSihkMkvZfa2Kjiq46RsCAI1CMdPQNFLnmGloAoAJh6MAaBR2hK6nOTgj1hUAaNDp81095ArF7fy+JDP2wNn0VAD42H8YatixqNQ1\\u002fkNlCsXJtGSs5iQ7B9S6AgAkhljQ0JHM2Ifrc2TfwzEBP9y4kogfALh0Nm5MwA+H9z7AyRWgYDCopG5+p1Snv\\u002fbzWjEmwBGJcTxNLkzPV0qVGCAS0ksBQI1Cfq+rqaNx06eogjqLvmzmsNVzgwFArlBEJXZUIvdMnzd8DXG0MkDm536WXozryd4z\\u002fXI7BuFfgqvBQpopZBVWdZcZhkY5Xe26TmYfaEYHObKZtNPh8eVVTVj5i\\u002fas57AZwX62JRUN2HwvAJDK5BJp2\\u002fun6se69TgD7VshFEku3U4ik0ghyiWNahSyjha7pLxeIunj++2UMHcyiXTo3BOhqM2PKBRJ\\u002fj0fQyLBxBFtRQCvA4QH69UTnpMFAGHWbUlFY6ztTqQmh+dkfeg7BNVZPzRw4eVzs8+fCjA1m+3kOt7WHjU4XkhHFTTbs6CYVCrq7KFT1ABAimnBgktdt9fRBYDchr4kM\\u002fZAWk01ACC5XyhuegYAkFyl9IR20dPHrmrRGQDQJOqwCPtwfYaHOR87+CjyQeb4KfgahehHmQAQGoZ3w2zaMgsn6Rv9tZ\\u002fXCl2uetgQh1vRGXKF4vtdN\\u002f7ZNAf1hQwQfJEYum8McedJJl6kGj7OZsgCdhIVVejzhq8VDBp1iLtlVGJ+XSPv8v2UGWEeeI1u6JfbgQQoG1sEUpkcsfMGgrHDHPdfeCIQSW5FZXSeeECuUFx+kAIAahRyqJ8dbnRw0OQwv\\u002fnfhK9\\u002fv7po45GwQEd9HfWGJn5haX1iesmZHcuM9PBZvD2wftnI7MLqPScjo+LzXe2NaDS1iuqmp88Ld34\\u002fB8lSV\\u002f1Y2prsJRuPhvjbanKYD2Kyi8rq50\\u002f1w3YrRQgLdDx9Lf7D704P9bSSyeSNzfyNK0bjdHrA3kp\\u002fxbyg3ccfL\\u002fn0WICXlUKheJJYUFLRsGzOsB5S4wefgfp2EqgOYmAtunze6u\\u002ffrP7+bfGV86gQxcvQKGLBksUe3qnV1evv3Ag4tGdPQhzSLfqFdFRBDZMjRek+gk2jKCUzajOZAMAT9yWZsQdaxCI1MlmdphTC12IyySRSs0gpmVGX1UsyYx+uj4WVnqW1fuKzAr5y4mRLsyAlsRgZxcoJemXtwlAtDSYAFFXUL\\u002f\\u002fuRJeOHLlckZpb0eOdURVjPU0AEAglae1N5FEuRCTdj83BCbHcjcnqzgy6Hd1mClh31Uq0zxu+QSya4o\\u002f8Nvx57AEy\\u002fQsOiVSWV4IP+r\\u002fM7UBB6tTkcsX92Gz8WP8xa4yXpjoTAHacepRTXIMb3X0mEplkcGKIa6\\u002fVggNHkK\\u002fNgZ8XBPnYRMXnHT4Xc\\u002f9JtlgiXfFu0Iu+t+hy1Q\\u002f+smDhNP8WnvDCraQz1xLScypD\\u002fG11uB0\\u002fqioea9mcYTPGecYkFhy\\u002fHCeVydcsCv1gPr6sHgBWzgtaOM2\\u002foYl\\u002f5MLT8zefF5bV4zV6Y+E0\\u002f582TtXSYF6+m3wlIoWrydq8YfKSWQF4vVdKF68RBINJfkN9Vl2tg46up0GHnzmpujKztiavoR7rJTJgq38bMuKzYcHXcrJ2J8T+HPWols\\u002f7KigUVVBRBwdP0keTCLchsspWtoReHg06vahJ3iIWcWgdqYuNAoFcocDVG3ZrCWLow\\u002fUJDXM+vPfB0+icEaM7PM8xkdkymTw0zAWVPLiT9uM3F9DVC3c2qrc3g8EScTMl\\u002fGJ8aXGdgC\\u002fmarOt7QzCxrkHj3RCFVTcz71bKVfOPcvPqwIAWwejd+YHDA3qSNW\\u002fcPrp7j9vn7m+PuJmyrVLCVUVjTp6HG8\\u002f6yWrRmhqvdgvb7\\u002fD1WBtXTdt\\u002fdYLLXxRWXXThm0XDXU1fJzMdLhsqhqloYlfUF6XVVDNF4qjjnRMnYEikcp4fDFPIEIsY7FEVlbdxGbS1Fn0Lp0ZYUMdMguqAOCzP68smTrE3lKfQiEXlzfcjEqPSS50tTXKKqxG4yA4th6K+EF808vR1NXWyMyIq86kS2Xyitqmx\\u002fF58eklAGBmyA30ssJv9hIbIshk8laBiCcQi6UyAJDLFWVVjWwmnc2kddeT6SXpwxHd7U3enx6w\\u002f8ITsUT67a7rR8PjhrhZ6GtzxFJZXQOvpKohIb3EzkJ\\u002fr\\u002fJ8iC9zO1DGBDhGxGQBwOa9t7ILq51tjCgUEk8grm3kudsZezh0nST0oueoxWF+s2rcp39cbm4VLv3m+MRgFy8nUxaDVlnTfCs6A5n0ycJYe+2CUPyW\\u002fcFQT8uosxvw0q6wMdf99uMJeCmGmeO8Zo7DO+A7o6HOWDU\\u002feFX3OfWgwrEAQCqVL545dPHMofgBZeg0tR4Op+JnDvG3DfFXCj5imTPRZ85EfClJWKBjWKAjTjhwEAbWKwbxVK0bMmysTYef+U5+7oprl8Nzsj72x9vjDDW1mU4uE+0cRh8\\u002fdDottUvjoDsdjbaomZIzJquuDruqOjn1Shtm1NYAgC1XKZmRQnrZZEYPA8OU6qrkqqpAs45kxuTqKugUN1Sd7q5PlwwPczm890Hkg0ysgRX1MAsAhmPig75DbbbuWNjUxD924HFhfjUqx3LmWPT+nRF2jkYTpnqTSFBe1pAQm29uqYs1sFTZz74dd88ef2JqrjN+ipdCAXFPcr\\u002fZeHrFmtGz5in9qG35+nxWRnnwCOeQUc4piUXXLycU5lX\\u002fuW8JVueV4GZvvOfbd385eCcpqwwAKmubrz1OwyspU1bVuOy7kzyBGJfwUVrVOHPdfmSZRlVjM2n7v3sXOxHNnLHeT5ML49KKaxtatx6OQOUA4Olg+tvG6Wt+Opuu3DgHhUQCkVgak1wYk1yIHwOwMNbetmFalxP99m1DuVwxec0eHl+Mq1zjC8Uz1x9AlqlqFDaL9uu6qe72XZsRL8RLHnHZzGEa6oydpx6LxNLc4prcTm6ezrzM7UAZ7ms7Mdjl2uM0kVh6NDwOO7R2YSjOwHqZcwz0sv513dTv\\u002frnRwhNeupd86Z5S0qeHg8kva6d2OR3Qfxlill4s+H9ygkEmPCeLRaUOt1B6nQ2xsGRRqeE5mYiBpQAoU+6MRSGRKCQytiO2KjpWWlwAiCjIW+DWljNR1tJ8OasL974qXM7KWO7lq8diA4BAKjmekkQmkcZYK71PqJHJeix2QWO9WCbDhRRVZK6L+4nU5L\\u002finngbGTHVqAAgkEp2xMWQAGY7v0AyoyrXp0tMzLRt7Q3jnuSKxVIaTQ0AREJJ\\u002fNM8W3tDU\\u002fMOa1Kdw\\u002fDwsQSAm1eed2cY3buVqqnF+mv\\u002fUtQxI5PJJWKl9\\u002fVe95OeUnr2+BN3L4stf8xDGu0IV438Yu3x\\u002fTvv+gyxtrLpCFmmp5T+ffB9a9s2M\\u002fSrdSfiYvLSU0udXU1RnVeFtanOnm\\u002fmxqUWPYrPS8wsrW1sbeGJyGSSJpthpKfpaG0Q6GGNdV9JZfKGZj5mB10glkjFEimuEo1Kpfz52cyL95JvRWXkl9aKxFIOm2FrphsW4DA51I1MIrnZGXf3RN\\u002f\\u002f\\u002fbybURlJWWUllQ2NzQKxREqlUrgaLDtzvVA\\u002fu7GBTl36zKCvGyoUiu5mtUORSGWNzYLu0q5flJc\\u002f4jtjvcOGOl6+nxybWlRUXt\\u002fcKqTT1LgaLAMdzhA3y87JSS9zO7BsWjXO390i\\u002fGFadmF1C1\\u002fIoFG5GkwrU11kfkAsL3mOgV7W539\\u002f\\u002f+ztxMjEvNLKRqFYqsVhutgajR3mNMIff3YEBDgIA+tVklNfl1NfN9HOAZdtTaeoDbewupGbjUQP5XJ58L\\u002f73A0MXfX0DdjqrWLxg6KCoqbGtUOGoZuoouNtZOxlaPSgqGDuhdN+xqY1PN6NvGxnXf2YshJUR3V0WeyJJ4+OtbHVYjBv5mXnNdSv9PZDejRgmWzvePB5\\u002fNwLp4dbWEnl8noBf8uItmRGmVyeWFnRIha3ikWVvFYACM\\u002fJ0mOx1Gl0Ky2uobo6ALjo6X8SEPRr9ONJp46FWlgpFIoHRQUFjQ3rhgxz1cP\\u002fmPaAKtenO0JGOR\\u002f851780\\u002fyAYHsAiIvJE4mkwzHxQRXR0mYXF9ZkpJa5epghEgqFTGF28aztgZtXnwPAwvdD0DaGDCg9nk8AAARBSURBVCZ1\\u002ftLgL9eeuHE5YfX6cahmaJgLal0BwNAg+7iYvLLiutfBwELwc7Xwc7XAS7vCwlg75rhKEZPOUCjkWaM9u5wtDgDWLRyxbuEIvBQAAEwNtJbNwLuQVaFvG1Io5D6fI5bT21R1UvbLEbU1WUumDV0yrZeQEEqfbweOscOcxg7rcP12x8ufo4Y64\\u002f0ZAe+rfEM\\u002fWTzqk8Wj8FIMvSoQvDUQBtarBIkPTuiq0eU4G7sbudnhOZkOOkFkMnmFt9\\u002fj4sJLWRkiqZTLZNpwtXeMmzTRzgHVV0WHBHBg0vRfnjyOKilKTIgz4Wis8QuY5uDkd+AfVEd11g0Zlllbczo9pYrHM1bnfBUU+r4XPuANABsDgugUyrXcrJ3PnrLUqA66Hbm9zSLR7POnMLrw1f07yMLH\\u002fgGo6fOBj78NV3tfwrOTqckkEjjr6m8MCHrR7qCqXJ\\u002fuCA1zOfjPvcgHmYiBFfUwE7qqH+yVRctDP\\u002f\\u002f42PpVhz18LMdO9Age6dyHXs+52ZUAYOdohBXaORgBQFZGW904go2DIXaVo8EEgJYWIVZIQEBAQDBAkHqdDomAAAcyVc6uCVPGY\\u002fLG3m7WLD1QXtZw5vp6AJg9\\u002fjdTc52\\u002f9i\\u002fFKwEAwJdrTzx7mtddcnpdbcvpo9F3rifxWkUcDeachcNmzwvostlVd\\u002ftZPHtndWXj9cdfYYUKBYwL2mxqpnPg1AfQnuT+xf9Nx+aNIenzq9aOmTFnSMeWBAQEBAQDw4uFJwgIOvgvmebDw1xamgWpSSXJiUWtLUJs\\u002feALoaPLWb1u7Knw9Rs3TeFqs\\u002ffvjNi74y5eqUfY6nSpVM5rVapUaG7iK+QKdQ6urLILu42AgICAYHAgDCwCgt4ZPsqZRIK4J7lPo3JIJAgZ9cLxQSx0utroCR47Dy83MNK6eTURP9wjjs7GAJCdqRQNzM6sgE5xQwICAgKCVwhhYBEQ9I6egYaTq2lyYtHzZ4UuHua6ehy8Rm8oFFBV0YiVUMgkCplE6q2MEcf4qd4kMunYgUei9laWIqHkxKHHJBKMm+SppEpAQEBA8Op44RxbAoL\\u002fJqFhLnv+uiNXKD7CVOohyGTyjNQyPk\\u002fE54lqa1oA4OHddK42m82mm5jrINaYXC5fOONvBydjWwdDHT0OnyeKe5JXXtawcNnwF9qPrb3hkpUjDv5z74NF+\\u002fwDbBWgiHuSV1pc997y4bYOhAeLgICA4HWBMLAIXpjl3r7LvX3x0redkJHO\\u002f2y\\u002fTQLA9gVFaG0Rrl91GCvZ\\u002fss1ZGHh+yGICUUmk2fPD4iPzb93K1UkkmhqscwsdL\\u002faPHM4Jtqoyn4AYO57geaWumePP7l2OYFEAhs7wyUrR3T+VAQEBAQErxCiipCAgICAgICAoJ8hcrAICAgICAgICPoZwsAiICAgICAgIOhnCAOLgICAgICAgKCfIQwsAgICAgICAoJ+5v8BX\\u002fJroeQ1ADcAAAAASUVORK5CYII=\",\"type\":\"image\",\"xaxis\":\"x\",\"yaxis\":\"y\",\"hovertemplate\":\"x: %{x}\\u003cbr\\u003ey: %{y}\\u003cbr\\u003ecolor: [%{z[0]}, %{z[1]}, %{z[2]}]\\u003cextra\\u003e\\u003c\\u002fextra\\u003e\"}],                        {\"template\":{\"data\":{\"histogram2dcontour\":[{\"type\":\"histogram2dcontour\",\"colorbar\":{\"outlinewidth\":0,\"ticks\":\"\"},\"colorscale\":[[0.0,\"#0d0887\"],[0.1111111111111111,\"#46039f\"],[0.2222222222222222,\"#7201a8\"],[0.3333333333333333,\"#9c179e\"],[0.4444444444444444,\"#bd3786\"],[0.5555555555555556,\"#d8576b\"],[0.6666666666666666,\"#ed7953\"],[0.7777777777777778,\"#fb9f3a\"],[0.8888888888888888,\"#fdca26\"],[1.0,\"#f0f921\"]]}],\"choropleth\":[{\"type\":\"choropleth\",\"colorbar\":{\"outlinewidth\":0,\"ticks\":\"\"}}],\"histogram2d\":[{\"type\":\"histogram2d\",\"colorbar\":{\"outlinewidth\":0,\"ticks\":\"\"},\"colorscale\":[[0.0,\"#0d0887\"],[0.1111111111111111,\"#46039f\"],[0.2222222222222222,\"#7201a8\"],[0.3333333333333333,\"#9c179e\"],[0.4444444444444444,\"#bd3786\"],[0.5555555555555556,\"#d8576b\"],[0.6666666666666666,\"#ed7953\"],[0.7777777777777778,\"#fb9f3a\"],[0.8888888888888888,\"#fdca26\"],[1.0,\"#f0f921\"]]}],\"heatmap\":[{\"type\":\"heatmap\",\"colorbar\":{\"outlinewidth\":0,\"ticks\":\"\"},\"colorscale\":[[0.0,\"#0d0887\"],[0.1111111111111111,\"#46039f\"],[0.2222222222222222,\"#7201a8\"],[0.3333333333333333,\"#9c179e\"],[0.4444444444444444,\"#bd3786\"],[0.5555555555555556,\"#d8576b\"],[0.6666666666666666,\"#ed7953\"],[0.7777777777777778,\"#fb9f3a\"],[0.8888888888888888,\"#fdca26\"],[1.0,\"#f0f921\"]]}],\"heatmapgl\":[{\"type\":\"heatmapgl\",\"colorbar\":{\"outlinewidth\":0,\"ticks\":\"\"},\"colorscale\":[[0.0,\"#0d0887\"],[0.1111111111111111,\"#46039f\"],[0.2222222222222222,\"#7201a8\"],[0.3333333333333333,\"#9c179e\"],[0.4444444444444444,\"#bd3786\"],[0.5555555555555556,\"#d8576b\"],[0.6666666666666666,\"#ed7953\"],[0.7777777777777778,\"#fb9f3a\"],[0.8888888888888888,\"#fdca26\"],[1.0,\"#f0f921\"]]}],\"contourcarpet\":[{\"type\":\"contourcarpet\",\"colorbar\":{\"outlinewidth\":0,\"ticks\":\"\"}}],\"contour\":[{\"type\":\"contour\",\"colorbar\":{\"outlinewidth\":0,\"ticks\":\"\"},\"colorscale\":[[0.0,\"#0d0887\"],[0.1111111111111111,\"#46039f\"],[0.2222222222222222,\"#7201a8\"],[0.3333333333333333,\"#9c179e\"],[0.4444444444444444,\"#bd3786\"],[0.5555555555555556,\"#d8576b\"],[0.6666666666666666,\"#ed7953\"],[0.7777777777777778,\"#fb9f3a\"],[0.8888888888888888,\"#fdca26\"],[1.0,\"#f0f921\"]]}],\"surface\":[{\"type\":\"surface\",\"colorbar\":{\"outlinewidth\":0,\"ticks\":\"\"},\"colorscale\":[[0.0,\"#0d0887\"],[0.1111111111111111,\"#46039f\"],[0.2222222222222222,\"#7201a8\"],[0.3333333333333333,\"#9c179e\"],[0.4444444444444444,\"#bd3786\"],[0.5555555555555556,\"#d8576b\"],[0.6666666666666666,\"#ed7953\"],[0.7777777777777778,\"#fb9f3a\"],[0.8888888888888888,\"#fdca26\"],[1.0,\"#f0f921\"]]}],\"mesh3d\":[{\"type\":\"mesh3d\",\"colorbar\":{\"outlinewidth\":0,\"ticks\":\"\"}}],\"scatter\":[{\"fillpattern\":{\"fillmode\":\"overlay\",\"size\":10,\"solidity\":0.2},\"type\":\"scatter\"}],\"parcoords\":[{\"type\":\"parcoords\",\"line\":{\"colorbar\":{\"outlinewidth\":0,\"ticks\":\"\"}}}],\"scatterpolargl\":[{\"type\":\"scatterpolargl\",\"marker\":{\"colorbar\":{\"outlinewidth\":0,\"ticks\":\"\"}}}],\"bar\":[{\"error_x\":{\"color\":\"#2a3f5f\"},\"error_y\":{\"color\":\"#2a3f5f\"},\"marker\":{\"line\":{\"color\":\"#E5ECF6\",\"width\":0.5},\"pattern\":{\"fillmode\":\"overlay\",\"size\":10,\"solidity\":0.2}},\"type\":\"bar\"}],\"scattergeo\":[{\"type\":\"scattergeo\",\"marker\":{\"colorbar\":{\"outlinewidth\":0,\"ticks\":\"\"}}}],\"scatterpolar\":[{\"type\":\"scatterpolar\",\"marker\":{\"colorbar\":{\"outlinewidth\":0,\"ticks\":\"\"}}}],\"histogram\":[{\"marker\":{\"pattern\":{\"fillmode\":\"overlay\",\"size\":10,\"solidity\":0.2}},\"type\":\"histogram\"}],\"scattergl\":[{\"type\":\"scattergl\",\"marker\":{\"colorbar\":{\"outlinewidth\":0,\"ticks\":\"\"}}}],\"scatter3d\":[{\"type\":\"scatter3d\",\"line\":{\"colorbar\":{\"outlinewidth\":0,\"ticks\":\"\"}},\"marker\":{\"colorbar\":{\"outlinewidth\":0,\"ticks\":\"\"}}}],\"scattermapbox\":[{\"type\":\"scattermapbox\",\"marker\":{\"colorbar\":{\"outlinewidth\":0,\"ticks\":\"\"}}}],\"scatterternary\":[{\"type\":\"scatterternary\",\"marker\":{\"colorbar\":{\"outlinewidth\":0,\"ticks\":\"\"}}}],\"scattercarpet\":[{\"type\":\"scattercarpet\",\"marker\":{\"colorbar\":{\"outlinewidth\":0,\"ticks\":\"\"}}}],\"carpet\":[{\"aaxis\":{\"endlinecolor\":\"#2a3f5f\",\"gridcolor\":\"white\",\"linecolor\":\"white\",\"minorgridcolor\":\"white\",\"startlinecolor\":\"#2a3f5f\"},\"baxis\":{\"endlinecolor\":\"#2a3f5f\",\"gridcolor\":\"white\",\"linecolor\":\"white\",\"minorgridcolor\":\"white\",\"startlinecolor\":\"#2a3f5f\"},\"type\":\"carpet\"}],\"table\":[{\"cells\":{\"fill\":{\"color\":\"#EBF0F8\"},\"line\":{\"color\":\"white\"}},\"header\":{\"fill\":{\"color\":\"#C8D4E3\"},\"line\":{\"color\":\"white\"}},\"type\":\"table\"}],\"barpolar\":[{\"marker\":{\"line\":{\"color\":\"#E5ECF6\",\"width\":0.5},\"pattern\":{\"fillmode\":\"overlay\",\"size\":10,\"solidity\":0.2}},\"type\":\"barpolar\"}],\"pie\":[{\"automargin\":true,\"type\":\"pie\"}]},\"layout\":{\"autotypenumbers\":\"strict\",\"colorway\":[\"#636efa\",\"#EF553B\",\"#00cc96\",\"#ab63fa\",\"#FFA15A\",\"#19d3f3\",\"#FF6692\",\"#B6E880\",\"#FF97FF\",\"#FECB52\"],\"font\":{\"color\":\"#2a3f5f\"},\"hovermode\":\"closest\",\"hoverlabel\":{\"align\":\"left\"},\"paper_bgcolor\":\"white\",\"plot_bgcolor\":\"#E5ECF6\",\"polar\":{\"bgcolor\":\"#E5ECF6\",\"angularaxis\":{\"gridcolor\":\"white\",\"linecolor\":\"white\",\"ticks\":\"\"},\"radialaxis\":{\"gridcolor\":\"white\",\"linecolor\":\"white\",\"ticks\":\"\"}},\"ternary\":{\"bgcolor\":\"#E5ECF6\",\"aaxis\":{\"gridcolor\":\"white\",\"linecolor\":\"white\",\"ticks\":\"\"},\"baxis\":{\"gridcolor\":\"white\",\"linecolor\":\"white\",\"ticks\":\"\"},\"caxis\":{\"gridcolor\":\"white\",\"linecolor\":\"white\",\"ticks\":\"\"}},\"coloraxis\":{\"colorbar\":{\"outlinewidth\":0,\"ticks\":\"\"}},\"colorscale\":{\"sequential\":[[0.0,\"#0d0887\"],[0.1111111111111111,\"#46039f\"],[0.2222222222222222,\"#7201a8\"],[0.3333333333333333,\"#9c179e\"],[0.4444444444444444,\"#bd3786\"],[0.5555555555555556,\"#d8576b\"],[0.6666666666666666,\"#ed7953\"],[0.7777777777777778,\"#fb9f3a\"],[0.8888888888888888,\"#fdca26\"],[1.0,\"#f0f921\"]],\"sequentialminus\":[[0.0,\"#0d0887\"],[0.1111111111111111,\"#46039f\"],[0.2222222222222222,\"#7201a8\"],[0.3333333333333333,\"#9c179e\"],[0.4444444444444444,\"#bd3786\"],[0.5555555555555556,\"#d8576b\"],[0.6666666666666666,\"#ed7953\"],[0.7777777777777778,\"#fb9f3a\"],[0.8888888888888888,\"#fdca26\"],[1.0,\"#f0f921\"]],\"diverging\":[[0,\"#8e0152\"],[0.1,\"#c51b7d\"],[0.2,\"#de77ae\"],[0.3,\"#f1b6da\"],[0.4,\"#fde0ef\"],[0.5,\"#f7f7f7\"],[0.6,\"#e6f5d0\"],[0.7,\"#b8e186\"],[0.8,\"#7fbc41\"],[0.9,\"#4d9221\"],[1,\"#276419\"]]},\"xaxis\":{\"gridcolor\":\"white\",\"linecolor\":\"white\",\"ticks\":\"\",\"title\":{\"standoff\":15},\"zerolinecolor\":\"white\",\"automargin\":true,\"zerolinewidth\":2},\"yaxis\":{\"gridcolor\":\"white\",\"linecolor\":\"white\",\"ticks\":\"\",\"title\":{\"standoff\":15},\"zerolinecolor\":\"white\",\"automargin\":true,\"zerolinewidth\":2},\"scene\":{\"xaxis\":{\"backgroundcolor\":\"#E5ECF6\",\"gridcolor\":\"white\",\"linecolor\":\"white\",\"showbackground\":true,\"ticks\":\"\",\"zerolinecolor\":\"white\",\"gridwidth\":2},\"yaxis\":{\"backgroundcolor\":\"#E5ECF6\",\"gridcolor\":\"white\",\"linecolor\":\"white\",\"showbackground\":true,\"ticks\":\"\",\"zerolinecolor\":\"white\",\"gridwidth\":2},\"zaxis\":{\"backgroundcolor\":\"#E5ECF6\",\"gridcolor\":\"white\",\"linecolor\":\"white\",\"showbackground\":true,\"ticks\":\"\",\"zerolinecolor\":\"white\",\"gridwidth\":2}},\"shapedefaults\":{\"line\":{\"color\":\"#2a3f5f\"}},\"annotationdefaults\":{\"arrowcolor\":\"#2a3f5f\",\"arrowhead\":0,\"arrowwidth\":1},\"geo\":{\"bgcolor\":\"white\",\"landcolor\":\"#E5ECF6\",\"subunitcolor\":\"white\",\"showland\":true,\"showlakes\":true,\"lakecolor\":\"white\"},\"title\":{\"x\":0.05},\"mapbox\":{\"style\":\"light\"}}},\"xaxis\":{\"anchor\":\"y\",\"domain\":[0.0,1.0]},\"yaxis\":{\"anchor\":\"x\",\"domain\":[0.0,1.0]},\"title\":{\"text\":\"word cloud of titles\"},\"showlegend\":false},                        {\"responsive\": true}                    ).then(function(){\n",
       "                            \n",
       "var gd = document.getElementById('3b3502cc-a329-4ac9-b688-e6d1e33957dc');\n",
       "var x = new MutationObserver(function (mutations, observer) {{\n",
       "        var display = window.getComputedStyle(gd).display;\n",
       "        if (!display || display === 'none') {{\n",
       "            console.log([gd, 'removed!']);\n",
       "            Plotly.purge(gd);\n",
       "            observer.disconnect();\n",
       "        }}\n",
       "}});\n",
       "\n",
       "// Listen for the removal of the full notebook cells\n",
       "var notebookContainer = gd.closest('#notebook-container');\n",
       "if (notebookContainer) {{\n",
       "    x.observe(notebookContainer, {childList: true});\n",
       "}}\n",
       "\n",
       "// Listen for the clearing of the current output cell\n",
       "var outputEl = gd.closest('.output');\n",
       "if (outputEl) {{\n",
       "    x.observe(outputEl, {childList: true});\n",
       "}}\n",
       "\n",
       "                        })                };                });            </script>        </div>"
      ]
     },
     "metadata": {},
     "output_type": "display_data"
    }
   ],
   "source": [
    "#Plot the word cloud\n",
    "fig=px.imshow(wordcloud, title='word cloud of titles')\n",
    "fig.update_layout(showlegend=False)\n",
    "fig.show()"
   ]
  },
  {
   "cell_type": "markdown",
   "id": "a6742a3e",
   "metadata": {},
   "source": [
    "In the above code, we are generating a word cloud based on the titles of the articles. First, we concatenated all the titles into a single continuous string called titles_text using the join method.\n",
    "\n",
    "Next, we created a WordCloud object with specific parameters, including the width, height, and background colour, which determine the appearance of the word cloud. Then, we used this WordCloud object to generate the word cloud itself, where the size of each word is proportional to its frequency in the titles.\n",
    "Now, let’s analyze the distribution of sentiments in the data:"
   ]
  },
  {
   "cell_type": "code",
   "execution_count": 19,
   "id": "df9cf87a",
   "metadata": {},
   "outputs": [],
   "source": [
    "#Sentiment Analytics\n",
    "data['Sentiment'] = data['Article'].apply(lambda x:TextBlob(x).sentiment.polarity)"
   ]
  },
  {
   "cell_type": "code",
   "execution_count": 21,
   "id": "ecc6d918",
   "metadata": {},
   "outputs": [
    {
     "data": {
      "application/vnd.plotly.v1+json": {
       "config": {
        "plotlyServerURL": "https://plot.ly"
       },
       "data": [
        {
         "alignmentgroup": "True",
         "bingroup": "x",
         "hovertemplate": "Sentiment=%{x}<br>count=%{y}<extra></extra>",
         "legendgroup": "",
         "marker": {
          "color": "#636efa",
          "pattern": {
           "shape": ""
          }
         },
         "name": "",
         "offsetgroup": "",
         "orientation": "v",
         "showlegend": false,
         "type": "histogram",
         "x": [
          0.6666666666666666,
          0.02083333333333333,
          0.6,
          0.625,
          -0.10142857142857142,
          0.6,
          0.2833333333333333,
          0.05,
          0.40666666666666673,
          -0.10833333333333334,
          0.346875,
          0.5800000000000001,
          0.4791666666666667,
          0.2,
          0.016666666666666653,
          0,
          -0.075,
          0,
          0.15,
          0.08333333333333333,
          -0.234375,
          0,
          0.1576923076923077,
          -0.8,
          0.0911111111111111,
          0.4,
          0.175,
          0.24545454545454545,
          0.11892857142857145,
          0.08979591836734693,
          0.26999999999999996,
          0.2885714285714286,
          -0.18125,
          0
         ],
         "xaxis": "x",
         "yaxis": "y"
        }
       ],
       "layout": {
        "barmode": "relative",
        "legend": {
         "tracegroupgap": 0
        },
        "template": {
         "data": {
          "bar": [
           {
            "error_x": {
             "color": "#2a3f5f"
            },
            "error_y": {
             "color": "#2a3f5f"
            },
            "marker": {
             "line": {
              "color": "#E5ECF6",
              "width": 0.5
             },
             "pattern": {
              "fillmode": "overlay",
              "size": 10,
              "solidity": 0.2
             }
            },
            "type": "bar"
           }
          ],
          "barpolar": [
           {
            "marker": {
             "line": {
              "color": "#E5ECF6",
              "width": 0.5
             },
             "pattern": {
              "fillmode": "overlay",
              "size": 10,
              "solidity": 0.2
             }
            },
            "type": "barpolar"
           }
          ],
          "carpet": [
           {
            "aaxis": {
             "endlinecolor": "#2a3f5f",
             "gridcolor": "white",
             "linecolor": "white",
             "minorgridcolor": "white",
             "startlinecolor": "#2a3f5f"
            },
            "baxis": {
             "endlinecolor": "#2a3f5f",
             "gridcolor": "white",
             "linecolor": "white",
             "minorgridcolor": "white",
             "startlinecolor": "#2a3f5f"
            },
            "type": "carpet"
           }
          ],
          "choropleth": [
           {
            "colorbar": {
             "outlinewidth": 0,
             "ticks": ""
            },
            "type": "choropleth"
           }
          ],
          "contour": [
           {
            "colorbar": {
             "outlinewidth": 0,
             "ticks": ""
            },
            "colorscale": [
             [
              0,
              "#0d0887"
             ],
             [
              0.1111111111111111,
              "#46039f"
             ],
             [
              0.2222222222222222,
              "#7201a8"
             ],
             [
              0.3333333333333333,
              "#9c179e"
             ],
             [
              0.4444444444444444,
              "#bd3786"
             ],
             [
              0.5555555555555556,
              "#d8576b"
             ],
             [
              0.6666666666666666,
              "#ed7953"
             ],
             [
              0.7777777777777778,
              "#fb9f3a"
             ],
             [
              0.8888888888888888,
              "#fdca26"
             ],
             [
              1,
              "#f0f921"
             ]
            ],
            "type": "contour"
           }
          ],
          "contourcarpet": [
           {
            "colorbar": {
             "outlinewidth": 0,
             "ticks": ""
            },
            "type": "contourcarpet"
           }
          ],
          "heatmap": [
           {
            "colorbar": {
             "outlinewidth": 0,
             "ticks": ""
            },
            "colorscale": [
             [
              0,
              "#0d0887"
             ],
             [
              0.1111111111111111,
              "#46039f"
             ],
             [
              0.2222222222222222,
              "#7201a8"
             ],
             [
              0.3333333333333333,
              "#9c179e"
             ],
             [
              0.4444444444444444,
              "#bd3786"
             ],
             [
              0.5555555555555556,
              "#d8576b"
             ],
             [
              0.6666666666666666,
              "#ed7953"
             ],
             [
              0.7777777777777778,
              "#fb9f3a"
             ],
             [
              0.8888888888888888,
              "#fdca26"
             ],
             [
              1,
              "#f0f921"
             ]
            ],
            "type": "heatmap"
           }
          ],
          "heatmapgl": [
           {
            "colorbar": {
             "outlinewidth": 0,
             "ticks": ""
            },
            "colorscale": [
             [
              0,
              "#0d0887"
             ],
             [
              0.1111111111111111,
              "#46039f"
             ],
             [
              0.2222222222222222,
              "#7201a8"
             ],
             [
              0.3333333333333333,
              "#9c179e"
             ],
             [
              0.4444444444444444,
              "#bd3786"
             ],
             [
              0.5555555555555556,
              "#d8576b"
             ],
             [
              0.6666666666666666,
              "#ed7953"
             ],
             [
              0.7777777777777778,
              "#fb9f3a"
             ],
             [
              0.8888888888888888,
              "#fdca26"
             ],
             [
              1,
              "#f0f921"
             ]
            ],
            "type": "heatmapgl"
           }
          ],
          "histogram": [
           {
            "marker": {
             "pattern": {
              "fillmode": "overlay",
              "size": 10,
              "solidity": 0.2
             }
            },
            "type": "histogram"
           }
          ],
          "histogram2d": [
           {
            "colorbar": {
             "outlinewidth": 0,
             "ticks": ""
            },
            "colorscale": [
             [
              0,
              "#0d0887"
             ],
             [
              0.1111111111111111,
              "#46039f"
             ],
             [
              0.2222222222222222,
              "#7201a8"
             ],
             [
              0.3333333333333333,
              "#9c179e"
             ],
             [
              0.4444444444444444,
              "#bd3786"
             ],
             [
              0.5555555555555556,
              "#d8576b"
             ],
             [
              0.6666666666666666,
              "#ed7953"
             ],
             [
              0.7777777777777778,
              "#fb9f3a"
             ],
             [
              0.8888888888888888,
              "#fdca26"
             ],
             [
              1,
              "#f0f921"
             ]
            ],
            "type": "histogram2d"
           }
          ],
          "histogram2dcontour": [
           {
            "colorbar": {
             "outlinewidth": 0,
             "ticks": ""
            },
            "colorscale": [
             [
              0,
              "#0d0887"
             ],
             [
              0.1111111111111111,
              "#46039f"
             ],
             [
              0.2222222222222222,
              "#7201a8"
             ],
             [
              0.3333333333333333,
              "#9c179e"
             ],
             [
              0.4444444444444444,
              "#bd3786"
             ],
             [
              0.5555555555555556,
              "#d8576b"
             ],
             [
              0.6666666666666666,
              "#ed7953"
             ],
             [
              0.7777777777777778,
              "#fb9f3a"
             ],
             [
              0.8888888888888888,
              "#fdca26"
             ],
             [
              1,
              "#f0f921"
             ]
            ],
            "type": "histogram2dcontour"
           }
          ],
          "mesh3d": [
           {
            "colorbar": {
             "outlinewidth": 0,
             "ticks": ""
            },
            "type": "mesh3d"
           }
          ],
          "parcoords": [
           {
            "line": {
             "colorbar": {
              "outlinewidth": 0,
              "ticks": ""
             }
            },
            "type": "parcoords"
           }
          ],
          "pie": [
           {
            "automargin": true,
            "type": "pie"
           }
          ],
          "scatter": [
           {
            "fillpattern": {
             "fillmode": "overlay",
             "size": 10,
             "solidity": 0.2
            },
            "type": "scatter"
           }
          ],
          "scatter3d": [
           {
            "line": {
             "colorbar": {
              "outlinewidth": 0,
              "ticks": ""
             }
            },
            "marker": {
             "colorbar": {
              "outlinewidth": 0,
              "ticks": ""
             }
            },
            "type": "scatter3d"
           }
          ],
          "scattercarpet": [
           {
            "marker": {
             "colorbar": {
              "outlinewidth": 0,
              "ticks": ""
             }
            },
            "type": "scattercarpet"
           }
          ],
          "scattergeo": [
           {
            "marker": {
             "colorbar": {
              "outlinewidth": 0,
              "ticks": ""
             }
            },
            "type": "scattergeo"
           }
          ],
          "scattergl": [
           {
            "marker": {
             "colorbar": {
              "outlinewidth": 0,
              "ticks": ""
             }
            },
            "type": "scattergl"
           }
          ],
          "scattermapbox": [
           {
            "marker": {
             "colorbar": {
              "outlinewidth": 0,
              "ticks": ""
             }
            },
            "type": "scattermapbox"
           }
          ],
          "scatterpolar": [
           {
            "marker": {
             "colorbar": {
              "outlinewidth": 0,
              "ticks": ""
             }
            },
            "type": "scatterpolar"
           }
          ],
          "scatterpolargl": [
           {
            "marker": {
             "colorbar": {
              "outlinewidth": 0,
              "ticks": ""
             }
            },
            "type": "scatterpolargl"
           }
          ],
          "scatterternary": [
           {
            "marker": {
             "colorbar": {
              "outlinewidth": 0,
              "ticks": ""
             }
            },
            "type": "scatterternary"
           }
          ],
          "surface": [
           {
            "colorbar": {
             "outlinewidth": 0,
             "ticks": ""
            },
            "colorscale": [
             [
              0,
              "#0d0887"
             ],
             [
              0.1111111111111111,
              "#46039f"
             ],
             [
              0.2222222222222222,
              "#7201a8"
             ],
             [
              0.3333333333333333,
              "#9c179e"
             ],
             [
              0.4444444444444444,
              "#bd3786"
             ],
             [
              0.5555555555555556,
              "#d8576b"
             ],
             [
              0.6666666666666666,
              "#ed7953"
             ],
             [
              0.7777777777777778,
              "#fb9f3a"
             ],
             [
              0.8888888888888888,
              "#fdca26"
             ],
             [
              1,
              "#f0f921"
             ]
            ],
            "type": "surface"
           }
          ],
          "table": [
           {
            "cells": {
             "fill": {
              "color": "#EBF0F8"
             },
             "line": {
              "color": "white"
             }
            },
            "header": {
             "fill": {
              "color": "#C8D4E3"
             },
             "line": {
              "color": "white"
             }
            },
            "type": "table"
           }
          ]
         },
         "layout": {
          "annotationdefaults": {
           "arrowcolor": "#2a3f5f",
           "arrowhead": 0,
           "arrowwidth": 1
          },
          "autotypenumbers": "strict",
          "coloraxis": {
           "colorbar": {
            "outlinewidth": 0,
            "ticks": ""
           }
          },
          "colorscale": {
           "diverging": [
            [
             0,
             "#8e0152"
            ],
            [
             0.1,
             "#c51b7d"
            ],
            [
             0.2,
             "#de77ae"
            ],
            [
             0.3,
             "#f1b6da"
            ],
            [
             0.4,
             "#fde0ef"
            ],
            [
             0.5,
             "#f7f7f7"
            ],
            [
             0.6,
             "#e6f5d0"
            ],
            [
             0.7,
             "#b8e186"
            ],
            [
             0.8,
             "#7fbc41"
            ],
            [
             0.9,
             "#4d9221"
            ],
            [
             1,
             "#276419"
            ]
           ],
           "sequential": [
            [
             0,
             "#0d0887"
            ],
            [
             0.1111111111111111,
             "#46039f"
            ],
            [
             0.2222222222222222,
             "#7201a8"
            ],
            [
             0.3333333333333333,
             "#9c179e"
            ],
            [
             0.4444444444444444,
             "#bd3786"
            ],
            [
             0.5555555555555556,
             "#d8576b"
            ],
            [
             0.6666666666666666,
             "#ed7953"
            ],
            [
             0.7777777777777778,
             "#fb9f3a"
            ],
            [
             0.8888888888888888,
             "#fdca26"
            ],
            [
             1,
             "#f0f921"
            ]
           ],
           "sequentialminus": [
            [
             0,
             "#0d0887"
            ],
            [
             0.1111111111111111,
             "#46039f"
            ],
            [
             0.2222222222222222,
             "#7201a8"
            ],
            [
             0.3333333333333333,
             "#9c179e"
            ],
            [
             0.4444444444444444,
             "#bd3786"
            ],
            [
             0.5555555555555556,
             "#d8576b"
            ],
            [
             0.6666666666666666,
             "#ed7953"
            ],
            [
             0.7777777777777778,
             "#fb9f3a"
            ],
            [
             0.8888888888888888,
             "#fdca26"
            ],
            [
             1,
             "#f0f921"
            ]
           ]
          },
          "colorway": [
           "#636efa",
           "#EF553B",
           "#00cc96",
           "#ab63fa",
           "#FFA15A",
           "#19d3f3",
           "#FF6692",
           "#B6E880",
           "#FF97FF",
           "#FECB52"
          ],
          "font": {
           "color": "#2a3f5f"
          },
          "geo": {
           "bgcolor": "white",
           "lakecolor": "white",
           "landcolor": "#E5ECF6",
           "showlakes": true,
           "showland": true,
           "subunitcolor": "white"
          },
          "hoverlabel": {
           "align": "left"
          },
          "hovermode": "closest",
          "mapbox": {
           "style": "light"
          },
          "paper_bgcolor": "white",
          "plot_bgcolor": "#E5ECF6",
          "polar": {
           "angularaxis": {
            "gridcolor": "white",
            "linecolor": "white",
            "ticks": ""
           },
           "bgcolor": "#E5ECF6",
           "radialaxis": {
            "gridcolor": "white",
            "linecolor": "white",
            "ticks": ""
           }
          },
          "scene": {
           "xaxis": {
            "backgroundcolor": "#E5ECF6",
            "gridcolor": "white",
            "gridwidth": 2,
            "linecolor": "white",
            "showbackground": true,
            "ticks": "",
            "zerolinecolor": "white"
           },
           "yaxis": {
            "backgroundcolor": "#E5ECF6",
            "gridcolor": "white",
            "gridwidth": 2,
            "linecolor": "white",
            "showbackground": true,
            "ticks": "",
            "zerolinecolor": "white"
           },
           "zaxis": {
            "backgroundcolor": "#E5ECF6",
            "gridcolor": "white",
            "gridwidth": 2,
            "linecolor": "white",
            "showbackground": true,
            "ticks": "",
            "zerolinecolor": "white"
           }
          },
          "shapedefaults": {
           "line": {
            "color": "#2a3f5f"
           }
          },
          "ternary": {
           "aaxis": {
            "gridcolor": "white",
            "linecolor": "white",
            "ticks": ""
           },
           "baxis": {
            "gridcolor": "white",
            "linecolor": "white",
            "ticks": ""
           },
           "bgcolor": "#E5ECF6",
           "caxis": {
            "gridcolor": "white",
            "linecolor": "white",
            "ticks": ""
           }
          },
          "title": {
           "x": 0.05
          },
          "xaxis": {
           "automargin": true,
           "gridcolor": "white",
           "linecolor": "white",
           "ticks": "",
           "title": {
            "standoff": 15
           },
           "zerolinecolor": "white",
           "zerolinewidth": 2
          },
          "yaxis": {
           "automargin": true,
           "gridcolor": "white",
           "linecolor": "white",
           "ticks": "",
           "title": {
            "standoff": 15
           },
           "zerolinecolor": "white",
           "zerolinewidth": 2
          }
         }
        },
        "title": {
         "text": "Sentiment Ditribution"
        },
        "xaxis": {
         "anchor": "y",
         "domain": [
          0,
          1
         ],
         "title": {
          "text": "Sentiment"
         }
        },
        "yaxis": {
         "anchor": "x",
         "domain": [
          0,
          1
         ],
         "title": {
          "text": "count"
         }
        }
       }
      },
      "text/html": [
       "<div>                            <div id=\"47e7df2c-88a4-40db-86e5-45659feadbfd\" class=\"plotly-graph-div\" style=\"height:525px; width:100%;\"></div>            <script type=\"text/javascript\">                require([\"plotly\"], function(Plotly) {                    window.PLOTLYENV=window.PLOTLYENV || {};                                    if (document.getElementById(\"47e7df2c-88a4-40db-86e5-45659feadbfd\")) {                    Plotly.newPlot(                        \"47e7df2c-88a4-40db-86e5-45659feadbfd\",                        [{\"alignmentgroup\":\"True\",\"bingroup\":\"x\",\"hovertemplate\":\"Sentiment=%{x}\\u003cbr\\u003ecount=%{y}\\u003cextra\\u003e\\u003c\\u002fextra\\u003e\",\"legendgroup\":\"\",\"marker\":{\"color\":\"#636efa\",\"pattern\":{\"shape\":\"\"}},\"name\":\"\",\"offsetgroup\":\"\",\"orientation\":\"v\",\"showlegend\":false,\"x\":[0.6666666666666666,0.02083333333333333,0.6,0.625,-0.10142857142857142,0.6,0.2833333333333333,0.05,0.40666666666666673,-0.10833333333333334,0.346875,0.5800000000000001,0.4791666666666667,0.2,0.016666666666666653,0.0,-0.075,0.0,0.15,0.08333333333333333,-0.234375,0.0,0.1576923076923077,-0.8,0.0911111111111111,0.4,0.175,0.24545454545454545,0.11892857142857145,0.08979591836734693,0.26999999999999996,0.2885714285714286,-0.18125,0.0],\"xaxis\":\"x\",\"yaxis\":\"y\",\"type\":\"histogram\"}],                        {\"template\":{\"data\":{\"histogram2dcontour\":[{\"type\":\"histogram2dcontour\",\"colorbar\":{\"outlinewidth\":0,\"ticks\":\"\"},\"colorscale\":[[0.0,\"#0d0887\"],[0.1111111111111111,\"#46039f\"],[0.2222222222222222,\"#7201a8\"],[0.3333333333333333,\"#9c179e\"],[0.4444444444444444,\"#bd3786\"],[0.5555555555555556,\"#d8576b\"],[0.6666666666666666,\"#ed7953\"],[0.7777777777777778,\"#fb9f3a\"],[0.8888888888888888,\"#fdca26\"],[1.0,\"#f0f921\"]]}],\"choropleth\":[{\"type\":\"choropleth\",\"colorbar\":{\"outlinewidth\":0,\"ticks\":\"\"}}],\"histogram2d\":[{\"type\":\"histogram2d\",\"colorbar\":{\"outlinewidth\":0,\"ticks\":\"\"},\"colorscale\":[[0.0,\"#0d0887\"],[0.1111111111111111,\"#46039f\"],[0.2222222222222222,\"#7201a8\"],[0.3333333333333333,\"#9c179e\"],[0.4444444444444444,\"#bd3786\"],[0.5555555555555556,\"#d8576b\"],[0.6666666666666666,\"#ed7953\"],[0.7777777777777778,\"#fb9f3a\"],[0.8888888888888888,\"#fdca26\"],[1.0,\"#f0f921\"]]}],\"heatmap\":[{\"type\":\"heatmap\",\"colorbar\":{\"outlinewidth\":0,\"ticks\":\"\"},\"colorscale\":[[0.0,\"#0d0887\"],[0.1111111111111111,\"#46039f\"],[0.2222222222222222,\"#7201a8\"],[0.3333333333333333,\"#9c179e\"],[0.4444444444444444,\"#bd3786\"],[0.5555555555555556,\"#d8576b\"],[0.6666666666666666,\"#ed7953\"],[0.7777777777777778,\"#fb9f3a\"],[0.8888888888888888,\"#fdca26\"],[1.0,\"#f0f921\"]]}],\"heatmapgl\":[{\"type\":\"heatmapgl\",\"colorbar\":{\"outlinewidth\":0,\"ticks\":\"\"},\"colorscale\":[[0.0,\"#0d0887\"],[0.1111111111111111,\"#46039f\"],[0.2222222222222222,\"#7201a8\"],[0.3333333333333333,\"#9c179e\"],[0.4444444444444444,\"#bd3786\"],[0.5555555555555556,\"#d8576b\"],[0.6666666666666666,\"#ed7953\"],[0.7777777777777778,\"#fb9f3a\"],[0.8888888888888888,\"#fdca26\"],[1.0,\"#f0f921\"]]}],\"contourcarpet\":[{\"type\":\"contourcarpet\",\"colorbar\":{\"outlinewidth\":0,\"ticks\":\"\"}}],\"contour\":[{\"type\":\"contour\",\"colorbar\":{\"outlinewidth\":0,\"ticks\":\"\"},\"colorscale\":[[0.0,\"#0d0887\"],[0.1111111111111111,\"#46039f\"],[0.2222222222222222,\"#7201a8\"],[0.3333333333333333,\"#9c179e\"],[0.4444444444444444,\"#bd3786\"],[0.5555555555555556,\"#d8576b\"],[0.6666666666666666,\"#ed7953\"],[0.7777777777777778,\"#fb9f3a\"],[0.8888888888888888,\"#fdca26\"],[1.0,\"#f0f921\"]]}],\"surface\":[{\"type\":\"surface\",\"colorbar\":{\"outlinewidth\":0,\"ticks\":\"\"},\"colorscale\":[[0.0,\"#0d0887\"],[0.1111111111111111,\"#46039f\"],[0.2222222222222222,\"#7201a8\"],[0.3333333333333333,\"#9c179e\"],[0.4444444444444444,\"#bd3786\"],[0.5555555555555556,\"#d8576b\"],[0.6666666666666666,\"#ed7953\"],[0.7777777777777778,\"#fb9f3a\"],[0.8888888888888888,\"#fdca26\"],[1.0,\"#f0f921\"]]}],\"mesh3d\":[{\"type\":\"mesh3d\",\"colorbar\":{\"outlinewidth\":0,\"ticks\":\"\"}}],\"scatter\":[{\"fillpattern\":{\"fillmode\":\"overlay\",\"size\":10,\"solidity\":0.2},\"type\":\"scatter\"}],\"parcoords\":[{\"type\":\"parcoords\",\"line\":{\"colorbar\":{\"outlinewidth\":0,\"ticks\":\"\"}}}],\"scatterpolargl\":[{\"type\":\"scatterpolargl\",\"marker\":{\"colorbar\":{\"outlinewidth\":0,\"ticks\":\"\"}}}],\"bar\":[{\"error_x\":{\"color\":\"#2a3f5f\"},\"error_y\":{\"color\":\"#2a3f5f\"},\"marker\":{\"line\":{\"color\":\"#E5ECF6\",\"width\":0.5},\"pattern\":{\"fillmode\":\"overlay\",\"size\":10,\"solidity\":0.2}},\"type\":\"bar\"}],\"scattergeo\":[{\"type\":\"scattergeo\",\"marker\":{\"colorbar\":{\"outlinewidth\":0,\"ticks\":\"\"}}}],\"scatterpolar\":[{\"type\":\"scatterpolar\",\"marker\":{\"colorbar\":{\"outlinewidth\":0,\"ticks\":\"\"}}}],\"histogram\":[{\"marker\":{\"pattern\":{\"fillmode\":\"overlay\",\"size\":10,\"solidity\":0.2}},\"type\":\"histogram\"}],\"scattergl\":[{\"type\":\"scattergl\",\"marker\":{\"colorbar\":{\"outlinewidth\":0,\"ticks\":\"\"}}}],\"scatter3d\":[{\"type\":\"scatter3d\",\"line\":{\"colorbar\":{\"outlinewidth\":0,\"ticks\":\"\"}},\"marker\":{\"colorbar\":{\"outlinewidth\":0,\"ticks\":\"\"}}}],\"scattermapbox\":[{\"type\":\"scattermapbox\",\"marker\":{\"colorbar\":{\"outlinewidth\":0,\"ticks\":\"\"}}}],\"scatterternary\":[{\"type\":\"scatterternary\",\"marker\":{\"colorbar\":{\"outlinewidth\":0,\"ticks\":\"\"}}}],\"scattercarpet\":[{\"type\":\"scattercarpet\",\"marker\":{\"colorbar\":{\"outlinewidth\":0,\"ticks\":\"\"}}}],\"carpet\":[{\"aaxis\":{\"endlinecolor\":\"#2a3f5f\",\"gridcolor\":\"white\",\"linecolor\":\"white\",\"minorgridcolor\":\"white\",\"startlinecolor\":\"#2a3f5f\"},\"baxis\":{\"endlinecolor\":\"#2a3f5f\",\"gridcolor\":\"white\",\"linecolor\":\"white\",\"minorgridcolor\":\"white\",\"startlinecolor\":\"#2a3f5f\"},\"type\":\"carpet\"}],\"table\":[{\"cells\":{\"fill\":{\"color\":\"#EBF0F8\"},\"line\":{\"color\":\"white\"}},\"header\":{\"fill\":{\"color\":\"#C8D4E3\"},\"line\":{\"color\":\"white\"}},\"type\":\"table\"}],\"barpolar\":[{\"marker\":{\"line\":{\"color\":\"#E5ECF6\",\"width\":0.5},\"pattern\":{\"fillmode\":\"overlay\",\"size\":10,\"solidity\":0.2}},\"type\":\"barpolar\"}],\"pie\":[{\"automargin\":true,\"type\":\"pie\"}]},\"layout\":{\"autotypenumbers\":\"strict\",\"colorway\":[\"#636efa\",\"#EF553B\",\"#00cc96\",\"#ab63fa\",\"#FFA15A\",\"#19d3f3\",\"#FF6692\",\"#B6E880\",\"#FF97FF\",\"#FECB52\"],\"font\":{\"color\":\"#2a3f5f\"},\"hovermode\":\"closest\",\"hoverlabel\":{\"align\":\"left\"},\"paper_bgcolor\":\"white\",\"plot_bgcolor\":\"#E5ECF6\",\"polar\":{\"bgcolor\":\"#E5ECF6\",\"angularaxis\":{\"gridcolor\":\"white\",\"linecolor\":\"white\",\"ticks\":\"\"},\"radialaxis\":{\"gridcolor\":\"white\",\"linecolor\":\"white\",\"ticks\":\"\"}},\"ternary\":{\"bgcolor\":\"#E5ECF6\",\"aaxis\":{\"gridcolor\":\"white\",\"linecolor\":\"white\",\"ticks\":\"\"},\"baxis\":{\"gridcolor\":\"white\",\"linecolor\":\"white\",\"ticks\":\"\"},\"caxis\":{\"gridcolor\":\"white\",\"linecolor\":\"white\",\"ticks\":\"\"}},\"coloraxis\":{\"colorbar\":{\"outlinewidth\":0,\"ticks\":\"\"}},\"colorscale\":{\"sequential\":[[0.0,\"#0d0887\"],[0.1111111111111111,\"#46039f\"],[0.2222222222222222,\"#7201a8\"],[0.3333333333333333,\"#9c179e\"],[0.4444444444444444,\"#bd3786\"],[0.5555555555555556,\"#d8576b\"],[0.6666666666666666,\"#ed7953\"],[0.7777777777777778,\"#fb9f3a\"],[0.8888888888888888,\"#fdca26\"],[1.0,\"#f0f921\"]],\"sequentialminus\":[[0.0,\"#0d0887\"],[0.1111111111111111,\"#46039f\"],[0.2222222222222222,\"#7201a8\"],[0.3333333333333333,\"#9c179e\"],[0.4444444444444444,\"#bd3786\"],[0.5555555555555556,\"#d8576b\"],[0.6666666666666666,\"#ed7953\"],[0.7777777777777778,\"#fb9f3a\"],[0.8888888888888888,\"#fdca26\"],[1.0,\"#f0f921\"]],\"diverging\":[[0,\"#8e0152\"],[0.1,\"#c51b7d\"],[0.2,\"#de77ae\"],[0.3,\"#f1b6da\"],[0.4,\"#fde0ef\"],[0.5,\"#f7f7f7\"],[0.6,\"#e6f5d0\"],[0.7,\"#b8e186\"],[0.8,\"#7fbc41\"],[0.9,\"#4d9221\"],[1,\"#276419\"]]},\"xaxis\":{\"gridcolor\":\"white\",\"linecolor\":\"white\",\"ticks\":\"\",\"title\":{\"standoff\":15},\"zerolinecolor\":\"white\",\"automargin\":true,\"zerolinewidth\":2},\"yaxis\":{\"gridcolor\":\"white\",\"linecolor\":\"white\",\"ticks\":\"\",\"title\":{\"standoff\":15},\"zerolinecolor\":\"white\",\"automargin\":true,\"zerolinewidth\":2},\"scene\":{\"xaxis\":{\"backgroundcolor\":\"#E5ECF6\",\"gridcolor\":\"white\",\"linecolor\":\"white\",\"showbackground\":true,\"ticks\":\"\",\"zerolinecolor\":\"white\",\"gridwidth\":2},\"yaxis\":{\"backgroundcolor\":\"#E5ECF6\",\"gridcolor\":\"white\",\"linecolor\":\"white\",\"showbackground\":true,\"ticks\":\"\",\"zerolinecolor\":\"white\",\"gridwidth\":2},\"zaxis\":{\"backgroundcolor\":\"#E5ECF6\",\"gridcolor\":\"white\",\"linecolor\":\"white\",\"showbackground\":true,\"ticks\":\"\",\"zerolinecolor\":\"white\",\"gridwidth\":2}},\"shapedefaults\":{\"line\":{\"color\":\"#2a3f5f\"}},\"annotationdefaults\":{\"arrowcolor\":\"#2a3f5f\",\"arrowhead\":0,\"arrowwidth\":1},\"geo\":{\"bgcolor\":\"white\",\"landcolor\":\"#E5ECF6\",\"subunitcolor\":\"white\",\"showland\":true,\"showlakes\":true,\"lakecolor\":\"white\"},\"title\":{\"x\":0.05},\"mapbox\":{\"style\":\"light\"}}},\"xaxis\":{\"anchor\":\"y\",\"domain\":[0.0,1.0],\"title\":{\"text\":\"Sentiment\"}},\"yaxis\":{\"anchor\":\"x\",\"domain\":[0.0,1.0],\"title\":{\"text\":\"count\"}},\"legend\":{\"tracegroupgap\":0},\"title\":{\"text\":\"Sentiment Ditribution\"},\"barmode\":\"relative\"},                        {\"responsive\": true}                    ).then(function(){\n",
       "                            \n",
       "var gd = document.getElementById('47e7df2c-88a4-40db-86e5-45659feadbfd');\n",
       "var x = new MutationObserver(function (mutations, observer) {{\n",
       "        var display = window.getComputedStyle(gd).display;\n",
       "        if (!display || display === 'none') {{\n",
       "            console.log([gd, 'removed!']);\n",
       "            Plotly.purge(gd);\n",
       "            observer.disconnect();\n",
       "        }}\n",
       "}});\n",
       "\n",
       "// Listen for the removal of the full notebook cells\n",
       "var notebookContainer = gd.closest('#notebook-container');\n",
       "if (notebookContainer) {{\n",
       "    x.observe(notebookContainer, {childList: true});\n",
       "}}\n",
       "\n",
       "// Listen for the clearing of the current output cell\n",
       "var outputEl = gd.closest('.output');\n",
       "if (outputEl) {{\n",
       "    x.observe(outputEl, {childList: true});\n",
       "}}\n",
       "\n",
       "                        })                };                });            </script>        </div>"
      ]
     },
     "metadata": {},
     "output_type": "display_data"
    }
   ],
   "source": [
    "#sentiment Distribution\n",
    "fig = px.histogram(data, x='Sentiment', title=\"Sentiment Ditribution\")\n",
    "fig.show()"
   ]
  },
  {
   "cell_type": "markdown",
   "id": "613705f3",
   "metadata": {},
   "source": [
    "In the above code, sentiment analysis is performed on the articles in the dataset to assess the overall sentiment or emotional tone of the articles. The TextBlob library is used here to analyze the sentiment polarity, which quantifies whether the text expresses positive, negative, or neutral sentiment.\n",
    "\n",
    "The sentiment.polarity method of TextBlob calculates a sentiment polarity score for each article, where positive values indicate positive sentiment, negative values indicate negative sentiment and values close to zero suggest a more neutral tone. After calculating the sentiment polarities, a histogram is created to visualize the distribution of sentiment scores across the articles.\n",
    "\n",
    "Now, let’s perform Named Entity Recognition:"
   ]
  },
  {
   "cell_type": "code",
   "execution_count": 27,
   "id": "ca55df36",
   "metadata": {},
   "outputs": [],
   "source": [
    "# NER\n",
    "def extract_named_entities(text):\n",
    "    doc = nlp(text)\n",
    "    entities = defaultdict(list)\n",
    "    for ent in doc.ents:\n",
    "        entities[ent.label_].append(ent.text)\n",
    "    return dict(entities)"
   ]
  },
  {
   "cell_type": "code",
   "execution_count": 28,
   "id": "be03f162",
   "metadata": {},
   "outputs": [],
   "source": [
    "#extract named entities\n",
    "data['Named_Entities'] = data['Article'].apply(extract_named_entities)"
   ]
  },
  {
   "cell_type": "code",
   "execution_count": 29,
   "id": "3f13cbfd",
   "metadata": {},
   "outputs": [],
   "source": [
    "#Vsualize NER\n",
    "entity_counts = Counter(entity for entities in data['Named_Entities'] for entity in entities)"
   ]
  },
  {
   "cell_type": "code",
   "execution_count": 31,
   "id": "26a4ccbd",
   "metadata": {},
   "outputs": [],
   "source": [
    "entity_df = pd.DataFrame.from_dict(entity_counts, orient='index').reset_index()\n",
    "entity_df.columns = ['Entity', 'Count']"
   ]
  },
  {
   "cell_type": "code",
   "execution_count": 34,
   "id": "10372f90",
   "metadata": {},
   "outputs": [
    {
     "data": {
      "application/vnd.plotly.v1+json": {
       "config": {
        "plotlyServerURL": "https://plot.ly"
       },
       "data": [
        {
         "alignmentgroup": "True",
         "hovertemplate": "Entity=%{x}<br>Count=%{y}<extra></extra>",
         "legendgroup": "",
         "marker": {
          "color": "#636efa",
          "pattern": {
           "shape": ""
          }
         },
         "name": "",
         "offsetgroup": "",
         "orientation": "v",
         "showlegend": false,
         "textposition": "auto",
         "type": "bar",
         "x": [
          "DATE",
          "CARDINAL",
          "ORG",
          "ORDINAL",
          "LOC",
          "PRODUCT",
          "PERSON",
          "GPE",
          "FAC"
         ],
         "xaxis": "x",
         "y": [
          8,
          9,
          20,
          1,
          1,
          1,
          3,
          4,
          1
         ],
         "yaxis": "y"
        }
       ],
       "layout": {
        "barmode": "relative",
        "legend": {
         "tracegroupgap": 0
        },
        "template": {
         "data": {
          "bar": [
           {
            "error_x": {
             "color": "#2a3f5f"
            },
            "error_y": {
             "color": "#2a3f5f"
            },
            "marker": {
             "line": {
              "color": "#E5ECF6",
              "width": 0.5
             },
             "pattern": {
              "fillmode": "overlay",
              "size": 10,
              "solidity": 0.2
             }
            },
            "type": "bar"
           }
          ],
          "barpolar": [
           {
            "marker": {
             "line": {
              "color": "#E5ECF6",
              "width": 0.5
             },
             "pattern": {
              "fillmode": "overlay",
              "size": 10,
              "solidity": 0.2
             }
            },
            "type": "barpolar"
           }
          ],
          "carpet": [
           {
            "aaxis": {
             "endlinecolor": "#2a3f5f",
             "gridcolor": "white",
             "linecolor": "white",
             "minorgridcolor": "white",
             "startlinecolor": "#2a3f5f"
            },
            "baxis": {
             "endlinecolor": "#2a3f5f",
             "gridcolor": "white",
             "linecolor": "white",
             "minorgridcolor": "white",
             "startlinecolor": "#2a3f5f"
            },
            "type": "carpet"
           }
          ],
          "choropleth": [
           {
            "colorbar": {
             "outlinewidth": 0,
             "ticks": ""
            },
            "type": "choropleth"
           }
          ],
          "contour": [
           {
            "colorbar": {
             "outlinewidth": 0,
             "ticks": ""
            },
            "colorscale": [
             [
              0,
              "#0d0887"
             ],
             [
              0.1111111111111111,
              "#46039f"
             ],
             [
              0.2222222222222222,
              "#7201a8"
             ],
             [
              0.3333333333333333,
              "#9c179e"
             ],
             [
              0.4444444444444444,
              "#bd3786"
             ],
             [
              0.5555555555555556,
              "#d8576b"
             ],
             [
              0.6666666666666666,
              "#ed7953"
             ],
             [
              0.7777777777777778,
              "#fb9f3a"
             ],
             [
              0.8888888888888888,
              "#fdca26"
             ],
             [
              1,
              "#f0f921"
             ]
            ],
            "type": "contour"
           }
          ],
          "contourcarpet": [
           {
            "colorbar": {
             "outlinewidth": 0,
             "ticks": ""
            },
            "type": "contourcarpet"
           }
          ],
          "heatmap": [
           {
            "colorbar": {
             "outlinewidth": 0,
             "ticks": ""
            },
            "colorscale": [
             [
              0,
              "#0d0887"
             ],
             [
              0.1111111111111111,
              "#46039f"
             ],
             [
              0.2222222222222222,
              "#7201a8"
             ],
             [
              0.3333333333333333,
              "#9c179e"
             ],
             [
              0.4444444444444444,
              "#bd3786"
             ],
             [
              0.5555555555555556,
              "#d8576b"
             ],
             [
              0.6666666666666666,
              "#ed7953"
             ],
             [
              0.7777777777777778,
              "#fb9f3a"
             ],
             [
              0.8888888888888888,
              "#fdca26"
             ],
             [
              1,
              "#f0f921"
             ]
            ],
            "type": "heatmap"
           }
          ],
          "heatmapgl": [
           {
            "colorbar": {
             "outlinewidth": 0,
             "ticks": ""
            },
            "colorscale": [
             [
              0,
              "#0d0887"
             ],
             [
              0.1111111111111111,
              "#46039f"
             ],
             [
              0.2222222222222222,
              "#7201a8"
             ],
             [
              0.3333333333333333,
              "#9c179e"
             ],
             [
              0.4444444444444444,
              "#bd3786"
             ],
             [
              0.5555555555555556,
              "#d8576b"
             ],
             [
              0.6666666666666666,
              "#ed7953"
             ],
             [
              0.7777777777777778,
              "#fb9f3a"
             ],
             [
              0.8888888888888888,
              "#fdca26"
             ],
             [
              1,
              "#f0f921"
             ]
            ],
            "type": "heatmapgl"
           }
          ],
          "histogram": [
           {
            "marker": {
             "pattern": {
              "fillmode": "overlay",
              "size": 10,
              "solidity": 0.2
             }
            },
            "type": "histogram"
           }
          ],
          "histogram2d": [
           {
            "colorbar": {
             "outlinewidth": 0,
             "ticks": ""
            },
            "colorscale": [
             [
              0,
              "#0d0887"
             ],
             [
              0.1111111111111111,
              "#46039f"
             ],
             [
              0.2222222222222222,
              "#7201a8"
             ],
             [
              0.3333333333333333,
              "#9c179e"
             ],
             [
              0.4444444444444444,
              "#bd3786"
             ],
             [
              0.5555555555555556,
              "#d8576b"
             ],
             [
              0.6666666666666666,
              "#ed7953"
             ],
             [
              0.7777777777777778,
              "#fb9f3a"
             ],
             [
              0.8888888888888888,
              "#fdca26"
             ],
             [
              1,
              "#f0f921"
             ]
            ],
            "type": "histogram2d"
           }
          ],
          "histogram2dcontour": [
           {
            "colorbar": {
             "outlinewidth": 0,
             "ticks": ""
            },
            "colorscale": [
             [
              0,
              "#0d0887"
             ],
             [
              0.1111111111111111,
              "#46039f"
             ],
             [
              0.2222222222222222,
              "#7201a8"
             ],
             [
              0.3333333333333333,
              "#9c179e"
             ],
             [
              0.4444444444444444,
              "#bd3786"
             ],
             [
              0.5555555555555556,
              "#d8576b"
             ],
             [
              0.6666666666666666,
              "#ed7953"
             ],
             [
              0.7777777777777778,
              "#fb9f3a"
             ],
             [
              0.8888888888888888,
              "#fdca26"
             ],
             [
              1,
              "#f0f921"
             ]
            ],
            "type": "histogram2dcontour"
           }
          ],
          "mesh3d": [
           {
            "colorbar": {
             "outlinewidth": 0,
             "ticks": ""
            },
            "type": "mesh3d"
           }
          ],
          "parcoords": [
           {
            "line": {
             "colorbar": {
              "outlinewidth": 0,
              "ticks": ""
             }
            },
            "type": "parcoords"
           }
          ],
          "pie": [
           {
            "automargin": true,
            "type": "pie"
           }
          ],
          "scatter": [
           {
            "fillpattern": {
             "fillmode": "overlay",
             "size": 10,
             "solidity": 0.2
            },
            "type": "scatter"
           }
          ],
          "scatter3d": [
           {
            "line": {
             "colorbar": {
              "outlinewidth": 0,
              "ticks": ""
             }
            },
            "marker": {
             "colorbar": {
              "outlinewidth": 0,
              "ticks": ""
             }
            },
            "type": "scatter3d"
           }
          ],
          "scattercarpet": [
           {
            "marker": {
             "colorbar": {
              "outlinewidth": 0,
              "ticks": ""
             }
            },
            "type": "scattercarpet"
           }
          ],
          "scattergeo": [
           {
            "marker": {
             "colorbar": {
              "outlinewidth": 0,
              "ticks": ""
             }
            },
            "type": "scattergeo"
           }
          ],
          "scattergl": [
           {
            "marker": {
             "colorbar": {
              "outlinewidth": 0,
              "ticks": ""
             }
            },
            "type": "scattergl"
           }
          ],
          "scattermapbox": [
           {
            "marker": {
             "colorbar": {
              "outlinewidth": 0,
              "ticks": ""
             }
            },
            "type": "scattermapbox"
           }
          ],
          "scatterpolar": [
           {
            "marker": {
             "colorbar": {
              "outlinewidth": 0,
              "ticks": ""
             }
            },
            "type": "scatterpolar"
           }
          ],
          "scatterpolargl": [
           {
            "marker": {
             "colorbar": {
              "outlinewidth": 0,
              "ticks": ""
             }
            },
            "type": "scatterpolargl"
           }
          ],
          "scatterternary": [
           {
            "marker": {
             "colorbar": {
              "outlinewidth": 0,
              "ticks": ""
             }
            },
            "type": "scatterternary"
           }
          ],
          "surface": [
           {
            "colorbar": {
             "outlinewidth": 0,
             "ticks": ""
            },
            "colorscale": [
             [
              0,
              "#0d0887"
             ],
             [
              0.1111111111111111,
              "#46039f"
             ],
             [
              0.2222222222222222,
              "#7201a8"
             ],
             [
              0.3333333333333333,
              "#9c179e"
             ],
             [
              0.4444444444444444,
              "#bd3786"
             ],
             [
              0.5555555555555556,
              "#d8576b"
             ],
             [
              0.6666666666666666,
              "#ed7953"
             ],
             [
              0.7777777777777778,
              "#fb9f3a"
             ],
             [
              0.8888888888888888,
              "#fdca26"
             ],
             [
              1,
              "#f0f921"
             ]
            ],
            "type": "surface"
           }
          ],
          "table": [
           {
            "cells": {
             "fill": {
              "color": "#EBF0F8"
             },
             "line": {
              "color": "white"
             }
            },
            "header": {
             "fill": {
              "color": "#C8D4E3"
             },
             "line": {
              "color": "white"
             }
            },
            "type": "table"
           }
          ]
         },
         "layout": {
          "annotationdefaults": {
           "arrowcolor": "#2a3f5f",
           "arrowhead": 0,
           "arrowwidth": 1
          },
          "autotypenumbers": "strict",
          "coloraxis": {
           "colorbar": {
            "outlinewidth": 0,
            "ticks": ""
           }
          },
          "colorscale": {
           "diverging": [
            [
             0,
             "#8e0152"
            ],
            [
             0.1,
             "#c51b7d"
            ],
            [
             0.2,
             "#de77ae"
            ],
            [
             0.3,
             "#f1b6da"
            ],
            [
             0.4,
             "#fde0ef"
            ],
            [
             0.5,
             "#f7f7f7"
            ],
            [
             0.6,
             "#e6f5d0"
            ],
            [
             0.7,
             "#b8e186"
            ],
            [
             0.8,
             "#7fbc41"
            ],
            [
             0.9,
             "#4d9221"
            ],
            [
             1,
             "#276419"
            ]
           ],
           "sequential": [
            [
             0,
             "#0d0887"
            ],
            [
             0.1111111111111111,
             "#46039f"
            ],
            [
             0.2222222222222222,
             "#7201a8"
            ],
            [
             0.3333333333333333,
             "#9c179e"
            ],
            [
             0.4444444444444444,
             "#bd3786"
            ],
            [
             0.5555555555555556,
             "#d8576b"
            ],
            [
             0.6666666666666666,
             "#ed7953"
            ],
            [
             0.7777777777777778,
             "#fb9f3a"
            ],
            [
             0.8888888888888888,
             "#fdca26"
            ],
            [
             1,
             "#f0f921"
            ]
           ],
           "sequentialminus": [
            [
             0,
             "#0d0887"
            ],
            [
             0.1111111111111111,
             "#46039f"
            ],
            [
             0.2222222222222222,
             "#7201a8"
            ],
            [
             0.3333333333333333,
             "#9c179e"
            ],
            [
             0.4444444444444444,
             "#bd3786"
            ],
            [
             0.5555555555555556,
             "#d8576b"
            ],
            [
             0.6666666666666666,
             "#ed7953"
            ],
            [
             0.7777777777777778,
             "#fb9f3a"
            ],
            [
             0.8888888888888888,
             "#fdca26"
            ],
            [
             1,
             "#f0f921"
            ]
           ]
          },
          "colorway": [
           "#636efa",
           "#EF553B",
           "#00cc96",
           "#ab63fa",
           "#FFA15A",
           "#19d3f3",
           "#FF6692",
           "#B6E880",
           "#FF97FF",
           "#FECB52"
          ],
          "font": {
           "color": "#2a3f5f"
          },
          "geo": {
           "bgcolor": "white",
           "lakecolor": "white",
           "landcolor": "#E5ECF6",
           "showlakes": true,
           "showland": true,
           "subunitcolor": "white"
          },
          "hoverlabel": {
           "align": "left"
          },
          "hovermode": "closest",
          "mapbox": {
           "style": "light"
          },
          "paper_bgcolor": "white",
          "plot_bgcolor": "#E5ECF6",
          "polar": {
           "angularaxis": {
            "gridcolor": "white",
            "linecolor": "white",
            "ticks": ""
           },
           "bgcolor": "#E5ECF6",
           "radialaxis": {
            "gridcolor": "white",
            "linecolor": "white",
            "ticks": ""
           }
          },
          "scene": {
           "xaxis": {
            "backgroundcolor": "#E5ECF6",
            "gridcolor": "white",
            "gridwidth": 2,
            "linecolor": "white",
            "showbackground": true,
            "ticks": "",
            "zerolinecolor": "white"
           },
           "yaxis": {
            "backgroundcolor": "#E5ECF6",
            "gridcolor": "white",
            "gridwidth": 2,
            "linecolor": "white",
            "showbackground": true,
            "ticks": "",
            "zerolinecolor": "white"
           },
           "zaxis": {
            "backgroundcolor": "#E5ECF6",
            "gridcolor": "white",
            "gridwidth": 2,
            "linecolor": "white",
            "showbackground": true,
            "ticks": "",
            "zerolinecolor": "white"
           }
          },
          "shapedefaults": {
           "line": {
            "color": "#2a3f5f"
           }
          },
          "ternary": {
           "aaxis": {
            "gridcolor": "white",
            "linecolor": "white",
            "ticks": ""
           },
           "baxis": {
            "gridcolor": "white",
            "linecolor": "white",
            "ticks": ""
           },
           "bgcolor": "#E5ECF6",
           "caxis": {
            "gridcolor": "white",
            "linecolor": "white",
            "ticks": ""
           }
          },
          "title": {
           "x": 0.05
          },
          "xaxis": {
           "automargin": true,
           "gridcolor": "white",
           "linecolor": "white",
           "ticks": "",
           "title": {
            "standoff": 15
           },
           "zerolinecolor": "white",
           "zerolinewidth": 2
          },
          "yaxis": {
           "automargin": true,
           "gridcolor": "white",
           "linecolor": "white",
           "ticks": "",
           "title": {
            "standoff": 15
           },
           "zerolinecolor": "white",
           "zerolinewidth": 2
          }
         }
        },
        "title": {
         "text": "Top 10 Named Entities"
        },
        "xaxis": {
         "anchor": "y",
         "domain": [
          0,
          1
         ],
         "title": {
          "text": "Entity"
         }
        },
        "yaxis": {
         "anchor": "x",
         "domain": [
          0,
          1
         ],
         "title": {
          "text": "Count"
         }
        }
       }
      },
      "text/html": [
       "<div>                            <div id=\"c9873273-b7e4-46ff-a806-fa0bbed81866\" class=\"plotly-graph-div\" style=\"height:525px; width:100%;\"></div>            <script type=\"text/javascript\">                require([\"plotly\"], function(Plotly) {                    window.PLOTLYENV=window.PLOTLYENV || {};                                    if (document.getElementById(\"c9873273-b7e4-46ff-a806-fa0bbed81866\")) {                    Plotly.newPlot(                        \"c9873273-b7e4-46ff-a806-fa0bbed81866\",                        [{\"alignmentgroup\":\"True\",\"hovertemplate\":\"Entity=%{x}\\u003cbr\\u003eCount=%{y}\\u003cextra\\u003e\\u003c\\u002fextra\\u003e\",\"legendgroup\":\"\",\"marker\":{\"color\":\"#636efa\",\"pattern\":{\"shape\":\"\"}},\"name\":\"\",\"offsetgroup\":\"\",\"orientation\":\"v\",\"showlegend\":false,\"textposition\":\"auto\",\"x\":[\"DATE\",\"CARDINAL\",\"ORG\",\"ORDINAL\",\"LOC\",\"PRODUCT\",\"PERSON\",\"GPE\",\"FAC\"],\"xaxis\":\"x\",\"y\":[8,9,20,1,1,1,3,4,1],\"yaxis\":\"y\",\"type\":\"bar\"}],                        {\"template\":{\"data\":{\"histogram2dcontour\":[{\"type\":\"histogram2dcontour\",\"colorbar\":{\"outlinewidth\":0,\"ticks\":\"\"},\"colorscale\":[[0.0,\"#0d0887\"],[0.1111111111111111,\"#46039f\"],[0.2222222222222222,\"#7201a8\"],[0.3333333333333333,\"#9c179e\"],[0.4444444444444444,\"#bd3786\"],[0.5555555555555556,\"#d8576b\"],[0.6666666666666666,\"#ed7953\"],[0.7777777777777778,\"#fb9f3a\"],[0.8888888888888888,\"#fdca26\"],[1.0,\"#f0f921\"]]}],\"choropleth\":[{\"type\":\"choropleth\",\"colorbar\":{\"outlinewidth\":0,\"ticks\":\"\"}}],\"histogram2d\":[{\"type\":\"histogram2d\",\"colorbar\":{\"outlinewidth\":0,\"ticks\":\"\"},\"colorscale\":[[0.0,\"#0d0887\"],[0.1111111111111111,\"#46039f\"],[0.2222222222222222,\"#7201a8\"],[0.3333333333333333,\"#9c179e\"],[0.4444444444444444,\"#bd3786\"],[0.5555555555555556,\"#d8576b\"],[0.6666666666666666,\"#ed7953\"],[0.7777777777777778,\"#fb9f3a\"],[0.8888888888888888,\"#fdca26\"],[1.0,\"#f0f921\"]]}],\"heatmap\":[{\"type\":\"heatmap\",\"colorbar\":{\"outlinewidth\":0,\"ticks\":\"\"},\"colorscale\":[[0.0,\"#0d0887\"],[0.1111111111111111,\"#46039f\"],[0.2222222222222222,\"#7201a8\"],[0.3333333333333333,\"#9c179e\"],[0.4444444444444444,\"#bd3786\"],[0.5555555555555556,\"#d8576b\"],[0.6666666666666666,\"#ed7953\"],[0.7777777777777778,\"#fb9f3a\"],[0.8888888888888888,\"#fdca26\"],[1.0,\"#f0f921\"]]}],\"heatmapgl\":[{\"type\":\"heatmapgl\",\"colorbar\":{\"outlinewidth\":0,\"ticks\":\"\"},\"colorscale\":[[0.0,\"#0d0887\"],[0.1111111111111111,\"#46039f\"],[0.2222222222222222,\"#7201a8\"],[0.3333333333333333,\"#9c179e\"],[0.4444444444444444,\"#bd3786\"],[0.5555555555555556,\"#d8576b\"],[0.6666666666666666,\"#ed7953\"],[0.7777777777777778,\"#fb9f3a\"],[0.8888888888888888,\"#fdca26\"],[1.0,\"#f0f921\"]]}],\"contourcarpet\":[{\"type\":\"contourcarpet\",\"colorbar\":{\"outlinewidth\":0,\"ticks\":\"\"}}],\"contour\":[{\"type\":\"contour\",\"colorbar\":{\"outlinewidth\":0,\"ticks\":\"\"},\"colorscale\":[[0.0,\"#0d0887\"],[0.1111111111111111,\"#46039f\"],[0.2222222222222222,\"#7201a8\"],[0.3333333333333333,\"#9c179e\"],[0.4444444444444444,\"#bd3786\"],[0.5555555555555556,\"#d8576b\"],[0.6666666666666666,\"#ed7953\"],[0.7777777777777778,\"#fb9f3a\"],[0.8888888888888888,\"#fdca26\"],[1.0,\"#f0f921\"]]}],\"surface\":[{\"type\":\"surface\",\"colorbar\":{\"outlinewidth\":0,\"ticks\":\"\"},\"colorscale\":[[0.0,\"#0d0887\"],[0.1111111111111111,\"#46039f\"],[0.2222222222222222,\"#7201a8\"],[0.3333333333333333,\"#9c179e\"],[0.4444444444444444,\"#bd3786\"],[0.5555555555555556,\"#d8576b\"],[0.6666666666666666,\"#ed7953\"],[0.7777777777777778,\"#fb9f3a\"],[0.8888888888888888,\"#fdca26\"],[1.0,\"#f0f921\"]]}],\"mesh3d\":[{\"type\":\"mesh3d\",\"colorbar\":{\"outlinewidth\":0,\"ticks\":\"\"}}],\"scatter\":[{\"fillpattern\":{\"fillmode\":\"overlay\",\"size\":10,\"solidity\":0.2},\"type\":\"scatter\"}],\"parcoords\":[{\"type\":\"parcoords\",\"line\":{\"colorbar\":{\"outlinewidth\":0,\"ticks\":\"\"}}}],\"scatterpolargl\":[{\"type\":\"scatterpolargl\",\"marker\":{\"colorbar\":{\"outlinewidth\":0,\"ticks\":\"\"}}}],\"bar\":[{\"error_x\":{\"color\":\"#2a3f5f\"},\"error_y\":{\"color\":\"#2a3f5f\"},\"marker\":{\"line\":{\"color\":\"#E5ECF6\",\"width\":0.5},\"pattern\":{\"fillmode\":\"overlay\",\"size\":10,\"solidity\":0.2}},\"type\":\"bar\"}],\"scattergeo\":[{\"type\":\"scattergeo\",\"marker\":{\"colorbar\":{\"outlinewidth\":0,\"ticks\":\"\"}}}],\"scatterpolar\":[{\"type\":\"scatterpolar\",\"marker\":{\"colorbar\":{\"outlinewidth\":0,\"ticks\":\"\"}}}],\"histogram\":[{\"marker\":{\"pattern\":{\"fillmode\":\"overlay\",\"size\":10,\"solidity\":0.2}},\"type\":\"histogram\"}],\"scattergl\":[{\"type\":\"scattergl\",\"marker\":{\"colorbar\":{\"outlinewidth\":0,\"ticks\":\"\"}}}],\"scatter3d\":[{\"type\":\"scatter3d\",\"line\":{\"colorbar\":{\"outlinewidth\":0,\"ticks\":\"\"}},\"marker\":{\"colorbar\":{\"outlinewidth\":0,\"ticks\":\"\"}}}],\"scattermapbox\":[{\"type\":\"scattermapbox\",\"marker\":{\"colorbar\":{\"outlinewidth\":0,\"ticks\":\"\"}}}],\"scatterternary\":[{\"type\":\"scatterternary\",\"marker\":{\"colorbar\":{\"outlinewidth\":0,\"ticks\":\"\"}}}],\"scattercarpet\":[{\"type\":\"scattercarpet\",\"marker\":{\"colorbar\":{\"outlinewidth\":0,\"ticks\":\"\"}}}],\"carpet\":[{\"aaxis\":{\"endlinecolor\":\"#2a3f5f\",\"gridcolor\":\"white\",\"linecolor\":\"white\",\"minorgridcolor\":\"white\",\"startlinecolor\":\"#2a3f5f\"},\"baxis\":{\"endlinecolor\":\"#2a3f5f\",\"gridcolor\":\"white\",\"linecolor\":\"white\",\"minorgridcolor\":\"white\",\"startlinecolor\":\"#2a3f5f\"},\"type\":\"carpet\"}],\"table\":[{\"cells\":{\"fill\":{\"color\":\"#EBF0F8\"},\"line\":{\"color\":\"white\"}},\"header\":{\"fill\":{\"color\":\"#C8D4E3\"},\"line\":{\"color\":\"white\"}},\"type\":\"table\"}],\"barpolar\":[{\"marker\":{\"line\":{\"color\":\"#E5ECF6\",\"width\":0.5},\"pattern\":{\"fillmode\":\"overlay\",\"size\":10,\"solidity\":0.2}},\"type\":\"barpolar\"}],\"pie\":[{\"automargin\":true,\"type\":\"pie\"}]},\"layout\":{\"autotypenumbers\":\"strict\",\"colorway\":[\"#636efa\",\"#EF553B\",\"#00cc96\",\"#ab63fa\",\"#FFA15A\",\"#19d3f3\",\"#FF6692\",\"#B6E880\",\"#FF97FF\",\"#FECB52\"],\"font\":{\"color\":\"#2a3f5f\"},\"hovermode\":\"closest\",\"hoverlabel\":{\"align\":\"left\"},\"paper_bgcolor\":\"white\",\"plot_bgcolor\":\"#E5ECF6\",\"polar\":{\"bgcolor\":\"#E5ECF6\",\"angularaxis\":{\"gridcolor\":\"white\",\"linecolor\":\"white\",\"ticks\":\"\"},\"radialaxis\":{\"gridcolor\":\"white\",\"linecolor\":\"white\",\"ticks\":\"\"}},\"ternary\":{\"bgcolor\":\"#E5ECF6\",\"aaxis\":{\"gridcolor\":\"white\",\"linecolor\":\"white\",\"ticks\":\"\"},\"baxis\":{\"gridcolor\":\"white\",\"linecolor\":\"white\",\"ticks\":\"\"},\"caxis\":{\"gridcolor\":\"white\",\"linecolor\":\"white\",\"ticks\":\"\"}},\"coloraxis\":{\"colorbar\":{\"outlinewidth\":0,\"ticks\":\"\"}},\"colorscale\":{\"sequential\":[[0.0,\"#0d0887\"],[0.1111111111111111,\"#46039f\"],[0.2222222222222222,\"#7201a8\"],[0.3333333333333333,\"#9c179e\"],[0.4444444444444444,\"#bd3786\"],[0.5555555555555556,\"#d8576b\"],[0.6666666666666666,\"#ed7953\"],[0.7777777777777778,\"#fb9f3a\"],[0.8888888888888888,\"#fdca26\"],[1.0,\"#f0f921\"]],\"sequentialminus\":[[0.0,\"#0d0887\"],[0.1111111111111111,\"#46039f\"],[0.2222222222222222,\"#7201a8\"],[0.3333333333333333,\"#9c179e\"],[0.4444444444444444,\"#bd3786\"],[0.5555555555555556,\"#d8576b\"],[0.6666666666666666,\"#ed7953\"],[0.7777777777777778,\"#fb9f3a\"],[0.8888888888888888,\"#fdca26\"],[1.0,\"#f0f921\"]],\"diverging\":[[0,\"#8e0152\"],[0.1,\"#c51b7d\"],[0.2,\"#de77ae\"],[0.3,\"#f1b6da\"],[0.4,\"#fde0ef\"],[0.5,\"#f7f7f7\"],[0.6,\"#e6f5d0\"],[0.7,\"#b8e186\"],[0.8,\"#7fbc41\"],[0.9,\"#4d9221\"],[1,\"#276419\"]]},\"xaxis\":{\"gridcolor\":\"white\",\"linecolor\":\"white\",\"ticks\":\"\",\"title\":{\"standoff\":15},\"zerolinecolor\":\"white\",\"automargin\":true,\"zerolinewidth\":2},\"yaxis\":{\"gridcolor\":\"white\",\"linecolor\":\"white\",\"ticks\":\"\",\"title\":{\"standoff\":15},\"zerolinecolor\":\"white\",\"automargin\":true,\"zerolinewidth\":2},\"scene\":{\"xaxis\":{\"backgroundcolor\":\"#E5ECF6\",\"gridcolor\":\"white\",\"linecolor\":\"white\",\"showbackground\":true,\"ticks\":\"\",\"zerolinecolor\":\"white\",\"gridwidth\":2},\"yaxis\":{\"backgroundcolor\":\"#E5ECF6\",\"gridcolor\":\"white\",\"linecolor\":\"white\",\"showbackground\":true,\"ticks\":\"\",\"zerolinecolor\":\"white\",\"gridwidth\":2},\"zaxis\":{\"backgroundcolor\":\"#E5ECF6\",\"gridcolor\":\"white\",\"linecolor\":\"white\",\"showbackground\":true,\"ticks\":\"\",\"zerolinecolor\":\"white\",\"gridwidth\":2}},\"shapedefaults\":{\"line\":{\"color\":\"#2a3f5f\"}},\"annotationdefaults\":{\"arrowcolor\":\"#2a3f5f\",\"arrowhead\":0,\"arrowwidth\":1},\"geo\":{\"bgcolor\":\"white\",\"landcolor\":\"#E5ECF6\",\"subunitcolor\":\"white\",\"showland\":true,\"showlakes\":true,\"lakecolor\":\"white\"},\"title\":{\"x\":0.05},\"mapbox\":{\"style\":\"light\"}}},\"xaxis\":{\"anchor\":\"y\",\"domain\":[0.0,1.0],\"title\":{\"text\":\"Entity\"}},\"yaxis\":{\"anchor\":\"x\",\"domain\":[0.0,1.0],\"title\":{\"text\":\"Count\"}},\"legend\":{\"tracegroupgap\":0},\"title\":{\"text\":\"Top 10 Named Entities\"},\"barmode\":\"relative\"},                        {\"responsive\": true}                    ).then(function(){\n",
       "                            \n",
       "var gd = document.getElementById('c9873273-b7e4-46ff-a806-fa0bbed81866');\n",
       "var x = new MutationObserver(function (mutations, observer) {{\n",
       "        var display = window.getComputedStyle(gd).display;\n",
       "        if (!display || display === 'none') {{\n",
       "            console.log([gd, 'removed!']);\n",
       "            Plotly.purge(gd);\n",
       "            observer.disconnect();\n",
       "        }}\n",
       "}});\n",
       "\n",
       "// Listen for the removal of the full notebook cells\n",
       "var notebookContainer = gd.closest('#notebook-container');\n",
       "if (notebookContainer) {{\n",
       "    x.observe(notebookContainer, {childList: true});\n",
       "}}\n",
       "\n",
       "// Listen for the clearing of the current output cell\n",
       "var outputEl = gd.closest('.output');\n",
       "if (outputEl) {{\n",
       "    x.observe(outputEl, {childList: true});\n",
       "}}\n",
       "\n",
       "                        })                };                });            </script>        </div>"
      ]
     },
     "metadata": {},
     "output_type": "display_data"
    }
   ],
   "source": [
    "fig = px.bar(entity_df.head(10), x='Entity', y='Count', title='Top 10 Named Entities')\n",
    "fig.show()"
   ]
  },
  {
   "cell_type": "code",
   "execution_count": 35,
   "id": "0a4670f6",
   "metadata": {},
   "outputs": [
    {
     "data": {
      "text/plain": [
       "Counter({'DATE': 8,\n",
       "         'CARDINAL': 9,\n",
       "         'ORG': 20,\n",
       "         'ORDINAL': 1,\n",
       "         'LOC': 1,\n",
       "         'PRODUCT': 1,\n",
       "         'PERSON': 3,\n",
       "         'GPE': 4,\n",
       "         'FAC': 1})"
      ]
     },
     "execution_count": 35,
     "metadata": {},
     "output_type": "execute_result"
    }
   ],
   "source": [
    "entity_counts"
   ]
  },
  {
   "cell_type": "code",
   "execution_count": 36,
   "id": "ce94b1cb",
   "metadata": {},
   "outputs": [
    {
     "data": {
      "text/html": [
       "<div>\n",
       "<style scoped>\n",
       "    .dataframe tbody tr th:only-of-type {\n",
       "        vertical-align: middle;\n",
       "    }\n",
       "\n",
       "    .dataframe tbody tr th {\n",
       "        vertical-align: top;\n",
       "    }\n",
       "\n",
       "    .dataframe thead th {\n",
       "        text-align: right;\n",
       "    }\n",
       "</style>\n",
       "<table border=\"1\" class=\"dataframe\">\n",
       "  <thead>\n",
       "    <tr style=\"text-align: right;\">\n",
       "      <th></th>\n",
       "      <th>Article</th>\n",
       "      <th>Title</th>\n",
       "      <th>Sentiment</th>\n",
       "      <th>Named_Entities</th>\n",
       "    </tr>\n",
       "  </thead>\n",
       "  <tbody>\n",
       "    <tr>\n",
       "      <th>0</th>\n",
       "      <td>Data analysis is the process of inspecting and...</td>\n",
       "      <td>Best Books to Learn Data Analysis</td>\n",
       "      <td>0.666667</td>\n",
       "      <td>{'DATE': ['today']}</td>\n",
       "    </tr>\n",
       "    <tr>\n",
       "      <th>1</th>\n",
       "      <td>The performance of a machine learning algorith...</td>\n",
       "      <td>Assumptions of Machine Learning Algorithms</td>\n",
       "      <td>0.020833</td>\n",
       "      <td>{}</td>\n",
       "    </tr>\n",
       "    <tr>\n",
       "      <th>2</th>\n",
       "      <td>You must have seen the news divided into categ...</td>\n",
       "      <td>News Classification with Machine Learning</td>\n",
       "      <td>0.600000</td>\n",
       "      <td>{}</td>\n",
       "    </tr>\n",
       "    <tr>\n",
       "      <th>3</th>\n",
       "      <td>When there are only two classes in a classific...</td>\n",
       "      <td>Multiclass Classification Algorithms in Machin...</td>\n",
       "      <td>0.625000</td>\n",
       "      <td>{'CARDINAL': ['only two', 'more than two']}</td>\n",
       "    </tr>\n",
       "    <tr>\n",
       "      <th>4</th>\n",
       "      <td>The Multinomial Naive Bayes is one of the vari...</td>\n",
       "      <td>Multinomial Naive Bayes in Machine Learning</td>\n",
       "      <td>-0.101429</td>\n",
       "      <td>{'ORG': ['The Multinomial Naive Bayes', 'Naive...</td>\n",
       "    </tr>\n",
       "    <tr>\n",
       "      <th>5</th>\n",
       "      <td>You must have seen the news divided into categ...</td>\n",
       "      <td>News Classification with Machine Learning</td>\n",
       "      <td>0.600000</td>\n",
       "      <td>{}</td>\n",
       "    </tr>\n",
       "    <tr>\n",
       "      <th>6</th>\n",
       "      <td>Natural language processing or NLP is a subfie...</td>\n",
       "      <td>Best Books to Learn NLP</td>\n",
       "      <td>0.283333</td>\n",
       "      <td>{'ORG': ['NLP', 'NLP', 'NLP', 'NLP'], 'CARDINA...</td>\n",
       "    </tr>\n",
       "    <tr>\n",
       "      <th>7</th>\n",
       "      <td>By using a third-party application or API to m...</td>\n",
       "      <td>Send Instagram Messages using Python</td>\n",
       "      <td>0.050000</td>\n",
       "      <td>{'ORDINAL': ['third'], 'ORG': ['API', 'Instagr...</td>\n",
       "    </tr>\n",
       "    <tr>\n",
       "      <th>8</th>\n",
       "      <td>Twitter is one of the most popular social medi...</td>\n",
       "      <td>Pfizer Vaccine Sentiment Analysis using Python</td>\n",
       "      <td>0.406667</td>\n",
       "      <td>{'PRODUCT': ['Twitter', 'Twitter'], 'CARDINAL'...</td>\n",
       "    </tr>\n",
       "    <tr>\n",
       "      <th>9</th>\n",
       "      <td>The squid game is currently one of the most tr...</td>\n",
       "      <td>Squid Game Sentiment Analysis using Python</td>\n",
       "      <td>-0.108333</td>\n",
       "      <td>{'ORG': ['NetFlix'], 'CARDINAL': ['One']}</td>\n",
       "    </tr>\n",
       "    <tr>\n",
       "      <th>10</th>\n",
       "      <td>Computer Vision is one of the fields of Artifi...</td>\n",
       "      <td>Best Books to Learn Computer Vision</td>\n",
       "      <td>0.346875</td>\n",
       "      <td>{'ORG': ['Computer Vision', 'Artificial Intell...</td>\n",
       "    </tr>\n",
       "    <tr>\n",
       "      <th>11</th>\n",
       "      <td>Python is one of the most popular programming ...</td>\n",
       "      <td>Best Resources to Learn Python</td>\n",
       "      <td>0.580000</td>\n",
       "      <td>{'DATE': ['today', 'today'], 'ORG': ['Google',...</td>\n",
       "    </tr>\n",
       "    <tr>\n",
       "      <th>12</th>\n",
       "      <td>API stands for Application Programming Interfa...</td>\n",
       "      <td>Best Python Frameworks to Build APIs</td>\n",
       "      <td>0.479167</td>\n",
       "      <td>{'ORG': ['API', 'Application Programming Inter...</td>\n",
       "    </tr>\n",
       "    <tr>\n",
       "      <th>13</th>\n",
       "      <td>A voice recorder is found in every smartphone ...</td>\n",
       "      <td>Voice Recorder using Python</td>\n",
       "      <td>0.200000</td>\n",
       "      <td>{'DATE': ['today']}</td>\n",
       "    </tr>\n",
       "    <tr>\n",
       "      <th>14</th>\n",
       "      <td>Language detection is a natural language proce...</td>\n",
       "      <td>Language Detection with Machine Learning</td>\n",
       "      <td>0.016667</td>\n",
       "      <td>{'DATE': ['a few years ago']}</td>\n",
       "    </tr>\n",
       "    <tr>\n",
       "      <th>15</th>\n",
       "      <td>A Multilayer Perceptron or MLP is one of the s...</td>\n",
       "      <td>Multilayer Perceptron in Machine Learning</td>\n",
       "      <td>0.000000</td>\n",
       "      <td>{'ORG': ['Multilayer Perceptron', 'Multilayer ...</td>\n",
       "    </tr>\n",
       "    <tr>\n",
       "      <th>16</th>\n",
       "      <td>A neural network is a subset of machine learni...</td>\n",
       "      <td>Types of Neural Networks</td>\n",
       "      <td>-0.075000</td>\n",
       "      <td>{'ORG': ['Data Scientist']}</td>\n",
       "    </tr>\n",
       "    <tr>\n",
       "      <th>17</th>\n",
       "      <td>Clustering is the task of identifying similar ...</td>\n",
       "      <td>Clustering Algorithms in Machine Learning</td>\n",
       "      <td>0.000000</td>\n",
       "      <td>{}</td>\n",
       "    </tr>\n",
       "    <tr>\n",
       "      <th>18</th>\n",
       "      <td>Dictionaries are one of the most useful data s...</td>\n",
       "      <td>For Loop Over Keys and Values in a Python Dict...</td>\n",
       "      <td>0.150000</td>\n",
       "      <td>{'CARDINAL': ['one']}</td>\n",
       "    </tr>\n",
       "    <tr>\n",
       "      <th>19</th>\n",
       "      <td>Health Insurance is a type of insurance that c...</td>\n",
       "      <td>Health Insurance Premium Prediction with Machi...</td>\n",
       "      <td>0.083333</td>\n",
       "      <td>{'ORG': ['Health Insurance']}</td>\n",
       "    </tr>\n",
       "    <tr>\n",
       "      <th>20</th>\n",
       "      <td>The mean shift algorithm is a nonparametric cl...</td>\n",
       "      <td>Mean Shift Clustering in Machine Learning</td>\n",
       "      <td>-0.234375</td>\n",
       "      <td>{'ORG': ['Machine Learning']}</td>\n",
       "    </tr>\n",
       "    <tr>\n",
       "      <th>21</th>\n",
       "      <td>The BIRCH is a Clustering algorithm in machine...</td>\n",
       "      <td>BIRCH Clustering in Machine Learning</td>\n",
       "      <td>0.000000</td>\n",
       "      <td>{'ORG': ['Clustering', 'Balanced Reducing and ...</td>\n",
       "    </tr>\n",
       "    <tr>\n",
       "      <th>22</th>\n",
       "      <td>Agglomerative clustering is based on hierarchi...</td>\n",
       "      <td>Agglomerative Clustering in Machine Learning</td>\n",
       "      <td>0.157692</td>\n",
       "      <td>{'ORG': ['the K-Means']}</td>\n",
       "    </tr>\n",
       "    <tr>\n",
       "      <th>23</th>\n",
       "      <td>DBSCAN stands for Density-Based Spatial Cluste...</td>\n",
       "      <td>DBSCAN Clustering in Machine Learning</td>\n",
       "      <td>-0.800000</td>\n",
       "      <td>{'ORG': ['DBSCAN', 'Density-Based Spatial Clus...</td>\n",
       "    </tr>\n",
       "    <tr>\n",
       "      <th>24</th>\n",
       "      <td>The K-Means Clustering is a clustering algorit...</td>\n",
       "      <td>K-Means Clustering in Machine Learning</td>\n",
       "      <td>0.091111</td>\n",
       "      <td>{'ORG': ['The K-Means Clustering', 'the K-Mean...</td>\n",
       "    </tr>\n",
       "    <tr>\n",
       "      <th>25</th>\n",
       "      <td>A scatter plot is one of the most useful ways ...</td>\n",
       "      <td>Animated Scatter Plot using Python</td>\n",
       "      <td>0.400000</td>\n",
       "      <td>{'CARDINAL': ['two']}</td>\n",
       "    </tr>\n",
       "    <tr>\n",
       "      <th>26</th>\n",
       "      <td>Recently, we have seen an increase of more tha...</td>\n",
       "      <td>Tata Motors Stock Price Prediction with Machin...</td>\n",
       "      <td>0.175000</td>\n",
       "      <td>{'CARDINAL': ['more than 10'], 'ORG': ['Tata M...</td>\n",
       "    </tr>\n",
       "    <tr>\n",
       "      <th>27</th>\n",
       "      <td>Apple has just announced the date of its Septe...</td>\n",
       "      <td>Apple Stock Price Prediction with Machine Lear...</td>\n",
       "      <td>0.245455</td>\n",
       "      <td>{'ORG': ['Apple', 'Apple', 'Apple'], 'DATE': [...</td>\n",
       "    </tr>\n",
       "    <tr>\n",
       "      <th>28</th>\n",
       "      <td>Deep learning is a subset of machine learning ...</td>\n",
       "      <td>Best Books to Learn Deep Learning</td>\n",
       "      <td>0.118929</td>\n",
       "      <td>{}</td>\n",
       "    </tr>\n",
       "    <tr>\n",
       "      <th>29</th>\n",
       "      <td>Many machine learning algorithms can be used t...</td>\n",
       "      <td>Applications of Deep Learning</td>\n",
       "      <td>0.089796</td>\n",
       "      <td>{}</td>\n",
       "    </tr>\n",
       "    <tr>\n",
       "      <th>30</th>\n",
       "      <td>Almost every app or website you visit today sh...</td>\n",
       "      <td>Introduction to Recommendation Systems</td>\n",
       "      <td>0.270000</td>\n",
       "      <td>{'DATE': ['today'], 'ORG': ['YouTube', 'YouTub...</td>\n",
       "    </tr>\n",
       "    <tr>\n",
       "      <th>31</th>\n",
       "      <td>There are so many algorithms in machine learni...</td>\n",
       "      <td>Use Cases of Different Machine Learning Algori...</td>\n",
       "      <td>0.288571</td>\n",
       "      <td>{}</td>\n",
       "    </tr>\n",
       "    <tr>\n",
       "      <th>32</th>\n",
       "      <td>In machine learning, the Naive Bayes algorithm...</td>\n",
       "      <td>Naive Bayes Algorithm in Machine Learning</td>\n",
       "      <td>-0.181250</td>\n",
       "      <td>{'ORG': ['Naive Bayes', 'Bayes', 'Naive Bayes'...</td>\n",
       "    </tr>\n",
       "    <tr>\n",
       "      <th>33</th>\n",
       "      <td>Swapping elements of a Python list is very sim...</td>\n",
       "      <td>Swap Items of a Python List</td>\n",
       "      <td>0.000000</td>\n",
       "      <td>{'GPE': ['Python', 'Python']}</td>\n",
       "    </tr>\n",
       "  </tbody>\n",
       "</table>\n",
       "</div>"
      ],
      "text/plain": [
       "                                              Article  \\\n",
       "0   Data analysis is the process of inspecting and...   \n",
       "1   The performance of a machine learning algorith...   \n",
       "2   You must have seen the news divided into categ...   \n",
       "3   When there are only two classes in a classific...   \n",
       "4   The Multinomial Naive Bayes is one of the vari...   \n",
       "5   You must have seen the news divided into categ...   \n",
       "6   Natural language processing or NLP is a subfie...   \n",
       "7   By using a third-party application or API to m...   \n",
       "8   Twitter is one of the most popular social medi...   \n",
       "9   The squid game is currently one of the most tr...   \n",
       "10  Computer Vision is one of the fields of Artifi...   \n",
       "11  Python is one of the most popular programming ...   \n",
       "12  API stands for Application Programming Interfa...   \n",
       "13  A voice recorder is found in every smartphone ...   \n",
       "14  Language detection is a natural language proce...   \n",
       "15  A Multilayer Perceptron or MLP is one of the s...   \n",
       "16  A neural network is a subset of machine learni...   \n",
       "17  Clustering is the task of identifying similar ...   \n",
       "18  Dictionaries are one of the most useful data s...   \n",
       "19  Health Insurance is a type of insurance that c...   \n",
       "20  The mean shift algorithm is a nonparametric cl...   \n",
       "21  The BIRCH is a Clustering algorithm in machine...   \n",
       "22  Agglomerative clustering is based on hierarchi...   \n",
       "23  DBSCAN stands for Density-Based Spatial Cluste...   \n",
       "24  The K-Means Clustering is a clustering algorit...   \n",
       "25  A scatter plot is one of the most useful ways ...   \n",
       "26  Recently, we have seen an increase of more tha...   \n",
       "27  Apple has just announced the date of its Septe...   \n",
       "28  Deep learning is a subset of machine learning ...   \n",
       "29  Many machine learning algorithms can be used t...   \n",
       "30  Almost every app or website you visit today sh...   \n",
       "31  There are so many algorithms in machine learni...   \n",
       "32  In machine learning, the Naive Bayes algorithm...   \n",
       "33  Swapping elements of a Python list is very sim...   \n",
       "\n",
       "                                                Title  Sentiment  \\\n",
       "0                   Best Books to Learn Data Analysis   0.666667   \n",
       "1          Assumptions of Machine Learning Algorithms   0.020833   \n",
       "2           News Classification with Machine Learning   0.600000   \n",
       "3   Multiclass Classification Algorithms in Machin...   0.625000   \n",
       "4         Multinomial Naive Bayes in Machine Learning  -0.101429   \n",
       "5           News Classification with Machine Learning   0.600000   \n",
       "6                             Best Books to Learn NLP   0.283333   \n",
       "7                Send Instagram Messages using Python   0.050000   \n",
       "8      Pfizer Vaccine Sentiment Analysis using Python   0.406667   \n",
       "9          Squid Game Sentiment Analysis using Python  -0.108333   \n",
       "10                Best Books to Learn Computer Vision   0.346875   \n",
       "11                     Best Resources to Learn Python   0.580000   \n",
       "12               Best Python Frameworks to Build APIs   0.479167   \n",
       "13                        Voice Recorder using Python   0.200000   \n",
       "14           Language Detection with Machine Learning   0.016667   \n",
       "15          Multilayer Perceptron in Machine Learning   0.000000   \n",
       "16                           Types of Neural Networks  -0.075000   \n",
       "17          Clustering Algorithms in Machine Learning   0.000000   \n",
       "18  For Loop Over Keys and Values in a Python Dict...   0.150000   \n",
       "19  Health Insurance Premium Prediction with Machi...   0.083333   \n",
       "20          Mean Shift Clustering in Machine Learning  -0.234375   \n",
       "21               BIRCH Clustering in Machine Learning   0.000000   \n",
       "22       Agglomerative Clustering in Machine Learning   0.157692   \n",
       "23              DBSCAN Clustering in Machine Learning  -0.800000   \n",
       "24             K-Means Clustering in Machine Learning   0.091111   \n",
       "25                 Animated Scatter Plot using Python   0.400000   \n",
       "26  Tata Motors Stock Price Prediction with Machin...   0.175000   \n",
       "27  Apple Stock Price Prediction with Machine Lear...   0.245455   \n",
       "28                  Best Books to Learn Deep Learning   0.118929   \n",
       "29                      Applications of Deep Learning   0.089796   \n",
       "30             Introduction to Recommendation Systems   0.270000   \n",
       "31  Use Cases of Different Machine Learning Algori...   0.288571   \n",
       "32          Naive Bayes Algorithm in Machine Learning  -0.181250   \n",
       "33                        Swap Items of a Python List   0.000000   \n",
       "\n",
       "                                       Named_Entities  \n",
       "0                                 {'DATE': ['today']}  \n",
       "1                                                  {}  \n",
       "2                                                  {}  \n",
       "3         {'CARDINAL': ['only two', 'more than two']}  \n",
       "4   {'ORG': ['The Multinomial Naive Bayes', 'Naive...  \n",
       "5                                                  {}  \n",
       "6   {'ORG': ['NLP', 'NLP', 'NLP', 'NLP'], 'CARDINA...  \n",
       "7   {'ORDINAL': ['third'], 'ORG': ['API', 'Instagr...  \n",
       "8   {'PRODUCT': ['Twitter', 'Twitter'], 'CARDINAL'...  \n",
       "9           {'ORG': ['NetFlix'], 'CARDINAL': ['One']}  \n",
       "10  {'ORG': ['Computer Vision', 'Artificial Intell...  \n",
       "11  {'DATE': ['today', 'today'], 'ORG': ['Google',...  \n",
       "12  {'ORG': ['API', 'Application Programming Inter...  \n",
       "13                                {'DATE': ['today']}  \n",
       "14                      {'DATE': ['a few years ago']}  \n",
       "15  {'ORG': ['Multilayer Perceptron', 'Multilayer ...  \n",
       "16                        {'ORG': ['Data Scientist']}  \n",
       "17                                                 {}  \n",
       "18                              {'CARDINAL': ['one']}  \n",
       "19                      {'ORG': ['Health Insurance']}  \n",
       "20                      {'ORG': ['Machine Learning']}  \n",
       "21  {'ORG': ['Clustering', 'Balanced Reducing and ...  \n",
       "22                           {'ORG': ['the K-Means']}  \n",
       "23  {'ORG': ['DBSCAN', 'Density-Based Spatial Clus...  \n",
       "24  {'ORG': ['The K-Means Clustering', 'the K-Mean...  \n",
       "25                              {'CARDINAL': ['two']}  \n",
       "26  {'CARDINAL': ['more than 10'], 'ORG': ['Tata M...  \n",
       "27  {'ORG': ['Apple', 'Apple', 'Apple'], 'DATE': [...  \n",
       "28                                                 {}  \n",
       "29                                                 {}  \n",
       "30  {'DATE': ['today'], 'ORG': ['YouTube', 'YouTub...  \n",
       "31                                                 {}  \n",
       "32  {'ORG': ['Naive Bayes', 'Bayes', 'Naive Bayes'...  \n",
       "33                      {'GPE': ['Python', 'Python']}  "
      ]
     },
     "execution_count": 36,
     "metadata": {},
     "output_type": "execute_result"
    }
   ],
   "source": [
    "data"
   ]
  },
  {
   "cell_type": "markdown",
   "id": "befce5ef",
   "metadata": {},
   "source": [
    "In the above code, we are performing Named Entity Recognition. NER is a natural language processing technique used to identify and extract specific entities such as organizations, locations, names, dates, and more from the text. The extract_named_entities function leverages the spaCy library to analyze each article, identify entities, and categorize them by their respective labels (e.g., “ORG” for organizations, “LOC” for locations). \n",
    "\n",
    "The extracted entities are stored in a new column called Named_Entities in the dataset. Then, a visualization is created to present the top 10 most frequently occurring named entities and their respective counts, allowing for a quick understanding of the prominent entities mentioned in the text data.\n",
    "\n",
    "Now, let’s perform Topic Modelling:"
   ]
  },
  {
   "cell_type": "code",
   "execution_count": null,
   "id": "45e825dc",
   "metadata": {},
   "outputs": [],
   "source": [
    "vectorizer = CountVectorizer(max_df=0.95, min_df=2, max_features=1000, stop_words='english')\n",
    "tf = vectorizer.fit_transform(data['Article'])\n",
    "lda_model = LatentDirichletAllocation(n_components=5, random_state=42)\n",
    "lda_topic_matrix = lda_model.fit_transform(tf)\n",
    "# Visualize topics\n",
    "topic_names = [\"Topic \" + str(i) for i in range(lda_model.n_components)]\n",
    "data['Dominant_Topic'] = [topic_names[i] for i in lda_topic_matrix.argmax(axis=1)]\n"
   ]
  },
  {
   "cell_type": "code",
   "execution_count": 46,
   "id": "8446f384",
   "metadata": {},
   "outputs": [],
   "source": [
    "#Topic Modeling\n",
    "vectorizer = CountVectorizer(max_df=0.95, min_df=2, max_features=1000, stop_words='english')\n",
    "tf =vectorizer.fit_transform(data['Article'])\n",
    "lda_model = LatentDirichletAllocation(n_components=5, random_state=42)\n",
    "lda_topic_matrix =lda_model.fit_transform(tf)\n",
    "#Visualize topics\n",
    "topic_names = [\"Topic\" + str(i) for i in range(lda_model.n_components)]\n",
    "data['Dominant_Topic'] = [topic_names[i] for i in lda_topic_matrix.argmax(axis=1)]"
   ]
  },
  {
   "cell_type": "code",
   "execution_count": 50,
   "id": "e8e5814c",
   "metadata": {},
   "outputs": [],
   "source": [
    "fig= px.bar(data['Dominant_Topic'].value_counts().reset_index(),x='index', y='Dominant_Topic', title='Topic distribution')"
   ]
  },
  {
   "cell_type": "code",
   "execution_count": 51,
   "id": "685647d3",
   "metadata": {},
   "outputs": [
    {
     "data": {
      "application/vnd.plotly.v1+json": {
       "config": {
        "plotlyServerURL": "https://plot.ly"
       },
       "data": [
        {
         "alignmentgroup": "True",
         "hovertemplate": "index=%{x}<br>Dominant_Topic=%{y}<extra></extra>",
         "legendgroup": "",
         "marker": {
          "color": "#636efa",
          "pattern": {
           "shape": ""
          }
         },
         "name": "",
         "offsetgroup": "",
         "orientation": "v",
         "showlegend": false,
         "textposition": "auto",
         "type": "bar",
         "x": [
          "Topic1",
          "Topic3",
          "Topic0",
          "Topic4",
          "Topic2"
         ],
         "xaxis": "x",
         "y": [
          18,
          6,
          4,
          3,
          3
         ],
         "yaxis": "y"
        }
       ],
       "layout": {
        "barmode": "relative",
        "legend": {
         "tracegroupgap": 0
        },
        "template": {
         "data": {
          "bar": [
           {
            "error_x": {
             "color": "#2a3f5f"
            },
            "error_y": {
             "color": "#2a3f5f"
            },
            "marker": {
             "line": {
              "color": "#E5ECF6",
              "width": 0.5
             },
             "pattern": {
              "fillmode": "overlay",
              "size": 10,
              "solidity": 0.2
             }
            },
            "type": "bar"
           }
          ],
          "barpolar": [
           {
            "marker": {
             "line": {
              "color": "#E5ECF6",
              "width": 0.5
             },
             "pattern": {
              "fillmode": "overlay",
              "size": 10,
              "solidity": 0.2
             }
            },
            "type": "barpolar"
           }
          ],
          "carpet": [
           {
            "aaxis": {
             "endlinecolor": "#2a3f5f",
             "gridcolor": "white",
             "linecolor": "white",
             "minorgridcolor": "white",
             "startlinecolor": "#2a3f5f"
            },
            "baxis": {
             "endlinecolor": "#2a3f5f",
             "gridcolor": "white",
             "linecolor": "white",
             "minorgridcolor": "white",
             "startlinecolor": "#2a3f5f"
            },
            "type": "carpet"
           }
          ],
          "choropleth": [
           {
            "colorbar": {
             "outlinewidth": 0,
             "ticks": ""
            },
            "type": "choropleth"
           }
          ],
          "contour": [
           {
            "colorbar": {
             "outlinewidth": 0,
             "ticks": ""
            },
            "colorscale": [
             [
              0,
              "#0d0887"
             ],
             [
              0.1111111111111111,
              "#46039f"
             ],
             [
              0.2222222222222222,
              "#7201a8"
             ],
             [
              0.3333333333333333,
              "#9c179e"
             ],
             [
              0.4444444444444444,
              "#bd3786"
             ],
             [
              0.5555555555555556,
              "#d8576b"
             ],
             [
              0.6666666666666666,
              "#ed7953"
             ],
             [
              0.7777777777777778,
              "#fb9f3a"
             ],
             [
              0.8888888888888888,
              "#fdca26"
             ],
             [
              1,
              "#f0f921"
             ]
            ],
            "type": "contour"
           }
          ],
          "contourcarpet": [
           {
            "colorbar": {
             "outlinewidth": 0,
             "ticks": ""
            },
            "type": "contourcarpet"
           }
          ],
          "heatmap": [
           {
            "colorbar": {
             "outlinewidth": 0,
             "ticks": ""
            },
            "colorscale": [
             [
              0,
              "#0d0887"
             ],
             [
              0.1111111111111111,
              "#46039f"
             ],
             [
              0.2222222222222222,
              "#7201a8"
             ],
             [
              0.3333333333333333,
              "#9c179e"
             ],
             [
              0.4444444444444444,
              "#bd3786"
             ],
             [
              0.5555555555555556,
              "#d8576b"
             ],
             [
              0.6666666666666666,
              "#ed7953"
             ],
             [
              0.7777777777777778,
              "#fb9f3a"
             ],
             [
              0.8888888888888888,
              "#fdca26"
             ],
             [
              1,
              "#f0f921"
             ]
            ],
            "type": "heatmap"
           }
          ],
          "heatmapgl": [
           {
            "colorbar": {
             "outlinewidth": 0,
             "ticks": ""
            },
            "colorscale": [
             [
              0,
              "#0d0887"
             ],
             [
              0.1111111111111111,
              "#46039f"
             ],
             [
              0.2222222222222222,
              "#7201a8"
             ],
             [
              0.3333333333333333,
              "#9c179e"
             ],
             [
              0.4444444444444444,
              "#bd3786"
             ],
             [
              0.5555555555555556,
              "#d8576b"
             ],
             [
              0.6666666666666666,
              "#ed7953"
             ],
             [
              0.7777777777777778,
              "#fb9f3a"
             ],
             [
              0.8888888888888888,
              "#fdca26"
             ],
             [
              1,
              "#f0f921"
             ]
            ],
            "type": "heatmapgl"
           }
          ],
          "histogram": [
           {
            "marker": {
             "pattern": {
              "fillmode": "overlay",
              "size": 10,
              "solidity": 0.2
             }
            },
            "type": "histogram"
           }
          ],
          "histogram2d": [
           {
            "colorbar": {
             "outlinewidth": 0,
             "ticks": ""
            },
            "colorscale": [
             [
              0,
              "#0d0887"
             ],
             [
              0.1111111111111111,
              "#46039f"
             ],
             [
              0.2222222222222222,
              "#7201a8"
             ],
             [
              0.3333333333333333,
              "#9c179e"
             ],
             [
              0.4444444444444444,
              "#bd3786"
             ],
             [
              0.5555555555555556,
              "#d8576b"
             ],
             [
              0.6666666666666666,
              "#ed7953"
             ],
             [
              0.7777777777777778,
              "#fb9f3a"
             ],
             [
              0.8888888888888888,
              "#fdca26"
             ],
             [
              1,
              "#f0f921"
             ]
            ],
            "type": "histogram2d"
           }
          ],
          "histogram2dcontour": [
           {
            "colorbar": {
             "outlinewidth": 0,
             "ticks": ""
            },
            "colorscale": [
             [
              0,
              "#0d0887"
             ],
             [
              0.1111111111111111,
              "#46039f"
             ],
             [
              0.2222222222222222,
              "#7201a8"
             ],
             [
              0.3333333333333333,
              "#9c179e"
             ],
             [
              0.4444444444444444,
              "#bd3786"
             ],
             [
              0.5555555555555556,
              "#d8576b"
             ],
             [
              0.6666666666666666,
              "#ed7953"
             ],
             [
              0.7777777777777778,
              "#fb9f3a"
             ],
             [
              0.8888888888888888,
              "#fdca26"
             ],
             [
              1,
              "#f0f921"
             ]
            ],
            "type": "histogram2dcontour"
           }
          ],
          "mesh3d": [
           {
            "colorbar": {
             "outlinewidth": 0,
             "ticks": ""
            },
            "type": "mesh3d"
           }
          ],
          "parcoords": [
           {
            "line": {
             "colorbar": {
              "outlinewidth": 0,
              "ticks": ""
             }
            },
            "type": "parcoords"
           }
          ],
          "pie": [
           {
            "automargin": true,
            "type": "pie"
           }
          ],
          "scatter": [
           {
            "fillpattern": {
             "fillmode": "overlay",
             "size": 10,
             "solidity": 0.2
            },
            "type": "scatter"
           }
          ],
          "scatter3d": [
           {
            "line": {
             "colorbar": {
              "outlinewidth": 0,
              "ticks": ""
             }
            },
            "marker": {
             "colorbar": {
              "outlinewidth": 0,
              "ticks": ""
             }
            },
            "type": "scatter3d"
           }
          ],
          "scattercarpet": [
           {
            "marker": {
             "colorbar": {
              "outlinewidth": 0,
              "ticks": ""
             }
            },
            "type": "scattercarpet"
           }
          ],
          "scattergeo": [
           {
            "marker": {
             "colorbar": {
              "outlinewidth": 0,
              "ticks": ""
             }
            },
            "type": "scattergeo"
           }
          ],
          "scattergl": [
           {
            "marker": {
             "colorbar": {
              "outlinewidth": 0,
              "ticks": ""
             }
            },
            "type": "scattergl"
           }
          ],
          "scattermapbox": [
           {
            "marker": {
             "colorbar": {
              "outlinewidth": 0,
              "ticks": ""
             }
            },
            "type": "scattermapbox"
           }
          ],
          "scatterpolar": [
           {
            "marker": {
             "colorbar": {
              "outlinewidth": 0,
              "ticks": ""
             }
            },
            "type": "scatterpolar"
           }
          ],
          "scatterpolargl": [
           {
            "marker": {
             "colorbar": {
              "outlinewidth": 0,
              "ticks": ""
             }
            },
            "type": "scatterpolargl"
           }
          ],
          "scatterternary": [
           {
            "marker": {
             "colorbar": {
              "outlinewidth": 0,
              "ticks": ""
             }
            },
            "type": "scatterternary"
           }
          ],
          "surface": [
           {
            "colorbar": {
             "outlinewidth": 0,
             "ticks": ""
            },
            "colorscale": [
             [
              0,
              "#0d0887"
             ],
             [
              0.1111111111111111,
              "#46039f"
             ],
             [
              0.2222222222222222,
              "#7201a8"
             ],
             [
              0.3333333333333333,
              "#9c179e"
             ],
             [
              0.4444444444444444,
              "#bd3786"
             ],
             [
              0.5555555555555556,
              "#d8576b"
             ],
             [
              0.6666666666666666,
              "#ed7953"
             ],
             [
              0.7777777777777778,
              "#fb9f3a"
             ],
             [
              0.8888888888888888,
              "#fdca26"
             ],
             [
              1,
              "#f0f921"
             ]
            ],
            "type": "surface"
           }
          ],
          "table": [
           {
            "cells": {
             "fill": {
              "color": "#EBF0F8"
             },
             "line": {
              "color": "white"
             }
            },
            "header": {
             "fill": {
              "color": "#C8D4E3"
             },
             "line": {
              "color": "white"
             }
            },
            "type": "table"
           }
          ]
         },
         "layout": {
          "annotationdefaults": {
           "arrowcolor": "#2a3f5f",
           "arrowhead": 0,
           "arrowwidth": 1
          },
          "autotypenumbers": "strict",
          "coloraxis": {
           "colorbar": {
            "outlinewidth": 0,
            "ticks": ""
           }
          },
          "colorscale": {
           "diverging": [
            [
             0,
             "#8e0152"
            ],
            [
             0.1,
             "#c51b7d"
            ],
            [
             0.2,
             "#de77ae"
            ],
            [
             0.3,
             "#f1b6da"
            ],
            [
             0.4,
             "#fde0ef"
            ],
            [
             0.5,
             "#f7f7f7"
            ],
            [
             0.6,
             "#e6f5d0"
            ],
            [
             0.7,
             "#b8e186"
            ],
            [
             0.8,
             "#7fbc41"
            ],
            [
             0.9,
             "#4d9221"
            ],
            [
             1,
             "#276419"
            ]
           ],
           "sequential": [
            [
             0,
             "#0d0887"
            ],
            [
             0.1111111111111111,
             "#46039f"
            ],
            [
             0.2222222222222222,
             "#7201a8"
            ],
            [
             0.3333333333333333,
             "#9c179e"
            ],
            [
             0.4444444444444444,
             "#bd3786"
            ],
            [
             0.5555555555555556,
             "#d8576b"
            ],
            [
             0.6666666666666666,
             "#ed7953"
            ],
            [
             0.7777777777777778,
             "#fb9f3a"
            ],
            [
             0.8888888888888888,
             "#fdca26"
            ],
            [
             1,
             "#f0f921"
            ]
           ],
           "sequentialminus": [
            [
             0,
             "#0d0887"
            ],
            [
             0.1111111111111111,
             "#46039f"
            ],
            [
             0.2222222222222222,
             "#7201a8"
            ],
            [
             0.3333333333333333,
             "#9c179e"
            ],
            [
             0.4444444444444444,
             "#bd3786"
            ],
            [
             0.5555555555555556,
             "#d8576b"
            ],
            [
             0.6666666666666666,
             "#ed7953"
            ],
            [
             0.7777777777777778,
             "#fb9f3a"
            ],
            [
             0.8888888888888888,
             "#fdca26"
            ],
            [
             1,
             "#f0f921"
            ]
           ]
          },
          "colorway": [
           "#636efa",
           "#EF553B",
           "#00cc96",
           "#ab63fa",
           "#FFA15A",
           "#19d3f3",
           "#FF6692",
           "#B6E880",
           "#FF97FF",
           "#FECB52"
          ],
          "font": {
           "color": "#2a3f5f"
          },
          "geo": {
           "bgcolor": "white",
           "lakecolor": "white",
           "landcolor": "#E5ECF6",
           "showlakes": true,
           "showland": true,
           "subunitcolor": "white"
          },
          "hoverlabel": {
           "align": "left"
          },
          "hovermode": "closest",
          "mapbox": {
           "style": "light"
          },
          "paper_bgcolor": "white",
          "plot_bgcolor": "#E5ECF6",
          "polar": {
           "angularaxis": {
            "gridcolor": "white",
            "linecolor": "white",
            "ticks": ""
           },
           "bgcolor": "#E5ECF6",
           "radialaxis": {
            "gridcolor": "white",
            "linecolor": "white",
            "ticks": ""
           }
          },
          "scene": {
           "xaxis": {
            "backgroundcolor": "#E5ECF6",
            "gridcolor": "white",
            "gridwidth": 2,
            "linecolor": "white",
            "showbackground": true,
            "ticks": "",
            "zerolinecolor": "white"
           },
           "yaxis": {
            "backgroundcolor": "#E5ECF6",
            "gridcolor": "white",
            "gridwidth": 2,
            "linecolor": "white",
            "showbackground": true,
            "ticks": "",
            "zerolinecolor": "white"
           },
           "zaxis": {
            "backgroundcolor": "#E5ECF6",
            "gridcolor": "white",
            "gridwidth": 2,
            "linecolor": "white",
            "showbackground": true,
            "ticks": "",
            "zerolinecolor": "white"
           }
          },
          "shapedefaults": {
           "line": {
            "color": "#2a3f5f"
           }
          },
          "ternary": {
           "aaxis": {
            "gridcolor": "white",
            "linecolor": "white",
            "ticks": ""
           },
           "baxis": {
            "gridcolor": "white",
            "linecolor": "white",
            "ticks": ""
           },
           "bgcolor": "#E5ECF6",
           "caxis": {
            "gridcolor": "white",
            "linecolor": "white",
            "ticks": ""
           }
          },
          "title": {
           "x": 0.05
          },
          "xaxis": {
           "automargin": true,
           "gridcolor": "white",
           "linecolor": "white",
           "ticks": "",
           "title": {
            "standoff": 15
           },
           "zerolinecolor": "white",
           "zerolinewidth": 2
          },
          "yaxis": {
           "automargin": true,
           "gridcolor": "white",
           "linecolor": "white",
           "ticks": "",
           "title": {
            "standoff": 15
           },
           "zerolinecolor": "white",
           "zerolinewidth": 2
          }
         }
        },
        "title": {
         "text": "Topic distribution"
        },
        "xaxis": {
         "anchor": "y",
         "domain": [
          0,
          1
         ],
         "title": {
          "text": "index"
         }
        },
        "yaxis": {
         "anchor": "x",
         "domain": [
          0,
          1
         ],
         "title": {
          "text": "Dominant_Topic"
         }
        }
       }
      },
      "text/html": [
       "<div>                            <div id=\"21f62639-507f-471e-bf85-b7e998a0fe09\" class=\"plotly-graph-div\" style=\"height:525px; width:100%;\"></div>            <script type=\"text/javascript\">                require([\"plotly\"], function(Plotly) {                    window.PLOTLYENV=window.PLOTLYENV || {};                                    if (document.getElementById(\"21f62639-507f-471e-bf85-b7e998a0fe09\")) {                    Plotly.newPlot(                        \"21f62639-507f-471e-bf85-b7e998a0fe09\",                        [{\"alignmentgroup\":\"True\",\"hovertemplate\":\"index=%{x}\\u003cbr\\u003eDominant_Topic=%{y}\\u003cextra\\u003e\\u003c\\u002fextra\\u003e\",\"legendgroup\":\"\",\"marker\":{\"color\":\"#636efa\",\"pattern\":{\"shape\":\"\"}},\"name\":\"\",\"offsetgroup\":\"\",\"orientation\":\"v\",\"showlegend\":false,\"textposition\":\"auto\",\"x\":[\"Topic1\",\"Topic3\",\"Topic0\",\"Topic4\",\"Topic2\"],\"xaxis\":\"x\",\"y\":[18,6,4,3,3],\"yaxis\":\"y\",\"type\":\"bar\"}],                        {\"template\":{\"data\":{\"histogram2dcontour\":[{\"type\":\"histogram2dcontour\",\"colorbar\":{\"outlinewidth\":0,\"ticks\":\"\"},\"colorscale\":[[0.0,\"#0d0887\"],[0.1111111111111111,\"#46039f\"],[0.2222222222222222,\"#7201a8\"],[0.3333333333333333,\"#9c179e\"],[0.4444444444444444,\"#bd3786\"],[0.5555555555555556,\"#d8576b\"],[0.6666666666666666,\"#ed7953\"],[0.7777777777777778,\"#fb9f3a\"],[0.8888888888888888,\"#fdca26\"],[1.0,\"#f0f921\"]]}],\"choropleth\":[{\"type\":\"choropleth\",\"colorbar\":{\"outlinewidth\":0,\"ticks\":\"\"}}],\"histogram2d\":[{\"type\":\"histogram2d\",\"colorbar\":{\"outlinewidth\":0,\"ticks\":\"\"},\"colorscale\":[[0.0,\"#0d0887\"],[0.1111111111111111,\"#46039f\"],[0.2222222222222222,\"#7201a8\"],[0.3333333333333333,\"#9c179e\"],[0.4444444444444444,\"#bd3786\"],[0.5555555555555556,\"#d8576b\"],[0.6666666666666666,\"#ed7953\"],[0.7777777777777778,\"#fb9f3a\"],[0.8888888888888888,\"#fdca26\"],[1.0,\"#f0f921\"]]}],\"heatmap\":[{\"type\":\"heatmap\",\"colorbar\":{\"outlinewidth\":0,\"ticks\":\"\"},\"colorscale\":[[0.0,\"#0d0887\"],[0.1111111111111111,\"#46039f\"],[0.2222222222222222,\"#7201a8\"],[0.3333333333333333,\"#9c179e\"],[0.4444444444444444,\"#bd3786\"],[0.5555555555555556,\"#d8576b\"],[0.6666666666666666,\"#ed7953\"],[0.7777777777777778,\"#fb9f3a\"],[0.8888888888888888,\"#fdca26\"],[1.0,\"#f0f921\"]]}],\"heatmapgl\":[{\"type\":\"heatmapgl\",\"colorbar\":{\"outlinewidth\":0,\"ticks\":\"\"},\"colorscale\":[[0.0,\"#0d0887\"],[0.1111111111111111,\"#46039f\"],[0.2222222222222222,\"#7201a8\"],[0.3333333333333333,\"#9c179e\"],[0.4444444444444444,\"#bd3786\"],[0.5555555555555556,\"#d8576b\"],[0.6666666666666666,\"#ed7953\"],[0.7777777777777778,\"#fb9f3a\"],[0.8888888888888888,\"#fdca26\"],[1.0,\"#f0f921\"]]}],\"contourcarpet\":[{\"type\":\"contourcarpet\",\"colorbar\":{\"outlinewidth\":0,\"ticks\":\"\"}}],\"contour\":[{\"type\":\"contour\",\"colorbar\":{\"outlinewidth\":0,\"ticks\":\"\"},\"colorscale\":[[0.0,\"#0d0887\"],[0.1111111111111111,\"#46039f\"],[0.2222222222222222,\"#7201a8\"],[0.3333333333333333,\"#9c179e\"],[0.4444444444444444,\"#bd3786\"],[0.5555555555555556,\"#d8576b\"],[0.6666666666666666,\"#ed7953\"],[0.7777777777777778,\"#fb9f3a\"],[0.8888888888888888,\"#fdca26\"],[1.0,\"#f0f921\"]]}],\"surface\":[{\"type\":\"surface\",\"colorbar\":{\"outlinewidth\":0,\"ticks\":\"\"},\"colorscale\":[[0.0,\"#0d0887\"],[0.1111111111111111,\"#46039f\"],[0.2222222222222222,\"#7201a8\"],[0.3333333333333333,\"#9c179e\"],[0.4444444444444444,\"#bd3786\"],[0.5555555555555556,\"#d8576b\"],[0.6666666666666666,\"#ed7953\"],[0.7777777777777778,\"#fb9f3a\"],[0.8888888888888888,\"#fdca26\"],[1.0,\"#f0f921\"]]}],\"mesh3d\":[{\"type\":\"mesh3d\",\"colorbar\":{\"outlinewidth\":0,\"ticks\":\"\"}}],\"scatter\":[{\"fillpattern\":{\"fillmode\":\"overlay\",\"size\":10,\"solidity\":0.2},\"type\":\"scatter\"}],\"parcoords\":[{\"type\":\"parcoords\",\"line\":{\"colorbar\":{\"outlinewidth\":0,\"ticks\":\"\"}}}],\"scatterpolargl\":[{\"type\":\"scatterpolargl\",\"marker\":{\"colorbar\":{\"outlinewidth\":0,\"ticks\":\"\"}}}],\"bar\":[{\"error_x\":{\"color\":\"#2a3f5f\"},\"error_y\":{\"color\":\"#2a3f5f\"},\"marker\":{\"line\":{\"color\":\"#E5ECF6\",\"width\":0.5},\"pattern\":{\"fillmode\":\"overlay\",\"size\":10,\"solidity\":0.2}},\"type\":\"bar\"}],\"scattergeo\":[{\"type\":\"scattergeo\",\"marker\":{\"colorbar\":{\"outlinewidth\":0,\"ticks\":\"\"}}}],\"scatterpolar\":[{\"type\":\"scatterpolar\",\"marker\":{\"colorbar\":{\"outlinewidth\":0,\"ticks\":\"\"}}}],\"histogram\":[{\"marker\":{\"pattern\":{\"fillmode\":\"overlay\",\"size\":10,\"solidity\":0.2}},\"type\":\"histogram\"}],\"scattergl\":[{\"type\":\"scattergl\",\"marker\":{\"colorbar\":{\"outlinewidth\":0,\"ticks\":\"\"}}}],\"scatter3d\":[{\"type\":\"scatter3d\",\"line\":{\"colorbar\":{\"outlinewidth\":0,\"ticks\":\"\"}},\"marker\":{\"colorbar\":{\"outlinewidth\":0,\"ticks\":\"\"}}}],\"scattermapbox\":[{\"type\":\"scattermapbox\",\"marker\":{\"colorbar\":{\"outlinewidth\":0,\"ticks\":\"\"}}}],\"scatterternary\":[{\"type\":\"scatterternary\",\"marker\":{\"colorbar\":{\"outlinewidth\":0,\"ticks\":\"\"}}}],\"scattercarpet\":[{\"type\":\"scattercarpet\",\"marker\":{\"colorbar\":{\"outlinewidth\":0,\"ticks\":\"\"}}}],\"carpet\":[{\"aaxis\":{\"endlinecolor\":\"#2a3f5f\",\"gridcolor\":\"white\",\"linecolor\":\"white\",\"minorgridcolor\":\"white\",\"startlinecolor\":\"#2a3f5f\"},\"baxis\":{\"endlinecolor\":\"#2a3f5f\",\"gridcolor\":\"white\",\"linecolor\":\"white\",\"minorgridcolor\":\"white\",\"startlinecolor\":\"#2a3f5f\"},\"type\":\"carpet\"}],\"table\":[{\"cells\":{\"fill\":{\"color\":\"#EBF0F8\"},\"line\":{\"color\":\"white\"}},\"header\":{\"fill\":{\"color\":\"#C8D4E3\"},\"line\":{\"color\":\"white\"}},\"type\":\"table\"}],\"barpolar\":[{\"marker\":{\"line\":{\"color\":\"#E5ECF6\",\"width\":0.5},\"pattern\":{\"fillmode\":\"overlay\",\"size\":10,\"solidity\":0.2}},\"type\":\"barpolar\"}],\"pie\":[{\"automargin\":true,\"type\":\"pie\"}]},\"layout\":{\"autotypenumbers\":\"strict\",\"colorway\":[\"#636efa\",\"#EF553B\",\"#00cc96\",\"#ab63fa\",\"#FFA15A\",\"#19d3f3\",\"#FF6692\",\"#B6E880\",\"#FF97FF\",\"#FECB52\"],\"font\":{\"color\":\"#2a3f5f\"},\"hovermode\":\"closest\",\"hoverlabel\":{\"align\":\"left\"},\"paper_bgcolor\":\"white\",\"plot_bgcolor\":\"#E5ECF6\",\"polar\":{\"bgcolor\":\"#E5ECF6\",\"angularaxis\":{\"gridcolor\":\"white\",\"linecolor\":\"white\",\"ticks\":\"\"},\"radialaxis\":{\"gridcolor\":\"white\",\"linecolor\":\"white\",\"ticks\":\"\"}},\"ternary\":{\"bgcolor\":\"#E5ECF6\",\"aaxis\":{\"gridcolor\":\"white\",\"linecolor\":\"white\",\"ticks\":\"\"},\"baxis\":{\"gridcolor\":\"white\",\"linecolor\":\"white\",\"ticks\":\"\"},\"caxis\":{\"gridcolor\":\"white\",\"linecolor\":\"white\",\"ticks\":\"\"}},\"coloraxis\":{\"colorbar\":{\"outlinewidth\":0,\"ticks\":\"\"}},\"colorscale\":{\"sequential\":[[0.0,\"#0d0887\"],[0.1111111111111111,\"#46039f\"],[0.2222222222222222,\"#7201a8\"],[0.3333333333333333,\"#9c179e\"],[0.4444444444444444,\"#bd3786\"],[0.5555555555555556,\"#d8576b\"],[0.6666666666666666,\"#ed7953\"],[0.7777777777777778,\"#fb9f3a\"],[0.8888888888888888,\"#fdca26\"],[1.0,\"#f0f921\"]],\"sequentialminus\":[[0.0,\"#0d0887\"],[0.1111111111111111,\"#46039f\"],[0.2222222222222222,\"#7201a8\"],[0.3333333333333333,\"#9c179e\"],[0.4444444444444444,\"#bd3786\"],[0.5555555555555556,\"#d8576b\"],[0.6666666666666666,\"#ed7953\"],[0.7777777777777778,\"#fb9f3a\"],[0.8888888888888888,\"#fdca26\"],[1.0,\"#f0f921\"]],\"diverging\":[[0,\"#8e0152\"],[0.1,\"#c51b7d\"],[0.2,\"#de77ae\"],[0.3,\"#f1b6da\"],[0.4,\"#fde0ef\"],[0.5,\"#f7f7f7\"],[0.6,\"#e6f5d0\"],[0.7,\"#b8e186\"],[0.8,\"#7fbc41\"],[0.9,\"#4d9221\"],[1,\"#276419\"]]},\"xaxis\":{\"gridcolor\":\"white\",\"linecolor\":\"white\",\"ticks\":\"\",\"title\":{\"standoff\":15},\"zerolinecolor\":\"white\",\"automargin\":true,\"zerolinewidth\":2},\"yaxis\":{\"gridcolor\":\"white\",\"linecolor\":\"white\",\"ticks\":\"\",\"title\":{\"standoff\":15},\"zerolinecolor\":\"white\",\"automargin\":true,\"zerolinewidth\":2},\"scene\":{\"xaxis\":{\"backgroundcolor\":\"#E5ECF6\",\"gridcolor\":\"white\",\"linecolor\":\"white\",\"showbackground\":true,\"ticks\":\"\",\"zerolinecolor\":\"white\",\"gridwidth\":2},\"yaxis\":{\"backgroundcolor\":\"#E5ECF6\",\"gridcolor\":\"white\",\"linecolor\":\"white\",\"showbackground\":true,\"ticks\":\"\",\"zerolinecolor\":\"white\",\"gridwidth\":2},\"zaxis\":{\"backgroundcolor\":\"#E5ECF6\",\"gridcolor\":\"white\",\"linecolor\":\"white\",\"showbackground\":true,\"ticks\":\"\",\"zerolinecolor\":\"white\",\"gridwidth\":2}},\"shapedefaults\":{\"line\":{\"color\":\"#2a3f5f\"}},\"annotationdefaults\":{\"arrowcolor\":\"#2a3f5f\",\"arrowhead\":0,\"arrowwidth\":1},\"geo\":{\"bgcolor\":\"white\",\"landcolor\":\"#E5ECF6\",\"subunitcolor\":\"white\",\"showland\":true,\"showlakes\":true,\"lakecolor\":\"white\"},\"title\":{\"x\":0.05},\"mapbox\":{\"style\":\"light\"}}},\"xaxis\":{\"anchor\":\"y\",\"domain\":[0.0,1.0],\"title\":{\"text\":\"index\"}},\"yaxis\":{\"anchor\":\"x\",\"domain\":[0.0,1.0],\"title\":{\"text\":\"Dominant_Topic\"}},\"legend\":{\"tracegroupgap\":0},\"title\":{\"text\":\"Topic distribution\"},\"barmode\":\"relative\"},                        {\"responsive\": true}                    ).then(function(){\n",
       "                            \n",
       "var gd = document.getElementById('21f62639-507f-471e-bf85-b7e998a0fe09');\n",
       "var x = new MutationObserver(function (mutations, observer) {{\n",
       "        var display = window.getComputedStyle(gd).display;\n",
       "        if (!display || display === 'none') {{\n",
       "            console.log([gd, 'removed!']);\n",
       "            Plotly.purge(gd);\n",
       "            observer.disconnect();\n",
       "        }}\n",
       "}});\n",
       "\n",
       "// Listen for the removal of the full notebook cells\n",
       "var notebookContainer = gd.closest('#notebook-container');\n",
       "if (notebookContainer) {{\n",
       "    x.observe(notebookContainer, {childList: true});\n",
       "}}\n",
       "\n",
       "// Listen for the clearing of the current output cell\n",
       "var outputEl = gd.closest('.output');\n",
       "if (outputEl) {{\n",
       "    x.observe(outputEl, {childList: true});\n",
       "}}\n",
       "\n",
       "                        })                };                });            </script>        </div>"
      ]
     },
     "metadata": {},
     "output_type": "display_data"
    }
   ],
   "source": [
    "fig.show()"
   ]
  },
  {
   "cell_type": "markdown",
   "id": "a772c802",
   "metadata": {},
   "source": [
    "In the above code, we are performing Topic Modelling using Latent Dirichlet Allocation (LDA), a popular technique for uncovering latent topics within a corpus of text documents. First, we apply text vectorization using the CountVectorizer to convert the text data into a numerical format suitable for modelling. \n",
    "\n",
    "Then we specified parameters such as maximum and minimum document frequency and the maximum number of features (words) to consider, while also removing common English stopwords. \n",
    "\n",
    "Next, we applied LDA using the LatentDirichletAllocation model with five topics as an example. The resulting topic matrix represents each article’s distribution across these five topics. Then, we assign a dominant topic to each article based on the topic with the highest probability, and a bar chart is generated to visualize the distribution of dominant topics across the dataset, providing an overview of the prevalent themes or subjects discussed in the articles.\n",
    "\n",
    "So this is how we can perform Text Analysis using Python."
   ]
  },
  {
   "cell_type": "markdown",
   "id": "84c39af5",
   "metadata": {},
   "source": [
    "# Summary"
   ]
  },
  {
   "cell_type": "markdown",
   "id": "8fd777f0",
   "metadata": {},
   "source": [
    "Text Analysis involves various techniques such as text preprocessing, sentiment analysis, named entity recognition, topic modelling, and text classification. Text analysis plays a crucial role in understanding and making sense of large volumes of text data, which is prevalent in various domains, including news articles, social media, customer reviews, and more. I hope you liked this article on Text Analysis using Python. Feel free to ask valuable questions in the comments section below."
   ]
  },
  {
   "cell_type": "code",
   "execution_count": null,
   "id": "ecfec366",
   "metadata": {},
   "outputs": [],
   "source": []
  }
 ],
 "metadata": {
  "kernelspec": {
   "display_name": "Python 3 (ipykernel)",
   "language": "python",
   "name": "python3"
  },
  "language_info": {
   "codemirror_mode": {
    "name": "ipython",
    "version": 3
   },
   "file_extension": ".py",
   "mimetype": "text/x-python",
   "name": "python",
   "nbconvert_exporter": "python",
   "pygments_lexer": "ipython3",
   "version": "3.9.7"
  }
 },
 "nbformat": 4,
 "nbformat_minor": 5
}
